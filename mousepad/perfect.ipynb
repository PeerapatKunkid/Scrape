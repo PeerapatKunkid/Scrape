{
 "cells": [
  {
   "cell_type": "code",
   "execution_count": 1,
   "id": "34c8ca0b",
   "metadata": {},
   "outputs": [],
   "source": [
    "import csv\n",
    "from selenium import webdriver\n",
    "from selenium.webdriver.common.keys import Keys\n",
    "import time\n",
    "import json\n",
    "import ast"
   ]
  },
  {
   "cell_type": "code",
   "execution_count": 17,
   "id": "a167344a",
   "metadata": {},
   "outputs": [],
   "source": [
    "driver=webdriver.Chrome(executable_path='C:/Users/jakkapong-desktop/Downloads/chromedriver.exe')\n",
    "driver.maximize_window()"
   ]
  },
  {
   "cell_type": "code",
   "execution_count": 88,
   "id": "971980e9",
   "metadata": {},
   "outputs": [],
   "source": [
    "def model_key_lower_and_sort(k):\n",
    "    k[\"key\"]=k[\"key\"].lower().replace(' ','').replace('-','')\n",
    "    k[\"name\"]=(k[\"name\"].upper())\n",
    "    return len(k[\"key\"]),k[\"name\"]"
   ]
  },
  {
   "cell_type": "code",
   "execution_count": 89,
   "id": "9c5072f5",
   "metadata": {},
   "outputs": [],
   "source": [
    "with open('../../model/keyboard_model.json') as json_file:\n",
    "    model = json.load(json_file)"
   ]
  },
  {
   "cell_type": "code",
   "execution_count": 90,
   "id": "3e28f2b7",
   "metadata": {},
   "outputs": [],
   "source": [
    "model.sort(key=model_key_lower_and_sort ,reverse=True)"
   ]
  },
  {
   "cell_type": "code",
   "execution_count": 91,
   "id": "6bfce5a2",
   "metadata": {},
   "outputs": [],
   "source": [
    "model_key=[]\n",
    "model_name=[]"
   ]
  },
  {
   "cell_type": "code",
   "execution_count": 92,
   "id": "29e98eaf",
   "metadata": {},
   "outputs": [],
   "source": [
    "for i in model:\n",
    "    model_key.append(i[\"key\"])\n",
    "    model_name.append(i[\"name\"])"
   ]
  },
  {
   "cell_type": "code",
   "execution_count": 111,
   "id": "527b661c",
   "metadata": {},
   "outputs": [],
   "source": [
    "def keyboard_exit(url):\n",
    "    \n",
    "    with open('../../model/keyboardSchema.json') as json_file:\n",
    "        keyboard_schema = json.load(json_file)\n",
    "    \n",
    "    spec_type_arr=[]\n",
    "    spec_details_arr=[]\n",
    "    spec={}\n",
    "    \n",
    "#     get url and scroll 5 sec\n",
    "    driver.get(url)\n",
    "    time.sleep(1)\n",
    "    driver.find_element_by_tag_name(\"html\").send_keys(Keys.END)\n",
    "    time.sleep(1)\n",
    "    driver.find_element_by_tag_name(\"html\").send_keys(Keys.HOME)\n",
    "    time.sleep(1)\n",
    "    driver.find_element_by_tag_name(\"html\").send_keys(Keys.END)\n",
    "    time.sleep(1)\n",
    "    driver.find_element_by_tag_name(\"html\").send_keys(Keys.HOME)\n",
    "    time.sleep(1)\n",
    "    driver.find_element_by_tag_name(\"html\").send_keys(Keys.END)\n",
    "    \n",
    "#     find name and compare\n",
    "    try:\n",
    "        find_name = driver.find_elements_by_xpath('//*[@id=\"product-des\"]/div[1]/div/div[2]/div/h1') #change\n",
    "        name=find_name[0].text\n",
    "        name_lower=name.lower().replace(' ','').replace('-','').replace('gaming','').replace('tenkeyless','tkl')\n",
    "        compare = [x for x in model_key if x in name_lower]\n",
    "        print(compare[0])\n",
    "        keyboard_schema[\"model\"]=compare[0]\n",
    "        if(compare):\n",
    "            for index,val in enumerate(model_key):\n",
    "                if(compare[0]==model[index][\"key\"]):\n",
    "                    keyboard_schema[\"name\"]=model[index][\"name\"]\n",
    "\n",
    "            find_price = driver.find_elements_by_xpath('//*[@id=\"m-none\"]/div[3]/span[1]') #change\n",
    "            price=find_price[0].text[:-2].replace(',', '')\n",
    "            find_image=driver.find_elements_by_xpath('//*[@id=\"myCarousel\"]/div[2]/div[1]/img') #change\n",
    "            image=find_image[0].get_attribute(\"src\")\n",
    "            \n",
    "            keyboard_schema[\"data\"][0][\"name\"]=name.upper()\n",
    "            keyboard_schema[\"data\"][0][\"price\"]=int(price)\n",
    "            keyboard_schema[\"data\"][0][\"href\"]=url\n",
    "            keyboard_schema[\"data\"][0][\"image\"]=image\n",
    "            \n",
    "            keyboard_schema[\"store\"]=\"advice\".capitalize() #change\n",
    "            keyboard_schema[\"category\"]=\"keyboard\".capitalize() #change\n",
    "            keyboard_schema[\"tag\"]=\"working\".capitalize() #change\n",
    "\n",
    "\n",
    "            find_spec_type= driver.find_elements_by_xpath('//*[@id=\"j-spec-box\"]/div/table/tbody/tr/td[1]') #change\n",
    "            find_spec_details= driver.find_elements_by_xpath('//*[@id=\"j-spec-box\"]/div/table/tbody/tr/td[2]') #change\n",
    "\n",
    "            for i in find_spec_type:\n",
    "                spec_type_arr.append(i.text)\n",
    "            for i in find_spec_details:\n",
    "                spec_details_arr.append(i.text)\n",
    "            for index, val in enumerate(spec_type_arr):\n",
    "                spec[val] =spec_details_arr[index]\n",
    "            for index,val in enumerate(spec_type_arr):\n",
    "                if(val==\"Interface\"): #change\n",
    "                    keyboard_schema[\"data\"][0][\"spec\"][\"interface\"]=spec_details_arr[index]\n",
    "                if(val==\"Keys Windows Layout\"): #change\n",
    "                    keyboard_schema[\"data\"][0][\"spec\"][\"layout\"]=spec_details_arr[index]\n",
    "                if(val==\"Dimension\"): #change\n",
    "                    keyboard_schema[\"data\"][0][\"spec\"][\"dimension\"]=spec_details_arr[index]\n",
    "                if(val==\"Support\"): #change\n",
    "                    keyboard_schema[\"data\"][0][\"spec\"][\"support\"]=spec_details_arr[index]\n",
    "                if(val==\"Key Switches\"): #change\n",
    "                    keyboard_schema[\"data\"][0][\"spec\"][\"switch\"]=spec_details_arr[index]\n",
    "                if(val==\"Brand\"): #change\n",
    "                    keyboard_schema[\"brand\"]=spec_details_arr[index].capitalize()\n",
    "            return keyboard_schema\n",
    "    except:\n",
    "        pass"
   ]
  },
  {
   "cell_type": "code",
   "execution_count": 94,
   "id": "3922d950",
   "metadata": {},
   "outputs": [],
   "source": [
    "# def name_exist(name):\n",
    "#     try:\n",
    "#         name_lower=name.lower().replace(' ','').replace('-','').replace('gaming','').replace('tenkeyless','tkl')\n",
    "#         compare = [x for x in model_key if x in name_lower]\n",
    "#         print(compare[0] ,\">\",name)\n",
    "#     except:\n",
    "#         pass\n",
    "#     if(compare):\n",
    "#         pass\n",
    "#     else:\n",
    "#         print(\">\",name)"
   ]
  },
  {
   "cell_type": "code",
   "execution_count": null,
   "id": "1d306c62",
   "metadata": {},
   "outputs": [],
   "source": []
  },
  {
   "cell_type": "code",
   "execution_count": 95,
   "id": "727f0ae1",
   "metadata": {},
   "outputs": [],
   "source": [
    "with open('advice_keyboard_gaming_href.txt', 'r') as f:\n",
    "    advice_keyboard_gaming_href = ast.literal_eval(f.read())"
   ]
  },
  {
   "cell_type": "code",
   "execution_count": 96,
   "id": "dc65883e",
   "metadata": {},
   "outputs": [],
   "source": [
    "with open('advice_keyboard_working_href.txt', 'r') as f:\n",
    "    advice_keyboard_working_href = ast.literal_eval(f.read())"
   ]
  },
  {
   "cell_type": "code",
   "execution_count": 97,
   "id": "c6ebbc09",
   "metadata": {},
   "outputs": [],
   "source": [
    "# advice_keyboard_gaming_href"
   ]
  },
  {
   "cell_type": "code",
   "execution_count": null,
   "id": "99549e99",
   "metadata": {},
   "outputs": [],
   "source": []
  },
  {
   "cell_type": "code",
   "execution_count": 98,
   "id": "0ca2b2a5",
   "metadata": {
    "scrolled": false
   },
   "outputs": [],
   "source": [
    "# for index,val in enumerate(all_name):\n",
    "# #     print(\"-\",index,\"---------------------\")\n",
    "#     name_exist(val)"
   ]
  },
  {
   "cell_type": "code",
   "execution_count": null,
   "id": "6474e21c",
   "metadata": {},
   "outputs": [],
   "source": []
  },
  {
   "cell_type": "code",
   "execution_count": 104,
   "id": "5e97742b",
   "metadata": {},
   "outputs": [],
   "source": [
    "export=[]"
   ]
  },
  {
   "cell_type": "code",
   "execution_count": null,
   "id": "d6fe2c9e",
   "metadata": {},
   "outputs": [],
   "source": []
  },
  {
   "cell_type": "code",
   "execution_count": 105,
   "id": "64007d99",
   "metadata": {},
   "outputs": [
    {
     "name": "stdout",
     "output_type": "stream",
     "text": [
      "---- 0 of 72 ----\n",
      "f3020\n",
      "---- 1 of 72 ----\n",
      "f2028\n",
      "---- 2 of 72 ----\n",
      "s2022\n",
      "---- 3 of 72 ----\n",
      "f2066ii\n",
      "---- 4 of 72 ----\n",
      "f3030\n",
      "---- 5 of 72 ----\n",
      "f2058\n",
      "---- 6 of 72 ----\n",
      "k511\n",
      "---- 7 of 72 ----\n",
      "esportterrablade\n",
      "---- 8 of 72 ----\n",
      "x100\n",
      "---- 9 of 72 ----\n",
      "x200\n",
      "---- 10 of 72 ----\n",
      "kb98a\n",
      "---- 11 of 72 ----\n",
      "kb99b\n",
      "---- 12 of 72 ----\n",
      "k420\n",
      "---- 13 of 72 ----\n",
      "k430\n",
      "---- 14 of 72 ----\n",
      "kb82\n",
      "---- 15 of 72 ----\n",
      "kb82\n",
      "---- 16 of 72 ----\n",
      "kb84\n",
      "---- 17 of 72 ----\n",
      "kb712\n",
      "---- 18 of 72 ----\n",
      "kb718\n",
      "---- 19 of 72 ----\n",
      "kb718\n",
      "---- 20 of 72 ----\n",
      "kb728\n",
      "---- 21 of 72 ----\n",
      "kb738\n",
      "---- 22 of 72 ----\n",
      "kb770\n",
      "---- 23 of 72 ----\n",
      "kb771\n",
      "---- 24 of 72 ----\n",
      "rogstrixfalchion\n",
      "---- 25 of 72 ----\n",
      "rogstrixfalchion\n",
      "---- 26 of 72 ----\n",
      "mk110\n",
      "---- 27 of 72 ----\n",
      "ck350\n",
      "---- 28 of 72 ----\n",
      "ck351\n",
      "---- 29 of 72 ----\n",
      "ck351\n",
      "---- 30 of 72 ----\n",
      "ck351\n",
      "---- 31 of 72 ----\n",
      "ck550\n",
      "---- 32 of 72 ----\n",
      "ck550\n",
      "---- 33 of 72 ----\n",
      "ck550\n",
      "---- 34 of 72 ----\n",
      "ck721\n",
      "---- 35 of 72 ----\n",
      "ck721\n",
      "---- 36 of 72 ----\n",
      "ck721\n",
      "---- 37 of 72 ----\n",
      "ck721\n",
      "---- 38 of 72 ----\n",
      "sk630\n",
      "---- 39 of 72 ----\n",
      "mk750\n",
      "---- 40 of 72 ----\n",
      "mk850\n",
      "---- 41 of 72 ----\n",
      "k60\n",
      "---- 42 of 72 ----\n",
      "k60pro\n",
      "---- 43 of 72 ----\n",
      "k95\n",
      "---- 44 of 72 ----\n",
      "k95\n",
      "---- 45 of 72 ----\n",
      "k95\n",
      "---- 46 of 72 ----\n",
      "k100opx\n",
      "---- 47 of 72 ----\n",
      "k100\n",
      "---- 48 of 72 ----\n",
      "gk400f\n",
      "---- 49 of 72 ----\n",
      "gk100\n",
      "---- 50 of 72 ----\n",
      "gk320\n",
      "---- 51 of 72 ----\n",
      "gk400y\n",
      "---- 52 of 72 ----\n",
      "gk600ys\n",
      "---- 53 of 72 ----\n",
      "alloyorigins\n",
      "---- 54 of 72 ----\n",
      "alloyorigins\n",
      "---- 55 of 72 ----\n",
      "g213\n",
      "---- 56 of 72 ----\n",
      "g413\n",
      "---- 57 of 72 ----\n",
      "gprox\n",
      "---- 58 of 72 ----\n",
      "g913\n",
      "---- 59 of 72 ----\n",
      "g913\n",
      "---- 60 of 72 ----\n",
      "g913\n",
      "---- 61 of 72 ----\n",
      "g913tkl\n",
      "---- 62 of 72 ----\n",
      "g913tkl\n",
      "---- 63 of 72 ----\n",
      "g913tkl\n",
      "---- 64 of 72 ----\n",
      "blackwidowv3tkl\n",
      "---- 65 of 72 ----\n",
      "blackwidowv3tkl\n",
      "---- 66 of 72 ----\n",
      "blackwidowv3\n",
      "---- 67 of 72 ----\n",
      "blackwidowv3\n",
      "---- 68 of 72 ----\n",
      "apex5\n",
      "---- 69 of 72 ----\n",
      "apex7\n",
      "---- 70 of 72 ----\n",
      "apex7tkl\n",
      "---- 71 of 72 ----\n",
      "apexprotkl\n"
     ]
    }
   ],
   "source": [
    "for index,val in enumerate(advice_keyboard_gaming_href):\n",
    "    print(\"----\",index,\"of\" ,len(advice_keyboard_gaming_href),\"----\")\n",
    "    export.append(keyboard_exit(val))"
   ]
  },
  {
   "cell_type": "code",
   "execution_count": 106,
   "id": "4bb068ce",
   "metadata": {},
   "outputs": [],
   "source": [
    "out_keyboard_item= json.dumps(export, ensure_ascii=False)"
   ]
  },
  {
   "cell_type": "code",
   "execution_count": null,
   "id": "001d50c7",
   "metadata": {},
   "outputs": [],
   "source": []
  },
  {
   "cell_type": "code",
   "execution_count": 107,
   "id": "b3884eec",
   "metadata": {},
   "outputs": [
    {
     "data": {
      "text/plain": [
       "'[{\"model\": \"f3020\", \"name\": \"KEYBOARD AULA F3020 BLACK\", \"store\": \"Advice\", \"brand\": \"\", \"category\": \"Keyboard\", \"tag\": \"Gaming\", \"data\": [{\"name\": \"KEYBOARD AULA F3020 BLACK\", \"price\": 410, \"href\": \"https://www.advice.co.th/product/gaming-keyboard/aula/keyboard-aula-f3020-black\", \"image\": \"https://img.advice.co.th/images_nas/pic_product4/A0138577/A0138577OK_BIG_1.jpg\", \"spec\": {\"interface\": \"\", \"switch\": \"\", \"layout\": \"\", \"dimension\": \"\", \"support\": \"\"}}]}, {\"model\": \"f2028\", \"name\": \"AULA F2028\", \"store\": \"Advice\", \"brand\": \"Aula\", \"category\": \"Keyboard\", \"tag\": \"Gaming\", \"data\": [{\"name\": \"KEYBOARD AULA F2028 BLACK\", \"price\": 435, \"href\": \"https://www.advice.co.th/product/gaming-keyboard/aula/keyboard-aula-f2028-black\", \"image\": \"https://img.advice.co.th/images_nas/pic_product4/A0138576/A0138576OK_BIG_1.jpg\", \"spec\": {\"interface\": \"USB\", \"switch\": \"Non-Mechanical\", \"layout\": \"108 Keys\", \"dimension\": \"(W x D x H) : 44.00 x 13.50 x 3.51 cm\", \"support\": \"\"}}]}, {\"model\": \"s2022\", \"name\": \"AULA S2022\", \"store\": \"Advice\", \"brand\": \"Aula\", \"category\": \"Keyboard\", \"tag\": \"Gaming\", \"data\": [{\"name\": \"KEYBOARD AULA S2022 BLACK (BLUE-SWITCH)\", \"price\": 625, \"href\": \"https://www.advice.co.th/product/gaming-keyboard/aula/keyboard-aula-s2022-black-blue-switch-\", \"image\": \"https://img.advice.co.th/images_nas/pic_product4/A0138578/A0138578OK_BIG_1.jpg\", \"spec\": {\"interface\": \"USB\", \"switch\": \"Blue Switch\", \"layout\": \"104 Keys\", \"dimension\": \"(W x D x H) : 43.50 x 12.50 x 3.80 cm\", \"support\": \"• Anti-ghosting: 26 keys\\\\n• FN MultiMedia key\"}}]}, {\"model\": \"f2066ii\", \"name\": \"AULA F2066-II\", \"store\": \"Advice\", \"brand\": \"Aula\", \"category\": \"Keyboard\", \"tag\": \"Gaming\", \"data\": [{\"name\": \"KEYBOARD AULA F2066-II BLACK (BLUE-SWITCH)\", \"price\": 715, \"href\": \"https://www.advice.co.th/product/gaming-keyboard/aula/keyboard-aula-f2066-ii-black-blue-switch-\", \"image\": \"https://img.advice.co.th/images_nas/pic_product4/A0138579/A0138579OK_BIG_1.jpg\", \"spec\": {\"interface\": \"USB\", \"switch\": \"Blue Switch\", \"layout\": \"104 Keys\", \"dimension\": \"(W x D x H) : 44.40 x 13.20 x 3.50 cm\", \"support\": \"Win XP/7/8/10/Vista & Mac\"}}]}, {\"model\": \"f3030\", \"name\": \"AULA F3030\", \"store\": \"Advice\", \"brand\": \"Aula\", \"category\": \"Keyboard\", \"tag\": \"Gaming\", \"data\": [{\"name\": \"KEYBOARD AULA F3030 BLACK (BLUE-SWITCH)\", \"price\": 815, \"href\": \"https://www.advice.co.th/product/gaming-keyboard/aula/keyboard-aula-f3030-black-blue-switch-\", \"image\": \"https://img.advice.co.th/images_nas/pic_product4/A0138580/A0138580OK_BIG_1.jpg\", \"spec\": {\"interface\": \"USB\", \"switch\": \"Blue-Switch\", \"layout\": \"109 Keys\", \"dimension\": \"(W x D x H) : 45.30 x 14.40 x 3.90 cm\", \"support\": \"Win XP/7/8/10\"}}]}, {\"model\": \"f2058\", \"name\": \"AULA F2058\", \"store\": \"Advice\", \"brand\": \"Aula\", \"category\": \"Keyboard\", \"tag\": \"Gaming\", \"data\": [{\"name\": \"KEYBOARD AULA F2058 BLACK (BLUE-SWITCH)\", \"price\": 900, \"href\": \"https://www.advice.co.th/product/gaming-keyboard/aula/keyboard-aula-f2058-black-blue-switch-\", \"image\": \"https://img.advice.co.th/images_nas/pic_product4/A0138581/A0138581OK_BIG_1.jpg\", \"spec\": {\"interface\": \"USB\", \"switch\": \"Blue-Switch\", \"layout\": \"109 Keys\", \"dimension\": \"(W x D x H) : 43.50 x 19.40 x 3.60 cm\", \"support\": \"Win XP/7/8/10/Vista & Mac\"}}]}, {\"model\": \"k511\", \"name\": \"FANTECH K511\", \"store\": \"Advice\", \"brand\": \"Fantech\", \"category\": \"Keyboard\", \"tag\": \"Gaming\", \"data\": [{\"name\": \"KEYBOARD FANTECH K511\", \"price\": 330, \"href\": \"https://www.advice.co.th/product/gaming-keyboard/fantech/keyboard-fantech-k511\", \"image\": \"https://img.advice.co.th/images_nas/pic_product4/A0113267/A0113267OK_BIG_1.jpg\", \"spec\": {\"interface\": \"USB\", \"switch\": \"\", \"layout\": \"104 Keys\", \"dimension\": \"(W x D x H) : 18.70 x 45.80 x 3.40 cm\", \"support\": \"Windows Vista, Win7/8/10, Mac OS X 10.5 or later, Linux, Chrome OS\"}}]}, {\"model\": \"esportterrablade\", \"name\": \"NEOLUTION E-SPORT TERRABLADE \", \"store\": \"Advice\", \"brand\": \"Neolution\", \"category\": \"Keyboard\", \"tag\": \"Gaming\", \"data\": [{\"name\": \"KEYBOARD NEOLUTION E-SPORT TERRABLADE (BLUE-SWITCH)\", \"price\": 1460, \"href\": \"https://www.advice.co.th/product/gaming-keyboard/neolution-esport/keyboard-neolution-e-sport-terrablade-blue-switch-\", \"image\": \"https://img.advice.co.th/images_nas/pic_product4/A0137293/A0137293OK_BIG_1.jpg\", \"spec\": {\"interface\": \"USB\", \"switch\": \"Blue Switch\", \"layout\": \"104 Keys\", \"dimension\": \"(W x D x H) : 13.70 x 44.60 x 3.40 cm\", \"support\": \"Windows 10\"}}]}, {\"model\": \"x100\", \"name\": \"OKER X-100\", \"store\": \"Advice\", \"brand\": \"Oker \", \"category\": \"Keyboard\", \"tag\": \"Gaming\", \"data\": [{\"name\": \"KEYBOARD OKER X-100\", \"price\": 765, \"href\": \"https://www.advice.co.th/product/gaming-keyboard/oker/keyboard-oker-x-100\", \"image\": \"https://img.advice.co.th/images_nas/pic_product4/A0131199/A0131199OK_BIG_1.jpg\", \"spec\": {\"interface\": \"USB\", \"switch\": \"Blue Switch\", \"layout\": \"107\", \"dimension\": \"(W x D x H) : 14.30 x 44.30 x 3.70 cm\", \"support\": \"\"}}]}, {\"model\": \"x200\", \"name\": \"OKER X-200\", \"store\": \"Advice\", \"brand\": \"Oker\", \"category\": \"Keyboard\", \"tag\": \"Gaming\", \"data\": [{\"name\": \"KEYBOARD OKER X-200\", \"price\": 815, \"href\": \"https://www.advice.co.th/product/gaming-keyboard/oker/keyboard-oker-x-200\", \"image\": \"https://img.advice.co.th/images_nas/pic_product4/A0134040/A0134040OK_BIG_1.jpg\", \"spec\": {\"interface\": \"USB\", \"switch\": \"Blue Switch\", \"layout\": \"105 Keys\", \"dimension\": \"(W x D x H) : 45.00 x 14.00 x 3.50 cm\", \"support\": \"Window XP, Vista, Win7, 8, 10\"}}]}, {\"model\": \"kb98a\", \"name\": \"OKER KB-98A GAMING RGB\", \"store\": \"Advice\", \"brand\": \"Oker\", \"category\": \"Keyboard\", \"tag\": \"Gaming\", \"data\": [{\"name\": \"KEYBOARD OKER KB-98A GAMING RGB\", \"price\": 835, \"href\": \"https://www.advice.co.th/product/gaming-keyboard/oker/keyboard-oker-kb-98a-gaming-rgb\", \"image\": \"https://img.advice.co.th/images_nas/pic_product4/A0137409/A0137409OK_BIG_1.jpg\", \"spec\": {\"interface\": \"USB\", \"switch\": \"Mechanical\", \"layout\": \"104 Keys\", \"dimension\": \"\", \"support\": \"\"}}]}, {\"model\": \"kb99b\", \"name\": \"OKER KB-99B GAMING RGB\", \"store\": \"Advice\", \"brand\": \"Oker\", \"category\": \"Keyboard\", \"tag\": \"Gaming\", \"data\": [{\"name\": \"KEYBOARD OKER KB-99B GAMING RGB\", \"price\": 835, \"href\": \"https://www.advice.co.th/product/gaming-keyboard/oker/keyboard-oker-kb-99b-gaming-rgb\", \"image\": \"https://img.advice.co.th/images_nas/pic_product4/A0137410/A0137410OK_BIG_1.jpg\", \"spec\": {\"interface\": \"USB\", \"switch\": \"Mechanical\", \"layout\": \"104 Keys\", \"dimension\": \"(W x D x H) : 13.60 x 44.30 x 3.50 cm\", \"support\": \"\"}}]}, {\"model\": \"k420\", \"name\": \"OKER K-420 GAMING RGB\", \"store\": \"Advice\", \"brand\": \"Oker\", \"category\": \"Keyboard\", \"tag\": \"Gaming\", \"data\": [{\"name\": \"KEYBOARD OKER K-420 GAMING RGB\", \"price\": 995, \"href\": \"https://www.advice.co.th/product/gaming-keyboard/oker/keyboard-oker-k-420-gaming-rgb\", \"image\": \"https://img.advice.co.th/images_nas/pic_product4/A0135508/A0135508OK_BIG_1.jpg\", \"spec\": {\"interface\": \"USB\", \"switch\": \"Blue switch\", \"layout\": \"104 Keys\", \"dimension\": \"\", \"support\": \"\"}}]}, {\"model\": \"k430\", \"name\": \"OKER K-430 GAMING RGB\", \"store\": \"Advice\", \"brand\": \"Oker\", \"category\": \"Keyboard\", \"tag\": \"Gaming\", \"data\": [{\"name\": \"KEYBOARD OKER K-430 GAMING RGB\", \"price\": 995, \"href\": \"https://www.advice.co.th/product/gaming-keyboard/oker/keyboard-oker-k-430-gaming-rgb\", \"image\": \"https://img.advice.co.th/images_nas/pic_product4/A0135509/A0135509OK_BIG_1.jpg\", \"spec\": {\"interface\": \"USB\", \"switch\": \"Blue switch\", \"layout\": \"104 Keys\", \"dimension\": \"(W x D x H) : 4.30 x 44.30 x 3.70 cm\", \"support\": \"Windows XP, Vista, win7, win8, win10\"}}]}, {\"model\": \"kb82\", \"name\": \"OKER KB-82 GAMING RGB\", \"store\": \"Advice\", \"brand\": \"Oker\", \"category\": \"Keyboard\", \"tag\": \"Gaming\", \"data\": [{\"name\": \"KEYBOARD OKER KB-82 GAMING RGB (BLUE-SWITCH)\", \"price\": 1330, \"href\": \"https://www.advice.co.th/product/gaming-keyboard/oker/keyboard-oker-kb-82-gaming-rgb-blue-switch-\", \"image\": \"https://img.advice.co.th/images_nas/pic_product4/A0137407/A0137407OK_BIG_1.jpg\", \"spec\": {\"interface\": \"USB\", \"switch\": \"Mechanical\", \"layout\": \"87 Keys\", \"dimension\": \"(W x D x H) : 13.40 x 35.00 x 3.70 cm\", \"support\": \"• IBM compatibliity system\\\\n• Windows XP / VISTA / 7 / 8 / 10\"}}]}, {\"model\": \"kb82\", \"name\": \"OKER KB-82 GAMING RGB\", \"store\": \"Advice\", \"brand\": \"Oker\", \"category\": \"Keyboard\", \"tag\": \"Gaming\", \"data\": [{\"name\": \"KEYBOARD OKER KB-82 GAMING RGB (RED-SWITCH)\", \"price\": 1330, \"href\": \"https://www.advice.co.th/product/gaming-keyboard/oker/keyboard-oker-kb-82-gaming-rgb-red-switch-\", \"image\": \"https://img.advice.co.th/images_nas/pic_product4/A0137408/A0137408OK_BIG_1.jpg\", \"spec\": {\"interface\": \"USB\", \"switch\": \"Mechanical\", \"layout\": \"87 Keys\", \"dimension\": \"(W x D x H) : 13.40 x 35.00 x 3.70 cm\", \"support\": \"• IBM compatibliity system\\\\n• Windows XP / VISTA / 7 / 8 / 10\"}}]}, {\"model\": \"kb84\", \"name\": \"OKER KB-84 GAMING RGB\", \"store\": \"Advice\", \"brand\": \"Oker\", \"category\": \"Keyboard\", \"tag\": \"Gaming\", \"data\": [{\"name\": \"KEYBOARD OKER KB-84 GAMING RGB (BLUE-SWITCH)\", \"price\": 1300, \"href\": \"https://www.advice.co.th/product/gaming-keyboard/oker/keyboard-oker-kb-84-gaming-rgb-blue-switch-\", \"image\": \"https://img.advice.co.th/images_nas/pic_product4/A0137406/A0137406OK_BIG_1.jpg\", \"spec\": {\"interface\": \"USB\", \"switch\": \"Mechanical\", \"layout\": \"104 Keys\", \"dimension\": \"(W x D x H) : 12.80 x 43.70 x 3.60 cm\", \"support\": \"• IBM compatibliity system\\\\n• Windows XP / VISTA / 7 / 8 / 10\"}}]}, {\"model\": \"kb712\", \"name\": \"SIGNO KB-712 ILLUMINATED\", \"store\": \"Advice\", \"brand\": \"Signo\", \"category\": \"Keyboard\", \"tag\": \"Gaming\", \"data\": [{\"name\": \"KEYBOARD SIGNO KB-712 ILLUMINATED\", \"price\": 220, \"href\": \"https://www.advice.co.th/product/gaming-keyboard/signo/keyboard-signo-kb-712-illuminated\", \"image\": \"https://img.advice.co.th/images_nas/pic_product4/A0124954/A0124954OK_BIG_1.jpg\", \"spec\": {\"interface\": \"USB\", \"switch\": \"RUBBER DOME\", \"layout\": \"104 Keys\", \"dimension\": \"\", \"support\": \"\"}}]}, null, {\"model\": \"kb718\", \"name\": \"SIGNO KB-718 INDIGO\", \"store\": \"Advice\", \"brand\": \"Signo\", \"category\": \"Keyboard\", \"tag\": \"Gaming\", \"data\": [{\"name\": \"KEYBOARD SIGNO KB-718 INDIGO (RED-SWITCH)\", \"price\": 910, \"href\": \"https://www.advice.co.th/product/gaming-keyboard/signo/keyboard-signo-kb-718-indigo-red-switch-\", \"image\": \"https://img.advice.co.th/images_nas/pic_product4/A0133568/A0133568OK_BIG_1.jpg\", \"spec\": {\"interface\": \"USB\", \"switch\": \"Red-Switch\", \"layout\": \"87 Keys\", \"dimension\": \"(W x D x H) : 35.60 x 13.80 x 3.90 cm\", \"support\": \"Windows\"}}]}, {\"model\": \"kb728\", \"name\": \"SIGNO KB-728 INVEGO\", \"store\": \"Advice\", \"brand\": \"Signo\", \"category\": \"Keyboard\", \"tag\": \"Gaming\", \"data\": [{\"name\": \"KEYBOARD SIGNO KB-728 INVEGO (BLUE-SWITCH)\", \"price\": 1010, \"href\": \"https://www.advice.co.th/product/gaming-keyboard/signo/keyboard-signo-kb-728-invego-blue-switch-\", \"image\": \"https://img.advice.co.th/images_nas/pic_product4/A0126337/A0126337OK_BIG_1.jpg\", \"spec\": {\"interface\": \"USB\", \"switch\": \"SIGNO Optical Switch (Blue sw)\", \"layout\": \"104 Keys\", \"dimension\": \"\", \"support\": \"\"}}]}, {\"model\": \"kb738\", \"name\": \"SIGNO KB-738 INFESTA\", \"store\": \"Advice\", \"brand\": \"Signo\", \"category\": \"Keyboard\", \"tag\": \"Gaming\", \"data\": [{\"name\": \"KEYBOARD SIGNO KB-738 INFESTA (RED-SWITCH)\", \"price\": 1090, \"href\": \"https://www.advice.co.th/product/gaming-keyboard/signo/keyboard-signo-kb-738-infesta-red-switch-\", \"image\": \"https://img.advice.co.th/images_nas/pic_product4/A0127468/A0127468OK_BIG_1.jpg\", \"spec\": {\"interface\": \"USB 2.0\", \"switch\": \"Red Optical Switches\", \"layout\": \"104 Keys\", \"dimension\": \"\", \"support\": \"All Windows Versions and Mac\"}}]}, {\"model\": \"kb770\", \"name\": \"SIGNO E-SPORT KB-770 EMPERRO\", \"store\": \"Advice\", \"brand\": \"Signo\", \"category\": \"Keyboard\", \"tag\": \"Gaming\", \"data\": [{\"name\": \"KEYBOARD SIGNO E-SPORT KB-770 EMPERRO (BLUE-SWITCH)\", \"price\": 1385, \"href\": \"https://www.advice.co.th/product/gaming-keyboard/signo/keyboard-signo-e-sport-kb-770-emperro-blue-switch-\", \"image\": \"https://img.advice.co.th/images_nas/pic_product4/A0129880/A0129880OK_BIG_1.jpg\", \"spec\": {\"interface\": \"USB\", \"switch\": \"Blue Switch\", \"layout\": \"104 Keys\", \"dimension\": \"(W x D x H) : 48.80 x 15.00 x 4.30 cm\", \"support\": \"All Windows Versions\"}}]}, {\"model\": \"kb771\", \"name\": \"SIGNO E-SPORT KB-771 TROOPER\", \"store\": \"Advice\", \"brand\": \"Signo\", \"category\": \"Keyboard\", \"tag\": \"Gaming\", \"data\": [{\"name\": \"KEYBOARD SIGNO E-SPORT KB-771 TROOPER (BLUE-SWITCH)\", \"price\": 1250, \"href\": \"https://www.advice.co.th/product/gaming-keyboard/signo/keyboard-signo-e-sport-kb-771-trooper-blue-switch-\", \"image\": \"https://img.advice.co.th/images_nas/pic_product4/A0129881/A0129881OK_BIG_1.jpg\", \"spec\": {\"interface\": \"Gold-plated USB 2.0\", \"switch\": \"Blue Optical Switches\", \"layout\": \"104 Keys\", \"dimension\": \"\", \"support\": \"All Windows Versions\"}}]}, {\"model\": \"rogstrixfalchion\", \"name\": \"ASUS ROG STRIX FALCHION\", \"store\": \"Advice\", \"brand\": \"Asus\", \"category\": \"Keyboard\", \"tag\": \"Gaming\", \"data\": [{\"name\": \"KEYBOARD ASUS ROG STRIX FALCHION (BLUE-SWITCH)\", \"price\": 3890, \"href\": \"https://www.advice.co.th/product/gaming-keyboard/asus/keyboard-asus-rog-strix-falchion-blue-switch-\", \"image\": \"https://img.advice.co.th/images_nas/pic_product4/A0135784/A0135784OK_BIG_1.jpg\", \"spec\": {\"interface\": \"Wired (USB) / RF 2.4 GHz (Wireless)\", \"switch\": \"Blue-Switch\", \"layout\": \"68 Keys\", \"dimension\": \"(W x D x H) : 10.10 x 30.50 x 3.85 cm\", \"support\": \"Windows 10\"}}]}, {\"model\": \"rogstrixfalchion\", \"name\": \"ASUS ROG STRIX FALCHION\", \"store\": \"Advice\", \"brand\": \"Asus\", \"category\": \"Keyboard\", \"tag\": \"Gaming\", \"data\": [{\"name\": \"KEYBOARD ASUS ROG STRIX FALCHION (RED-SWITCH)\", \"price\": 3890, \"href\": \"https://www.advice.co.th/product/gaming-keyboard/asus/keyboard-asus-rog-strix-falchion-red-switch-\", \"image\": \"https://img.advice.co.th/images_nas/pic_product4/A0135786/A0135786OK_BIG_1.jpg\", \"spec\": {\"interface\": \"Wired (USB) / RF 2.4 GHz (Wireless)\", \"switch\": \"Red-Switch\", \"layout\": \"68 Keys\", \"dimension\": \"(W x D x H) : 10.10 x 30.50 x 3.85 cm\", \"support\": \"Windows 10\"}}]}, {\"model\": \"mk110\", \"name\": \"COOLER MASTER MK110 RGB\", \"store\": \"Advice\", \"brand\": \"Cooler master\", \"category\": \"Keyboard\", \"tag\": \"Gaming\", \"data\": [{\"name\": \"KEYBOARD COOLER MASTER MK110 RGB\", \"price\": 990, \"href\": \"https://www.advice.co.th/product/gaming-keyboard/cooler-master/keyboard-cooler-master-mk110-rgb\", \"image\": \"https://img.advice.co.th/images_nas/pic_product4/A0137704/A0137704OK_BIG_1.jpg\", \"spec\": {\"interface\": \"USB\", \"switch\": \"Mem-chanical Switch\", \"layout\": \"104 Keys\", \"dimension\": \"(W x D x H) : 44.00 x 13.40 x 4.03 cm\", \"support\": \"\"}}]}, null, {\"model\": \"ck351\", \"name\": \"COOLER MASTER CK351 RGB\", \"store\": \"Advice\", \"brand\": \"Cooler master\", \"category\": \"Keyboard\", \"tag\": \"Gaming\", \"data\": [{\"name\": \"KEYBOARD COOLER MASTER CK351 RGB (BLUE-SWITCH) (TH)\", \"price\": 1990, \"href\": \"https://www.advice.co.th/product/gaming-keyboard/cooler-master/keyboard-cooler-master-ck351-rgb-blue-switch-th-\", \"image\": \"https://img.advice.co.th/images_nas/pic_product4/A0137265/A0137265OK_BIG_1.jpg\", \"spec\": {\"interface\": \"USB\", \"switch\": \"Blue Switch\", \"layout\": \"104 Keys\", \"dimension\": \"(W x D x H) : 14.00 x 44.00 x 4.50 cm\", \"support\": \"ON-THE-FLY SYSTEM : Yes, via FN\\\\nSMART CABLE MANAGER : Yes, 180 degree, 3 ways\\\\nSOFTWARE : Yes, Cooler Master MasterPlus+ Support\"}}]}, {\"model\": \"ck351\", \"name\": \"COOLER MASTER CK351 RGB\", \"store\": \"Advice\", \"brand\": \"Cooler master\", \"category\": \"Keyboard\", \"tag\": \"Gaming\", \"data\": [{\"name\": \"KEYBOARD COOLER MASTER CK351 RGB (RED-SWITCH) (TH)\", \"price\": 1890, \"href\": \"https://www.advice.co.th/product/gaming-keyboard/cooler-master/keyboard-cooler-master-ck351-rgb-red-switch-th-\", \"image\": \"https://img.advice.co.th/images_nas/pic_product4/A0137266/A0137266OK_BIG_1.jpg\", \"spec\": {\"interface\": \"USB\", \"switch\": \"Red Switch\", \"layout\": \"104 Keys\", \"dimension\": \"(W x D x H) : 14.00 x 44.00 x 4.50 cm\", \"support\": \"ON-THE-FLY SYSTEM : Yes, via FN\\\\nSMART CABLE MANAGER : Yes, 180 degree, 3 ways\\\\nSOFTWARE : Yes, Cooler Master MasterPlus+ Support\"}}]}, {\"model\": \"ck351\", \"name\": \"COOLER MASTER CK351 RGB\", \"store\": \"Advice\", \"brand\": \"Cooler master\", \"category\": \"Keyboard\", \"tag\": \"Gaming\", \"data\": [{\"name\": \"KEYBOARD COOLER MASTER CK351 RGB (BROWN-SWITCH) (TH)\", \"price\": 1990, \"href\": \"https://www.advice.co.th/product/gaming-keyboard/cooler-master/keyboard-cooler-master-ck351-rgb-brown-switch-th-\", \"image\": \"https://img.advice.co.th/images_nas/pic_product4/A0137267/A0137267OK_BIG_1.jpg\", \"spec\": {\"interface\": \"USB\", \"switch\": \"Brown Switch\", \"layout\": \"104 Keys\", \"dimension\": \"(W x D x H) : 14.00 x 44.00 x 4.50 cm\", \"support\": \"ON-THE-FLY SYSTEM : Yes, via FN\\\\nSMART CABLE MANAGER : Yes, 180 degree, 3 ways\\\\nSOFTWARE : Yes, Cooler Master MasterPlus+ Support\"}}]}, {\"model\": \"ck550\", \"name\": \"COOLER MASTER CK550 V2 RGB\", \"store\": \"Advice\", \"brand\": \"Cooler master\", \"category\": \"Keyboard\", \"tag\": \"Gaming\", \"data\": [{\"name\": \"KEYBOARD COOLER MASTER CK550 V2 RGB (BLUE-SWITCH) (TH)\", \"price\": 2590, \"href\": \"https://www.advice.co.th/product/gaming-keyboard/cooler-master/keyboard-cooler-master-ck550-v2-rgb-blue-switch-th-\", \"image\": \"https://img.advice.co.th/images_nas/pic_product4/A0138425/A0138425OK_BIG_1.jpg\", \"spec\": {\"interface\": \"USB\", \"switch\": \"TTC Mechanical Switch (Blue-Switch)\", \"layout\": \"104 Keys\", \"dimension\": \"(W x D x H) : 46.00 x 13.50 x 4.10 cm\", \"support\": \"• Keyboard On-Board Memory - 512 KB\\\\n• On-The-Fly System - Yes, for Multi-media, Macro Recording and Lighting Control\\\\n• Multimedia Keys - Through FN\\\\n• Wrist Rest\\\\n• Cooler Master MasterPlus+\"}}]}, {\"model\": \"ck550\", \"name\": \"COOLER MASTER CK550 V2 RGB\", \"store\": \"Advice\", \"brand\": \"Cooler master\", \"category\": \"Keyboard\", \"tag\": \"Gaming\", \"data\": [{\"name\": \"KEYBOARD COOLER MASTER CK550 V2 RGB (RED-SWITCH) (TH)\", \"price\": 2590, \"href\": \"https://www.advice.co.th/product/gaming-keyboard/cooler-master/keyboard-cooler-master-ck550-v2-rgb-red-switch-th-\", \"image\": \"https://img.advice.co.th/images_nas/pic_product4/A0138427/A0138427OK_BIG_1.jpg\", \"spec\": {\"interface\": \"USB\", \"switch\": \"TTC Mechanical Switch (Red-Switch)\", \"layout\": \"104 Keys\", \"dimension\": \"(W x D x H) : 46.00 x 13.50 x 4.10 cm\", \"support\": \"• Keyboard On-Board Memory - 512 KB\\\\n• On-The-Fly System - Yes, for Multi-media, Macro Recording and Lighting Control\\\\n• Multimedia Keys - Through FN\\\\n• Wrist Rest\\\\n• Cooler Master MasterPlus+\"}}]}, {\"model\": \"ck550\", \"name\": \"COOLER MASTER CK550 V2 RGB\", \"store\": \"Advice\", \"brand\": \"Cooler master\", \"category\": \"Keyboard\", \"tag\": \"Gaming\", \"data\": [{\"name\": \"KEYBOARD COOLER MASTER CK550 V2 RGB (BROWN-SWITCH) (TH)\", \"price\": 2590, \"href\": \"https://www.advice.co.th/product/gaming-keyboard/cooler-master/keyboard-cooler-master-ck550-v2-rgb-brown-switch-th-\", \"image\": \"https://img.advice.co.th/images_nas/pic_product4/A0138426/A0138426OK_BIG_1.jpg\", \"spec\": {\"interface\": \"USB\", \"switch\": \"TTC Mechanical Switch (Brown-Switch)\", \"layout\": \"104 Keys\", \"dimension\": \"(W x D x H) : 46.00 x 13.50 x 4.10 cm\", \"support\": \"• Keyboard On-Board Memory - 512 KB\\\\n• On-The-Fly System - Yes, for Multi-media, Macro Recording and Lighting Control\\\\n• Multimedia Keys - Through FN\\\\n• Wrist Rest\\\\n• Cooler Master MasterPlus+\"}}]}, {\"model\": \"ck721\", \"name\": \"COOLER MASTER CK721 RGB\", \"store\": \"Advice\", \"brand\": \"Cooler master\", \"category\": \"Keyboard\", \"tag\": \"Gaming\", \"data\": [{\"name\": \"KEYBOARD COOLER MASTER CK721 RGB BLACK (BLUE-SWITCH)\", \"price\": 2990, \"href\": \"https://www.advice.co.th/product/gaming-keyboard/cooler-master/keyboard-cooler-master-ck721-rgb-black-blue-switch-\", \"image\": \"https://img.advice.co.th/images_nas/pic_product4/A0138428/A0138428OK_BIG_1.jpg\", \"spec\": {\"interface\": \"Wireless USB\", \"switch\": \"TTC Mechanical Switch (Blue-Switch)\", \"layout\": \"67 Keys\", \"dimension\": \"(W x D x H) : 33.40 x 11.80 x 3.70 cm\", \"support\": \"• Windows 8+ / Mac OS X 10.10+ / Android / iOS\\\\n• Software Support - Cooler Master MasterPlus+\"}}]}, {\"model\": \"ck721\", \"name\": \"COOLER MASTER CK721 RGB\", \"store\": \"Advice\", \"brand\": \"Cooler master\", \"category\": \"Keyboard\", \"tag\": \"Gaming\", \"data\": [{\"name\": \"KEYBOARD COOLER MASTER CK721 RGB BLACK (BROWN-SWITCH)\", \"price\": 2990, \"href\": \"https://www.advice.co.th/product/gaming-keyboard/cooler-master/keyboard-cooler-master-ck721-rgb-black-brown-switch-\", \"image\": \"https://img.advice.co.th/images_nas/pic_product4/A0138429/A0138429OK_BIG_1.jpg\", \"spec\": {\"interface\": \"Wireless USB\", \"switch\": \"TTC Mechanical Switch (Brown-Switch)\", \"layout\": \"67 Keys\", \"dimension\": \"(W x D x H) : 33.40 x 11.80 x 3.70 cm\", \"support\": \"• Windows 8+ / Mac OS X 10.10+ / Android / iOS\\\\n• Software Support - Cooler Master MasterPlus+\"}}]}, {\"model\": \"ck721\", \"name\": \"COOLER MASTER CK721 RGB\", \"store\": \"Advice\", \"brand\": \"Cooler master\", \"category\": \"Keyboard\", \"tag\": \"Gaming\", \"data\": [{\"name\": \"KEYBOARD COOLER MASTER CK721 RGB WHITE (RED-SWITCH)\", \"price\": 2990, \"href\": \"https://www.advice.co.th/product/gaming-keyboard/cooler-master/keyboard-cooler-master-ck721-rgb-white-red-switch-\", \"image\": \"https://img.advice.co.th/images_nas/pic_product4/A0138430/A0138430OK_BIG_1.jpg\", \"spec\": {\"interface\": \"Wireless USB\", \"switch\": \"TTC Mechanical Switch (Red-Switch)\", \"layout\": \"67 Keys\", \"dimension\": \"(W x D x H) : 33.40 x 11.80 x 3.70 cm\", \"support\": \"• Windows 8+ / Mac OS X 10.10+ / Android / iOS\\\\n• Software Support - Cooler Master MasterPlus+\"}}]}, {\"model\": \"ck721\", \"name\": \"COOLER MASTER CK721 RGB\", \"store\": \"Advice\", \"brand\": \"Cooler master\", \"category\": \"Keyboard\", \"tag\": \"Gaming\", \"data\": [{\"name\": \"KEYBOARD COOLER MASTER CK721 RGB WHITE (BROWN-SWITCH)\", \"price\": 2990, \"href\": \"https://www.advice.co.th/product/gaming-keyboard/cooler-master/keyboard-cooler-master-ck721-rgb-white-brown-switch-\", \"image\": \"https://img.advice.co.th/images_nas/pic_product4/A0138431/A0138431OK_BIG_1.jpg\", \"spec\": {\"interface\": \"Wireless USB\", \"switch\": \"TTC Mechanical Switch (Brown-Switch)\", \"layout\": \"67 Keys\", \"dimension\": \"(W x D x H) : 33.40 x 11.80 x 3.70 cm\", \"support\": \"• Windows 8+ / Mac OS X 10.10+ / Android / iOS\\\\n• Software Support - Cooler Master MasterPlus+\"}}]}, {\"model\": \"sk630\", \"name\": \"COOLER MASTER SK630 RGB\", \"store\": \"Advice\", \"brand\": \"Coolermaster\", \"category\": \"Keyboard\", \"tag\": \"Gaming\", \"data\": [{\"name\": \"KEYBOARD COOLER MASTER SK630 RGB (RED-SWITCH) (US)\", \"price\": 3070, \"href\": \"https://www.advice.co.th/product/gaming-keyboard/cooler-master/keyboard-cooler-master-sk630-rgb-red-switch-us-\", \"image\": \"https://img.advice.co.th/images_nas/pic_product4/A0126604/A0126604OK_BIG_1.jpg\", \"spec\": {\"interface\": \"USB Type-C (Keyboard Side), USB 2.0 Type A (Computer Side)\", \"switch\": \"\", \"layout\": \"87 Keys\", \"dimension\": \"\", \"support\": \"\"}}]}, null, {\"model\": \"mk850\", \"name\": \"COOLER MASTER MK850 RGB\", \"store\": \"Advice\", \"brand\": \"Coolermaster\", \"category\": \"Keyboard\", \"tag\": \"Gaming\", \"data\": [{\"name\": \"KEYBOARD COOLER MASTER MK850 RGB (RED-SWITCH) (US)\", \"price\": 5840, \"href\": \"https://www.advice.co.th/product/gaming-keyboard/cooler-master/keyboard-cooler-master-mk850-rgb-red-switch-us-\", \"image\": \"https://img.advice.co.th/images_nas/pic_product4/A0126611/A0126611OK_BIG_1.jpg\", \"spec\": {\"interface\": \"USB 3.0\", \"switch\": \"\", \"layout\": \"104 Keys\", \"dimension\": \"\", \"support\": \"\"}}]}, {\"model\": \"k60\", \"name\": \"CORSAIR K60\", \"store\": \"Advice\", \"brand\": \"Corsair\", \"category\": \"Keyboard\", \"tag\": \"Gaming\", \"data\": [{\"name\": \"KEYBOARD CORSAIR K60 (TH)\", \"price\": 2290, \"href\": \"https://www.advice.co.th/product/gaming-keyboard/corsair/keyboard-corsair-k60-th-\", \"image\": \"https://img.advice.co.th/images_nas/pic_product4/A0135584/A0135584OK_BIG_1.jpg\", \"spec\": {\"interface\": \"USB\", \"switch\": \"CHERRY® VIOLA\", \"layout\": \"105 Keys\", \"dimension\": \"(W x D x H) : 13.50 x 44.00 x 3.00 cm\", \"support\": \"• Windows 10\\\\n• macOS 10.15+\"}}]}, {\"model\": \"k60pro\", \"name\": \"CORSAIR K60 PRO\", \"store\": \"Advice\", \"brand\": \"Corsair\", \"category\": \"Keyboard\", \"tag\": \"Gaming\", \"data\": [{\"name\": \"KEYBOARD CORSAIR K60 PRO (TH)\", \"price\": 2990, \"href\": \"https://www.advice.co.th/product/gaming-keyboard/corsair/keyboard-corsair-k60-pro-th-\", \"image\": \"https://img.advice.co.th/images_nas/pic_product4/A0135585/A0135585OK_BIG_1.jpg\", \"spec\": {\"interface\": \"USB\", \"switch\": \"CHERRY® VIOLA\", \"layout\": \"104 Keys\", \"dimension\": \"(W x D x H) : 13.50 x 44.00 x 3.00 cm\", \"support\": \"• Windows 10\\\\n• macOS 10.15+\"}}]}, {\"model\": \"k95\", \"name\": \"CORSAIR K95 PLATINUM\", \"store\": \"Advice\", \"brand\": \"Corsair\", \"category\": \"Keyboard\", \"tag\": \"Gaming\", \"data\": [{\"name\": \"KEYBOARD CORSAIR K95 PLATINUM MX RAPIDFIRE RGB\", \"price\": 4990, \"href\": \"https://www.advice.co.th/product/gaming-keyboard/corsair/keyboard-corsair-k95-platinum-mx-rapidfire-rgb\", \"image\": \"https://img.advice.co.th/images_nas/pic_product4/A0099987/A0099987OK_BIG_1.jpg\", \"spec\": {\"interface\": \"USB 2.0\", \"switch\": \"Cherry MX Speed\", \"layout\": \"122 Key\", \"dimension\": \"\", \"support\": \"\"}}]}, {\"model\": \"k95\", \"name\": \"CORSAIR K95 PLATINUM\", \"store\": \"Advice\", \"brand\": \"Corsair\", \"category\": \"Keyboard\", \"tag\": \"Gaming\", \"data\": [{\"name\": \"KEYBOARD CORSAIR K95 PLATINUM MX BLUE XT RGB\", \"price\": 6990, \"href\": \"https://www.advice.co.th/product/gaming-keyboard/corsair/keyboard-corsair-k95-platinum-mx-blue-xt-rgb\", \"image\": \"https://img.advice.co.th/images_nas/pic_product4/A0135587/A0135587OK_BIG_1.jpg\", \"spec\": {\"interface\": \"USB\", \"switch\": \"CHERRY® MX Blue\", \"layout\": \"110 Keys\", \"dimension\": \"\", \"support\": \"\"}}]}, {\"model\": \"k95\", \"name\": \"CORSAIR K95 PLATINUM\", \"store\": \"Advice\", \"brand\": \"Corsair\", \"category\": \"Keyboard\", \"tag\": \"Gaming\", \"data\": [{\"name\": \"KEYBOARD CORSAIR K95 PLATINUM MX SPEED XT RGB\", \"price\": 6990, \"href\": \"https://www.advice.co.th/product/gaming-keyboard/corsair/keyboard-corsair-k95-platinum-mx-speed-xt-rgb\", \"image\": \"https://img.advice.co.th/images_nas/pic_product4/A0135588/A0135588OK_BIG_1.jpg\", \"spec\": {\"interface\": \"USB\", \"switch\": \"CHERRY® MX SPEED\", \"layout\": \"110 Keys\", \"dimension\": \"\", \"support\": \"\"}}]}, {\"model\": \"k100opx\", \"name\": \"CORSAIR K100 OPX SWITCH RGB\", \"store\": \"Advice\", \"brand\": \"Corsair\", \"category\": \"Keyboard\", \"tag\": \"Gaming\", \"data\": [{\"name\": \"KEYBOARD CORSAIR K100 OPX SWITCH RGB (US)\", \"price\": 8290, \"href\": \"https://www.advice.co.th/product/gaming-keyboard/corsair/keyboard-corsair-k100-opx-switch-rgb-us-\", \"image\": \"https://img.advice.co.th/images_nas/pic_product4/A0135583/A0135583OK_BIG_1.jpg\", \"spec\": {\"interface\": \"USB\", \"switch\": \"CORSAIR OPX Optical-Mechanical\", \"layout\": \"110 Keys\", \"dimension\": \"\", \"support\": \"• USB Polling Rate : Up to 4,000Hz with AXON\\\\n• Adjustable Height : Yes\\\\n• Additional colored and textured keycaps : FPS / MOBA\\\\n• Media Controls YN : Yes\\\\n• Keyboard Rollover : Full Key (NKRO) with 100% Anti-Ghosting\\\\n• Form Factor : Extended with macro keys\\\\n• On-Board Memory : 8MB\\\\n• Number Onboard profiles : Up to 200 depending on complexity\\\\n• WIN Lock : Dedicated Hotkey\\\\n• Media Control : Dedicated Hotkeys, Volume Roller, iCUE Control Wheel\\\\n• Palm Rest : Magnetic detachable, cushioned leatherette\\\\n• Keyboard CUE Software : Supported in iCUE\\\\n• Cable Type : Fixed\"}}]}, {\"model\": \"k100\", \"name\": \"HP GAMING K100\", \"store\": \"Advice\", \"brand\": \"Hp\", \"category\": \"Keyboard\", \"tag\": \"Gaming\", \"data\": [{\"name\": \"KEYBOARD HP GAMING K100\", \"price\": 350, \"href\": \"https://www.advice.co.th/product/gaming-keyboard/hp/keyboard-hp-gaming-k100\", \"image\": \"https://img.advice.co.th/images_nas/pic_product4/A0137851/A0137851OK_BIG_1.jpg\", \"spec\": {\"interface\": \"USB\", \"switch\": \"\", \"layout\": \"104 Keys\", \"dimension\": \"(W x D x H) : 43.60 x 12.90 x 3.70 cm\", \"support\": \"• Windows 7/8.1/10\\\\n• Mac OS 10.3 or later\"}}]}, null, {\"model\": \"gk100\", \"name\": \"HP GAMING GK100\", \"store\": \"Advice\", \"brand\": \"Hp.\", \"category\": \"Keyboard\", \"tag\": \"Gaming\", \"data\": [{\"name\": \"KEYBOARD HP GAMING GK100\", \"price\": 935, \"href\": \"https://www.advice.co.th/product/gaming-keyboard/hp/keyboard-hp-gaming-gk100\", \"image\": \"https://img.advice.co.th/images_nas/pic_product4/A0132199/A0132199OK_BIG_1.jpg\", \"spec\": {\"interface\": \"USB\", \"switch\": \"\", \"layout\": \"104 Keys\", \"dimension\": \"(W x D x H) : 43.60 x 12.90 x 3.70 cm\", \"support\": \"\"}}]}, {\"model\": \"gk320\", \"name\": \"HP GAMING GK320\", \"store\": \"Advice\", \"brand\": \"Hp.\", \"category\": \"Keyboard\", \"tag\": \"Gaming\", \"data\": [{\"name\": \"KEYBOARD HP GAMING GK320\", \"price\": 930, \"href\": \"https://www.advice.co.th/product/gaming-keyboard/hp/keyboard-hp-gaming-gk320\", \"image\": \"https://img.advice.co.th/images_nas/pic_product4/A0132202/A0132202OK_BIG_1.jpg\", \"spec\": {\"interface\": \"USB\", \"switch\": \"Blue Switch\", \"layout\": \"104 Keys\", \"dimension\": \"(W x D x H) : 43.87 x 13.11 x 3.78 cm\", \"support\": \"Windows 2000, XP, Vista, 7, 8, 10\\\\nMac OS\"}}]}, {\"model\": \"gk400y\", \"name\": \"HP GAMING GK400Y\", \"store\": \"Advice\", \"brand\": \"Hp.\", \"category\": \"Keyboard\", \"tag\": \"Gaming\", \"data\": [{\"name\": \"KEYBOARD HP GAMING GK400Y\", \"price\": 1060, \"href\": \"https://www.advice.co.th/product/gaming-keyboard/hp/keyboard-hp-gaming-gk400y\", \"image\": \"https://img.advice.co.th/images_nas/pic_product4/A0130137/A0130137OK_BIG_1.jpg\", \"spec\": {\"interface\": \"USB Wired\", \"switch\": \"Blue Switches\", \"layout\": \"104 ปุ่ม\", \"dimension\": \"(W x D x H) : 12.50 x 43.50 x 3.50 cm\", \"support\": \"Windows XP / 7 / 8 / 10/\\\\nMAC OS\"}}]}, {\"model\": \"gk600ys\", \"name\": \"HP GAMING GK600YS\", \"store\": \"Advice\", \"brand\": \"Hp.\", \"category\": \"Keyboard\", \"tag\": \"Gaming\", \"data\": [{\"name\": \"KEYBOARD HP GAMING GK600YS\", \"price\": 1215, \"href\": \"https://www.advice.co.th/product/gaming-keyboard/hp/keyboard-hp-gaming-gk600ys\", \"image\": \"https://img.advice.co.th/images_nas/pic_product4/A0130138/A0130138OK_BIG_1.jpg\", \"spec\": {\"interface\": \"USB\", \"switch\": \"Blue Switches\", \"layout\": \"104 ปุ่ม\", \"dimension\": \"(W x D x H) : 12.90 x 43.60 x 3.70 cm\", \"support\": \"Windows XP / 7 / 8 / 10\\\\nMAC OS\"}}]}, {\"model\": \"alloyorigins\", \"name\": \"HYPERX ALLOY ORIGIN MECHANICAL\", \"store\": \"Advice\", \"brand\": \"Hyper-x\", \"category\": \"Keyboard\", \"tag\": \"Gaming\", \"data\": [{\"name\": \"KEYBOARD HYPERX ALLOY ORIGINS (BLUE-SWITCH)\", \"price\": 2890, \"href\": \"https://www.advice.co.th/product/gaming-keyboard/hyperx/keyboard-hyperx-alloy-origins-blue-switch-\", \"image\": \"https://img.advice.co.th/images_nas/pic_product4/A0134037/A0134037OK_BIG_1.jpg\", \"spec\": {\"interface\": \"USB Type-C to USB Type-A\", \"switch\": \"BLUE-SWITCH\", \"layout\": \"104 Keys\", \"dimension\": \"(W x D x H) : 44.25 x 13.25 x 3.63 cm\", \"support\": \"Windows 10, 8.1, 8, 7\"}}]}, {\"model\": \"alloyorigins\", \"name\": \"HYPERX ALLOY ORIGIN MECHANICAL\", \"store\": \"Advice\", \"brand\": \"Hyper-x\", \"category\": \"Keyboard\", \"tag\": \"Gaming\", \"data\": [{\"name\": \"KEYBOARD HYPERX ALLOY ORIGINS (RED-SWITCH)\", \"price\": 2890, \"href\": \"https://www.advice.co.th/product/gaming-keyboard/hyperx/keyboard-hyperx-alloy-origins-red-switch-\", \"image\": \"https://img.advice.co.th/images_nas/pic_product4/A0129960/A0129960OK_BIG_1.jpg\", \"spec\": {\"interface\": \"USB Type-C to USB Type-A\", \"switch\": \"RED-SWITCH\", \"layout\": \"104 Keys\", \"dimension\": \"(W x D x H) : 22.25 x 13.25 x 36.39 cm\", \"support\": \"Windows 10, 8.1, 8, 7\"}}]}, null, {\"model\": \"g413\", \"name\": \"LOGITECH G413 CARBON GAMING\", \"store\": \"Advice\", \"brand\": \"Logitech\", \"category\": \"Keyboard\", \"tag\": \"Gaming\", \"data\": [{\"name\": \"KEYBOARD LOGITECH G413 CARBON GAMING\", \"price\": 2040, \"href\": \"https://www.advice.co.th/product/gaming-keyboard/logitech/keyboard-logitech-g413-carbon-gaming\", \"image\": \"https://img.advice.co.th/images_nas/pic_product4/A0101131/A0101131OK_BIG_1.jpg\", \"spec\": {\"interface\": \"USB\", \"switch\": \"ROMER-G Switch\", \"layout\": \"104Key\", \"dimension\": \"(W x D x H) : 44.50 x 13.20 x 3.40 cm\", \"support\": \"\"}}]}, {\"model\": \"gprox\", \"name\": \"LOGITECH G PRO X\", \"store\": \"Advice\", \"brand\": \"Logitech\", \"category\": \"Keyboard\", \"tag\": \"Gaming\", \"data\": [{\"name\": \"KEYBOARD LOGITECH G PRO X CLICKY RGB (US)\", \"price\": 3500, \"href\": \"https://www.advice.co.th/product/gaming-keyboard/logitech/wireless-keyboard-logitech-g-pro-x-clicky-rgb-us-\", \"image\": \"https://img.advice.co.th/images_nas/pic_product4/A0130447/A0130447OK_BIG_1.jpg\", \"spec\": {\"interface\": \"USB\", \"switch\": \"\", \"layout\": \"89 Keys\", \"dimension\": \"\", \"support\": \"Windows 7 หรือสูงกว่า macOS 10.11 หรือสูงกว่า\"}}]}, {\"model\": \"g913\", \"name\": \"LOGITECH G913 GAMING\", \"store\": \"Advice\", \"brand\": \"Logitech\", \"category\": \"Keyboard\", \"tag\": \"Gaming\", \"data\": [{\"name\": \"WIRELESS KEYBOARD LOGITECH G913 GAMING CLICKY RGB (TH)\", \"price\": 5500, \"href\": \"https://www.advice.co.th/product/gaming-keyboard/logitech/wireless-keyboard-logitech-g913-gaming-clicky-rgb-th-\", \"image\": \"https://img.advice.co.th/images_nas/pic_product4/A0128473/A0128473OK_BIG_1.jpg\", \"spec\": {\"interface\": \"USB Wireless\", \"switch\": \"GL CLICKY\", \"layout\": \"104Key\", \"dimension\": \"\", \"support\": \"Windows 7 or later\\\\nmacOS 10.11 or later\"}}]}, {\"model\": \"g913\", \"name\": \"LOGITECH G913 GAMING\", \"store\": \"Advice\", \"brand\": \"Logitech\", \"category\": \"Keyboard\", \"tag\": \"Gaming\", \"data\": [{\"name\": \"WIRELESS KEYBOARD LOGITECH G913 GAMING LINEAR RGB (TH)\", \"price\": 5500, \"href\": \"https://www.advice.co.th/product/gaming-keyboard/logitech/wireless-keyboard-logitech-g913-gaming-linear-rgb-th-\", \"image\": \"https://img.advice.co.th/images_nas/pic_product4/A0128472/A0128472OK_BIG_1.jpg\", \"spec\": {\"interface\": \"USB Wireless\", \"switch\": \"GL Linear\", \"layout\": \"104Key\", \"dimension\": \"\", \"support\": \"Windows 7 or later\\\\nmacOS 10.11 or later\"}}]}, {\"model\": \"g913\", \"name\": \"LOGITECH G913 GAMING\", \"store\": \"Advice\", \"brand\": \"Logitech\", \"category\": \"Keyboard\", \"tag\": \"Gaming\", \"data\": [{\"name\": \"WIRELESS KEYBOARD LOGITECH G913 GAMING TACTIL RGB (TH)\", \"price\": 5500, \"href\": \"https://www.advice.co.th/product/gaming-keyboard/logitech/wireless-keyboard-logitech-g913-gaming-tactil-rgb-th-\", \"image\": \"https://img.advice.co.th/images_nas/pic_product4/A0128470/A0128470OK_BIG_1.jpg\", \"spec\": {\"interface\": \"USB Wireless\", \"switch\": \"GL Tactile\", \"layout\": \"104Key\", \"dimension\": \"\", \"support\": \"Windows 7 or later\\\\nmacOS 10.11 or later\"}}]}, {\"model\": \"g913tkl\", \"name\": \"LOGITECH G913 GAMING TKL\", \"store\": \"Advice\", \"brand\": \"Logitech\", \"category\": \"Keyboard\", \"tag\": \"Gaming\", \"data\": [{\"name\": \"WIRELESS KEYBOARD LOGITECH G913 GAMING TKL CLICKY RGB (TH)\", \"price\": 6290, \"href\": \"https://www.advice.co.th/product/gaming-keyboard/logitech/wireless-keyboard-logitech-g913-gaming-tkl-clicky-rgb-th-\", \"image\": \"https://img.advice.co.th/images_nas/pic_product4/A0132021/A0132021OK_BIG_1.jpg\", \"spec\": {\"interface\": \"Wireless / USB\", \"switch\": \"GL Clicky Switch\", \"layout\": \"95 Keys\", \"dimension\": \"(W x D x H) : 15.00 x 47.50 x 2.20 cm\", \"support\": \"LIGHTSPEED\\\\nพอร์ต USB และ Windows 7 หรือสูงกว่า\\\\nmacOS  X 10.11 หรือสูงกว่า\\\\nBluetooth\\\\nอุปกรณ์ที่เปิดใช้งาน Bluetooth ที่มี \\\\nWindows 8 หรือสูงกว่า\\\\nmacOS X 10.11 หรือสูงกว่า\"}}]}, {\"model\": \"g913tkl\", \"name\": \"LOGITECH G913 GAMING TKL\", \"store\": \"Advice\", \"brand\": \"Logitech\", \"category\": \"Keyboard\", \"tag\": \"Gaming\", \"data\": [{\"name\": \"WIRELESS KEYBOARD LOGITECH G913 GAMING TKL LINEAR RGB (TH)\", \"price\": 6290, \"href\": \"https://www.advice.co.th/product/gaming-keyboard/logitech/wireless-keyboard-logitech-g913-gaming-tkl-linear-rgb-th-\", \"image\": \"https://img.advice.co.th/images_nas/pic_product4/A0132022/A0132022OK_BIG_1.jpg\", \"spec\": {\"interface\": \"Wireless / USB\", \"switch\": \"GL Linear Switch\", \"layout\": \"95 Keys\", \"dimension\": \"(W x D x H) : 15.00 x 47.50 x 2.20 cm\", \"support\": \"LIGHTSPEED\\\\nพอร์ต USB และ Windows 7 หรือสูงกว่า\\\\nmacOS  X 10.11 หรือสูงกว่า\\\\nBluetooth\\\\nอุปกรณ์ที่เปิดใช้งาน Bluetooth ที่มี \\\\nWindows 8 หรือสูงกว่า\\\\nmacOS X 10.11 หรือสูงกว่า\"}}]}, {\"model\": \"g913tkl\", \"name\": \"LOGITECH G913 GAMING TKL\", \"store\": \"Advice\", \"brand\": \"Logitech\", \"category\": \"Keyboard\", \"tag\": \"Gaming\", \"data\": [{\"name\": \"WIRELESS KEYBOARD LOGITECH G913 GAMING TKL TACTIL RGB (TH)\", \"price\": 6290, \"href\": \"https://www.advice.co.th/product/gaming-keyboard/logitech/wireless-keyboard-logitech-g913-gaming-tkl-tactil-rgb-th-\", \"image\": \"https://img.advice.co.th/images_nas/pic_product4/A0132023/A0132023OK_BIG_1.jpg\", \"spec\": {\"interface\": \"Wireless / USB\", \"switch\": \"GL Tactile Switch\", \"layout\": \"95 Keys\", \"dimension\": \"(W x D x H) : 15.00 x 47.50 x 2.20 cm\", \"support\": \"LIGHTSPEED\\\\nพอร์ต USB และ Windows 7 หรือสูงกว่า\\\\nmacOS  X 10.11 หรือสูงกว่า\\\\nBluetooth\\\\nอุปกรณ์ที่เปิดใช้งาน Bluetooth ที่มี \\\\nWindows 8 หรือสูงกว่า\\\\nmacOS X 10.11 หรือสูงกว่า\"}}]}, {\"model\": \"blackwidowv3tkl\", \"name\": \"RAZER BLACKWIDOW V3 TKL\", \"store\": \"Advice\", \"brand\": \"Razer\", \"category\": \"Keyboard\", \"tag\": \"Gaming\", \"data\": [{\"name\": \"KEYBOARD RAZER BLACKWIDOW V3 TENKEYLESS GREEN SWITCH (TH)\", \"price\": 2990, \"href\": \"https://www.advice.co.th/product/gaming-keyboard/razer/keyboard-razer-blackwidow-v3-tenkeyless-green-switch-th-\", \"image\": \"https://img.advice.co.th/images_nas/pic_product4/A0135795/A0135795OK_BIG_1.jpg\", \"spec\": {\"interface\": \"USB\", \"switch\": \"Green Mechanical Switch\", \"layout\": \"87 Keys\", \"dimension\": \"(W x D x H) : 15.48 x 36.20 x 4.10 cm\", \"support\": \"N/A\"}}]}, {\"model\": \"blackwidowv3tkl\", \"name\": \"RAZER BLACKWIDOW V3 TKL\", \"store\": \"Advice\", \"brand\": \"Razer\", \"category\": \"Keyboard\", \"tag\": \"Gaming\", \"data\": [{\"name\": \"KEYBOARD RAZER BLACKWIDOW V3 TENKEYLESS YELLOW SWITCH (TH)\", \"price\": 2990, \"href\": \"https://www.advice.co.th/product/gaming-keyboard/razer/keyboard-razer-blackwidow-v3-tenkeyless-yellow-switch-th-\", \"image\": \"https://img.advice.co.th/images_nas/pic_product4/A0135796/A0135796OK_BIG_1.jpg\", \"spec\": {\"interface\": \"USB\", \"switch\": \"YELLOW MECHANICAL SWITCHES\", \"layout\": \"87 Keys\", \"dimension\": \"(W x D x H) : 15.48 x 36.20 x 4.10 cm\", \"support\": \"N/A\"}}]}, {\"model\": \"blackwidowv3\", \"name\": \"RAZER BLACKWIDOW V3\", \"store\": \"Advice\", \"brand\": \"Razer\", \"category\": \"Keyboard\", \"tag\": \"Gaming\", \"data\": [{\"name\": \"KEYBOARD RAZER BLACKWIDOW V3 GREEN SWITCH (TH)\", \"price\": 3499, \"href\": \"https://www.advice.co.th/product/gaming-keyboard/razer/keyboard-razer-blackwidow-v3-green-switch-th-\", \"image\": \"https://img.advice.co.th/images_nas/pic_product4/A0135791/A0135791OK_BIG_1.jpg\", \"spec\": {\"interface\": \"USB\", \"switch\": \"Green Mechanical Switch\", \"layout\": \"104 Keys\", \"dimension\": \"(W x D x H) : 24.51 x 45.07 x 4.21 cm\", \"support\": \"N/A\"}}]}, {\"model\": \"blackwidowv3\", \"name\": \"RAZER BLACKWIDOW V3\", \"store\": \"Advice\", \"brand\": \"Razer\", \"category\": \"Keyboard\", \"tag\": \"Gaming\", \"data\": [{\"name\": \"KEYBOARD RAZER BLACKWIDOW V3 YELLOW SWITCH (TH)\", \"price\": 3499, \"href\": \"https://www.advice.co.th/product/gaming-keyboard/razer/keyboard-razer-blackwidow-v3-yellow-switch-th-\", \"image\": \"https://img.advice.co.th/images_nas/pic_product4/A0135792/A0135792OK_BIG_1.jpg\", \"spec\": {\"interface\": \"USB\", \"switch\": \"Yellow Mechanical Switch\", \"layout\": \"104 Keys\", \"dimension\": \"(W x D x H) : 24.51 x 45.07 x 4.21 cm\", \"support\": \"N/A\"}}]}, {\"model\": \"apex5\", \"name\": \"STEELSERIES APEX 5\", \"store\": \"Advice\", \"brand\": \"Steelseries\", \"category\": \"Keyboard\", \"tag\": \"Gaming\", \"data\": [{\"name\": \"KEYBOARD STEELSERIES APEX 5 (US)\", \"price\": 3990, \"href\": \"https://www.advice.co.th/product/gaming-keyboard/steelseries/keyboard-steelseries-apex-5-us-\", \"image\": \"https://img.advice.co.th/images_nas/pic_product4/A0131569/A0131569OK_BIG_1.jpg\", \"spec\": {\"interface\": \"USB\", \"switch\": \"SteelSeries Hybrid Mechanical RGB Switch\", \"layout\": \"104 Keys\", \"dimension\": \"(W x D x H) : 44.28 x 13.92 x 4.05 cm\", \"support\": \"Windows and Mac OS X\"}}]}, {\"model\": \"apex7\", \"name\": \"STEELSERIES APEX 7\", \"store\": \"Advice\", \"brand\": \"Steelseries\", \"category\": \"Keyboard\", \"tag\": \"Gaming\", \"data\": [{\"name\": \"KEYBOARD STEELSERIES APEX 7 (RED-SWITCH) (TH)\", \"price\": 5290, \"href\": \"https://www.advice.co.th/product/gaming-keyboard/steelseries/keyboard-steelseries-apex-7-red-switch-th-\", \"image\": \"https://img.advice.co.th/images_nas/pic_product4/A0129406/A0129406OK_BIG_1.jpg\", \"spec\": {\"interface\": \"USB\", \"switch\": \"Red Switches\", \"layout\": \"104 Keys\", \"dimension\": \"\", \"support\": \"Windows and Mac OS X. USB port required\"}}]}, {\"model\": \"apex7tkl\", \"name\": \"STEELSERIES APEX 5 TKL\", \"store\": \"Advice\", \"brand\": \"Steelseries\", \"category\": \"Keyboard\", \"tag\": \"Gaming\", \"data\": [{\"name\": \"KEYBOARD STEELSERIES APEX 7 TKL (RED-SWITCH) (US)\", \"price\": 4990, \"href\": \"https://www.advice.co.th/product/gaming-keyboard/steelseries/keyboard-steelseries-apex-7-tkl-red-switch-us-\", \"image\": \"https://img.advice.co.th/images_nas/pic_product4/A0129408/A0129408OK_BIG_1.jpg\", \"spec\": {\"interface\": \"USB\", \"switch\": \"Red Switch\", \"layout\": \"84 Keys\", \"dimension\": \"\", \"support\": \"Windows and Mac OS X. ( USB port required )\"}}]}, {\"model\": \"apexprotkl\", \"name\": \"STEELSERIES APEX PRO TKL\", \"store\": \"Advice\", \"brand\": \"Steelseries\", \"category\": \"Keyboard\", \"tag\": \"Gaming\", \"data\": [{\"name\": \"KEYBOARD STEELSERIES APEX PRO TKL (US)\", \"price\": 7290, \"href\": \"https://www.advice.co.th/product/gaming-keyboard/steelseries/keyboard-steelseries-apex-pro-tkl-us-\", \"image\": \"https://img.advice.co.th/images_nas/pic_product4/A0129411/A0129411OK_BIG_1.jpg\", \"spec\": {\"interface\": \"USB\", \"switch\": \"OmniPoint switches\", \"layout\": \"84 Keys\", \"dimension\": \"(W x D x H) : 13.92 x 35.54 x 4.04 cm\", \"support\": \"Windows and Mac OS X. (USB port required)\"}}]}]'"
      ]
     },
     "execution_count": 107,
     "metadata": {},
     "output_type": "execute_result"
    }
   ],
   "source": [
    "out_keyboard_item"
   ]
  },
  {
   "cell_type": "code",
   "execution_count": 110,
   "id": "dd903561",
   "metadata": {},
   "outputs": [
    {
     "name": "stdout",
     "output_type": "stream",
     "text": [
      "success\n"
     ]
    }
   ],
   "source": [
    "with open('json_keyboard_gaming.json', 'w',encoding=\"utf-8\") as f:\n",
    "    f.writelines(out_keyboard_item)\n",
    "    print(\"success\")"
   ]
  },
  {
   "cell_type": "code",
   "execution_count": 117,
   "id": "dbfced0f",
   "metadata": {},
   "outputs": [],
   "source": [
    "export=[]"
   ]
  },
  {
   "cell_type": "code",
   "execution_count": 118,
   "id": "7a6736d0",
   "metadata": {},
   "outputs": [
    {
     "name": "stdout",
     "output_type": "stream",
     "text": [
      "---- 0 of 67 ----\n",
      "k110\n",
      "---- 1 of 67 ----\n",
      "k500f\n",
      "---- 2 of 67 ----\n",
      "k120\n",
      "---- 3 of 67 ----\n",
      "k300\n",
      "---- 4 of 67 ----\n",
      "kb216\n",
      "---- 5 of 67 ----\n",
      "k120\n",
      "---- 6 of 67 ----\n",
      "k375s\n",
      "---- 7 of 67 ----\n",
      "k400plus\n",
      "---- 8 of 67 ----\n",
      "k480\n",
      "---- 9 of 67 ----\n",
      "k480\n",
      "---- 10 of 67 ----\n",
      "n9z00027\n",
      "---- 11 of 67 ----\n",
      "qsz00027\n",
      "---- 12 of 67 ----\n",
      "nk1800\n",
      "---- 13 of 67 ----\n",
      "kbe1050bk\n",
      "---- 14 of 67 ----\n",
      "kbk2800bk\n",
      "---- 15 of 67 ----\n",
      "xk100bk\n",
      "---- 16 of 67 ----\n",
      "kb103\n",
      "---- 17 of 67 ----\n",
      "kb210m\n",
      "---- 18 of 67 ----\n",
      "kb19\n",
      "---- 19 of 67 ----\n",
      "kb674\n",
      "---- 20 of 67 ----\n",
      "kb674\n",
      "---- 21 of 67 ----\n",
      "kb674\n",
      "---- 22 of 67 ----\n",
      "kb667\n",
      "---- 23 of 67 ----\n",
      "kb670\n",
      "---- 24 of 67 ----\n",
      "kb310m\n",
      "---- 25 of 67 ----\n",
      "kb666\n",
      "---- 26 of 67 ----\n",
      "kb111\n",
      "---- 27 of 67 ----\n",
      "kb15\n",
      "---- 28 of 67 ----\n",
      "kb15\n",
      "---- 29 of 67 ----\n",
      "kb15\n",
      "---- 30 of 67 ----\n",
      "kb319m\n",
      "---- 31 of 67 ----\n",
      "kb222m\n",
      "---- 32 of 67 ----\n",
      "kb222m\n",
      "---- 33 of 67 ----\n",
      "k5\n",
      "---- 34 of 67 ----\n",
      "nk35\n",
      "---- 35 of 67 ----\n",
      "nk38\n",
      "---- 36 of 67 ----\n",
      "nk38\n",
      "---- 37 of 67 ----\n",
      "nk15\n",
      "---- 38 of 67 ----\n",
      "nk25\n",
      "---- 39 of 67 ----\n",
      "nk36\n",
      "---- 40 of 67 ----\n",
      "nk032fortune\n",
      "---- 41 of 67 ----\n",
      "nk032fortune\n",
      "---- 42 of 67 ----\n",
      "nk032fortune\n",
      "---- 43 of 67 ----\n",
      "nk34\n",
      "---- 44 of 67 ----\n",
      "nk34\n",
      "---- 45 of 67 ----\n",
      "nk34\n",
      "---- 46 of 67 ----\n",
      "nkb100\n",
      "---- 47 of 67 ----\n",
      "f6\n",
      "---- 48 of 67 ----\n",
      "f6\n",
      "---- 49 of 67 ----\n",
      "f8\n",
      "---- 50 of 67 ----\n",
      "kb318\n",
      "---- 51 of 67 ----\n",
      "kb318\n",
      "---- 52 of 67 ----\n",
      "kb318\n",
      "---- 53 of 67 ----\n",
      "kb318\n",
      "---- 54 of 67 ----\n",
      "kb758\n",
      "---- 55 of 67 ----\n",
      "kb700\n",
      "---- 56 of 67 ----\n",
      "kb399plus\n",
      "---- 57 of 67 ----\n",
      "kb518\n",
      "---- 58 of 67 ----\n",
      "kb518\n",
      "---- 59 of 67 ----\n",
      "kb518\n",
      "---- 60 of 67 ----\n",
      "kb789\n",
      "---- 61 of 67 ----\n",
      "kb911\n",
      "---- 62 of 67 ----\n",
      "kb912\n",
      "---- 63 of 67 ----\n",
      "k199\n",
      "---- 64 of 67 ----\n",
      "k510\n",
      "---- 65 of 67 ----\n",
      "k510\n",
      "---- 66 of 67 ----\n",
      "k510\n"
     ]
    }
   ],
   "source": [
    "for index,val in enumerate(advice_keyboard_working_href):\n",
    "    print(\"----\",index,\"of\" ,len(advice_keyboard_working_href),\"----\")\n",
    "    export.append(keyboard_exit(val))"
   ]
  },
  {
   "cell_type": "code",
   "execution_count": null,
   "id": "f7035368",
   "metadata": {},
   "outputs": [],
   "source": []
  },
  {
   "cell_type": "code",
   "execution_count": 119,
   "id": "f59fd11c",
   "metadata": {},
   "outputs": [],
   "source": [
    "out_keyboard_item= json.dumps(export, ensure_ascii=False)"
   ]
  },
  {
   "cell_type": "code",
   "execution_count": 120,
   "id": "c3fdf5ba",
   "metadata": {},
   "outputs": [
    {
     "data": {
      "text/plain": [
       "'[{\"model\": \"k110\", \"name\": \"HP GAMING K110\", \"store\": \"Advice\", \"brand\": \"Hp.\", \"category\": \"Keyboard\", \"tag\": \"Working\", \"data\": [{\"name\": \"USB KEYBOARD HP GAMING K110 BLACK\", \"price\": 365, \"href\": \"https://www.advice.co.th/product/keyboard/hp/usb-keyboard-hp-gaming-k110-black\", \"image\": \"https://img.advice.co.th/images_nas/pic_product4/A0131629/A0131629OK_BIG_1.jpg\", \"spec\": {\"interface\": \"USB\", \"switch\": \"\", \"layout\": \"104 Keys\", \"dimension\": \"(W x D x H) : 19.22 x 46.37 x 33.09 cm\", \"support\": \"Windows 7 / 8.1 / 10\\\\nMac OS 10.3 or later\"}}]}, {\"model\": \"k500f\", \"name\": \"HP GAMING K500F\", \"store\": \"Advice\", \"brand\": \"Hp.\", \"category\": \"Keyboard\", \"tag\": \"Working\", \"data\": [{\"name\": \"USB KEYBOARD HP GAMING K500F BLACK\", \"price\": 365, \"href\": \"https://www.advice.co.th/product/keyboard/hp/usb-keyboard-hp-gaming-k500f-black\", \"image\": \"https://img.advice.co.th/images_nas/pic_product4/A0130873/A0130873OK_BIG_1.jpg\", \"spec\": {\"interface\": \"USB\", \"switch\": \"\", \"layout\": \"104 Keys\", \"dimension\": \"(W x D x H) : 44.00 x 13.50 x 3.51 cm\", \"support\": \"Microsoft Windows 7 / 8 / 10\"}}]}, {\"model\": \"k120\", \"name\": \"HP GAMING K120\", \"store\": \"Advice\", \"brand\": \"Hp.\", \"category\": \"Keyboard\", \"tag\": \"Working\", \"data\": [{\"name\": \"USB KEYBOARD HP GAMING K120 BLACK\", \"price\": 405, \"href\": \"https://www.advice.co.th/product/keyboard/hp/usb-keyboard-hp-gaming-k120-black\", \"image\": \"https://img.advice.co.th/images_nas/pic_product4/A0138691/A0138691OK_BIG_1.jpg\", \"spec\": {\"interface\": \"USB\", \"switch\": \"\", \"layout\": \"104 Keys\", \"dimension\": \"(W x D x H) : 41.60 x 15.30 x 2.60 cm\", \"support\": \"\"}}]}, {\"model\": \"k300\", \"name\": \"HP GAMING K300\", \"store\": \"Advice\", \"brand\": \"Hp.\", \"category\": \"Keyboard\", \"tag\": \"Working\", \"data\": [{\"name\": \"USB KEYBOARD HP GAMING K300\", \"price\": 415, \"href\": \"https://www.advice.co.th/product/keyboard/hp/usb-keyboard-hp-gaming-k300\", \"image\": \"https://img.advice.co.th/images_nas/pic_product4/A0123531/A0123531OK_BIG_1.jpg\", \"spec\": {\"interface\": \"USB\", \"switch\": \"Non-Mechanical\", \"layout\": \"104 Keys\", \"dimension\": \"\", \"support\": \"\"}}]}, {\"model\": \"kb216\", \"name\": \"DELL KB216\", \"store\": \"Advice\", \"brand\": \"Dell\", \"category\": \"Keyboard\", \"tag\": \"Working\", \"data\": [{\"name\": \"USB KEYBOARD DELL (KB216) BLACK\", \"price\": 195, \"href\": \"https://www.advice.co.th/product/keyboard/dell/usb-keyboard-dell-kb216-black\", \"image\": \"https://img.advice.co.th/images_nas/pic_product4/A0137743/A0137743OK_BIG_1.jpg\", \"spec\": {\"interface\": \"USB\", \"switch\": \"\", \"layout\": \"104 Keys\", \"dimension\": \"(W x D x H) : 12.70 x 44.19 x 2.54 cm\", \"support\": \"\"}}]}, {\"model\": \"k120\", \"name\": \"HP GAMING K120\", \"store\": \"Advice\", \"brand\": \"Logitech\", \"category\": \"Keyboard\", \"tag\": \"Working\", \"data\": [{\"name\": \"USB KEYBOARD LOGITECH (K120) BLACK\", \"price\": 270, \"href\": \"https://www.advice.co.th/product/keyboard/logitech/usb-keyboard-logitech-k120-black\", \"image\": \"https://img.advice.co.th/images_nas/pic_product4/A0035187/A0035187OK_BIG_1.jpg\", \"spec\": {\"interface\": \"USB\", \"switch\": \"\", \"layout\": \"104 key\", \"dimension\": \"\", \"support\": \"\"}}]}, null, null, {\"model\": \"k480\", \"name\": \"BLUETOOTH KEYBOARD MULTI-DEVICE LOGITECH K480 \", \"store\": \"Advice\", \"brand\": \"Logitech\", \"category\": \"Keyboard\", \"tag\": \"Working\", \"data\": [{\"name\": \"BLUETOOTH KEYBOARD MULTI-DEVICE LOGITECH K480 BLACK\", \"price\": 1160, \"href\": \"https://www.advice.co.th/product/keyboard/logitech/bluetooth-keyboard-multi-device-logitech-k480-black\", \"image\": \"https://img.advice.co.th/images_nas/pic_product4/A0082709/A0082709OK_BIG_1.jpg\", \"spec\": {\"interface\": \"BLUETOOTH\", \"switch\": \"\", \"layout\": \"82 Keys (EN\\\\\\\\TH)\", \"dimension\": \"\", \"support\": \"Windows, Mac OS, Android และ iOS\"}}]}, {\"model\": \"k480\", \"name\": \"BLUETOOTH KEYBOARD MULTI-DEVICE LOGITECH K480 \", \"store\": \"Advice\", \"brand\": \"Logitech\", \"category\": \"Keyboard\", \"tag\": \"Working\", \"data\": [{\"name\": \"BLUETOOTH KEYBOARD MULTI-DEVICE LOGITECH K480 WHITE\", \"price\": 1160, \"href\": \"https://www.advice.co.th/product/keyboard/logitech/bluetooth-keyboard-multi-device-logitech-k480-white\", \"image\": \"https://img.advice.co.th/images_nas/pic_product4/A0083367/A0083367OK_BIG_1.jpg\", \"spec\": {\"interface\": \"BLUETOOTH\", \"switch\": \"\", \"layout\": \"82 Keys (EN\\\\\\\\TH)\", \"dimension\": \"\", \"support\": \"Windows, Mac OS, Android และ iOS\"}}]}, {\"model\": \"n9z00027\", \"name\": \"USB WIRELESS ALL-IN-ONE MEDIA MICROSOFT BLACK N9Z-00027\", \"store\": \"Advice\", \"brand\": \"Microsoft\", \"category\": \"Keyboard\", \"tag\": \"Working\", \"data\": [{\"name\": \"USB WIRELESS ALL-IN-ONE MEDIA MICROSOFT BLACK \\'N9Z-00027\\'\", \"price\": 1145, \"href\": \"https://www.advice.co.th/product/keyboard/microsoft/usb-wireless-all-in-one-media-microsoft-black-n9z-00027-\", \"image\": \"https://img.advice.co.th/images_nas/pic_product4/A0088241/A0088241OK_BIG_1.jpg\", \"spec\": {\"interface\": \"USB\", \"switch\": \"\", \"layout\": \"\", \"dimension\": \"\", \"support\": \"Windows 10, Windows 8.1, Windows® 8, Windows RT 8.1,\\\\nWindows RT 8, Windows 7\"}}]}, null, {\"model\": \"nk1800\", \"name\": \"USB KEYBOARD RAPOO (NK1800)\", \"store\": \"Advice\", \"brand\": \"Rapoo\", \"category\": \"Keyboard\", \"tag\": \"Working\", \"data\": [{\"name\": \"USB KEYBOARD RAPOO (NK1800) BLACK\", \"price\": 240, \"href\": \"https://www.advice.co.th/product/keyboard/rapoo/usb-keyboard-rapoo-nk1800-black\", \"image\": \"https://img.advice.co.th/images_nas/pic_product4/A0130480/A0130480OK_BIG_1.jpg\", \"spec\": {\"interface\": \"USB\", \"switch\": \"\", \"layout\": \"104 Keys\", \"dimension\": \"\", \"support\": \"\"}}]}, {\"model\": \"kbe1050bk\", \"name\": \"USB WIRELESS KEYBOARD RAPOO (KB-E1050-BK)\", \"store\": \"Advice\", \"brand\": \"Rapoo\", \"category\": \"Keyboard\", \"tag\": \"Working\", \"data\": [{\"name\": \"USB WIRELESS KEYBOARD RAPOO (KB-E1050-BK) BLACK\", \"price\": 385, \"href\": \"https://www.advice.co.th/product/keyboard/rapoo/usb-wireless-keyboard-rapoo-kb-e1050-bk-black\", \"image\": \"https://img.advice.co.th/images_nas/pic_product4/A0074133/A0074133OK_BIG_1.jpg\", \"spec\": {\"interface\": \"USB\", \"switch\": \"\", \"layout\": \"104 Keys\", \"dimension\": \"\", \"support\": \"WindownXp /Visa/7/8\"}}]}, {\"model\": \"kbk2800bk\", \"name\": \"USB WIRELESS KEYBOARD RAPOO (KB-K2800-BK)\", \"store\": \"Advice\", \"brand\": \"Rapoo\", \"category\": \"Keyboard\", \"tag\": \"Working\", \"data\": [{\"name\": \"USB WIRELESS KEYBOARD RAPOO (KB-K2800-BK) BLACK\", \"price\": 725, \"href\": \"https://www.advice.co.th/product/keyboard/rapoo/usb-wireless-keyboard-rapoo-kb-k2800-bk-black\", \"image\": \"https://img.advice.co.th/images_nas/pic_product4/A0124923/A0124923OK_BIG_1.jpg\", \"spec\": {\"interface\": \"USB Wireless\\\\nสามารถใช้งานได้ไกล 10 เมตร (ในพื้นที่โล่ง)\", \"switch\": \"78 Keys\", \"layout\": \"\", \"dimension\": \"\", \"support\": \"\"}}]}, {\"model\": \"xk100bk\", \"name\": \"BLUETOOTH KEYBOARD RAPOO (XK100-BK) BLACK\", \"store\": \"Advice\", \"brand\": \"Rapoo\", \"category\": \"Keyboard\", \"tag\": \"Working\", \"data\": [{\"name\": \"BLUETOOTH KEYBOARD RAPOO (XK100-BK) BLACK\", \"price\": 725, \"href\": \"https://www.advice.co.th/product/keyboard/rapoo/bluetooth-keyboard-rapoo-xk100-bk-black\", \"image\": \"https://img.advice.co.th/images_nas/pic_product4/A0135150/A0135150OK_BIG_1.jpg\", \"spec\": {\"interface\": \"Bluetooth\", \"switch\": \"\", \"layout\": \"78 Keys\", \"dimension\": \"\", \"support\": \"\"}}]}, {\"model\": \"kb103\", \"name\": \"USB KEYBOARD LECOO (KB103)\", \"store\": \"Advice\", \"brand\": \"Lecoo\", \"category\": \"Keyboard\", \"tag\": \"Working\", \"data\": [{\"name\": \"USB KEYBOARD LECOO (KB103) BLACK BY LENOVO\", \"price\": 200, \"href\": \"https://www.advice.co.th/product/keyboard/lecoo-by-lenovo/usb-keyboard-lecoo-kb103-black-by-lenovo\", \"image\": \"https://img.advice.co.th/images_nas/pic_product4/A0137831/A0137831OK_BIG_1.jpg\", \"spec\": {\"interface\": \"USB\", \"switch\": \"\", \"layout\": \"103 Keys\", \"dimension\": \"(W x D x H) : 15.60 x 43.00 x 2.50 cm\", \"support\": \"\"}}]}, {\"model\": \"kb210m\", \"name\": \"USB KEYBOARD MINI MD-TECH (KB-210M)\", \"store\": \"Advice\", \"brand\": \"Md-tech\", \"category\": \"Keyboard\", \"tag\": \"Working\", \"data\": [{\"name\": \"USB KEYBOARD MINI MD-TECH (KB-210M) BLACK\", \"price\": 170, \"href\": \"https://www.advice.co.th/product/keyboard/md-tech/usb-keyboard-mini-md-tech-kb-210m-black\", \"image\": \"https://img.advice.co.th/images_nas/pic_product4/A0110649/A0110649OK_BIG_1.jpg\", \"spec\": {\"interface\": \"USB\", \"switch\": \"\", \"layout\": \"83 Key\", \"dimension\": \"\", \"support\": \"Windows XP / 2000 / Vista /10 /MAC OS\"}}]}, {\"model\": \"kb19\", \"name\": \"USB KEYBOARD MD-TECH (KB-19) BLACK\", \"store\": \"Advice\", \"brand\": \"Md-tech\", \"category\": \"Keyboard\", \"tag\": \"Working\", \"data\": [{\"name\": \"USB KEYBOARD MD-TECH (KB-19) BLACK\", \"price\": 125, \"href\": \"https://www.advice.co.th/product/keyboard/md-tech/usb-keyboard-md-tech-kb-19-black\", \"image\": \"https://img.advice.co.th/images_nas/pic_product4/A0137310/A0137310OK_BIG_1.jpg\", \"spec\": {\"interface\": \"USB\", \"switch\": \"\", \"layout\": \"104 Keys\", \"dimension\": \"\", \"support\": \"\"}}]}, null, {\"model\": \"kb674\", \"name\": \"USB KEYBOARD MD-TECH (KB-674)\", \"store\": \"Advice\", \"brand\": \"Md-tech\", \"category\": \"Keyboard\", \"tag\": \"Working\", \"data\": [{\"name\": \"USB KEYBOARD MD-TECH (KB-674) BLACK/RED\", \"price\": 130, \"href\": \"https://www.advice.co.th/product/keyboard/md-tech/usb-keyboard-md-tech-kb-674-black-red\", \"image\": \"https://img.advice.co.th/images_nas/pic_product4/A0128744/A0128744OK_BIG_1.jpg\", \"spec\": {\"interface\": \"USB 2.0\", \"switch\": \"RUBBER\", \"layout\": \"104 Key\", \"dimension\": \"\", \"support\": \"Windows XP/Vista/7/8/10/Mac/Linux\"}}]}, {\"model\": \"kb674\", \"name\": \"USB KEYBOARD MD-TECH (KB-674)\", \"store\": \"Advice\", \"brand\": \"Md-tech\", \"category\": \"Keyboard\", \"tag\": \"Working\", \"data\": [{\"name\": \"USB KEYBOARD MD-TECH (KB-674) BLACK/BLUE\", \"price\": 130, \"href\": \"https://www.advice.co.th/product/keyboard/md-tech/usb-keyboard-md-tech-kb-674-black-blue\", \"image\": \"https://img.advice.co.th/images_nas/pic_product4/A0128745/A0128745OK_BIG_1.jpg\", \"spec\": {\"interface\": \"USB 2.0\", \"switch\": \"RUBBER\", \"layout\": \"104 Key\", \"dimension\": \"\", \"support\": \"Windows XP/Vista/7/8/10/Mac/Linux\"}}]}, {\"model\": \"kb667\", \"name\": \"USB KEYBOARD MD-TECH (KB-667) \", \"store\": \"Advice\", \"brand\": \"Md-tech\", \"category\": \"Keyboard\", \"tag\": \"Working\", \"data\": [{\"name\": \"USB KEYBOARD MD-TECH (KB-667) BLACK\", \"price\": 140, \"href\": \"https://www.advice.co.th/product/keyboard/md-tech/usb-keyboard-md-tech-kb-667-black\", \"image\": \"https://img.advice.co.th/images_nas/pic_product4/A0135149/A0135149OK_BIG_1.jpg\", \"spec\": {\"interface\": \"USB\", \"switch\": \"\", \"layout\": \"104 Keys\", \"dimension\": \"(W x D x H) : 45.50 x 14.00 x 2.00 cm\", \"support\": \"Windows XP, Vista, 7, 8, 10\"}}]}, {\"model\": \"kb670\", \"name\": \"USB KEYBOARD MD-TECH (KB-670)\", \"store\": \"Advice\", \"brand\": \"Md-tech\", \"category\": \"Keyboard\", \"tag\": \"Working\", \"data\": [{\"name\": \"USB KEYBOARD MD-TECH (KB-670) BLACK\", \"price\": 140, \"href\": \"https://www.advice.co.th/product/keyboard/md-tech/usb-keyboard-md-tech-kb-670-black\", \"image\": \"https://img.advice.co.th/images_nas/pic_product4/A0083281/A0083281OK_BIG_1.jpg\", \"spec\": {\"interface\": \"USB\", \"switch\": \"\", \"layout\": \"104 Keys\", \"dimension\": \"\", \"support\": \"\"}}]}, null, {\"model\": \"kb666\", \"name\": \"USB KEYBOARD MD-TECH (KB-666)\", \"store\": \"Advice\", \"brand\": \"Md-tech\", \"category\": \"Keyboard\", \"tag\": \"Working\", \"data\": [{\"name\": \"USB KEYBOARD MD-TECH (KB-666) BLACK\", \"price\": 165, \"href\": \"https://www.advice.co.th/product/keyboard/md-tech/usb-keyboard-md-tech-kb-666-black\", \"image\": \"https://img.advice.co.th/images_nas/pic_product4/A0024196/A0024196OK_BIG_1.jpg\", \"spec\": {\"interface\": \"USB\", \"switch\": \"\", \"layout\": \"107 Keys\", \"dimension\": \"\", \"support\": \"\"}}]}, null, {\"model\": \"kb15\", \"name\": \"USB KEYBOARD MD-TECH (KB-15)\", \"store\": \"Advice\", \"brand\": \"Md-tech\", \"category\": \"Keyboard\", \"tag\": \"Working\", \"data\": [{\"name\": \"USB KEYBOARD MD-TECH (KB-15) BLACK/GREEN\", \"price\": 170, \"href\": \"https://www.advice.co.th/product/keyboard/md-tech/usb-keyboard-md-tech-kb-15-black-green\", \"image\": \"https://img.advice.co.th/images_nas/pic_product4/A0105612/A0105612OK_BIG_1.jpg\", \"spec\": {\"interface\": \"USB 2.0\", \"switch\": \"\", \"layout\": \"104 Key\", \"dimension\": \"\", \"support\": \"Windows 10, 98,Mac\"}}]}, {\"model\": \"kb15\", \"name\": \"USB KEYBOARD MD-TECH (KB-15)\", \"store\": \"Advice\", \"brand\": \"Md-tech\", \"category\": \"Keyboard\", \"tag\": \"Working\", \"data\": [{\"name\": \"USB KEYBOARD MD-TECH (KB-15) BLACK/WHITE\", \"price\": 170, \"href\": \"https://www.advice.co.th/product/keyboard/md-tech/usb-keyboard-md-tech-kb-15-black-white\", \"image\": \"https://img.advice.co.th/images_nas/pic_product4/A0105613/A0105613OK_BIG_1.jpg\", \"spec\": {\"interface\": \"USB 2.0\", \"switch\": \"\", \"layout\": \"104 Key\", \"dimension\": \"\", \"support\": \"Windows 10, 98,Mac\"}}]}, {\"model\": \"kb15\", \"name\": \"USB KEYBOARD MD-TECH (KB-15)\", \"store\": \"Advice\", \"brand\": \"Md-tech\", \"category\": \"Keyboard\", \"tag\": \"Working\", \"data\": [{\"name\": \"USB KEYBOARD MD-TECH (KB-15) BLACK/BLUE\", \"price\": 170, \"href\": \"https://www.advice.co.th/product/keyboard/md-tech/usb-keyboard-md-tech-kb-15-black-blue\", \"image\": \"https://img.advice.co.th/images_nas/pic_product4/A0105611/A0105611OK_BIG_1.jpg\", \"spec\": {\"interface\": \"USB 2.0\", \"switch\": \"\", \"layout\": \"104 Key\", \"dimension\": \"\", \"support\": \"Windows 10, 98,Mac\"}}]}, {\"model\": \"kb319m\", \"name\": \"USB KEYBOARD MD-TECH (KB-319M )\", \"store\": \"Advice\", \"brand\": \"Md-tech\", \"category\": \"Keyboard\", \"tag\": \"Working\", \"data\": [{\"name\": \"USB KEYBOARD MD-TECH (KB-319M ) BLACK\", \"price\": 180, \"href\": \"https://www.advice.co.th/product/keyboard/md-tech/usb-keyboard-md-tech-kb-319m-black\", \"image\": \"https://img.advice.co.th/images_nas/pic_product4/A0132251/A0132251OK_BIG_1.jpg\", \"spec\": {\"interface\": \"USB\", \"switch\": \"\", \"layout\": \"116 Keys\", \"dimension\": \"(W x D x H) : 44.80 x 16.80 x 2.96 cm\", \"support\": \"Windows 10 / 8 / 7 / Visto / XP\\\\nChrome OS\\\\nLinux Kernel 2.6+\"}}]}, {\"model\": \"kb222m\", \"name\": \"USB KEYBOARD MD-TECH (KB-222M)\", \"store\": \"Advice\", \"brand\": \"Md-tech\", \"category\": \"Keyboard\", \"tag\": \"Working\", \"data\": [{\"name\": \"USB KEYBOARD MD-TECH (KB-222M) BLACK/RED\", \"price\": 180, \"href\": \"https://www.advice.co.th/product/keyboard/md-tech/usb-keyboard-md-tech-kb-222m-black-red\", \"image\": \"https://img.advice.co.th/images_nas/pic_product4/A0104149/A0104149OK_BIG_1.jpg\", \"spec\": {\"interface\": \"USB\", \"switch\": \"\", \"layout\": \"111 Keys\", \"dimension\": \"\", \"support\": \"Windows 10 /MAC OS\"}}]}, {\"model\": \"kb222m\", \"name\": \"USB KEYBOARD MD-TECH (KB-222M)\", \"store\": \"Advice\", \"brand\": \"Md-tech\", \"category\": \"Keyboard\", \"tag\": \"Working\", \"data\": [{\"name\": \"USB KEYBOARD MD-TECH (KB-222M) BLACK/BLUE\", \"price\": 180, \"href\": \"https://www.advice.co.th/product/keyboard/md-tech/usb-keyboard-md-tech-kb-222m-black-blue\", \"image\": \"https://img.advice.co.th/images_nas/pic_product4/A0101324/A0101324OK_BIG_1.jpg\", \"spec\": {\"interface\": \"USB\", \"switch\": \"\", \"layout\": \"111 Keys\", \"dimension\": \"\", \"support\": \"Windows 10 /MAC OS\"}}]}, {\"model\": \"k5\", \"name\": \"USB KEYBOARD MD-TECH (K-5)\", \"store\": \"Advice\", \"brand\": \"Md-tech\", \"category\": \"Keyboard\", \"tag\": \"Working\", \"data\": [{\"name\": \"USB KEYBOARD MD-TECH (K-5) BLACK\", \"price\": 220, \"href\": \"https://www.advice.co.th/product/keyboard/md-tech/usb-keyboard-md-tech-k-5-black\", \"image\": \"https://img.advice.co.th/images_nas/pic_product4/A0122446/A0122446OK_BIG_1.jpg\", \"spec\": {\"interface\": \"USB\", \"switch\": \"\", \"layout\": \"104 Keys\", \"dimension\": \"\", \"support\": \"Windows 10/ 8 / 7 / Vista / XP/ Linux / Mac OS\"}}]}, {\"model\": \"nk35\", \"name\": \"USB KEYBOARD MINI NUBWO (NK-35)\", \"store\": \"Advice\", \"brand\": \"Nubwo\", \"category\": \"Keyboard\", \"tag\": \"Working\", \"data\": [{\"name\": \"USB KEYBOARD MINI NUBWO (NK-35) BLACK\", \"price\": 140, \"href\": \"https://www.advice.co.th/product/keyboard/nubwo/usb-keyboard-mini-nubwo-nk-35-black\", \"image\": \"https://img.advice.co.th/images_nas/pic_product4/A0135629/A0135629OK_BIG_1.jpg\", \"spec\": {\"interface\": \"USB\", \"switch\": \"\", \"layout\": \"78 Keys\", \"dimension\": \"(W x D x H) : 13.00 x 28.50 x 2.50 cm\", \"support\": \"\"}}]}, {\"model\": \"nk38\", \"name\": \"USB KEYBOARD MINI NUBWO (NK-38)\", \"store\": \"Advice\", \"brand\": \"Nubwo\", \"category\": \"Keyboard\", \"tag\": \"Working\", \"data\": [{\"name\": \"USB KEYBOARD MINI NUBWO (NK-38) \\'WIZARDY\\' BLACK\", \"price\": 315, \"href\": \"https://www.advice.co.th/product/keyboard/nubwo/usb-keyboard-mini-nubwo-nk-38-wizardy-black\", \"image\": \"https://img.advice.co.th/images_nas/pic_product4/A0138783/A0138783OK_BIG_1.jpg\", \"spec\": {\"interface\": \"USB\", \"switch\": \"N/A\", \"layout\": \"61 Key\", \"dimension\": \"(W x D x H) : 30.00 x 11.00 x 3.30 cm\", \"support\": \"Windows 7, 8, 10, etc\"}}]}, {\"model\": \"nk38\", \"name\": \"USB KEYBOARD MINI NUBWO (NK-38)\", \"store\": \"Advice\", \"brand\": \"Nubwo\", \"category\": \"Keyboard\", \"tag\": \"Working\", \"data\": [{\"name\": \"USB KEYBOARD MINI NUBWO (NK-38) \\'WIZARDY\\' WHITE\", \"price\": 345, \"href\": \"https://www.advice.co.th/product/keyboard/nubwo/usb-keyboard-mini-nubwo-nk-38-wizardy-white\", \"image\": \"https://img.advice.co.th/images_nas/pic_product4/A0138784/A0138784OK_BIG_1.jpg\", \"spec\": {\"interface\": \"USB\", \"switch\": \"N/A\", \"layout\": \"61 Key\", \"dimension\": \"(W x D x H) : 30.00 x 11.00 x 3.30 cm\", \"support\": \"Windows 7, 8, 10, etc\"}}]}, {\"model\": \"nk15\", \"name\": \"USB KEYBOARD NUBWO (NK-15)\", \"store\": \"Advice\", \"brand\": \"Nubwo\", \"category\": \"Keyboard\", \"tag\": \"Working\", \"data\": [{\"name\": \"USB KEYBOARD NUBWO (NK-15 QUIET) BLACK/RED\", \"price\": 150, \"href\": \"https://www.advice.co.th/product/keyboard/nubwo/usb-keyboard-nubwo-nk-15-quiet-black-red\", \"image\": \"https://img.advice.co.th/images_nas/pic_product4/A0102943/A0102943OK_BIG_1.jpg\", \"spec\": {\"interface\": \"USB\", \"switch\": \"\", \"layout\": \"104 key\", \"dimension\": \"\", \"support\": \"Windows / MACos\"}}]}, {\"model\": \"nk25\", \"name\": \"USB KEYBOARD NUBWO (NK-25) \", \"store\": \"Advice\", \"brand\": \"Nubwo\", \"category\": \"Keyboard\", \"tag\": \"Working\", \"data\": [{\"name\": \"USB KEYBOARD NUBWO (NK-25) \\'AZALIA\\' BLACK\", \"price\": 155, \"href\": \"https://www.advice.co.th/product/keyboard/nubwo/usb-keyboard-nubwo-nk-25-azalia-black\", \"image\": \"https://img.advice.co.th/images_nas/pic_product4/A0137666/A0137666OK_BIG_1.jpg\", \"spec\": {\"interface\": \"USB\", \"switch\": \"Rubber Dome\", \"layout\": \"104 Keys\", \"dimension\": \"\", \"support\": \"\"}}]}, {\"model\": \"nk36\", \"name\": \"USB KEYBOARD NUBWO (NK-36)\", \"store\": \"Advice\", \"brand\": \"Nubwo\", \"category\": \"Keyboard\", \"tag\": \"Working\", \"data\": [{\"name\": \"USB KEYBOARD NUBWO (NK-36) \\'MARS\\' BLACK\", \"price\": 200, \"href\": \"https://www.advice.co.th/product/keyboard/nubwo/usb-keyboard-nubwo-nk-36-mars-black\", \"image\": \"https://img.advice.co.th/images_nas/pic_product4/A0136035/A0136035OK_BIG_1.jpg\", \"spec\": {\"interface\": \"USB\", \"switch\": \"Rubber Dome Switches\", \"layout\": \"104 Keys\", \"dimension\": \"\", \"support\": \"\"}}]}, {\"model\": \"nk032fortune\", \"name\": \"USB KEYBOARD NUBWO (NK-032 FORTUNE)\", \"store\": \"Advice\", \"brand\": \"Nubwo\", \"category\": \"Keyboard\", \"tag\": \"Working\", \"data\": [{\"name\": \"USB KEYBOARD NUBWO (NK-032 FORTUNE) SILVER/BLACK\", \"price\": 340, \"href\": \"https://www.advice.co.th/product/keyboard/nubwo/usb-keyboard-nubwo-nk-032-fortune-silver-black\", \"image\": \"https://img.advice.co.th/images_nas/pic_product4/A0122608/A0122608OK_BIG_1.jpg\", \"spec\": {\"interface\": \"USB\", \"switch\": \"\", \"layout\": \"104 Keys\", \"dimension\": \"\", \"support\": \"Windows 7/8/10/MAC ETC.\"}}]}, {\"model\": \"nk032fortune\", \"name\": \"USB KEYBOARD NUBWO (NK-032 FORTUNE)\", \"store\": \"Advice\", \"brand\": \"Nubwo\", \"category\": \"Keyboard\", \"tag\": \"Working\", \"data\": [{\"name\": \"USB KEYBOARD NUBWO (NK-032 FORTUNE) SILVER/WHITE\", \"price\": 340, \"href\": \"https://www.advice.co.th/product/keyboard/nubwo/usb-keyboard-nubwo-nk-032-fortune-silver-white\", \"image\": \"https://img.advice.co.th/images_nas/pic_product4/A0122609/A0122609OK_BIG_1.jpg\", \"spec\": {\"interface\": \"USB\", \"switch\": \"\", \"layout\": \"104 Keys\", \"dimension\": \"\", \"support\": \"Windows 7/8/10/MAC ETC.\"}}]}, {\"model\": \"nk032fortune\", \"name\": \"USB KEYBOARD NUBWO (NK-032 FORTUNE)\", \"store\": \"Advice\", \"brand\": \"Nubwo\", \"category\": \"Keyboard\", \"tag\": \"Working\", \"data\": [{\"name\": \"USB KEYBOARD NUBWO (NK-032 FORTUNE) PINK/WHITE\", \"price\": 459, \"href\": \"https://www.advice.co.th/product/keyboard/nubwo/usb-keyboard-nubwo-nk-032-fortune-pink-white\", \"image\": \"https://img.advice.co.th/images_nas/pic_product4/A0132005/A0132005OK_BIG_1.jpg\", \"spec\": {\"interface\": \"USB\", \"switch\": \"\", \"layout\": \"104 Keys\", \"dimension\": \"\", \"support\": \"\"}}]}, {\"model\": \"nk34\", \"name\": \"USB KEYBOARD NUBWO (NK-34)\", \"store\": \"Advice\", \"brand\": \"Nubwo\", \"category\": \"Keyboard\", \"tag\": \"Working\", \"data\": [{\"name\": \"USB KEYBOARD NUBWO (NK-34) \\'FLICKER\\' BLACK\", \"price\": 729, \"href\": \"https://www.advice.co.th/product/keyboard/nubwo/usb-keyboard-nubwo-nk-34-flicker-black\", \"image\": \"https://img.advice.co.th/images_nas/pic_product4/A0136733/A0136733OK_BIG_1.jpg\", \"spec\": {\"interface\": \"USB\", \"switch\": \"Mechanical Switch\", \"layout\": \"104 Keys\", \"dimension\": \"\", \"support\": \"\"}}]}, {\"model\": \"nk34\", \"name\": \"USB KEYBOARD NUBWO (NK-34)\", \"store\": \"Advice\", \"brand\": \"\", \"category\": \"Keyboard\", \"tag\": \"Working\", \"data\": [{\"name\": \"USB KEYBOARD NUBWO (NK-34) \\'FLICKER\\' ROSE GOLD\", \"price\": 729, \"href\": \"https://www.advice.co.th/product/keyboard/nubwo/usb-keyboard-nubwo-nk-34-flicker-rose-gold\", \"image\": \"https://img.advice.co.th/images_nas/pic_product4/A0136734/A0136734OK_BIG_1.jpg\", \"spec\": {\"interface\": \"\", \"switch\": \"\", \"layout\": \"\", \"dimension\": \"\", \"support\": \"\"}}]}, {\"model\": \"nk34\", \"name\": \"USB KEYBOARD NUBWO (NK-34)\", \"store\": \"Advice\", \"brand\": \"Nubwo\", \"category\": \"Keyboard\", \"tag\": \"Working\", \"data\": [{\"name\": \"USB KEYBOARD NUBWO (NK-34) \\'FLICKER\\' SILVER/WHITE\", \"price\": 729, \"href\": \"https://www.advice.co.th/product/keyboard/nubwo/usb-keyboard-nubwo-nk-34-flicker-silver-white\", \"image\": \"https://img.advice.co.th/images_nas/pic_product4/A0136736/A0136736OK_BIG_1.jpg\", \"spec\": {\"interface\": \"USB\", \"switch\": \"Mechanical Switch\", \"layout\": \"104 Keys\", \"dimension\": \"\", \"support\": \"\"}}]}, {\"model\": \"nkb100\", \"name\": \"BLUETOOTH KEYBOARD NUBWO (NKB-100)\", \"store\": \"Advice\", \"brand\": \"Nubwo\", \"category\": \"Keyboard\", \"tag\": \"Working\", \"data\": [{\"name\": \"BLUETOOTH KEYBOARD NUBWO (NKB-100) BLACK\", \"price\": 230, \"href\": \"https://www.advice.co.th/product/keyboard/nubwo/bluetooth-keyboard-nubwo-nkb-100-black\", \"image\": \"https://img.advice.co.th/images_nas/pic_product4/A0123915/A0123915OK_BIG_1.jpg\", \"spec\": {\"interface\": \"Bluetooth\", \"switch\": \"\", \"layout\": \"78 Keys\", \"dimension\": \"\", \"support\": \"Android, IOS and Windows operating system.\"}}]}, {\"model\": \"f6\", \"name\": \"USB KEYBOARD MINI OKER (F6)\", \"store\": \"Advice\", \"brand\": \"Oker\", \"category\": \"Keyboard\", \"tag\": \"Working\", \"data\": [{\"name\": \"USB KEYBOARD MINI OKER (F6) WHITE\", \"price\": 150, \"href\": \"https://www.advice.co.th/product/keyboard/oker/usb-keyboard-mini-oker-f6-white\", \"image\": \"https://img.advice.co.th/images_nas/pic_product4/A0089114/A0089114OK_BIG_1.jpg\", \"spec\": {\"interface\": \"USB 2.0\", \"switch\": \"\", \"layout\": \"\", \"dimension\": \"\", \"support\": \"Win xp/2000/VISTA/7/8,MAC OS 10.3 and above version\"}}]}, null, {\"model\": \"f8\", \"name\": \"USB KEYBOARD MINI OKER (F8)\", \"store\": \"Advice\", \"brand\": \"\", \"category\": \"Keyboard\", \"tag\": \"Working\", \"data\": [{\"name\": \"USB KEYBOARD MINI OKER (F8) BLACK\", \"price\": 180, \"href\": \"https://www.advice.co.th/product/keyboard/oker/usb-keyboard-mini-oker-f8-black\", \"image\": \"https://img.advice.co.th/images_nas/pic_product4/A0071698/A0071698OK_BIG_1.jpg\", \"spec\": {\"interface\": \"USB\", \"switch\": \"\", \"layout\": \"89 Keys\", \"dimension\": \"\", \"support\": \"\"}}]}, {\"model\": \"kb318\", \"name\": \"USB KEYBOARD OKER (KB-318)\", \"store\": \"Advice\", \"brand\": \"Oker\", \"category\": \"Keyboard\", \"tag\": \"Working\", \"data\": [{\"name\": \"USB KEYBOARD OKER (KB-318) BLACK/BLUE\", \"price\": 125, \"href\": \"https://www.advice.co.th/product/keyboard/oker/usb-keyboard-oker-kb-318-black-blue\", \"image\": \"https://img.advice.co.th/images_nas/pic_product4/A0116844/A0116844OK_BIG_1.jpg\", \"spec\": {\"interface\": \"USB\", \"switch\": \"\", \"layout\": \"104 Keys\", \"dimension\": \"\", \"support\": \"Windows XP / Windows 2000 / Windows Vista / Windows 7/8/10\\\\nMac OS 10.3 และรุ่นที2สูงกว่า\"}}]}, {\"model\": \"kb318\", \"name\": \"USB KEYBOARD OKER (KB-318)\", \"store\": \"Advice\", \"brand\": \"\", \"category\": \"Keyboard\", \"tag\": \"Working\", \"data\": [{\"name\": \"USB KEYBOARD OKER (KB-318) BLACK/ORANGE\", \"price\": 125, \"href\": \"https://www.advice.co.th/product/keyboard/oker/usb-keyboard-oker-kb-318-black-orange\", \"image\": \"https://img.advice.co.th/images_nas/pic_product4/A0116843/A0116843OK_BIG_1.jpg\", \"spec\": {\"interface\": \"\", \"switch\": \"\", \"layout\": \"\", \"dimension\": \"\", \"support\": \"\"}}]}, {\"model\": \"kb318\", \"name\": \"USB KEYBOARD OKER (KB-318)\", \"store\": \"Advice\", \"brand\": \"Oker\", \"category\": \"Keyboard\", \"tag\": \"Working\", \"data\": [{\"name\": \"USB KEYBOARD OKER (KB-318) BLACK/YELLOW\", \"price\": 125, \"href\": \"https://www.advice.co.th/product/keyboard/oker/usb-keyboard-oker-kb-318-black-yellow\", \"image\": \"https://img.advice.co.th/images_nas/pic_product4/A0116842/A0116842OK_BIG_1.jpg\", \"spec\": {\"interface\": \"USB\", \"switch\": \"\", \"layout\": \"104 Keys\", \"dimension\": \"\", \"support\": \"Windows XP / Windows 2000 / Windows Vista / Windows 7/8/10\\\\nMac OS 10.3 และรุ่นที2สูงกว่า\"}}]}, {\"model\": \"kb318\", \"name\": \"USB KEYBOARD OKER (KB-318)\", \"store\": \"Advice\", \"brand\": \"Oker\", \"category\": \"Keyboard\", \"tag\": \"Working\", \"data\": [{\"name\": \"USB KEYBOARD OKER (KB-318) BLACK\", \"price\": 125, \"href\": \"https://www.advice.co.th/product/keyboard/oker/usb-keyboard-oker-kb-318-black\", \"image\": \"https://img.advice.co.th/images_nas/pic_product4/A0116841/A0116841OK_BIG_1.jpg\", \"spec\": {\"interface\": \"USB\", \"switch\": \"\", \"layout\": \"104 Keys\", \"dimension\": \"\", \"support\": \"Windows XP / Windows 2000 / Windows Vista / Windows 7/8/10\\\\nMac OS 10.3 และรุ่นที2สูงกว่า\"}}]}, {\"model\": \"kb758\", \"name\": \"USB KEYBOARD OKER (KB-758)\", \"store\": \"Advice\", \"brand\": \"Oker\", \"category\": \"Keyboard\", \"tag\": \"Working\", \"data\": [{\"name\": \"USB KEYBOARD OKER (KB-758) BLACK\", \"price\": 155, \"href\": \"https://www.advice.co.th/product/keyboard/oker/usb-keyboard-oker-kb-758-black\", \"image\": \"https://img.advice.co.th/images_nas/pic_product4/A0137542/A0137542OK_BIG_1.jpg\", \"spec\": {\"interface\": \"USB\", \"switch\": \"Standard\", \"layout\": \"104 Keys\", \"dimension\": \"\", \"support\": \"Windows & Mac OS System\"}}]}, {\"model\": \"kb700\", \"name\": \"USB KEYBOARD MD-TECH (KB-700)\", \"store\": \"Advice\", \"brand\": \"\", \"category\": \"Keyboard\", \"tag\": \"Working\", \"data\": [{\"name\": \"USB KEYBOARD MD-TECH (KB-700) BLACK\", \"price\": 160, \"href\": \"https://www.advice.co.th/product/keyboard/oker/usb-keyboard-md-tech-kb-700-black\", \"image\": \"https://img.advice.co.th/images_nas/online/shopping/Coming-Soon.jpg\", \"spec\": {\"interface\": \"\", \"switch\": \"\", \"layout\": \"\", \"dimension\": \"\", \"support\": \"\"}}]}, {\"model\": \"kb399plus\", \"name\": \"USB KEYBOARD OKER (KB-399 PLUS)\", \"store\": \"Advice\", \"brand\": \"Oker\", \"category\": \"Keyboard\", \"tag\": \"Working\", \"data\": [{\"name\": \"USB KEYBOARD OKER (KB-399 PLUS) BLACK\", \"price\": 160, \"href\": \"https://www.advice.co.th/product/keyboard/oker/usb-keyboard-oker-kb-399-plus-black\", \"image\": \"https://img.advice.co.th/images_nas/pic_product4/A0134866/A0134866OK_BIG_1.jpg\", \"spec\": {\"interface\": \"USB\", \"switch\": \"N/A\", \"layout\": \"104 Keys\", \"dimension\": \"(W x D x H) : 45.00 x 15.50 x 2.20 cm\", \"support\": \"\"}}]}, {\"model\": \"kb518\", \"name\": \"USB KEYBOARD OKER (KB-518)\", \"store\": \"Advice\", \"brand\": \"Oker\", \"category\": \"Keyboard\", \"tag\": \"Working\", \"data\": [{\"name\": \"USB KEYBOARD OKER (KB-518) BLACK\", \"price\": 170, \"href\": \"https://www.advice.co.th/product/keyboard/oker/usb-keyboard-oker-kb-518-black\", \"image\": \"https://img.advice.co.th/images_nas/pic_product4/A0123532/A0123532OK_BIG_1.jpg\", \"spec\": {\"interface\": \"USB\", \"switch\": \"\", \"layout\": \"104 Keys\", \"dimension\": \"\", \"support\": \"\"}}]}, {\"model\": \"kb518\", \"name\": \"USB KEYBOARD OKER (KB-518)\", \"store\": \"Advice\", \"brand\": \"Oker\", \"category\": \"Keyboard\", \"tag\": \"Working\", \"data\": [{\"name\": \"USB KEYBOARD OKER (KB-518) RED\", \"price\": 170, \"href\": \"https://www.advice.co.th/product/keyboard/oker/usb-keyboard-oker-kb-518-red\", \"image\": \"https://img.advice.co.th/images_nas/pic_product4/A0123534/A0123534OK_BIG_1.jpg\", \"spec\": {\"interface\": \"USB\", \"switch\": \"\", \"layout\": \"104 Keys\", \"dimension\": \"\", \"support\": \"\"}}]}, null, {\"model\": \"kb789\", \"name\": \"USB KEYBOARD OKER (KB-789)\", \"store\": \"Advice\", \"brand\": \"Oker\", \"category\": \"Keyboard\", \"tag\": \"Working\", \"data\": [{\"name\": \"USB KEYBOARD OKER (KB-789) PINK\", \"price\": 360, \"href\": \"https://www.advice.co.th/product/keyboard/oker/usb-keyboard-oker-kb-789-pink\", \"image\": \"https://img.advice.co.th/images_nas/pic_product4/A0134867/A0134867OK_BIG_1.jpg\", \"spec\": {\"interface\": \"USB\", \"switch\": \"N/A\", \"layout\": \"104 Keys\", \"dimension\": \"(W x D x H) : 45.10 x 14.50 x 3.80 cm\", \"support\": \"Windows XP, VIsta, Win7, 8, 10\"}}]}, {\"model\": \"kb911\", \"name\": \"USB KEYBOARD OKER (KB-911)\", \"store\": \"Advice\", \"brand\": \"Oker\", \"category\": \"Keyboard\", \"tag\": \"Working\", \"data\": [{\"name\": \"USB KEYBOARD OKER (KB-911) PINK\", \"price\": 370, \"href\": \"https://www.advice.co.th/product/keyboard/oker/usb-keyboard-oker-kb-911-pink\", \"image\": \"https://img.advice.co.th/images_nas/pic_product4/A0137725/A0137725OK_BIG_1.jpg\", \"spec\": {\"interface\": \"USB\", \"switch\": \"\", \"layout\": \"104 Keys\", \"dimension\": \"(W x D x H) : 14.50 x 45.10 x 3.80 cm\", \"support\": \"Windows XP, Vista, Win7, 8, 10\"}}]}, {\"model\": \"kb912\", \"name\": \"USB KEYBOARD OKER (KB-912)\", \"store\": \"Advice\", \"brand\": \"Oker\", \"category\": \"Keyboard\", \"tag\": \"Working\", \"data\": [{\"name\": \"USB KEYBOARD OKER (KB-912) PINK\", \"price\": 370, \"href\": \"https://www.advice.co.th/product/keyboard/oker/usb-keyboard-oker-kb-912-pink\", \"image\": \"https://img.advice.co.th/images_nas/pic_product4/A0137726/A0137726OK_BIG_1.jpg\", \"spec\": {\"interface\": \"USB\", \"switch\": \"\", \"layout\": \"104 Keys\", \"dimension\": \"(W x D x H) : 14.50 x 45.10 x 3.80 cm\", \"support\": \"Windows XP, Vista, Win7, 8, 10\"}}]}, {\"model\": \"k199\", \"name\": \"USB WIRELESS KEYBOARD OKER (K-199)\", \"store\": \"Advice\", \"brand\": \"\", \"category\": \"Keyboard\", \"tag\": \"Working\", \"data\": [{\"name\": \"USB WIRELESS KEYBOARD OKER (K-199) BLACK\", \"price\": 210, \"href\": \"https://www.advice.co.th/product/keyboard/oker/usb-wireless-keyboard-oker-k-199-black\", \"image\": \"https://img.advice.co.th/images_nas/pic_product4/A0138183/A0138183OK_BIG_1.jpg\", \"spec\": {\"interface\": \"\", \"switch\": \"\", \"layout\": \"\", \"dimension\": \"\", \"support\": \"\"}}]}, {\"model\": \"k510\", \"name\": \"BLUETOOTH KEYBOARD MULTI-DEVICE OKER (K-510)\", \"store\": \"Advice\", \"brand\": \"Oker\", \"category\": \"Keyboard\", \"tag\": \"Working\", \"data\": [{\"name\": \"BLUETOOTH KEYBOARD MULTI-DEVICE OKER (K-510) BLACK/WHITE\", \"price\": 890, \"href\": \"https://www.advice.co.th/product/keyboard/oker/bluetooth-keyboard-multi-device-oker-k-510-black-white\", \"image\": \"https://img.advice.co.th/images_nas/pic_product4/A0134693/A0134693OK_BIG_1.jpg\", \"spec\": {\"interface\": \"Bluetooth\", \"switch\": \"N/A\", \"layout\": \"Keys: 80 keys film shaft\\\\nNumber of multimedia keys: 16 keys\", \"dimension\": \"(W x D x H) : 35.88 x 18.70 x 3.18 cm\", \"support\": \"\"}}]}, null, {\"model\": \"k510\", \"name\": \"BLUETOOTH KEYBOARD MULTI-DEVICE OKER (K-510)\", \"store\": \"Advice\", \"brand\": \"Oker\", \"category\": \"Keyboard\", \"tag\": \"Working\", \"data\": [{\"name\": \"BLUETOOTH KEYBOARD MULTI-DEVICE OKER (K-510) GREEN\", \"price\": 890, \"href\": \"https://www.advice.co.th/product/keyboard/oker/bluetooth-keyboard-multi-device-oker-k-510-green\", \"image\": \"https://img.advice.co.th/images_nas/pic_product4/A0134695/A0134695OK_BIG_1.jpg\", \"spec\": {\"interface\": \"Bluetooth\", \"switch\": \"N/A\", \"layout\": \"Keys: 80 keys film shaft\\\\nNumber of multimedia keys: 16 keys\", \"dimension\": \"(W x D x H) : 35.88 x 18.70 x 3.18 cm\", \"support\": \"\"}}]}]'"
      ]
     },
     "execution_count": 120,
     "metadata": {},
     "output_type": "execute_result"
    }
   ],
   "source": [
    "out_keyboard_item"
   ]
  },
  {
   "cell_type": "code",
   "execution_count": null,
   "id": "42063326",
   "metadata": {},
   "outputs": [],
   "source": []
  },
  {
   "cell_type": "code",
   "execution_count": 121,
   "id": "d247b07c",
   "metadata": {},
   "outputs": [
    {
     "name": "stdout",
     "output_type": "stream",
     "text": [
      "success\n"
     ]
    }
   ],
   "source": [
    "with open('json_keyboard_working.json', 'w',encoding=\"utf-8\") as f:\n",
    "    f.writelines(out_keyboard_item)\n",
    "    print(\"success\")"
   ]
  },
  {
   "cell_type": "code",
   "execution_count": null,
   "id": "441b89f1",
   "metadata": {},
   "outputs": [],
   "source": []
  },
  {
   "cell_type": "code",
   "execution_count": null,
   "id": "6efa18fd",
   "metadata": {},
   "outputs": [],
   "source": []
  },
  {
   "cell_type": "code",
   "execution_count": null,
   "id": "1d35ce8c",
   "metadata": {},
   "outputs": [],
   "source": []
  }
 ],
 "metadata": {
  "kernelspec": {
   "display_name": "Python 3",
   "language": "python",
   "name": "python3"
  },
  "language_info": {
   "codemirror_mode": {
    "name": "ipython",
    "version": 3
   },
   "file_extension": ".py",
   "mimetype": "text/x-python",
   "name": "python",
   "nbconvert_exporter": "python",
   "pygments_lexer": "ipython3",
   "version": "3.8.8"
  }
 },
 "nbformat": 4,
 "nbformat_minor": 5
}
