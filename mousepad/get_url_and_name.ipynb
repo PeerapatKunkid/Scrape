{
 "cells": [
  {
   "cell_type": "code",
   "execution_count": 15,
   "id": "9b7c11fc",
   "metadata": {},
   "outputs": [],
   "source": [
    "import csv\n",
    "from selenium import webdriver"
   ]
  },
  {
   "cell_type": "code",
   "execution_count": 16,
   "id": "cbb7b972",
   "metadata": {},
   "outputs": [],
   "source": [
    "driver =   webdriver.Chrome(executable_path='C:/Users/jakkapong-desktop/Downloads/chromedriver.exe')"
   ]
  },
  {
   "cell_type": "code",
   "execution_count": 17,
   "id": "9689e391",
   "metadata": {},
   "outputs": [],
   "source": [
    "url ='https://www.advice.co.th/product/gaming-keyboard'"
   ]
  },
  {
   "cell_type": "code",
   "execution_count": 21,
   "id": "a64281af",
   "metadata": {},
   "outputs": [],
   "source": [
    "driver.get(url)"
   ]
  },
  {
   "cell_type": "code",
   "execution_count": 7,
   "id": "77172bb1",
   "metadata": {},
   "outputs": [],
   "source": [
    "href=[]\n",
    "def items_hrf(brand):\n",
    "    link = driver.find_elements_by_xpath('/html/body/section[2]/div[2]/div/div[2]/div[' +brand+ ']/div/div/div/a')\n",
    "    for i in link:\n",
    "        href.append(i.get_attribute(\"href\"))"
   ]
  },
  {
   "cell_type": "code",
   "execution_count": 19,
   "id": "ae8c50dd",
   "metadata": {},
   "outputs": [
    {
     "data": {
      "text/plain": [
       "[7, 9, 11, 13, 15, 17, 19, 21, 23, 25, 27, 29, 31]"
      ]
     },
     "execution_count": 19,
     "metadata": {},
     "output_type": "execute_result"
    }
   ],
   "source": [
    "brandlist=list(range(7,32,2))\n",
    "brandlist"
   ]
  },
  {
   "cell_type": "code",
   "execution_count": 9,
   "id": "47da736e",
   "metadata": {},
   "outputs": [],
   "source": [
    "for i in brandlist:\n",
    "    items_hrf(str(i))"
   ]
  },
  {
   "cell_type": "code",
   "execution_count": 10,
   "id": "08544257",
   "metadata": {},
   "outputs": [
    {
     "data": {
      "text/plain": [
       "['https://www.advice.co.th/product/keyboard/hp/usb-keyboard-hp-gaming-k110-black',\n",
       " 'https://www.advice.co.th/product/keyboard/hp/usb-keyboard-hp-gaming-k500f-black',\n",
       " 'https://www.advice.co.th/product/keyboard/hp/usb-keyboard-hp-gaming-k120-black',\n",
       " 'https://www.advice.co.th/product/keyboard/hp/usb-keyboard-hp-gaming-k300',\n",
       " 'https://www.advice.co.th/product/keyboard/dell/usb-keyboard-dell-kb216-black',\n",
       " 'https://www.advice.co.th/product/keyboard/logitech/usb-keyboard-logitech-k120-black',\n",
       " 'https://www.advice.co.th/product/keyboard/logitech/usb-wireless-bluetooth-logitech-k375s-black',\n",
       " 'https://www.advice.co.th/product/keyboard/logitech/usb-wireless-touch-keyboard-logitech-lg-k400-plus-black',\n",
       " 'https://www.advice.co.th/product/keyboard/logitech/bluetooth-keyboard-multi-device-logitech-k480-black',\n",
       " 'https://www.advice.co.th/product/keyboard/logitech/bluetooth-keyboard-multi-device-logitech-k480-white',\n",
       " 'https://www.advice.co.th/product/keyboard/microsoft/usb-wireless-all-in-one-media-microsoft-black-n9z-00027-',\n",
       " 'https://www.advice.co.th/product/keyboard/microsoft/bluetooth-keyboard-microsoft-black-qsz-00027-',\n",
       " 'https://www.advice.co.th/product/keyboard/rapoo/usb-keyboard-rapoo-nk1800-black',\n",
       " 'https://www.advice.co.th/product/keyboard/rapoo/usb-wireless-keyboard-rapoo-kb-e1050-bk-black',\n",
       " 'https://www.advice.co.th/product/keyboard/rapoo/usb-wireless-keyboard-rapoo-kb-k2800-bk-black',\n",
       " 'https://www.advice.co.th/product/keyboard/rapoo/bluetooth-keyboard-rapoo-xk100-bk-black',\n",
       " 'https://www.advice.co.th/product/keyboard/lecoo-by-lenovo/usb-keyboard-lecoo-kb103-black-by-lenovo',\n",
       " 'https://www.advice.co.th/product/keyboard/md-tech/usb-keyboard-mini-md-tech-kb-210m-black',\n",
       " 'https://www.advice.co.th/product/keyboard/md-tech/usb-keyboard-md-tech-kb-19-black',\n",
       " 'https://www.advice.co.th/product/keyboard/md-tech/usb-keyboard-md-tech-kb-674-black',\n",
       " 'https://www.advice.co.th/product/keyboard/md-tech/usb-keyboard-md-tech-kb-674-black-red',\n",
       " 'https://www.advice.co.th/product/keyboard/md-tech/usb-keyboard-md-tech-kb-674-black-blue',\n",
       " 'https://www.advice.co.th/product/keyboard/md-tech/usb-keyboard-md-tech-kb-667-black',\n",
       " 'https://www.advice.co.th/product/keyboard/md-tech/usb-keyboard-md-tech-kb-670-black',\n",
       " 'https://www.advice.co.th/product/keyboard/md-tech/usb-keyboard-md-tech-kb-310m-',\n",
       " 'https://www.advice.co.th/product/keyboard/md-tech/usb-keyboard-md-tech-kb-666-black',\n",
       " 'https://www.advice.co.th/product/keyboard/md-tech/usb-keyboard-md-tech-kb-111-black',\n",
       " 'https://www.advice.co.th/product/keyboard/md-tech/usb-keyboard-md-tech-kb-15-black-green',\n",
       " 'https://www.advice.co.th/product/keyboard/md-tech/usb-keyboard-md-tech-kb-15-black-white',\n",
       " 'https://www.advice.co.th/product/keyboard/md-tech/usb-keyboard-md-tech-kb-15-black-blue',\n",
       " 'https://www.advice.co.th/product/keyboard/md-tech/usb-keyboard-md-tech-kb-319m-black',\n",
       " 'https://www.advice.co.th/product/keyboard/md-tech/usb-keyboard-md-tech-kb-222m-black-red',\n",
       " 'https://www.advice.co.th/product/keyboard/md-tech/usb-keyboard-md-tech-kb-222m-black-blue',\n",
       " 'https://www.advice.co.th/product/keyboard/md-tech/usb-keyboard-md-tech-k-5-black',\n",
       " 'https://www.advice.co.th/product/keyboard/nubwo/usb-keyboard-mini-nubwo-nk-35-black',\n",
       " 'https://www.advice.co.th/product/keyboard/nubwo/usb-keyboard-mini-nubwo-nk-38-wizardy-black',\n",
       " 'https://www.advice.co.th/product/keyboard/nubwo/usb-keyboard-mini-nubwo-nk-38-wizardy-white',\n",
       " 'https://www.advice.co.th/product/keyboard/nubwo/usb-keyboard-nubwo-nk-15-quiet-black-red',\n",
       " 'https://www.advice.co.th/product/keyboard/nubwo/usb-keyboard-nubwo-nk-25-azalia-black',\n",
       " 'https://www.advice.co.th/product/keyboard/nubwo/usb-keyboard-nubwo-nk-36-mars-black',\n",
       " 'https://www.advice.co.th/product/keyboard/nubwo/usb-keyboard-nubwo-nk-032-fortune-silver-black',\n",
       " 'https://www.advice.co.th/product/keyboard/nubwo/usb-keyboard-nubwo-nk-032-fortune-silver-white',\n",
       " 'https://www.advice.co.th/product/keyboard/nubwo/usb-keyboard-nubwo-nk-032-fortune-pink-white',\n",
       " 'https://www.advice.co.th/product/keyboard/nubwo/usb-keyboard-nubwo-nk-34-flicker-black',\n",
       " 'https://www.advice.co.th/product/keyboard/nubwo/usb-keyboard-nubwo-nk-34-flicker-rose-gold',\n",
       " 'https://www.advice.co.th/product/keyboard/nubwo/usb-keyboard-nubwo-nk-34-flicker-silver-white',\n",
       " 'https://www.advice.co.th/product/keyboard/nubwo/bluetooth-keyboard-nubwo-nkb-100-black',\n",
       " 'https://www.advice.co.th/product/keyboard/oker/usb-keyboard-mini-oker-f6-white',\n",
       " 'https://www.advice.co.th/product/keyboard/oker/usb-keyboard-mini-oker-f6-black',\n",
       " 'https://www.advice.co.th/product/keyboard/oker/usb-keyboard-mini-oker-f8-black',\n",
       " 'https://www.advice.co.th/product/keyboard/oker/usb-keyboard-oker-kb-318-black-blue',\n",
       " 'https://www.advice.co.th/product/keyboard/oker/usb-keyboard-oker-kb-318-black-orange',\n",
       " 'https://www.advice.co.th/product/keyboard/oker/usb-keyboard-oker-kb-318-black-yellow',\n",
       " 'https://www.advice.co.th/product/keyboard/oker/usb-keyboard-oker-kb-318-black',\n",
       " 'https://www.advice.co.th/product/keyboard/oker/usb-keyboard-oker-kb-758-black',\n",
       " 'https://www.advice.co.th/product/keyboard/oker/usb-keyboard-md-tech-kb-700-black',\n",
       " 'https://www.advice.co.th/product/keyboard/oker/usb-keyboard-oker-kb-399-plus-black',\n",
       " 'https://www.advice.co.th/product/keyboard/oker/usb-keyboard-oker-kb-518-black',\n",
       " 'https://www.advice.co.th/product/keyboard/oker/usb-keyboard-oker-kb-518-red',\n",
       " 'https://www.advice.co.th/product/keyboard/oker/usb-keyboard-oker-kb-518-blue',\n",
       " 'https://www.advice.co.th/product/keyboard/oker/usb-keyboard-oker-kb-789-pink',\n",
       " 'https://www.advice.co.th/product/keyboard/oker/usb-keyboard-oker-kb-911-pink',\n",
       " 'https://www.advice.co.th/product/keyboard/oker/usb-keyboard-oker-kb-912-pink',\n",
       " 'https://www.advice.co.th/product/keyboard/oker/usb-wireless-keyboard-oker-k-199-black',\n",
       " 'https://www.advice.co.th/product/keyboard/oker/bluetooth-keyboard-multi-device-oker-k-510-black-white',\n",
       " 'https://www.advice.co.th/product/keyboard/oker/bluetooth-keyboard-multi-device-oker-k-510-pink',\n",
       " 'https://www.advice.co.th/product/keyboard/oker/bluetooth-keyboard-multi-device-oker-k-510-green']"
      ]
     },
     "execution_count": 10,
     "metadata": {},
     "output_type": "execute_result"
    }
   ],
   "source": [
    "href"
   ]
  },
  {
   "cell_type": "code",
   "execution_count": 22,
   "id": "b761b50c",
   "metadata": {},
   "outputs": [],
   "source": [
    "names=[]\n",
    "def items_name(brand):\n",
    "    link = driver.find_elements_by_xpath('/html/body/section[2]/div[2]/div/div[2]/div[' +brand+ ']/div/div/div/a/div[2]')\n",
    "    for i in link:\n",
    "        names.append(i.text)"
   ]
  },
  {
   "cell_type": "code",
   "execution_count": 23,
   "id": "73a309c7",
   "metadata": {},
   "outputs": [],
   "source": [
    "for i in brandlist:\n",
    "    items_name(str(i))"
   ]
  },
  {
   "cell_type": "code",
   "execution_count": 24,
   "id": "52c1ee82",
   "metadata": {},
   "outputs": [
    {
     "data": {
      "text/plain": [
       "['KEYBOARD AULA F3020 BLACK',\n",
       " 'KEYBOARD AULA F2028 BLACK',\n",
       " 'KEYBOARD AULA S2022 BLACK (BLUE-SWITCH)',\n",
       " 'KEYBOARD AULA F2066-II BLACK (BLUE-SWITCH)',\n",
       " 'KEYBOARD AULA F3030 BLACK (BLUE-SWITCH)',\n",
       " 'KEYBOARD AULA F2058 BLACK (BLUE-SWITCH)',\n",
       " 'KEYBOARD FANTECH K511',\n",
       " 'KEYBOARD FANTECH K613L FIGHTER II',\n",
       " 'KEYBOARD NEOLUTION E-SPORT TERRABLADE (BLUE-SWITCH)',\n",
       " 'KEYBOARD NUBWO-X ALISTAR X33 BLUE-SWITCH (BLACK)',\n",
       " 'KEYBOARD NUBWO-X ALISTAR X33 BLUE-SWITCH (BLUE/WHITE)',\n",
       " 'KEYBOARD NUBWO-X ALISTAR X33 BLUE-SWITCH (PURPLE/YELLOW)',\n",
       " 'KEYBOARD NUBWO-X ALISTAR X33 BLUE-SWITCH (RED/WHITE)',\n",
       " 'KEYBOARD NUBWO-X ALISTAR X33 BLUE-SWITCH (YELLOW/WHITE)',\n",
       " 'KEYBOARD NUBWO-X ALISTAR X33 RED-SWITCH (BLACK)',\n",
       " 'KEYBOARD NUBWO-X ALISTAR X33 RED-SWITCH (BLUE/WHITE)',\n",
       " 'KEYBOARD NUBWO-X ALISTAR X33 RED-SWITCH (PURPLE/YELLOW)',\n",
       " 'KEYBOARD NUBWO-X ALISTAR X33 RED-SWITCH (RED/WHITE)',\n",
       " 'KEYBOARD NUBWO-X ALISTAR X33 RED-SWITCH (YELLOW/WHITE)',\n",
       " 'KEYBOARD OKER X-100',\n",
       " 'KEYBOARD OKER X-200',\n",
       " 'KEYBOARD OKER KB-98A GAMING RGB',\n",
       " 'KEYBOARD OKER KB-99B GAMING RGB',\n",
       " 'KEYBOARD OKER K-420 GAMING RGB',\n",
       " 'KEYBOARD OKER K-430 GAMING RGB',\n",
       " 'KEYBOARD OKER KB-82 GAMING RGB (BLUE-SWITCH)',\n",
       " 'KEYBOARD OKER KB-82 GAMING RGB (RED-SWITCH)',\n",
       " 'KEYBOARD OKER KB-84 GAMING RGB (BLUE-SWITCH)',\n",
       " 'KEYBOARD SIGNO KB-712 ILLUMINATED',\n",
       " 'KEYBOARD SIGNO KB-730 CENTAURUS',\n",
       " 'KEYBOARD SIGNO KB-718 INDIGO (BLUE-SWITCH)',\n",
       " 'KEYBOARD SIGNO KB-718 INDIGO (RED-SWITCH)',\n",
       " 'KEYBOARD SIGNO KB-728 INVEGO (BLUE-SWITCH)',\n",
       " 'KEYBOARD SIGNO KB-738 INFESTA (BLUE-SWITCH)',\n",
       " 'KEYBOARD SIGNO KB-738 INFESTA (RED-SWITCH)',\n",
       " 'KEYBOARD SIGNO E-SPORT KB-770 EMPERRO (BLUE-SWITCH)',\n",
       " 'KEYBOARD SIGNO E-SPORT KB-771 TROOPER (BLUE-SWITCH)',\n",
       " 'WRIST REST SIGNO WR-500 ZUPLEX (BLACK)',\n",
       " 'KEYBOARD ASUS ROG STRIX FALCHION (BLUE-SWITCH)',\n",
       " 'KEYBOARD ASUS ROG STRIX FALCHION (RED-SWITCH)',\n",
       " 'KEYBOARD COOLER MASTER MK110 RGB',\n",
       " 'KEYBOARD COOLER MASTER CK350 RGB (BROWN-SWITCH) (TH)',\n",
       " 'KEYBOARD COOLER MASTER CK351 RGB (BLUE-SWITCH) (TH)',\n",
       " 'KEYBOARD COOLER MASTER CK351 RGB (RED-SWITCH) (TH)',\n",
       " 'KEYBOARD COOLER MASTER CK351 RGB (BROWN-SWITCH) (TH)',\n",
       " 'KEYBOARD COOLER MASTER CK550 V2 RGB (BLUE-SWITCH) (TH)',\n",
       " 'KEYBOARD COOLER MASTER CK550 V2 RGB (RED-SWITCH) (TH)',\n",
       " 'KEYBOARD COOLER MASTER CK550 V2 RGB (BROWN-SWITCH) (TH)',\n",
       " 'KEYBOARD COOLER MASTER CK721 RGB BLACK (BLUE-SWITCH)',\n",
       " 'KEYBOARD COOLER MASTER CK721 RGB BLACK (BROWN-SWITCH)',\n",
       " 'KEYBOARD COOLER MASTER CK721 RGB WHITE (RED-SWITCH)',\n",
       " 'KEYBOARD COOLER MASTER CK721 RGB WHITE (BROWN-SWITCH)',\n",
       " 'KEYBOARD COOLER MASTER SK630 RGB (RED-SWITCH) (US)',\n",
       " 'KEYBOARD COOLER MASTER MK850 RGB (RED-SWITCH) (US)',\n",
       " 'WRIST REST COOLER MASTER WR531 SIZE L (WR-531-CRFC1)',\n",
       " 'KEYBOARD CORSAIR K60 (TH)',\n",
       " 'KEYBOARD CORSAIR K60 PRO (TH)',\n",
       " 'KEYBOARD CORSAIR K95 PLATINUM MX RAPIDFIRE RGB',\n",
       " 'KEYBOARD CORSAIR K95 PLATINUM MX BLUE XT RGB',\n",
       " 'KEYBOARD CORSAIR K95 PLATINUM MX SPEED XT RGB',\n",
       " 'KEYBOARD CORSAIR K100 OPX SWITCH RGB (US)',\n",
       " 'KEYBOARD HP GAMING K100',\n",
       " 'KEYBOARD HP GAMING GK400F',\n",
       " 'KEYBOARD HP GAMING GK200',\n",
       " 'KEYBOARD HP GAMING GK100',\n",
       " 'KEYBOARD HP GAMING GK320',\n",
       " 'KEYBOARD HP GAMING GK400Y',\n",
       " 'KEYBOARD HP GAMING GK600YS',\n",
       " 'KEYBOARD HYPERX ALLOY ORIGINS (BLUE-SWITCH)',\n",
       " 'KEYBOARD HYPERX ALLOY ORIGINS (RED-SWITCH)',\n",
       " 'KEYBOARD LOGITECH G413 CARBON GAMING',\n",
       " 'KEYBOARD LOGITECH G512 GX BLUE CLICKY RGB (TH)',\n",
       " 'KEYBOARD LOGITECH G512 GX RED LINEAR RGB (TH)',\n",
       " 'WIRELESS KEYBOARD LOGITECH G PRO X CLICKY RGB (US)',\n",
       " 'WIRELESS KEYBOARD LOGITECH G913 GAMING CLICKY RGB (TH)',\n",
       " 'WIRELESS KEYBOARD LOGITECH G913 GAMING LINEAR RGB (TH)',\n",
       " 'WIRELESS KEYBOARD LOGITECH G913 GAMING TACTIL RGB (TH)',\n",
       " 'WIRELESS KEYBOARD LOGITECH G913 GAMING TKL CLICKY RGB (TH)',\n",
       " 'WIRELESS KEYBOARD LOGITECH G913 GAMING TKL LINEAR RGB (TH)',\n",
       " 'WIRELESS KEYBOARD LOGITECH G913 GAMING TKL TACTIL RGB (TH)',\n",
       " 'KEYBOARD RAZER BLACKWIDOW V3 TENKEYLESS GREEN SWITCH (TH)',\n",
       " 'KEYBOARD RAZER BLACKWIDOW V3 TENKEYLESS YELLOW SWITCH (TH)',\n",
       " 'KEYBOARD RAZER BLACKWIDOW V3 GREEN SWITCH (TH)',\n",
       " 'KEYBOARD RAZER BLACKWIDOW V3 YELLOW SWITCH (TH)']"
      ]
     },
     "execution_count": 24,
     "metadata": {},
     "output_type": "execute_result"
    }
   ],
   "source": [
    "names"
   ]
  },
  {
   "cell_type": "code",
   "execution_count": null,
   "id": "ba2e1ab6",
   "metadata": {},
   "outputs": [],
   "source": []
  },
  {
   "cell_type": "code",
   "execution_count": null,
   "id": "9e7018d0",
   "metadata": {},
   "outputs": [],
   "source": []
  }
 ],
 "metadata": {
  "kernelspec": {
   "display_name": "Python 3",
   "language": "python",
   "name": "python3"
  },
  "language_info": {
   "codemirror_mode": {
    "name": "ipython",
    "version": 3
   },
   "file_extension": ".py",
   "mimetype": "text/x-python",
   "name": "python",
   "nbconvert_exporter": "python",
   "pygments_lexer": "ipython3",
   "version": "3.8.8"
  }
 },
 "nbformat": 4,
 "nbformat_minor": 5
}
