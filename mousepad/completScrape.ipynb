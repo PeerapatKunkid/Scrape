{
 "cells": [
  {
   "cell_type": "code",
   "execution_count": 1,
   "metadata": {},
   "outputs": [],
   "source": [
    "import csv\n",
    "from selenium import webdriver\n",
    "from selenium.webdriver.common.keys import Keys\n",
    "import time\n",
    "import json\n",
    "import ast"
   ]
  },
  {
   "cell_type": "code",
   "execution_count": 2,
   "metadata": {},
   "outputs": [],
   "source": [
    "driver=webdriver.Chrome(executable_path='D:\\Downloads\\chromedriver_win32\\chromedriver.exe')\n",
    "driver.maximize_window()"
   ]
  },
  {
   "cell_type": "code",
   "execution_count": 6,
   "metadata": {},
   "outputs": [],
   "source": [
    "def model_key_lower_and_sort(k):\n",
    "    k[\"key\"]=k[\"key\"].lower().replace(' ','').replace('-','')\n",
    "    k[\"name\"]=(k[\"name\"].upper())\n",
    "    return len(k[\"key\"]),k[\"name\"]"
   ]
  },
  {
   "cell_type": "code",
   "execution_count": 7,
   "metadata": {},
   "outputs": [],
   "source": [
    "with open('../../models/mousepad_model.json') as json_file:\n",
    "    model = json.load(json_file)"
   ]
  },
  {
   "cell_type": "code",
   "execution_count": 8,
   "metadata": {},
   "outputs": [],
   "source": [
    "model.sort(key=model_key_lower_and_sort ,reverse=True)"
   ]
  },
  {
   "cell_type": "code",
   "execution_count": 9,
   "metadata": {},
   "outputs": [],
   "source": [
    "model_key=[]\n",
    "model_name=[]"
   ]
  },
  {
   "cell_type": "code",
   "execution_count": 10,
   "metadata": {},
   "outputs": [],
   "source": [
    "for i in model:\n",
    "    model_key.append(i[\"key\"])\n",
    "    model_name.append(i[\"name\"])"
   ]
  },
  {
   "cell_type": "code",
   "execution_count": 11,
   "metadata": {},
   "outputs": [],
   "source": [
    "def mousepad_exit(url):\n",
    "\n",
    "    with open(\"../../models/mousepadSchema.json\") as json_file:\n",
    "        mousepad_schema = json.load(json_file)\n",
    "\n",
    "    spec_type_arr = []\n",
    "    spec_details_arr = []\n",
    "    spec = {}\n",
    "\n",
    "    #     get url and scroll 5 sec\n",
    "    driver.get(url)\n",
    "\n",
    "    #     find name and compare\n",
    "    try:\n",
    "        find_name = driver.find_elements_by_xpath(\n",
    "            '//*[@id=\"__layout\"]/div/main/section/div[1]/div[2]/div[1]/h1'\n",
    "        )  # change\n",
    "        name = find_name[0].text\n",
    "\n",
    "        name_lower = (\n",
    "            name.lower()\n",
    "            .replace(\" \", \"\")\n",
    "            .replace(\"-\", \"\")\n",
    "            .replace(\"working\", \"\")\n",
    "            # .replace(\"tenkeyless\", \"tkl\")\n",
    "        )\n",
    "        print(name)\n",
    "        compare = [x for x in model_key if x in name_lower]\n",
    "        print(compare[0])\n",
    "        mousepad_schema[\"model\"] = compare[0]\n",
    "\n",
    "        if compare:\n",
    "            for index, val in enumerate(model_key):\n",
    "                if compare[0] == model[index][\"key\"]:\n",
    "                    mousepad_schema[\"name\"] = model[index][\"name\"]\n",
    "\n",
    "        find_price = driver.find_elements_by_xpath(\n",
    "            '//*[@id=\"__layout\"]/div/main/section/div[1]/div[2]/div[1]/div[3]/div/div[1]'\n",
    "        )  # change\n",
    "        price = find_price[0].text.replace(\",\", \"\").replace(\"฿\", \"\")\n",
    "        print(price)\n",
    "\n",
    "        find_image = driver.find_elements_by_xpath(\n",
    "            '//*[@id=\"__layout\"]/div/main/section/div[1]/div[1]/div/div[1]/div[1]/div[5]/div/img'\n",
    "        )  # change\n",
    "        image = find_image[0].get_attribute(\"src\")\n",
    "        print(image)\n",
    "\n",
    "        find_brand = driver.find_elements_by_xpath(\n",
    "            '//*[@id=\"__layout\"]/div/main/section/div[1]/div[2]/div[1]/div[1]/div/div[1]/span[2]'\n",
    "        )  # change\n",
    "        brand = find_brand[0].text\n",
    "        print(brand)\n",
    "\n",
    "        mousepad_schema[\"data\"][0][\"name\"] = name.upper()\n",
    "        mousepad_schema[\"data\"][0][\"price\"] = int(price)\n",
    "        mousepad_schema[\"data\"][0][\"href\"] = url\n",
    "        mousepad_schema[\"data\"][0][\"image\"] = image\n",
    "    \n",
    "\n",
    "        mousepad_schema[\"store\"] = \"banana\".capitalize()  # change\n",
    "        mousepad_schema[\"brand\"] = brand.capitalize()  # change\n",
    "        mousepad_schema[\"category\"] = \"mousepad\".capitalize()  # change\n",
    "        mousepad_schema[\"tag\"] = \"gaming\".capitalize()  # change\n",
    "        print(mousepad_schema[\"data\"][0][\"href\"])\n",
    "        find_spec_type = driver.find_elements_by_xpath(\n",
    "            '//*[@id=\"__layout\"]/div/main/section/section[1]/div/div/table/tbody/tr/td[1]'\n",
    "        )  # change\n",
    "        find_spec_details = driver.find_elements_by_xpath(\n",
    "            '//*[@id=\"__layout\"]/div/main/section/section[1]/div/div/table/tbody/tr/td[2]'\n",
    "        )  # change\n",
    "\n",
    "        for i in find_spec_type:\n",
    "            spec_type_arr.append(i.text)\n",
    "        for i in find_spec_details:\n",
    "            spec_details_arr.append(i.text)\n",
    "        for index, val in enumerate(spec_type_arr):\n",
    "            spec[val] = spec_details_arr[index]\n",
    "        for index, val in enumerate(spec_type_arr):\n",
    "            if val == \"Dimensions W x D x H\":  # change\n",
    "                mousepad_schema[\"data\"][0][\"spec\"][\"dimension\"] = spec_details_arr[\n",
    "                    index\n",
    "                ]\n",
    "            if val == \"Base\":  # change\n",
    "                mousepad_schema[\"data\"][0][\"spec\"][\"material\"] = spec_details_arr[index]\n",
    "            # if val == \"Headphone Frequency Response\":  # change\n",
    "            #     mousepad_schema[\"data\"][0][\"spec\"][\"frequency\"] = spec_details_arr[\n",
    "            #         index\n",
    "            #     ]\n",
    "            # if val == \"Headphone Input Impedance\" or val == \"Input Impedance\" :# change\n",
    "            #     mousepad_schema[\"data\"][0][\"spec\"][\"independence\"] = spec_details_arr[index]\n",
    "            # if val == \"Microphone\":  # change\n",
    "            #     mousepad_schema[\"data\"][0][\"spec\"][\"microphone\"] = spec_details_arr[index]\n",
    "            # if(val==\"Brand\"): #change\n",
    "            #     keyboard_schema[\"brand\"]=spec_details_arr[index].capitalize()\n",
    "        return mousepad_schema\n",
    "    except:\n",
    "        pass\n"
   ]
  },
  {
   "cell_type": "code",
   "execution_count": 25,
   "metadata": {},
   "outputs": [],
   "source": []
  },
  {
   "cell_type": "code",
   "execution_count": null,
   "metadata": {},
   "outputs": [],
   "source": []
  },
  {
   "cell_type": "code",
   "execution_count": null,
   "metadata": {},
   "outputs": [],
   "source": []
  },
  {
   "cell_type": "code",
   "execution_count": 12,
   "metadata": {},
   "outputs": [],
   "source": [
    "with open('banana_mousepad_gaming_href.txt', 'r') as f:\n",
    "    banana_mousepad_gaming_href = ast.literal_eval(f.read())"
   ]
  },
  {
   "cell_type": "code",
   "execution_count": 32,
   "metadata": {},
   "outputs": [],
   "source": [
    "with open('banana_headset_working_href.txt', 'r') as f:\n",
    "    banana_headset_working_href = ast.literal_eval(f.read())"
   ]
  },
  {
   "cell_type": "code",
   "execution_count": 97,
   "metadata": {},
   "outputs": [],
   "source": [
    "# advice_keyboard_gaming_href"
   ]
  },
  {
   "cell_type": "code",
   "execution_count": 13,
   "metadata": {},
   "outputs": [
    {
     "name": "stdout",
     "output_type": "stream",
     "text": [
      "['https://www.bnn.in.th/th/p/gaming-gear/pc-gaming-accessories/gaming-mouse-pad/cs-at-meetion-gaming-mouse-pad-mt-p100-mat-longer-6970344731394_zpm5ez', 'https://www.bnn.in.th/th/p/gaming-gear/pc-gaming-accessories/gaming-mouse-pad/cs-at-meetion-gaming-mouse-pad-mt-p110-mat-square-6970344731370_r0836z', 'https://www.bnn.in.th/th/p/gaming-gear/pc-gaming-accessories/gaming-mouse-pad/cs-at-meetion-gaming-mouse-pad-mt-p010-rgb-backlit-6970344731509_d4e14z', 'https://www.bnn.in.th/th/p/gaming-gear/pc-gaming-accessories/gaming-mouse-pad/fantech-gaming-mouse-pad-mp292-black-6912654682265_dlmkpz', 'https://www.bnn.in.th/th/p/gaming-gear/pc-gaming-accessories/gaming-mouse-pad/fantech-gaming-mouse-pad-mp902-black-6912654682267_dyq3wz', 'https://www.bnn.in.th/th/p/gaming-gear/pc-gaming-accessories/gaming-mouse-pad/hyper-x-gaming-mouse-pad-fury-s-pro-speed-edition-extended-740617274462_zoo2xz', 'https://www.bnn.in.th/th/p/gaming-gear/pc-gaming-accessories/gaming-mouse-pad/hyper-x-gaming-mouse-pad-fury-s-pro-speed-extended-740617267082_d4m65d', 'https://www.bnn.in.th/th/p/gaming-gear/pc-gaming-accessories/gaming-mouse-pad/neolution-gaming-mouse-pad-speed-m-size-8887210015640_dm0mmn', 'https://www.bnn.in.th/th/p/gaming-gear/pc-gaming-accessories/gaming-mouse-pad/neolution-gaming-mouse-pad-speed-size-l-8887210010652_zowpp6', 'https://www.bnn.in.th/th/p/gaming-gear/pc-gaming-accessories/gaming-mouse-pad/neolution-gaming-mouse-pad-speed-xxl-size-8887210015657_zvl00k', 'https://www.bnn.in.th/th/p/gaming-gear/pc-gaming-accessories/gaming-mouse-pad/onikuma-gaming-mouse-pad-g5-rgb-pink-6972470561470_r62o68', 'https://www.bnn.in.th/th/p/gaming-gear/pc-gaming-accessories/gaming-mouse-pad/onikuma-gaming-mouse-pad-g6-rgb-black-6972470561487_rq81j2', 'https://www.bnn.in.th/th/p/gaming-gear/pc-gaming-accessories/gaming-mouse-pad/onikuma-gaming-sakura-mousepad-pink-1122022154899_dll2yn', 'https://www.bnn.in.th/th/p/gaming-gear/pc-gaming-accessories/gaming-mouse-pad/philips-gaming-mouse-pad-light-acrylic-size-l-with-18m-cable-black-spl7304rgb-8712581763022_zow3yk', 'https://www.bnn.in.th/th/p/gaming-gear/pc-gaming-accessories/gaming-mouse-pad/philips-gaming-mouse-pad-light-control-size-m-usb-hub-additional-with-18m-cable-black-spl7204rgb-8712581763473_zg83yq', 'https://www.bnn.in.th/th/p/gaming-gear/pc-gaming-accessories/gaming-mouse-pad/philips-gaming-mouse-pad-light-control-size-m-with-18m-cable-black-spl7104rgb-8712581763466_d41xn2', 'https://www.bnn.in.th/th/p/gaming-gear/pc-gaming-accessories/gaming-mouse-pad/razer-gaming-mouse-pad-sphex-v3-large-black-8886419319191_dm0ynl', 'https://www.bnn.in.th/th/p/gaming-gear/pc-gaming-accessories/gaming-mouse-pad/signo-gaming-mouse-mat-abstra-2-mt-317-speed-edition-770-x-295-x-4-mm-8636569403208_zwle6m', 'https://www.bnn.in.th/th/p/gaming-gear/pc-gaming-accessories/gaming-mouse-pad/signo-gaming-mouse-mat-areas-1-mt-328-black-8513227309419_r620gm', 'https://www.bnn.in.th/th/p/gaming-gear/pc-gaming-accessories/gaming-mouse-pad/signo-gaming-mouse-mat-areas-2-mt-329-black-8554920394883_rq824x', 'https://www.bnn.in.th/th/p/gaming-gear/pc-gaming-accessories/gaming-mouse-pad/signo-gaming-mouse-mat-areas-3-mt-330-black-8143238492802_z970qe', 'https://www.bnn.in.th/th/p/gaming-gear/pc-gaming-accessories/gaming-mouse-pad/signo-gaming-mouse-mat-corvus-mt-310-speed-edition-320-x-240-x-4-mm-8231194782942_z977ve', 'https://www.bnn.in.th/th/p/gaming-gear/pc-gaming-accessories/gaming-mouse-pad/signo-gaming-mouse-mat-iconic-2-mt-321-speed-edition-770-x-295-x-4-mm-8353391028927_dy66x2', 'https://www.bnn.in.th/th/p/gaming-gear/pc-gaming-accessories/gaming-mouse-pad/signo-gaming-mouse-mat-iconic-3-mt-322-speed-edition-450-x-400-x-4-mm-8387921656304_d22292https://www.bnn.in.th/th/p/gaming-gear/pc-gaming-accessories/gaming-mouse-pad/signo-gaming-mouse-mat-led-chroma-1-mt-323-speed-edition-360-x-260-x-3-mm-8153329058626_z32v06', 'https://www.bnn.in.th/th/p/gaming-gear/pc-gaming-accessories/gaming-mouse-pad/signo-gaming-mouse-mat-led-chroma-2-mt-324-speed-edition-770-x-295-x-4-mm-8154590213394_dy6yk4', 'https://www.bnn.in.th/th/p/gaming-gear/pc-gaming-accessories/gaming-mouse-pad/signo-gaming-mouse-mat-mt-305-b-groone-blackblue-8117830294485_d1148l', 'https://www.bnn.in.th/th/p/gaming-gear/pc-gaming-accessories/gaming-mouse-pad/signo-gaming-mouse-mat-mt-306-p-speed-8113640579231_zvlnop', 'https://www.bnn.in.th/th/p/gaming-gear/pc-gaming-accessories/gaming-mouse-pad/signo-gaming-mouse-mat-speed-mt-308-770-x-295-x-3-mm-8615520588765_ze0164', 'https://www.bnn.in.th/th/p/gaming-gear/pc-gaming-accessories/gaming-mouse-pad/signo-gaming-mouse-mat-speed-mt-309-770-x-295-x-3-mm-8612821183521_dkoewj', 'https://www.bnn.in.th/th/p/gaming-gear/pc-gaming-accessories/gaming-mouse-pad/signo-gaming-mouse-mat-speeder-mt-327-black-8251936632953_ze0064', 'https://www.bnn.in.th/th/p/it-accessories/mouse-and-keyboards/mouse-pad/signo-wrist-pad-zuplex-wr-500-black-8932116573050_d8206y', 'https://www.bnn.in.th/th/p/gaming-gear/pc-gaming-accessories/gaming-mouse-pad/steelseries-gaming-mouse-pad-prism-cloth-m-size-black-5707119036795_rqyjvz', 'https://www.bnn.in.th/th/p/gaming-gear/pc-gaming-accessories/gaming-mouse-pad/steelseries-gaming-mouse-pad-prism-cloth-xl-size-5707119036818_d838lz', 'https://www.bnn.in.th/th/p/gaming-gear/pc-gaming-accessories/gaming-mouse-pad/steelseries-gaming-mouse-pad-qck-edge-l-size-5707119036757_zg925d', 'https://www.bnn.in.th/th/p/gaming-gear/pc-gaming-accessories/gaming-mouse-pad/steelseries-gaming-mouse-pad-qck-edge-m-size-5707119036733_d4vg5d', 'https://www.bnn.in.th/th/p/gaming-gear/pc-gaming-accessories/gaming-mouse-pad/zowie-gaming-mouse-pad-g-tf-x-l-4718755062650_zp6ped']\n"
     ]
    }
   ],
   "source": [
    "print(banana_mousepad_gaming_href)"
   ]
  },
  {
   "cell_type": "code",
   "execution_count": 28,
   "metadata": {},
   "outputs": [],
   "source": [
    "driver.get(\"https://www.bnn.in.th/th/p/gaming-gear/pc-gaming-accessories/gaming-keyboard/asus-gaming-keyboard-rog-strix-scope-pbtthblue-sw-4718017365741_dy6q2v\")"
   ]
  },
  {
   "cell_type": "code",
   "execution_count": 98,
   "metadata": {
    "scrolled": false
   },
   "outputs": [],
   "source": [
    "# for index,val in enumerate(all_name):\n",
    "# #     print(\"-\",index,\"---------------------\")\n",
    "#     name_exist(val)"
   ]
  },
  {
   "cell_type": "code",
   "execution_count": null,
   "metadata": {},
   "outputs": [],
   "source": []
  },
  {
   "cell_type": "code",
   "execution_count": 14,
   "metadata": {},
   "outputs": [],
   "source": [
    "export=[]"
   ]
  },
  {
   "cell_type": "code",
   "execution_count": null,
   "metadata": {},
   "outputs": [],
   "source": []
  },
  {
   "cell_type": "code",
   "execution_count": 15,
   "metadata": {},
   "outputs": [
    {
     "name": "stdout",
     "output_type": "stream",
     "text": [
      "---- 0 of 36 ----\n",
      "CS@ MeeTion Gaming Mouse Pad MT P100 Mat Longer\n",
      "p100\n",
      "199\n",
      "https://media-cdn.bnn.in.th/123615/MeeTion-Gaming-Mouse-Pad-MT-P100-02-square_medium.jpg\n",
      "MEETION\n",
      "https://www.bnn.in.th/th/p/gaming-gear/pc-gaming-accessories/gaming-mouse-pad/cs-at-meetion-gaming-mouse-pad-mt-p100-mat-longer-6970344731394_zpm5ez\n",
      "---- 1 of 36 ----\n",
      "CS@ MeeTion Gaming Mouse Pad MT P110 Mat Square\n",
      "p110\n",
      "119\n",
      "https://media-cdn.bnn.in.th/104536/6970344731370-6-square_medium.jpg\n",
      "MEETION\n",
      "https://www.bnn.in.th/th/p/gaming-gear/pc-gaming-accessories/gaming-mouse-pad/cs-at-meetion-gaming-mouse-pad-mt-p110-mat-square-6970344731370_r0836z\n",
      "---- 2 of 36 ----\n",
      "CS@ MeeTion Gaming Mouse Pad MT- P010 RGB Backlit\n",
      "p010\n",
      "590\n",
      "https://media-cdn.bnn.in.th/123603/MeeTion-Gaming-Mouse-Pad-MT--P010-02-square_medium.jpg\n",
      "MEETION\n",
      "https://www.bnn.in.th/th/p/gaming-gear/pc-gaming-accessories/gaming-mouse-pad/cs-at-meetion-gaming-mouse-pad-mt-p010-rgb-backlit-6970344731509_d4e14z\n",
      "---- 3 of 36 ----\n",
      "Fantech Gaming Mouse Pad MP292 Black\n",
      "mp292\n",
      "60\n",
      "https://media-cdn.bnn.in.th/47944/6912654682265-3-square_medium.jpg\n",
      "FANTECH\n",
      "https://www.bnn.in.th/th/p/gaming-gear/pc-gaming-accessories/gaming-mouse-pad/fantech-gaming-mouse-pad-mp292-black-6912654682265_dlmkpz\n",
      "---- 4 of 36 ----\n",
      "Fantech Gaming Mouse Pad MP902 Black\n",
      "mp902\n",
      "200\n",
      "https://media-cdn.bnn.in.th/47954/6912654682267-5-square_medium.jpg\n",
      "FANTECH\n",
      "https://www.bnn.in.th/th/p/gaming-gear/pc-gaming-accessories/gaming-mouse-pad/fantech-gaming-mouse-pad-mp902-black-6912654682267_dyq3wz\n",
      "---- 5 of 36 ----\n",
      "Hyper X Gaming Mouse Pad Fury S Pro Speed Edition Extended\n",
      "furysprospeed\n",
      "990\n",
      "https://media-cdn.bnn.in.th/53856/HyperX-Gaming-Mouse-Pad-FuryS-Pro-Speed-Edition-Extended-01-square_medium.jpg\n",
      "HYPER X\n",
      "https://www.bnn.in.th/th/p/gaming-gear/pc-gaming-accessories/gaming-mouse-pad/hyper-x-gaming-mouse-pad-fury-s-pro-speed-edition-extended-740617274462_zoo2xz\n",
      "---- 6 of 36 ----\n",
      "Hyper X Gaming Mouse Pad Fury S Pro Speed Extended\n",
      "furysprospeed\n",
      "990\n",
      "https://media-cdn.bnn.in.th/53729/Hyper-X-Gaming-Mouse-Pad-Fury-S-Pro-Speed-Extended-3-square_medium.jpg\n",
      "HYPER X\n",
      "https://www.bnn.in.th/th/p/gaming-gear/pc-gaming-accessories/gaming-mouse-pad/hyper-x-gaming-mouse-pad-fury-s-pro-speed-extended-740617267082_d4m65d\n",
      "---- 7 of 36 ----\n",
      "Neolution Gaming Mouse Pad Speed M size\n",
      "\n",
      "60\n",
      "https://media-cdn.bnn.in.th/90121/neolution-gaming-mouse-pad-speed-m-size-1-square_medium.jpg\n",
      "NEOLUTION\n",
      "https://www.bnn.in.th/th/p/gaming-gear/pc-gaming-accessories/gaming-mouse-pad/neolution-gaming-mouse-pad-speed-m-size-8887210015640_dm0mmn\n",
      "---- 8 of 36 ----\n",
      "Neolution Gaming Mouse Pad Speed Size L\n",
      "\n",
      "250\n",
      "https://media-cdn.bnn.in.th/90077/8887210010652-4-square_medium.jpg\n",
      "NEOLUTION\n",
      "https://www.bnn.in.th/th/p/gaming-gear/pc-gaming-accessories/gaming-mouse-pad/neolution-gaming-mouse-pad-speed-size-l-8887210010652_zowpp6\n",
      "---- 9 of 36 ----\n",
      "Neolution Gaming Mouse Pad Speed XXL size\n",
      "\n",
      "280\n",
      "https://media-cdn.bnn.in.th/90125/8887210015657-1-square_medium.jpg\n",
      "NEOLUTION\n",
      "https://www.bnn.in.th/th/p/gaming-gear/pc-gaming-accessories/gaming-mouse-pad/neolution-gaming-mouse-pad-speed-xxl-size-8887210015657_zvl00k\n",
      "---- 10 of 36 ----\n",
      "Onikuma Gaming Mouse Pad G5 RGB Pink\n",
      "g5\n",
      "490\n",
      "https://media-cdn.bnn.in.th/137324/Mouse-Pad-G5-RGB-02-square_medium.jpg\n",
      "ONIKUMA\n",
      "https://www.bnn.in.th/th/p/gaming-gear/pc-gaming-accessories/gaming-mouse-pad/onikuma-gaming-mouse-pad-g5-rgb-pink-6972470561470_r62o68\n",
      "---- 11 of 36 ----\n",
      "Onikuma Gaming Mouse Pad G6 RGB Black\n",
      "g6\n",
      "490\n",
      "https://media-cdn.bnn.in.th/137347/Mouse-Pad-G6-RGB-01-square_medium.jpg\n",
      "ONIKUMA\n",
      "https://www.bnn.in.th/th/p/gaming-gear/pc-gaming-accessories/gaming-mouse-pad/onikuma-gaming-mouse-pad-g6-rgb-black-6972470561487_rq81j2\n",
      "---- 12 of 36 ----\n",
      "Onikuma Gaming Sakura Mousepad Pink\n",
      "sakura\n",
      "199\n",
      "https://media-cdn.bnn.in.th/128971/Onikuma-Gaming-Sakura-Mousepad-01-square_medium.jpg\n",
      "ONIKUMA\n",
      "https://www.bnn.in.th/th/p/gaming-gear/pc-gaming-accessories/gaming-mouse-pad/onikuma-gaming-sakura-mousepad-pink-1122022154899_dll2yn\n",
      "---- 13 of 36 ----\n",
      "Philips Gaming Mouse Pad Light Acrylic Size L with 1.8M Cable Black (SPL7304RGB)\n",
      "lightacrylic\n",
      "390\n",
      "https://media-cdn.bnn.in.th/68219/Philips-Gaming-Mouse-Pad-Light-Acrylic-Size-L-SPL7304RGB-04-square_medium.jpg\n",
      "PHILIPS\n",
      "https://www.bnn.in.th/th/p/gaming-gear/pc-gaming-accessories/gaming-mouse-pad/philips-gaming-mouse-pad-light-acrylic-size-l-with-18m-cable-black-spl7304rgb-8712581763022_zow3yk\n",
      "---- 14 of 36 ----\n",
      "Philips Gaming Mouse Pad Light Control Size M USB HUB Additional with 1.8M Cable Black (SPL7204RGB)\n",
      "lightcontrol\n",
      "590\n",
      "https://media-cdn.bnn.in.th/68237/Philips-Gaming-Mouse-Pad-Light-Control-Size-M-USB-HUB-SPL7204RGB-04-square_medium.jpg\n",
      "PHILIPS\n",
      "https://www.bnn.in.th/th/p/gaming-gear/pc-gaming-accessories/gaming-mouse-pad/philips-gaming-mouse-pad-light-control-size-m-usb-hub-additional-with-18m-cable-black-spl7204rgb-8712581763473_zg83yq\n",
      "---- 15 of 36 ----\n",
      "Philips Gaming Mouse Pad Light Control Size M with 1.8M Cable Black (SPL7104RGB)\n",
      "lightcontrol\n",
      "550\n",
      "https://media-cdn.bnn.in.th/68228/Philips-Gaming-Mouse-Pad-Light-Control-Size-M-SPL7104RGB-05-square_medium.jpg\n",
      "PHILIPS\n",
      "https://www.bnn.in.th/th/p/gaming-gear/pc-gaming-accessories/gaming-mouse-pad/philips-gaming-mouse-pad-light-control-size-m-with-18m-cable-black-spl7104rgb-8712581763466_d41xn2\n",
      "---- 16 of 36 ----\n",
      "Razer Gaming Mouse Pad Sphex V3 Large Black\n",
      "sphexv3\n",
      "899\n",
      "https://media-cdn.bnn.in.th/120019/Razer-Gaming-Mouse-Pad-Sphex-V3-Large-Black-1-square_medium.jpg\n",
      "RAZER\n",
      "https://www.bnn.in.th/th/p/gaming-gear/pc-gaming-accessories/gaming-mouse-pad/razer-gaming-mouse-pad-sphex-v3-large-black-8886419319191_dm0ynl\n",
      "---- 17 of 36 ----\n",
      "Signo Gaming Mouse Mat ABSTRA-2 MT-317 Speed Edition (770 x 295 x 4 mm.)\n",
      "mt317\n",
      "140\n",
      "https://media-cdn.bnn.in.th/67146/8636569403208-1-square_medium.jpg\n",
      "SIGNO\n",
      "https://www.bnn.in.th/th/p/gaming-gear/pc-gaming-accessories/gaming-mouse-pad/signo-gaming-mouse-mat-abstra-2-mt-317-speed-edition-770-x-295-x-4-mm-8636569403208_zwle6m\n",
      "---- 18 of 36 ----\n",
      "Signo Gaming Mouse Mat Areas-1 MT-328 Black\n",
      "mt328\n",
      "250\n",
      "https://media-cdn.bnn.in.th/130612/Mouse-Mat-Areas-1-MT-328-Black-01-square_medium.jpg\n",
      "SIGNO\n",
      "https://www.bnn.in.th/th/p/gaming-gear/pc-gaming-accessories/gaming-mouse-pad/signo-gaming-mouse-mat-areas-1-mt-328-black-8513227309419_r620gm\n",
      "---- 19 of 36 ----\n",
      "Signo Gaming Mouse Mat Areas-2 MT-329 Black\n",
      "mt329\n",
      "220\n",
      "https://media-cdn.bnn.in.th/130654/Mouse-Mat-Areas-2-MT-329-01-square_medium.jpg\n",
      "SIGNO\n",
      "https://www.bnn.in.th/th/p/gaming-gear/pc-gaming-accessories/gaming-mouse-pad/signo-gaming-mouse-mat-areas-2-mt-329-black-8554920394883_rq824x\n",
      "---- 20 of 36 ----\n",
      "Signo Gaming Mouse Mat Areas-3 MT-330 Black\n",
      "mt330\n",
      "290\n",
      "https://media-cdn.bnn.in.th/130979/Areas-3-MT-330-Black-01-square_medium.jpg\n",
      "SIGNO\n",
      "https://www.bnn.in.th/th/p/gaming-gear/pc-gaming-accessories/gaming-mouse-pad/signo-gaming-mouse-mat-areas-3-mt-330-black-8143238492802_z970qe\n",
      "---- 21 of 36 ----\n",
      "Signo Gaming Mouse Mat CORVUS MT-310 Speed Edition (320 x 240 x 4 mm.)\n",
      "mt310\n",
      "71\n",
      "https://media-cdn.bnn.in.th/63403/8231194782942-2-square_medium.jpg\n",
      "SIGNO\n",
      "https://www.bnn.in.th/th/p/gaming-gear/pc-gaming-accessories/gaming-mouse-pad/signo-gaming-mouse-mat-corvus-mt-310-speed-edition-320-x-240-x-4-mm-8231194782942_z977ve\n",
      "---- 22 of 36 ----\n",
      "Signo Gaming Mouse Mat ICONIC-2 MT-321 Speed Edition (770 x 295 x 4 mm.)\n",
      "mt321\n",
      "180\n",
      "https://media-cdn.bnn.in.th/63605/8353391028927-1-square_medium.jpg\n",
      "SIGNO\n",
      "https://www.bnn.in.th/th/p/gaming-gear/pc-gaming-accessories/gaming-mouse-pad/signo-gaming-mouse-mat-iconic-2-mt-321-speed-edition-770-x-295-x-4-mm-8353391028927_dy66x2\n",
      "---- 23 of 36 ----\n",
      "Signo Gaming Mouse Mat LED CHROMA-1 MT-323 Speed Edition (360 x 260 x 3 mm.)\n",
      "mt323\n",
      "350\n",
      "https://media-cdn.bnn.in.th/61960/8153329058626-1-square_medium.jpg\n",
      "SIGNO\n",
      "https://www.bnn.in.th/th/p/gaming-gear/pc-gaming-accessories/gaming-mouse-pad/signo-gaming-mouse-mat-iconic-3-mt-322-speed-edition-450-x-400-x-4-mm-8387921656304_d22292https://www.bnn.in.th/th/p/gaming-gear/pc-gaming-accessories/gaming-mouse-pad/signo-gaming-mouse-mat-led-chroma-1-mt-323-speed-edition-360-x-260-x-3-mm-8153329058626_z32v06\n",
      "---- 24 of 36 ----\n",
      "Signo Gaming Mouse Mat LED CHROMA-2 MT-324 Speed Edition (770 x 295 x 4 mm.)\n",
      "mt324\n",
      "340\n",
      "https://media-cdn.bnn.in.th/61964/8154590213394-1-square_medium.jpg\n",
      "SIGNO\n",
      "https://www.bnn.in.th/th/p/gaming-gear/pc-gaming-accessories/gaming-mouse-pad/signo-gaming-mouse-mat-led-chroma-2-mt-324-speed-edition-770-x-295-x-4-mm-8154590213394_dy6yk4\n",
      "---- 25 of 36 ----\n",
      "Signo Gaming Mouse Mat Mt-305 B Groone Black/Blue\n",
      "mt305\n",
      "170\n",
      "https://media-cdn.bnn.in.th/123343/Signo-Gaming-Mouse-Mat-Mt-305-B-Groone-BlackBlue-1-square_medium.jpg\n",
      "SIGNO\n",
      "https://www.bnn.in.th/th/p/gaming-gear/pc-gaming-accessories/gaming-mouse-pad/signo-gaming-mouse-mat-mt-305-b-groone-blackblue-8117830294485_d1148l\n",
      "---- 26 of 36 ----\n",
      "Signo Gaming Mouse Mat MT-306 P Speed\n",
      "mt306\n",
      "170\n",
      "https://media-cdn.bnn.in.th/59810/SIGNO-Gaming-3-square_medium.jpg\n",
      "SIGNO\n",
      "https://www.bnn.in.th/th/p/gaming-gear/pc-gaming-accessories/gaming-mouse-pad/signo-gaming-mouse-mat-mt-306-p-speed-8113640579231_zvlnop\n",
      "---- 27 of 36 ----\n",
      "Signo Gaming Mouse Mat Speed MT-308 (770 x 295 x 3 mm.)\n",
      "mt308\n",
      "162\n",
      "https://media-cdn.bnn.in.th/67114/8615520588765-1-square_medium.jpg\n",
      "SIGNO\n",
      "https://www.bnn.in.th/th/p/gaming-gear/pc-gaming-accessories/gaming-mouse-pad/signo-gaming-mouse-mat-speed-mt-308-770-x-295-x-3-mm-8615520588765_ze0164\n",
      "---- 28 of 36 ----\n",
      "Signo Gaming Mouse Mat Speed MT-309 (770 x 295 x 3 mm.)\n",
      "mt309\n",
      "162\n",
      "https://media-cdn.bnn.in.th/67110/8612821183521-1-square_medium.jpg\n",
      "SIGNO\n",
      "https://www.bnn.in.th/th/p/gaming-gear/pc-gaming-accessories/gaming-mouse-pad/signo-gaming-mouse-mat-speed-mt-309-770-x-295-x-3-mm-8612821183521_dkoewj\n",
      "---- 29 of 36 ----\n",
      "Signo Gaming Mouse Mat Speeder MT-327 Black\n",
      "mt327\n",
      "230\n",
      "https://media-cdn.bnn.in.th/63451/Signo-Gaming-Mouse-Mat-Speeder-MT-327-Black-3-square_medium.jpg\n",
      "SIGNO\n",
      "https://www.bnn.in.th/th/p/gaming-gear/pc-gaming-accessories/gaming-mouse-pad/signo-gaming-mouse-mat-speeder-mt-327-black-8251936632953_ze0064\n",
      "---- 30 of 36 ----\n",
      "Signo Wrist Pad Zuplex WR-500 Black\n",
      "wr500\n",
      "180\n",
      "https://media-cdn.bnn.in.th/131060/Signo-Wrist-Pad-Zuplex-WR-500-Black-03-square_medium.jpg\n",
      "SIGNO\n",
      "https://www.bnn.in.th/th/p/it-accessories/mouse-and-keyboards/mouse-pad/signo-wrist-pad-zuplex-wr-500-black-8932116573050_d8206y\n",
      "---- 31 of 36 ----\n",
      "SteelSeries Gaming Mouse Pad Prism Cloth M Size Black\n",
      "prismcloth\n",
      "1390\n",
      "https://media-cdn.bnn.in.th/41895/SteelSeries-Gaming-Mouse-Pad-Prism-Cloth-M-Black-3-square_medium.jpg\n",
      "STEELSERIES\n",
      "https://www.bnn.in.th/th/p/gaming-gear/pc-gaming-accessories/gaming-mouse-pad/steelseries-gaming-mouse-pad-prism-cloth-m-size-black-5707119036795_rqyjvz\n",
      "---- 32 of 36 ----\n",
      "SteelSeries Gaming Mouse Pad Prism Cloth XL Size\n",
      "prismcloth\n",
      "2590\n",
      "https://media-cdn.bnn.in.th/41897/Steelseries-Gaming-Mouse-Pad-Prism-Cloth-Size-XL-1-square_medium.jpg\n",
      "STEELSERIES\n",
      "https://www.bnn.in.th/th/p/gaming-gear/pc-gaming-accessories/gaming-mouse-pad/steelseries-gaming-mouse-pad-prism-cloth-xl-size-5707119036818_d838lz\n",
      "---- 33 of 36 ----\n",
      "SteelSeries Gaming Mouse Pad QcK Edge L Size\n",
      "qckedge\n",
      "673\n",
      "https://media-cdn.bnn.in.th/41875/SteelSeries-Gaming-Mouse-Pad-QcK-Edge-L-Size-3-square_medium.jpg\n",
      "STEELSERIES\n",
      "https://www.bnn.in.th/th/p/gaming-gear/pc-gaming-accessories/gaming-mouse-pad/steelseries-gaming-mouse-pad-qck-edge-l-size-5707119036757_zg925d\n",
      "---- 34 of 36 ----\n",
      "SteelSeries Gaming Mouse Pad QcK Edge M Size\n",
      "qckedge\n",
      "540\n",
      "https://media-cdn.bnn.in.th/41867/SteelSeries-Gaming-Mouse-Pad-QcK-Edge-M-Size-3-square_medium.jpg\n",
      "STEELSERIES\n",
      "https://www.bnn.in.th/th/p/gaming-gear/pc-gaming-accessories/gaming-mouse-pad/steelseries-gaming-mouse-pad-qck-edge-m-size-5707119036733_d4vg5d\n",
      "---- 35 of 36 ----\n",
      "ZOWIE Gaming Mouse Pad G TF- x (L)\n",
      "gtfx\n",
      "1190\n",
      "https://media-cdn.bnn.in.th/28045/ZOWIE-Gaming-Mouse-Pad-G-TF-x(L)-3-square_medium.jpg\n",
      "ZOWIE\n",
      "https://www.bnn.in.th/th/p/gaming-gear/pc-gaming-accessories/gaming-mouse-pad/zowie-gaming-mouse-pad-g-tf-x-l-4718755062650_zp6ped\n"
     ]
    }
   ],
   "source": [
    "for index,val in enumerate(banana_mousepad_gaming_href):\n",
    "    print(\"----\",index,\"of\" ,len(banana_mousepad_gaming_href),\"----\")\n",
    "    export.append(mousepad_exit(val))"
   ]
  },
  {
   "cell_type": "code",
   "execution_count": 16,
   "metadata": {},
   "outputs": [],
   "source": [
    "out_mousepad_item= json.dumps(export, ensure_ascii=False)"
   ]
  },
  {
   "cell_type": "code",
   "execution_count": 1,
   "metadata": {},
   "outputs": [
    {
     "ename": "NameError",
     "evalue": "name 'export' is not defined",
     "output_type": "error",
     "traceback": [
      "\u001b[1;31m---------------------------------------------------------------------------\u001b[0m",
      "\u001b[1;31mNameError\u001b[0m                                 Traceback (most recent call last)",
      "\u001b[1;32m~\\AppData\\Local\\Temp/ipykernel_19084/3278819969.py\u001b[0m in \u001b[0;36m<module>\u001b[1;34m\u001b[0m\n\u001b[1;32m----> 1\u001b[1;33m \u001b[0mexport\u001b[0m\u001b[1;33m\u001b[0m\u001b[1;33m\u001b[0m\u001b[0m\n\u001b[0m",
      "\u001b[1;31mNameError\u001b[0m: name 'export' is not defined"
     ]
    }
   ],
   "source": []
  },
  {
   "cell_type": "code",
   "execution_count": 17,
   "metadata": {},
   "outputs": [
    {
     "data": {
      "text/plain": [
       "'[{\"model\": \"p100\", \"name\": \"CS@ MEETION GAMING MOUSE PAD MT P100 MAT LONGER\", \"store\": \"Banana\", \"brand\": \"Meetion\", \"category\": \"Mousepad\", \"tag\": \"Gaming\", \"data\": [{\"name\": \"CS@ MEETION GAMING MOUSE PAD MT P100 MAT LONGER\", \"price\": 199, \"href\": \"https://www.bnn.in.th/th/p/gaming-gear/pc-gaming-accessories/gaming-mouse-pad/cs-at-meetion-gaming-mouse-pad-mt-p100-mat-longer-6970344731394_zpm5ez\", \"image\": \"https://media-cdn.bnn.in.th/123615/MeeTion-Gaming-Mouse-Pad-MT-P100-02-square_medium.jpg\", \"spec\": {\"dimension\": \"7.9 x 3.45 x 0.5 cm.\", \"material\": \"Non-slip Rubber Base\"}}]}, {\"model\": \"p110\", \"name\": \"CS@ MEETION GAMING MOUSE PAD MT P110 MAT SQUARE\", \"store\": \"Banana\", \"brand\": \"Meetion\", \"category\": \"Mousepad\", \"tag\": \"Gaming\", \"data\": [{\"name\": \"CS@ MEETION GAMING MOUSE PAD MT P110 MAT SQUARE\", \"price\": 119, \"href\": \"https://www.bnn.in.th/th/p/gaming-gear/pc-gaming-accessories/gaming-mouse-pad/cs-at-meetion-gaming-mouse-pad-mt-p110-mat-square-6970344731370_r0836z\", \"image\": \"https://media-cdn.bnn.in.th/104536/6970344731370-6-square_medium.jpg\", \"spec\": {\"dimension\": \"35 x 6.5 x 6.5 cm.\", \"material\": \"Non-slip Rubber Base\"}}]}, {\"model\": \"p010\", \"name\": \"CS@ MEETION GAMING MOUSE PAD MT- P010 RGB BACKLIT\", \"store\": \"Banana\", \"brand\": \"Meetion\", \"category\": \"Mousepad\", \"tag\": \"Gaming\", \"data\": [{\"name\": \"CS@ MEETION GAMING MOUSE PAD MT- P010 RGB BACKLIT\", \"price\": 590, \"href\": \"https://www.bnn.in.th/th/p/gaming-gear/pc-gaming-accessories/gaming-mouse-pad/cs-at-meetion-gaming-mouse-pad-mt-p010-rgb-backlit-6970344731509_d4e14z\", \"image\": \"https://media-cdn.bnn.in.th/123603/MeeTion-Gaming-Mouse-Pad-MT--P010-02-square_medium.jpg\", \"spec\": {\"dimension\": \"35 x 25 x 0.5 cm.\", \"material\": \"Non-slip Rubber Base\"}}]}, {\"model\": \"mp292\", \"name\": \"FANTECH GAMING MOUSE PAD MP292\", \"store\": \"Banana\", \"brand\": \"Fantech\", \"category\": \"Mousepad\", \"tag\": \"Gaming\", \"data\": [{\"name\": \"FANTECH GAMING MOUSE PAD MP292 BLACK\", \"price\": 60, \"href\": \"https://www.bnn.in.th/th/p/gaming-gear/pc-gaming-accessories/gaming-mouse-pad/fantech-gaming-mouse-pad-mp292-black-6912654682265_dlmkpz\", \"image\": \"https://media-cdn.bnn.in.th/47944/6912654682265-3-square_medium.jpg\", \"spec\": {\"dimension\": \"29.00 x 25.00 x 0.30 cm.\", \"material\": \"N/A\"}}]}, {\"model\": \"mp902\", \"name\": \"FANTECH GAMING MOUSE PAD MP902\", \"store\": \"Banana\", \"brand\": \"Fantech\", \"category\": \"Mousepad\", \"tag\": \"Gaming\", \"data\": [{\"name\": \"FANTECH GAMING MOUSE PAD MP902 BLACK\", \"price\": 200, \"href\": \"https://www.bnn.in.th/th/p/gaming-gear/pc-gaming-accessories/gaming-mouse-pad/fantech-gaming-mouse-pad-mp902-black-6912654682267_dyq3wz\", \"image\": \"https://media-cdn.bnn.in.th/47954/6912654682267-5-square_medium.jpg\", \"spec\": {\"dimension\": \"90 x 30 x 0.30 cm.\", \"material\": \"N/A\"}}]}, {\"model\": \"furysprospeed\", \"name\": \"HYPER X GAMING MOUSE PAD FURY S PRO SPEED\", \"store\": \"Banana\", \"brand\": \"Hyper x\", \"category\": \"Mousepad\", \"tag\": \"Gaming\", \"data\": [{\"name\": \"HYPER X GAMING MOUSE PAD FURY S PRO SPEED EDITION EXTENDED\", \"price\": 990, \"href\": \"https://www.bnn.in.th/th/p/gaming-gear/pc-gaming-accessories/gaming-mouse-pad/hyper-x-gaming-mouse-pad-fury-s-pro-speed-edition-extended-740617274462_zoo2xz\", \"image\": \"https://media-cdn.bnn.in.th/53856/HyperX-Gaming-Mouse-Pad-FuryS-Pro-Speed-Edition-Extended-01-square_medium.jpg\", \"spec\": {\"dimension\": \"90 x 40 x 0.3 cm.\", \"material\": \"Rubber\"}}]}, {\"model\": \"furysprospeed\", \"name\": \"HYPER X GAMING MOUSE PAD FURY S PRO SPEED\", \"store\": \"Banana\", \"brand\": \"Hyper x\", \"category\": \"Mousepad\", \"tag\": \"Gaming\", \"data\": [{\"name\": \"HYPER X GAMING MOUSE PAD FURY S PRO SPEED EXTENDED\", \"price\": 990, \"href\": \"https://www.bnn.in.th/th/p/gaming-gear/pc-gaming-accessories/gaming-mouse-pad/hyper-x-gaming-mouse-pad-fury-s-pro-speed-extended-740617267082_d4m65d\", \"image\": \"https://media-cdn.bnn.in.th/53729/Hyper-X-Gaming-Mouse-Pad-Fury-S-Pro-Speed-Extended-3-square_medium.jpg\", \"spec\": {\"dimension\": \"90 x 40 x 0.3 cm.\", \"material\": \"Rubber\"}}]}, {\"model\": \"\", \"name\": \"\", \"store\": \"Banana\", \"brand\": \"Neolution\", \"category\": \"Mousepad\", \"tag\": \"Gaming\", \"data\": [{\"name\": \"NEOLUTION GAMING MOUSE PAD SPEED M SIZE\", \"price\": 60, \"href\": \"https://www.bnn.in.th/th/p/gaming-gear/pc-gaming-accessories/gaming-mouse-pad/neolution-gaming-mouse-pad-speed-m-size-8887210015640_dm0mmn\", \"image\": \"https://media-cdn.bnn.in.th/90121/neolution-gaming-mouse-pad-speed-m-size-1-square_medium.jpg\", \"spec\": {\"dimension\": \"32 x 27 x 0.30 cm.\", \"material\": \"Rubber Base\"}}]}, {\"model\": \"\", \"name\": \"\", \"store\": \"Banana\", \"brand\": \"Neolution\", \"category\": \"Mousepad\", \"tag\": \"Gaming\", \"data\": [{\"name\": \"NEOLUTION GAMING MOUSE PAD SPEED SIZE L\", \"price\": 250, \"href\": \"https://www.bnn.in.th/th/p/gaming-gear/pc-gaming-accessories/gaming-mouse-pad/neolution-gaming-mouse-pad-speed-size-l-8887210010652_zowpp6\", \"image\": \"https://media-cdn.bnn.in.th/90077/8887210010652-4-square_medium.jpg\", \"spec\": {\"dimension\": \"40 x 32 x 0.30\", \"material\": \"Rubber Top Cover Fabric Coation\"}}]}, {\"model\": \"\", \"name\": \"\", \"store\": \"Banana\", \"brand\": \"Neolution\", \"category\": \"Mousepad\", \"tag\": \"Gaming\", \"data\": [{\"name\": \"NEOLUTION GAMING MOUSE PAD SPEED XXL SIZE\", \"price\": 280, \"href\": \"https://www.bnn.in.th/th/p/gaming-gear/pc-gaming-accessories/gaming-mouse-pad/neolution-gaming-mouse-pad-speed-xxl-size-8887210015657_zvl00k\", \"image\": \"https://media-cdn.bnn.in.th/90125/8887210015657-1-square_medium.jpg\", \"spec\": {\"dimension\": \"80 x 30 x 0.30 cm.\", \"material\": \"Rubber Base\"}}]}, {\"model\": \"g5\", \"name\": \"ONIKUMA GAMING MOUSE PAD G5 RGB\", \"store\": \"Banana\", \"brand\": \"Onikuma\", \"category\": \"Mousepad\", \"tag\": \"Gaming\", \"data\": [{\"name\": \"ONIKUMA GAMING MOUSE PAD G5 RGB PINK\", \"price\": 490, \"href\": \"https://www.bnn.in.th/th/p/gaming-gear/pc-gaming-accessories/gaming-mouse-pad/onikuma-gaming-mouse-pad-g5-rgb-pink-6972470561470_r62o68\", \"image\": \"https://media-cdn.bnn.in.th/137324/Mouse-Pad-G5-RGB-02-square_medium.jpg\", \"spec\": {\"dimension\": \"80 x 30 x 0.4 cm.\", \"material\": \"Rubber base\"}}]}, {\"model\": \"g6\", \"name\": \"ONIKUMA GAMING MOUSE PAD G6\", \"store\": \"Banana\", \"brand\": \"Onikuma\", \"category\": \"Mousepad\", \"tag\": \"Gaming\", \"data\": [{\"name\": \"ONIKUMA GAMING MOUSE PAD G6 RGB BLACK\", \"price\": 490, \"href\": \"https://www.bnn.in.th/th/p/gaming-gear/pc-gaming-accessories/gaming-mouse-pad/onikuma-gaming-mouse-pad-g6-rgb-black-6972470561487_rq81j2\", \"image\": \"https://media-cdn.bnn.in.th/137347/Mouse-Pad-G6-RGB-01-square_medium.jpg\", \"spec\": {\"dimension\": \"80 x 30 x 0.4 cm.\", \"material\": \"Rubber base\"}}]}, {\"model\": \"sakura\", \"name\": \"ONIKUMA GAMING SAKURA MOUSEPAD\", \"store\": \"Banana\", \"brand\": \"Onikuma\", \"category\": \"Mousepad\", \"tag\": \"Gaming\", \"data\": [{\"name\": \"ONIKUMA GAMING SAKURA MOUSEPAD PINK\", \"price\": 199, \"href\": \"https://www.bnn.in.th/th/p/gaming-gear/pc-gaming-accessories/gaming-mouse-pad/onikuma-gaming-sakura-mousepad-pink-1122022154899_dll2yn\", \"image\": \"https://media-cdn.bnn.in.th/128971/Onikuma-Gaming-Sakura-Mousepad-01-square_medium.jpg\", \"spec\": {\"dimension\": \"78x 30 x0.3 cm.\", \"material\": \"Rubber base\"}}]}, {\"model\": \"lightacrylic\", \"name\": \"PHILIPS GAMING MOUSE PAD LIGHT ACRYLIC\", \"store\": \"Banana\", \"brand\": \"Philips\", \"category\": \"Mousepad\", \"tag\": \"Gaming\", \"data\": [{\"name\": \"PHILIPS GAMING MOUSE PAD LIGHT ACRYLIC SIZE L WITH 1.8M CABLE BLACK (SPL7304RGB)\", \"price\": 390, \"href\": \"https://www.bnn.in.th/th/p/gaming-gear/pc-gaming-accessories/gaming-mouse-pad/philips-gaming-mouse-pad-light-acrylic-size-l-with-18m-cable-black-spl7304rgb-8712581763022_zow3yk\", \"image\": \"https://media-cdn.bnn.in.th/68219/Philips-Gaming-Mouse-Pad-Light-Acrylic-Size-L-SPL7304RGB-04-square_medium.jpg\", \"spec\": {\"dimension\": \"35.2 x 25.5 x 0.5 cm.\", \"material\": \"Non-slip Rubber Base\"}}]}, {\"model\": \"lightcontrol\", \"name\": \"PHILIPS GAMING MOUSE PAD LIGHT CONTROL\", \"store\": \"Banana\", \"brand\": \"Philips\", \"category\": \"Mousepad\", \"tag\": \"Gaming\", \"data\": [{\"name\": \"PHILIPS GAMING MOUSE PAD LIGHT CONTROL SIZE M USB HUB ADDITIONAL WITH 1.8M CABLE BLACK (SPL7204RGB)\", \"price\": 590, \"href\": \"https://www.bnn.in.th/th/p/gaming-gear/pc-gaming-accessories/gaming-mouse-pad/philips-gaming-mouse-pad-light-control-size-m-usb-hub-additional-with-18m-cable-black-spl7204rgb-8712581763473_zg83yq\", \"image\": \"https://media-cdn.bnn.in.th/68237/Philips-Gaming-Mouse-Pad-Light-Control-Size-M-USB-HUB-SPL7204RGB-04-square_medium.jpg\", \"spec\": {\"dimension\": \"80 x 30 x 0.4 cm.\", \"material\": \"Non-slip Rubber Base\"}}]}, {\"model\": \"lightcontrol\", \"name\": \"PHILIPS GAMING MOUSE PAD LIGHT CONTROL\", \"store\": \"Banana\", \"brand\": \"Philips\", \"category\": \"Mousepad\", \"tag\": \"Gaming\", \"data\": [{\"name\": \"PHILIPS GAMING MOUSE PAD LIGHT CONTROL SIZE M WITH 1.8M CABLE BLACK (SPL7104RGB)\", \"price\": 550, \"href\": \"https://www.bnn.in.th/th/p/gaming-gear/pc-gaming-accessories/gaming-mouse-pad/philips-gaming-mouse-pad-light-control-size-m-with-18m-cable-black-spl7104rgb-8712581763466_d41xn2\", \"image\": \"https://media-cdn.bnn.in.th/68228/Philips-Gaming-Mouse-Pad-Light-Control-Size-M-SPL7104RGB-05-square_medium.jpg\", \"spec\": {\"dimension\": \"80 x 30.5 x 0.4 cm.\", \"material\": \"Non-slip Rubber Base\"}}]}, {\"model\": \"sphexv3\", \"name\": \"RAZER GAMING MOUSE PAD SPHEX V3 LARGE\", \"store\": \"Banana\", \"brand\": \"Razer\", \"category\": \"Mousepad\", \"tag\": \"Gaming\", \"data\": [{\"name\": \"RAZER GAMING MOUSE PAD SPHEX V3 LARGE BLACK\", \"price\": 899, \"href\": \"https://www.bnn.in.th/th/p/gaming-gear/pc-gaming-accessories/gaming-mouse-pad/razer-gaming-mouse-pad-sphex-v3-large-black-8886419319191_dm0ynl\", \"image\": \"https://media-cdn.bnn.in.th/120019/Razer-Gaming-Mouse-Pad-Sphex-V3-Large-Black-1-square_medium.jpg\", \"spec\": {\"dimension\": \"45 cm. / 1.772” x 40 cm. / 1.574 cm.\", \"material\": \"ADHESIVE BASE\"}}]}, {\"model\": \"mt317\", \"name\": \"SIGNO GAMING MOUSE MAT ABSTRA-2 MT-317\", \"store\": \"Banana\", \"brand\": \"Signo\", \"category\": \"Mousepad\", \"tag\": \"Gaming\", \"data\": [{\"name\": \"SIGNO GAMING MOUSE MAT ABSTRA-2 MT-317 SPEED EDITION (770 X 295 X 4 MM.)\", \"price\": 140, \"href\": \"https://www.bnn.in.th/th/p/gaming-gear/pc-gaming-accessories/gaming-mouse-pad/signo-gaming-mouse-mat-abstra-2-mt-317-speed-edition-770-x-295-x-4-mm-8636569403208_zwle6m\", \"image\": \"https://media-cdn.bnn.in.th/67146/8636569403208-1-square_medium.jpg\", \"spec\": {\"dimension\": \"77 x 29.50 x 0.40 cm.\", \"material\": \"Non-slip Rubber Base\"}}]}, {\"model\": \"mt328\", \"name\": \"SIGNO GAMING MOUSE MAT AREAS-1 MT-328\", \"store\": \"Banana\", \"brand\": \"Signo\", \"category\": \"Mousepad\", \"tag\": \"Gaming\", \"data\": [{\"name\": \"SIGNO GAMING MOUSE MAT AREAS-1 MT-328 BLACK\", \"price\": 250, \"href\": \"https://www.bnn.in.th/th/p/gaming-gear/pc-gaming-accessories/gaming-mouse-pad/signo-gaming-mouse-mat-areas-1-mt-328-black-8513227309419_r620gm\", \"image\": \"https://media-cdn.bnn.in.th/130612/Mouse-Mat-Areas-1-MT-328-Black-01-square_medium.jpg\", \"spec\": {\"dimension\": \"77.0 x 29.5 x 0.4 cm.\", \"material\": \"Non-slip Rubber Base\"}}]}, {\"model\": \"mt329\", \"name\": \"SIGNO GAMING MOUSE MAT AREAS-2 MT-329\", \"store\": \"Banana\", \"brand\": \"Signo\", \"category\": \"Mousepad\", \"tag\": \"Gaming\", \"data\": [{\"name\": \"SIGNO GAMING MOUSE MAT AREAS-2 MT-329 BLACK\", \"price\": 220, \"href\": \"https://www.bnn.in.th/th/p/gaming-gear/pc-gaming-accessories/gaming-mouse-pad/signo-gaming-mouse-mat-areas-2-mt-329-black-8554920394883_rq824x\", \"image\": \"https://media-cdn.bnn.in.th/130654/Mouse-Mat-Areas-2-MT-329-01-square_medium.jpg\", \"spec\": {\"dimension\": \"45.0 x 40.0 x 0.4 cm.\", \"material\": \"Non-slip Rubber Base\"}}]}, {\"model\": \"mt330\", \"name\": \"SIGNO GAMING MOUSE MAT AREAS-3 MT-330\", \"store\": \"Banana\", \"brand\": \"Signo\", \"category\": \"Mousepad\", \"tag\": \"Gaming\", \"data\": [{\"name\": \"SIGNO GAMING MOUSE MAT AREAS-3 MT-330 BLACK\", \"price\": 290, \"href\": \"https://www.bnn.in.th/th/p/gaming-gear/pc-gaming-accessories/gaming-mouse-pad/signo-gaming-mouse-mat-areas-3-mt-330-black-8143238492802_z970qe\", \"image\": \"https://media-cdn.bnn.in.th/130979/Areas-3-MT-330-Black-01-square_medium.jpg\", \"spec\": {\"dimension\": \"90 x 40 x 0.3 cm.\", \"material\": \"Non-slip Rubber Base\"}}]}, {\"model\": \"mt310\", \"name\": \"SIGNO GAMING MOUSE MAT CORVUS MT-310\", \"store\": \"Banana\", \"brand\": \"Signo\", \"category\": \"Mousepad\", \"tag\": \"Gaming\", \"data\": [{\"name\": \"SIGNO GAMING MOUSE MAT CORVUS MT-310 SPEED EDITION (320 X 240 X 4 MM.)\", \"price\": 71, \"href\": \"https://www.bnn.in.th/th/p/gaming-gear/pc-gaming-accessories/gaming-mouse-pad/signo-gaming-mouse-mat-corvus-mt-310-speed-edition-320-x-240-x-4-mm-8231194782942_z977ve\", \"image\": \"https://media-cdn.bnn.in.th/63403/8231194782942-2-square_medium.jpg\", \"spec\": {\"dimension\": \"32 x 24 x 0.40 cm.\", \"material\": \"Non-slip Rubber Base\"}}]}, {\"model\": \"mt321\", \"name\": \"SIGNO GAMING MOUSE MAT ICONIC-2 MT-321\", \"store\": \"Banana\", \"brand\": \"Signo\", \"category\": \"Mousepad\", \"tag\": \"Gaming\", \"data\": [{\"name\": \"SIGNO GAMING MOUSE MAT ICONIC-2 MT-321 SPEED EDITION (770 X 295 X 4 MM.)\", \"price\": 180, \"href\": \"https://www.bnn.in.th/th/p/gaming-gear/pc-gaming-accessories/gaming-mouse-pad/signo-gaming-mouse-mat-iconic-2-mt-321-speed-edition-770-x-295-x-4-mm-8353391028927_dy66x2\", \"image\": \"https://media-cdn.bnn.in.th/63605/8353391028927-1-square_medium.jpg\", \"spec\": {\"dimension\": \"77 x 29.50 x 0.40 cm.\", \"material\": \"Non-slip Rubber Base\"}}]}, {\"model\": \"mt323\", \"name\": \"SIGNO GAMING MOUSE MAT LED CHROMA-1 MT-323\", \"store\": \"Banana\", \"brand\": \"Signo\", \"category\": \"Mousepad\", \"tag\": \"Gaming\", \"data\": [{\"name\": \"SIGNO GAMING MOUSE MAT LED CHROMA-1 MT-323 SPEED EDITION (360 X 260 X 3 MM.)\", \"price\": 350, \"href\": \"https://www.bnn.in.th/th/p/gaming-gear/pc-gaming-accessories/gaming-mouse-pad/signo-gaming-mouse-mat-iconic-3-mt-322-speed-edition-450-x-400-x-4-mm-8387921656304_d22292https://www.bnn.in.th/th/p/gaming-gear/pc-gaming-accessories/gaming-mouse-pad/signo-gaming-mouse-mat-led-chroma-1-mt-323-speed-edition-360-x-260-x-3-mm-8153329058626_z32v06\", \"image\": \"https://media-cdn.bnn.in.th/61960/8153329058626-1-square_medium.jpg\", \"spec\": {\"dimension\": \"36 x 26 x 0.30 cm.\", \"material\": \"Non-slip Rubber Base\"}}]}, {\"model\": \"mt324\", \"name\": \"SIGNO GAMING MOUSE MAT LED CHROMA-2 MT-324\", \"store\": \"Banana\", \"brand\": \"Signo\", \"category\": \"Mousepad\", \"tag\": \"Gaming\", \"data\": [{\"name\": \"SIGNO GAMING MOUSE MAT LED CHROMA-2 MT-324 SPEED EDITION (770 X 295 X 4 MM.)\", \"price\": 340, \"href\": \"https://www.bnn.in.th/th/p/gaming-gear/pc-gaming-accessories/gaming-mouse-pad/signo-gaming-mouse-mat-led-chroma-2-mt-324-speed-edition-770-x-295-x-4-mm-8154590213394_dy6yk4\", \"image\": \"https://media-cdn.bnn.in.th/61964/8154590213394-1-square_medium.jpg\", \"spec\": {\"dimension\": \"77 x 29.50 x 0.40 cm.\", \"material\": \"Non-slip Rubber Base\"}}]}, {\"model\": \"mt305\", \"name\": \"SIGNO GAMING MOUSE MAT MT-305\", \"store\": \"Banana\", \"brand\": \"Signo\", \"category\": \"Mousepad\", \"tag\": \"Gaming\", \"data\": [{\"name\": \"SIGNO GAMING MOUSE MAT MT-305 B GROONE BLACK/BLUE\", \"price\": 170, \"href\": \"https://www.bnn.in.th/th/p/gaming-gear/pc-gaming-accessories/gaming-mouse-pad/signo-gaming-mouse-mat-mt-305-b-groone-blackblue-8117830294485_d1148l\", \"image\": \"https://media-cdn.bnn.in.th/123343/Signo-Gaming-Mouse-Mat-Mt-305-B-Groone-BlackBlue-1-square_medium.jpg\", \"spec\": {\"dimension\": \"77 x 29.5 x 0.3 cm.\", \"material\": \"Non-slip Rubber Base\"}}]}, {\"model\": \"mt306\", \"name\": \"SIGNO GAMING MOUSE MAT MT-306\", \"store\": \"Banana\", \"brand\": \"Signo\", \"category\": \"Mousepad\", \"tag\": \"Gaming\", \"data\": [{\"name\": \"SIGNO GAMING MOUSE MAT MT-306 P SPEED\", \"price\": 170, \"href\": \"https://www.bnn.in.th/th/p/gaming-gear/pc-gaming-accessories/gaming-mouse-pad/signo-gaming-mouse-mat-mt-306-p-speed-8113640579231_zvlnop\", \"image\": \"https://media-cdn.bnn.in.th/59810/SIGNO-Gaming-3-square_medium.jpg\", \"spec\": {\"dimension\": \"77 x 29.5 x 0.3 cm.\", \"material\": \"Non-slip Rubber Base\"}}]}, {\"model\": \"mt308\", \"name\": \"SIGNO GAMING MOUSE MAT SPEED MT-308\", \"store\": \"Banana\", \"brand\": \"Signo\", \"category\": \"Mousepad\", \"tag\": \"Gaming\", \"data\": [{\"name\": \"SIGNO GAMING MOUSE MAT SPEED MT-308 (770 X 295 X 3 MM.)\", \"price\": 162, \"href\": \"https://www.bnn.in.th/th/p/gaming-gear/pc-gaming-accessories/gaming-mouse-pad/signo-gaming-mouse-mat-speed-mt-308-770-x-295-x-3-mm-8615520588765_ze0164\", \"image\": \"https://media-cdn.bnn.in.th/67114/8615520588765-1-square_medium.jpg\", \"spec\": {\"dimension\": \"77 x 29.50 x 0.30 cm.\", \"material\": \"Non-slip Rubber Base\"}}]}, {\"model\": \"mt309\", \"name\": \"SIGNO GAMING MOUSE MAT SPEED MT-309\", \"store\": \"Banana\", \"brand\": \"Signo\", \"category\": \"Mousepad\", \"tag\": \"Gaming\", \"data\": [{\"name\": \"SIGNO GAMING MOUSE MAT SPEED MT-309 (770 X 295 X 3 MM.)\", \"price\": 162, \"href\": \"https://www.bnn.in.th/th/p/gaming-gear/pc-gaming-accessories/gaming-mouse-pad/signo-gaming-mouse-mat-speed-mt-309-770-x-295-x-3-mm-8612821183521_dkoewj\", \"image\": \"https://media-cdn.bnn.in.th/67110/8612821183521-1-square_medium.jpg\", \"spec\": {\"dimension\": \"77 x 29.50 x 0.30 cm.\", \"material\": \"Non-slip Rubber Base\"}}]}, {\"model\": \"mt327\", \"name\": \"SIGNO GAMING MOUSE MAT SPEEDER MT-327\", \"store\": \"Banana\", \"brand\": \"Signo\", \"category\": \"Mousepad\", \"tag\": \"Gaming\", \"data\": [{\"name\": \"SIGNO GAMING MOUSE MAT SPEEDER MT-327 BLACK\", \"price\": 230, \"href\": \"https://www.bnn.in.th/th/p/gaming-gear/pc-gaming-accessories/gaming-mouse-pad/signo-gaming-mouse-mat-speeder-mt-327-black-8251936632953_ze0064\", \"image\": \"https://media-cdn.bnn.in.th/63451/Signo-Gaming-Mouse-Mat-Speeder-MT-327-Black-3-square_medium.jpg\", \"spec\": {\"dimension\": \"90.0 x 40.0 x 0.3 cm.\", \"material\": \"Non-slip Rubber Base\"}}]}, {\"model\": \"wr500\", \"name\": \"SIGNO WRIST PAD ZUPLEX WR-500\", \"store\": \"Banana\", \"brand\": \"Signo\", \"category\": \"Mousepad\", \"tag\": \"Gaming\", \"data\": [{\"name\": \"SIGNO WRIST PAD ZUPLEX WR-500 BLACK\", \"price\": 180, \"href\": \"https://www.bnn.in.th/th/p/it-accessories/mouse-and-keyboards/mouse-pad/signo-wrist-pad-zuplex-wr-500-black-8932116573050_d8206y\", \"image\": \"https://media-cdn.bnn.in.th/131060/Signo-Wrist-Pad-Zuplex-WR-500-Black-03-square_medium.jpg\", \"spec\": {\"dimension\": \"44.0 x 9.5 x 1.8 cm.\", \"material\": \"Rubber\"}}]}, {\"model\": \"prismcloth\", \"name\": \"STEELSERIES GAMING MOUSE PAD PRISM CLOTH\", \"store\": \"Banana\", \"brand\": \"Steelseries\", \"category\": \"Mousepad\", \"tag\": \"Gaming\", \"data\": [{\"name\": \"STEELSERIES GAMING MOUSE PAD PRISM CLOTH M SIZE BLACK\", \"price\": 1390, \"href\": \"https://www.bnn.in.th/th/p/gaming-gear/pc-gaming-accessories/gaming-mouse-pad/steelseries-gaming-mouse-pad-prism-cloth-m-size-black-5707119036795_rqyjvz\", \"image\": \"https://media-cdn.bnn.in.th/41895/SteelSeries-Gaming-Mouse-Pad-Prism-Cloth-M-Black-3-square_medium.jpg\", \"spec\": {\"dimension\": \"32 x 27 x 4 cm.\", \"material\": \"Silicon Rubber\"}}]}, {\"model\": \"prismcloth\", \"name\": \"STEELSERIES GAMING MOUSE PAD PRISM CLOTH\", \"store\": \"Banana\", \"brand\": \"Steelseries\", \"category\": \"Mousepad\", \"tag\": \"Gaming\", \"data\": [{\"name\": \"STEELSERIES GAMING MOUSE PAD PRISM CLOTH XL SIZE\", \"price\": 2590, \"href\": \"https://www.bnn.in.th/th/p/gaming-gear/pc-gaming-accessories/gaming-mouse-pad/steelseries-gaming-mouse-pad-prism-cloth-xl-size-5707119036818_d838lz\", \"image\": \"https://media-cdn.bnn.in.th/41897/Steelseries-Gaming-Mouse-Pad-Prism-Cloth-Size-XL-1-square_medium.jpg\", \"spec\": {\"dimension\": \"90 x 0.4 x 30 cm.\", \"material\": \"Silicon Rubber\"}}]}, {\"model\": \"qckedge\", \"name\": \"STEELSERIES GAMING MOUSE PAD QCK EDGE\", \"store\": \"Banana\", \"brand\": \"Steelseries\", \"category\": \"Mousepad\", \"tag\": \"Gaming\", \"data\": [{\"name\": \"STEELSERIES GAMING MOUSE PAD QCK EDGE L SIZE\", \"price\": 673, \"href\": \"https://www.bnn.in.th/th/p/gaming-gear/pc-gaming-accessories/gaming-mouse-pad/steelseries-gaming-mouse-pad-qck-edge-l-size-5707119036757_zg925d\", \"image\": \"https://media-cdn.bnn.in.th/41875/SteelSeries-Gaming-Mouse-Pad-QcK-Edge-L-Size-3-square_medium.jpg\", \"spec\": {\"dimension\": \"45 x 40 x 0.2 cm.\", \"material\": \"Silicon Rubber\"}}]}, {\"model\": \"qckedge\", \"name\": \"STEELSERIES GAMING MOUSE PAD QCK EDGE\", \"store\": \"Banana\", \"brand\": \"Steelseries\", \"category\": \"Mousepad\", \"tag\": \"Gaming\", \"data\": [{\"name\": \"STEELSERIES GAMING MOUSE PAD QCK EDGE M SIZE\", \"price\": 540, \"href\": \"https://www.bnn.in.th/th/p/gaming-gear/pc-gaming-accessories/gaming-mouse-pad/steelseries-gaming-mouse-pad-qck-edge-m-size-5707119036733_d4vg5d\", \"image\": \"https://media-cdn.bnn.in.th/41867/SteelSeries-Gaming-Mouse-Pad-QcK-Edge-M-Size-3-square_medium.jpg\", \"spec\": {\"dimension\": \"32 x 27 x 0.2 cm.\", \"material\": \"Silicon Rubber\"}}]}, {\"model\": \"gtfx\", \"name\": \"ZOWIE GAMING MOUSE PAD G TF- X\", \"store\": \"Banana\", \"brand\": \"Zowie\", \"category\": \"Mousepad\", \"tag\": \"Gaming\", \"data\": [{\"name\": \"ZOWIE GAMING MOUSE PAD G TF- X (L)\", \"price\": 1190, \"href\": \"https://www.bnn.in.th/th/p/gaming-gear/pc-gaming-accessories/gaming-mouse-pad/zowie-gaming-mouse-pad-g-tf-x-l-4718755062650_zp6ped\", \"image\": \"https://media-cdn.bnn.in.th/28045/ZOWIE-Gaming-Mouse-Pad-G-TF-x(L)-3-square_medium.jpg\", \"spec\": {\"dimension\": \"4.7 x 3.9 x 0.35 cm.\", \"material\": \"N/A\"}}]}]'"
      ]
     },
     "execution_count": 17,
     "metadata": {},
     "output_type": "execute_result"
    }
   ],
   "source": [
    "out_mousepad_item"
   ]
  },
  {
   "cell_type": "code",
   "execution_count": 18,
   "metadata": {},
   "outputs": [
    {
     "name": "stdout",
     "output_type": "stream",
     "text": [
      "success\n"
     ]
    }
   ],
   "source": [
    "with open('json_mousepad_gaming.json', 'w',encoding=\"utf-8\") as f:\n",
    "    f.writelines(out_mousepad_item)\n",
    "    print(\"success\")"
   ]
  },
  {
   "cell_type": "code",
   "execution_count": 39,
   "metadata": {},
   "outputs": [],
   "source": [
    "export=[]"
   ]
  },
  {
   "cell_type": "code",
   "execution_count": 54,
   "metadata": {},
   "outputs": [],
   "source": [
    "# for index,val in enumerate(advice_keyboard_working_href):\n",
    "#     print(\"----\",index,\"of\" ,len(advice_keyboard_working_href),\"----\")\n",
    "#     export.append(keyboard_exit(val))"
   ]
  },
  {
   "cell_type": "code",
   "execution_count": 143,
   "metadata": {},
   "outputs": [
    {
     "data": {
      "text/plain": [
       "['https://www.bnn.in.th/th/p/gaming-gear/pc-gaming-accessories/gaming-keyboard/asus-gaming-keyboard-rog-strix-scope-pbtthblue-sw-4718017365741_dy6q2v']"
      ]
     },
     "execution_count": 143,
     "metadata": {},
     "output_type": "execute_result"
    }
   ],
   "source": [
    "nametest = [\"https://www.bnn.in.th/th/p/gaming-gear/pc-gaming-accessories/gaming-keyboard/asus-gaming-keyboard-rog-strix-scope-pbtthblue-sw-4718017365741_dy6q2v\"]\n",
    "nametest "
   ]
  },
  {
   "cell_type": "code",
   "execution_count": 153,
   "metadata": {},
   "outputs": [
    {
     "name": "stdout",
     "output_type": "stream",
     "text": [
      "---- 0 of 1 ----\n",
      "Asus Gaming Keyboard ROG Strix Scope PBT/Th/Blue SW\n",
      "rogstrixscope\n",
      "3190\n",
      "https://media-cdn.bnn.in.th/116583/Asus-Gaming-Keyboard-ROG-Strix-Scope-PBT-Th-Blue-SW-3-square_medium.jpg\n",
      "ASUS\n",
      "https://www.bnn.in.th/th/p/gaming-gear/pc-gaming-accessories/gaming-keyboard/asus-gaming-keyboard-rog-strix-scope-pbtthblue-sw-4718017365741_dy6q2v\n"
     ]
    }
   ],
   "source": [
    "for index,val in enumerate(nametest):\n",
    "    print(\"----\",index,\"of\" ,len(nametest),\"----\")\n",
    "    export.append(keyboard_exit(val))"
   ]
  },
  {
   "cell_type": "code",
   "execution_count": 149,
   "metadata": {},
   "outputs": [
    {
     "data": {
      "text/plain": [
       "[None,\n",
       " {'model': 'rogstrixscope',\n",
       "  'name': 'ASUS GAMING KEYBOARD ROG STRIX SCOPE',\n",
       "  'store': 'Banana',\n",
       "  'brand': 'Asus',\n",
       "  'category': 'Keyboard',\n",
       "  'tag': 'Gaming',\n",
       "  'data': [{'name': 'ASUS GAMING KEYBOARD ROG STRIX SCOPE PBT/TH/BLUE SW',\n",
       "    'price': 3190,\n",
       "    'href': 'https://www.bnn.in.th/th/p/gaming-gear/pc-gaming-accessories/gaming-keyboard/asus-gaming-keyboard-rog-strix-scope-pbtthblue-sw-4718017365741_dy6q2v',\n",
       "    'image': 'https://media-cdn.bnn.in.th/116583/Asus-Gaming-Keyboard-ROG-Strix-Scope-PBT-Th-Blue-SW-3-square_medium.jpg',\n",
       "    'spec': {'interface': 'USB',\n",
       "     'switch': 'N/A',\n",
       "     'layout': '',\n",
       "     'dimension': '44.0x13.7x3.9 cm',\n",
       "     'support': 'N/A'}}]}]"
      ]
     },
     "execution_count": 149,
     "metadata": {},
     "output_type": "execute_result"
    }
   ],
   "source": [
    "export"
   ]
  },
  {
   "cell_type": "code",
   "execution_count": 119,
   "metadata": {},
   "outputs": [],
   "source": [
    "out_keyboard_item= json.dumps(export, ensure_ascii=False)"
   ]
  },
  {
   "cell_type": "code",
   "execution_count": 120,
   "metadata": {},
   "outputs": [
    {
     "data": {
      "text/plain": [
       "'[{\"model\": \"k110\", \"name\": \"HP GAMING K110\", \"store\": \"Advice\", \"brand\": \"Hp.\", \"category\": \"Keyboard\", \"tag\": \"Working\", \"data\": [{\"name\": \"USB KEYBOARD HP GAMING K110 BLACK\", \"price\": 365, \"href\": \"https://www.advice.co.th/product/keyboard/hp/usb-keyboard-hp-gaming-k110-black\", \"image\": \"https://img.advice.co.th/images_nas/pic_product4/A0131629/A0131629OK_BIG_1.jpg\", \"spec\": {\"interface\": \"USB\", \"switch\": \"\", \"layout\": \"104 Keys\", \"dimension\": \"(W x D x H) : 19.22 x 46.37 x 33.09 cm\", \"support\": \"Windows 7 / 8.1 / 10\\\\nMac OS 10.3 or later\"}}]}, {\"model\": \"k500f\", \"name\": \"HP GAMING K500F\", \"store\": \"Advice\", \"brand\": \"Hp.\", \"category\": \"Keyboard\", \"tag\": \"Working\", \"data\": [{\"name\": \"USB KEYBOARD HP GAMING K500F BLACK\", \"price\": 365, \"href\": \"https://www.advice.co.th/product/keyboard/hp/usb-keyboard-hp-gaming-k500f-black\", \"image\": \"https://img.advice.co.th/images_nas/pic_product4/A0130873/A0130873OK_BIG_1.jpg\", \"spec\": {\"interface\": \"USB\", \"switch\": \"\", \"layout\": \"104 Keys\", \"dimension\": \"(W x D x H) : 44.00 x 13.50 x 3.51 cm\", \"support\": \"Microsoft Windows 7 / 8 / 10\"}}]}, {\"model\": \"k120\", \"name\": \"HP GAMING K120\", \"store\": \"Advice\", \"brand\": \"Hp.\", \"category\": \"Keyboard\", \"tag\": \"Working\", \"data\": [{\"name\": \"USB KEYBOARD HP GAMING K120 BLACK\", \"price\": 405, \"href\": \"https://www.advice.co.th/product/keyboard/hp/usb-keyboard-hp-gaming-k120-black\", \"image\": \"https://img.advice.co.th/images_nas/pic_product4/A0138691/A0138691OK_BIG_1.jpg\", \"spec\": {\"interface\": \"USB\", \"switch\": \"\", \"layout\": \"104 Keys\", \"dimension\": \"(W x D x H) : 41.60 x 15.30 x 2.60 cm\", \"support\": \"\"}}]}, {\"model\": \"k300\", \"name\": \"HP GAMING K300\", \"store\": \"Advice\", \"brand\": \"Hp.\", \"category\": \"Keyboard\", \"tag\": \"Working\", \"data\": [{\"name\": \"USB KEYBOARD HP GAMING K300\", \"price\": 415, \"href\": \"https://www.advice.co.th/product/keyboard/hp/usb-keyboard-hp-gaming-k300\", \"image\": \"https://img.advice.co.th/images_nas/pic_product4/A0123531/A0123531OK_BIG_1.jpg\", \"spec\": {\"interface\": \"USB\", \"switch\": \"Non-Mechanical\", \"layout\": \"104 Keys\", \"dimension\": \"\", \"support\": \"\"}}]}, {\"model\": \"kb216\", \"name\": \"DELL KB216\", \"store\": \"Advice\", \"brand\": \"Dell\", \"category\": \"Keyboard\", \"tag\": \"Working\", \"data\": [{\"name\": \"USB KEYBOARD DELL (KB216) BLACK\", \"price\": 195, \"href\": \"https://www.advice.co.th/product/keyboard/dell/usb-keyboard-dell-kb216-black\", \"image\": \"https://img.advice.co.th/images_nas/pic_product4/A0137743/A0137743OK_BIG_1.jpg\", \"spec\": {\"interface\": \"USB\", \"switch\": \"\", \"layout\": \"104 Keys\", \"dimension\": \"(W x D x H) : 12.70 x 44.19 x 2.54 cm\", \"support\": \"\"}}]}, {\"model\": \"k120\", \"name\": \"HP GAMING K120\", \"store\": \"Advice\", \"brand\": \"Logitech\", \"category\": \"Keyboard\", \"tag\": \"Working\", \"data\": [{\"name\": \"USB KEYBOARD LOGITECH (K120) BLACK\", \"price\": 270, \"href\": \"https://www.advice.co.th/product/keyboard/logitech/usb-keyboard-logitech-k120-black\", \"image\": \"https://img.advice.co.th/images_nas/pic_product4/A0035187/A0035187OK_BIG_1.jpg\", \"spec\": {\"interface\": \"USB\", \"switch\": \"\", \"layout\": \"104 key\", \"dimension\": \"\", \"support\": \"\"}}]}, null, null, {\"model\": \"k480\", \"name\": \"BLUETOOTH KEYBOARD MULTI-DEVICE LOGITECH K480 \", \"store\": \"Advice\", \"brand\": \"Logitech\", \"category\": \"Keyboard\", \"tag\": \"Working\", \"data\": [{\"name\": \"BLUETOOTH KEYBOARD MULTI-DEVICE LOGITECH K480 BLACK\", \"price\": 1160, \"href\": \"https://www.advice.co.th/product/keyboard/logitech/bluetooth-keyboard-multi-device-logitech-k480-black\", \"image\": \"https://img.advice.co.th/images_nas/pic_product4/A0082709/A0082709OK_BIG_1.jpg\", \"spec\": {\"interface\": \"BLUETOOTH\", \"switch\": \"\", \"layout\": \"82 Keys (EN\\\\\\\\TH)\", \"dimension\": \"\", \"support\": \"Windows, Mac OS, Android และ iOS\"}}]}, {\"model\": \"k480\", \"name\": \"BLUETOOTH KEYBOARD MULTI-DEVICE LOGITECH K480 \", \"store\": \"Advice\", \"brand\": \"Logitech\", \"category\": \"Keyboard\", \"tag\": \"Working\", \"data\": [{\"name\": \"BLUETOOTH KEYBOARD MULTI-DEVICE LOGITECH K480 WHITE\", \"price\": 1160, \"href\": \"https://www.advice.co.th/product/keyboard/logitech/bluetooth-keyboard-multi-device-logitech-k480-white\", \"image\": \"https://img.advice.co.th/images_nas/pic_product4/A0083367/A0083367OK_BIG_1.jpg\", \"spec\": {\"interface\": \"BLUETOOTH\", \"switch\": \"\", \"layout\": \"82 Keys (EN\\\\\\\\TH)\", \"dimension\": \"\", \"support\": \"Windows, Mac OS, Android และ iOS\"}}]}, {\"model\": \"n9z00027\", \"name\": \"USB WIRELESS ALL-IN-ONE MEDIA MICROSOFT BLACK N9Z-00027\", \"store\": \"Advice\", \"brand\": \"Microsoft\", \"category\": \"Keyboard\", \"tag\": \"Working\", \"data\": [{\"name\": \"USB WIRELESS ALL-IN-ONE MEDIA MICROSOFT BLACK \\'N9Z-00027\\'\", \"price\": 1145, \"href\": \"https://www.advice.co.th/product/keyboard/microsoft/usb-wireless-all-in-one-media-microsoft-black-n9z-00027-\", \"image\": \"https://img.advice.co.th/images_nas/pic_product4/A0088241/A0088241OK_BIG_1.jpg\", \"spec\": {\"interface\": \"USB\", \"switch\": \"\", \"layout\": \"\", \"dimension\": \"\", \"support\": \"Windows 10, Windows 8.1, Windows® 8, Windows RT 8.1,\\\\nWindows RT 8, Windows 7\"}}]}, null, {\"model\": \"nk1800\", \"name\": \"USB KEYBOARD RAPOO (NK1800)\", \"store\": \"Advice\", \"brand\": \"Rapoo\", \"category\": \"Keyboard\", \"tag\": \"Working\", \"data\": [{\"name\": \"USB KEYBOARD RAPOO (NK1800) BLACK\", \"price\": 240, \"href\": \"https://www.advice.co.th/product/keyboard/rapoo/usb-keyboard-rapoo-nk1800-black\", \"image\": \"https://img.advice.co.th/images_nas/pic_product4/A0130480/A0130480OK_BIG_1.jpg\", \"spec\": {\"interface\": \"USB\", \"switch\": \"\", \"layout\": \"104 Keys\", \"dimension\": \"\", \"support\": \"\"}}]}, {\"model\": \"kbe1050bk\", \"name\": \"USB WIRELESS KEYBOARD RAPOO (KB-E1050-BK)\", \"store\": \"Advice\", \"brand\": \"Rapoo\", \"category\": \"Keyboard\", \"tag\": \"Working\", \"data\": [{\"name\": \"USB WIRELESS KEYBOARD RAPOO (KB-E1050-BK) BLACK\", \"price\": 385, \"href\": \"https://www.advice.co.th/product/keyboard/rapoo/usb-wireless-keyboard-rapoo-kb-e1050-bk-black\", \"image\": \"https://img.advice.co.th/images_nas/pic_product4/A0074133/A0074133OK_BIG_1.jpg\", \"spec\": {\"interface\": \"USB\", \"switch\": \"\", \"layout\": \"104 Keys\", \"dimension\": \"\", \"support\": \"WindownXp /Visa/7/8\"}}]}, {\"model\": \"kbk2800bk\", \"name\": \"USB WIRELESS KEYBOARD RAPOO (KB-K2800-BK)\", \"store\": \"Advice\", \"brand\": \"Rapoo\", \"category\": \"Keyboard\", \"tag\": \"Working\", \"data\": [{\"name\": \"USB WIRELESS KEYBOARD RAPOO (KB-K2800-BK) BLACK\", \"price\": 725, \"href\": \"https://www.advice.co.th/product/keyboard/rapoo/usb-wireless-keyboard-rapoo-kb-k2800-bk-black\", \"image\": \"https://img.advice.co.th/images_nas/pic_product4/A0124923/A0124923OK_BIG_1.jpg\", \"spec\": {\"interface\": \"USB Wireless\\\\nสามารถใช้งานได้ไกล 10 เมตร (ในพื้นที่โล่ง)\", \"switch\": \"78 Keys\", \"layout\": \"\", \"dimension\": \"\", \"support\": \"\"}}]}, {\"model\": \"xk100bk\", \"name\": \"BLUETOOTH KEYBOARD RAPOO (XK100-BK) BLACK\", \"store\": \"Advice\", \"brand\": \"Rapoo\", \"category\": \"Keyboard\", \"tag\": \"Working\", \"data\": [{\"name\": \"BLUETOOTH KEYBOARD RAPOO (XK100-BK) BLACK\", \"price\": 725, \"href\": \"https://www.advice.co.th/product/keyboard/rapoo/bluetooth-keyboard-rapoo-xk100-bk-black\", \"image\": \"https://img.advice.co.th/images_nas/pic_product4/A0135150/A0135150OK_BIG_1.jpg\", \"spec\": {\"interface\": \"Bluetooth\", \"switch\": \"\", \"layout\": \"78 Keys\", \"dimension\": \"\", \"support\": \"\"}}]}, {\"model\": \"kb103\", \"name\": \"USB KEYBOARD LECOO (KB103)\", \"store\": \"Advice\", \"brand\": \"Lecoo\", \"category\": \"Keyboard\", \"tag\": \"Working\", \"data\": [{\"name\": \"USB KEYBOARD LECOO (KB103) BLACK BY LENOVO\", \"price\": 200, \"href\": \"https://www.advice.co.th/product/keyboard/lecoo-by-lenovo/usb-keyboard-lecoo-kb103-black-by-lenovo\", \"image\": \"https://img.advice.co.th/images_nas/pic_product4/A0137831/A0137831OK_BIG_1.jpg\", \"spec\": {\"interface\": \"USB\", \"switch\": \"\", \"layout\": \"103 Keys\", \"dimension\": \"(W x D x H) : 15.60 x 43.00 x 2.50 cm\", \"support\": \"\"}}]}, {\"model\": \"kb210m\", \"name\": \"USB KEYBOARD MINI MD-TECH (KB-210M)\", \"store\": \"Advice\", \"brand\": \"Md-tech\", \"category\": \"Keyboard\", \"tag\": \"Working\", \"data\": [{\"name\": \"USB KEYBOARD MINI MD-TECH (KB-210M) BLACK\", \"price\": 170, \"href\": \"https://www.advice.co.th/product/keyboard/md-tech/usb-keyboard-mini-md-tech-kb-210m-black\", \"image\": \"https://img.advice.co.th/images_nas/pic_product4/A0110649/A0110649OK_BIG_1.jpg\", \"spec\": {\"interface\": \"USB\", \"switch\": \"\", \"layout\": \"83 Key\", \"dimension\": \"\", \"support\": \"Windows XP / 2000 / Vista /10 /MAC OS\"}}]}, {\"model\": \"kb19\", \"name\": \"USB KEYBOARD MD-TECH (KB-19) BLACK\", \"store\": \"Advice\", \"brand\": \"Md-tech\", \"category\": \"Keyboard\", \"tag\": \"Working\", \"data\": [{\"name\": \"USB KEYBOARD MD-TECH (KB-19) BLACK\", \"price\": 125, \"href\": \"https://www.advice.co.th/product/keyboard/md-tech/usb-keyboard-md-tech-kb-19-black\", \"image\": \"https://img.advice.co.th/images_nas/pic_product4/A0137310/A0137310OK_BIG_1.jpg\", \"spec\": {\"interface\": \"USB\", \"switch\": \"\", \"layout\": \"104 Keys\", \"dimension\": \"\", \"support\": \"\"}}]}, null, {\"model\": \"kb674\", \"name\": \"USB KEYBOARD MD-TECH (KB-674)\", \"store\": \"Advice\", \"brand\": \"Md-tech\", \"category\": \"Keyboard\", \"tag\": \"Working\", \"data\": [{\"name\": \"USB KEYBOARD MD-TECH (KB-674) BLACK/RED\", \"price\": 130, \"href\": \"https://www.advice.co.th/product/keyboard/md-tech/usb-keyboard-md-tech-kb-674-black-red\", \"image\": \"https://img.advice.co.th/images_nas/pic_product4/A0128744/A0128744OK_BIG_1.jpg\", \"spec\": {\"interface\": \"USB 2.0\", \"switch\": \"RUBBER\", \"layout\": \"104 Key\", \"dimension\": \"\", \"support\": \"Windows XP/Vista/7/8/10/Mac/Linux\"}}]}, {\"model\": \"kb674\", \"name\": \"USB KEYBOARD MD-TECH (KB-674)\", \"store\": \"Advice\", \"brand\": \"Md-tech\", \"category\": \"Keyboard\", \"tag\": \"Working\", \"data\": [{\"name\": \"USB KEYBOARD MD-TECH (KB-674) BLACK/BLUE\", \"price\": 130, \"href\": \"https://www.advice.co.th/product/keyboard/md-tech/usb-keyboard-md-tech-kb-674-black-blue\", \"image\": \"https://img.advice.co.th/images_nas/pic_product4/A0128745/A0128745OK_BIG_1.jpg\", \"spec\": {\"interface\": \"USB 2.0\", \"switch\": \"RUBBER\", \"layout\": \"104 Key\", \"dimension\": \"\", \"support\": \"Windows XP/Vista/7/8/10/Mac/Linux\"}}]}, {\"model\": \"kb667\", \"name\": \"USB KEYBOARD MD-TECH (KB-667) \", \"store\": \"Advice\", \"brand\": \"Md-tech\", \"category\": \"Keyboard\", \"tag\": \"Working\", \"data\": [{\"name\": \"USB KEYBOARD MD-TECH (KB-667) BLACK\", \"price\": 140, \"href\": \"https://www.advice.co.th/product/keyboard/md-tech/usb-keyboard-md-tech-kb-667-black\", \"image\": \"https://img.advice.co.th/images_nas/pic_product4/A0135149/A0135149OK_BIG_1.jpg\", \"spec\": {\"interface\": \"USB\", \"switch\": \"\", \"layout\": \"104 Keys\", \"dimension\": \"(W x D x H) : 45.50 x 14.00 x 2.00 cm\", \"support\": \"Windows XP, Vista, 7, 8, 10\"}}]}, {\"model\": \"kb670\", \"name\": \"USB KEYBOARD MD-TECH (KB-670)\", \"store\": \"Advice\", \"brand\": \"Md-tech\", \"category\": \"Keyboard\", \"tag\": \"Working\", \"data\": [{\"name\": \"USB KEYBOARD MD-TECH (KB-670) BLACK\", \"price\": 140, \"href\": \"https://www.advice.co.th/product/keyboard/md-tech/usb-keyboard-md-tech-kb-670-black\", \"image\": \"https://img.advice.co.th/images_nas/pic_product4/A0083281/A0083281OK_BIG_1.jpg\", \"spec\": {\"interface\": \"USB\", \"switch\": \"\", \"layout\": \"104 Keys\", \"dimension\": \"\", \"support\": \"\"}}]}, null, {\"model\": \"kb666\", \"name\": \"USB KEYBOARD MD-TECH (KB-666)\", \"store\": \"Advice\", \"brand\": \"Md-tech\", \"category\": \"Keyboard\", \"tag\": \"Working\", \"data\": [{\"name\": \"USB KEYBOARD MD-TECH (KB-666) BLACK\", \"price\": 165, \"href\": \"https://www.advice.co.th/product/keyboard/md-tech/usb-keyboard-md-tech-kb-666-black\", \"image\": \"https://img.advice.co.th/images_nas/pic_product4/A0024196/A0024196OK_BIG_1.jpg\", \"spec\": {\"interface\": \"USB\", \"switch\": \"\", \"layout\": \"107 Keys\", \"dimension\": \"\", \"support\": \"\"}}]}, null, {\"model\": \"kb15\", \"name\": \"USB KEYBOARD MD-TECH (KB-15)\", \"store\": \"Advice\", \"brand\": \"Md-tech\", \"category\": \"Keyboard\", \"tag\": \"Working\", \"data\": [{\"name\": \"USB KEYBOARD MD-TECH (KB-15) BLACK/GREEN\", \"price\": 170, \"href\": \"https://www.advice.co.th/product/keyboard/md-tech/usb-keyboard-md-tech-kb-15-black-green\", \"image\": \"https://img.advice.co.th/images_nas/pic_product4/A0105612/A0105612OK_BIG_1.jpg\", \"spec\": {\"interface\": \"USB 2.0\", \"switch\": \"\", \"layout\": \"104 Key\", \"dimension\": \"\", \"support\": \"Windows 10, 98,Mac\"}}]}, {\"model\": \"kb15\", \"name\": \"USB KEYBOARD MD-TECH (KB-15)\", \"store\": \"Advice\", \"brand\": \"Md-tech\", \"category\": \"Keyboard\", \"tag\": \"Working\", \"data\": [{\"name\": \"USB KEYBOARD MD-TECH (KB-15) BLACK/WHITE\", \"price\": 170, \"href\": \"https://www.advice.co.th/product/keyboard/md-tech/usb-keyboard-md-tech-kb-15-black-white\", \"image\": \"https://img.advice.co.th/images_nas/pic_product4/A0105613/A0105613OK_BIG_1.jpg\", \"spec\": {\"interface\": \"USB 2.0\", \"switch\": \"\", \"layout\": \"104 Key\", \"dimension\": \"\", \"support\": \"Windows 10, 98,Mac\"}}]}, {\"model\": \"kb15\", \"name\": \"USB KEYBOARD MD-TECH (KB-15)\", \"store\": \"Advice\", \"brand\": \"Md-tech\", \"category\": \"Keyboard\", \"tag\": \"Working\", \"data\": [{\"name\": \"USB KEYBOARD MD-TECH (KB-15) BLACK/BLUE\", \"price\": 170, \"href\": \"https://www.advice.co.th/product/keyboard/md-tech/usb-keyboard-md-tech-kb-15-black-blue\", \"image\": \"https://img.advice.co.th/images_nas/pic_product4/A0105611/A0105611OK_BIG_1.jpg\", \"spec\": {\"interface\": \"USB 2.0\", \"switch\": \"\", \"layout\": \"104 Key\", \"dimension\": \"\", \"support\": \"Windows 10, 98,Mac\"}}]}, {\"model\": \"kb319m\", \"name\": \"USB KEYBOARD MD-TECH (KB-319M )\", \"store\": \"Advice\", \"brand\": \"Md-tech\", \"category\": \"Keyboard\", \"tag\": \"Working\", \"data\": [{\"name\": \"USB KEYBOARD MD-TECH (KB-319M ) BLACK\", \"price\": 180, \"href\": \"https://www.advice.co.th/product/keyboard/md-tech/usb-keyboard-md-tech-kb-319m-black\", \"image\": \"https://img.advice.co.th/images_nas/pic_product4/A0132251/A0132251OK_BIG_1.jpg\", \"spec\": {\"interface\": \"USB\", \"switch\": \"\", \"layout\": \"116 Keys\", \"dimension\": \"(W x D x H) : 44.80 x 16.80 x 2.96 cm\", \"support\": \"Windows 10 / 8 / 7 / Visto / XP\\\\nChrome OS\\\\nLinux Kernel 2.6+\"}}]}, {\"model\": \"kb222m\", \"name\": \"USB KEYBOARD MD-TECH (KB-222M)\", \"store\": \"Advice\", \"brand\": \"Md-tech\", \"category\": \"Keyboard\", \"tag\": \"Working\", \"data\": [{\"name\": \"USB KEYBOARD MD-TECH (KB-222M) BLACK/RED\", \"price\": 180, \"href\": \"https://www.advice.co.th/product/keyboard/md-tech/usb-keyboard-md-tech-kb-222m-black-red\", \"image\": \"https://img.advice.co.th/images_nas/pic_product4/A0104149/A0104149OK_BIG_1.jpg\", \"spec\": {\"interface\": \"USB\", \"switch\": \"\", \"layout\": \"111 Keys\", \"dimension\": \"\", \"support\": \"Windows 10 /MAC OS\"}}]}, {\"model\": \"kb222m\", \"name\": \"USB KEYBOARD MD-TECH (KB-222M)\", \"store\": \"Advice\", \"brand\": \"Md-tech\", \"category\": \"Keyboard\", \"tag\": \"Working\", \"data\": [{\"name\": \"USB KEYBOARD MD-TECH (KB-222M) BLACK/BLUE\", \"price\": 180, \"href\": \"https://www.advice.co.th/product/keyboard/md-tech/usb-keyboard-md-tech-kb-222m-black-blue\", \"image\": \"https://img.advice.co.th/images_nas/pic_product4/A0101324/A0101324OK_BIG_1.jpg\", \"spec\": {\"interface\": \"USB\", \"switch\": \"\", \"layout\": \"111 Keys\", \"dimension\": \"\", \"support\": \"Windows 10 /MAC OS\"}}]}, {\"model\": \"k5\", \"name\": \"USB KEYBOARD MD-TECH (K-5)\", \"store\": \"Advice\", \"brand\": \"Md-tech\", \"category\": \"Keyboard\", \"tag\": \"Working\", \"data\": [{\"name\": \"USB KEYBOARD MD-TECH (K-5) BLACK\", \"price\": 220, \"href\": \"https://www.advice.co.th/product/keyboard/md-tech/usb-keyboard-md-tech-k-5-black\", \"image\": \"https://img.advice.co.th/images_nas/pic_product4/A0122446/A0122446OK_BIG_1.jpg\", \"spec\": {\"interface\": \"USB\", \"switch\": \"\", \"layout\": \"104 Keys\", \"dimension\": \"\", \"support\": \"Windows 10/ 8 / 7 / Vista / XP/ Linux / Mac OS\"}}]}, {\"model\": \"nk35\", \"name\": \"USB KEYBOARD MINI NUBWO (NK-35)\", \"store\": \"Advice\", \"brand\": \"Nubwo\", \"category\": \"Keyboard\", \"tag\": \"Working\", \"data\": [{\"name\": \"USB KEYBOARD MINI NUBWO (NK-35) BLACK\", \"price\": 140, \"href\": \"https://www.advice.co.th/product/keyboard/nubwo/usb-keyboard-mini-nubwo-nk-35-black\", \"image\": \"https://img.advice.co.th/images_nas/pic_product4/A0135629/A0135629OK_BIG_1.jpg\", \"spec\": {\"interface\": \"USB\", \"switch\": \"\", \"layout\": \"78 Keys\", \"dimension\": \"(W x D x H) : 13.00 x 28.50 x 2.50 cm\", \"support\": \"\"}}]}, {\"model\": \"nk38\", \"name\": \"USB KEYBOARD MINI NUBWO (NK-38)\", \"store\": \"Advice\", \"brand\": \"Nubwo\", \"category\": \"Keyboard\", \"tag\": \"Working\", \"data\": [{\"name\": \"USB KEYBOARD MINI NUBWO (NK-38) \\'WIZARDY\\' BLACK\", \"price\": 315, \"href\": \"https://www.advice.co.th/product/keyboard/nubwo/usb-keyboard-mini-nubwo-nk-38-wizardy-black\", \"image\": \"https://img.advice.co.th/images_nas/pic_product4/A0138783/A0138783OK_BIG_1.jpg\", \"spec\": {\"interface\": \"USB\", \"switch\": \"N/A\", \"layout\": \"61 Key\", \"dimension\": \"(W x D x H) : 30.00 x 11.00 x 3.30 cm\", \"support\": \"Windows 7, 8, 10, etc\"}}]}, {\"model\": \"nk38\", \"name\": \"USB KEYBOARD MINI NUBWO (NK-38)\", \"store\": \"Advice\", \"brand\": \"Nubwo\", \"category\": \"Keyboard\", \"tag\": \"Working\", \"data\": [{\"name\": \"USB KEYBOARD MINI NUBWO (NK-38) \\'WIZARDY\\' WHITE\", \"price\": 345, \"href\": \"https://www.advice.co.th/product/keyboard/nubwo/usb-keyboard-mini-nubwo-nk-38-wizardy-white\", \"image\": \"https://img.advice.co.th/images_nas/pic_product4/A0138784/A0138784OK_BIG_1.jpg\", \"spec\": {\"interface\": \"USB\", \"switch\": \"N/A\", \"layout\": \"61 Key\", \"dimension\": \"(W x D x H) : 30.00 x 11.00 x 3.30 cm\", \"support\": \"Windows 7, 8, 10, etc\"}}]}, {\"model\": \"nk15\", \"name\": \"USB KEYBOARD NUBWO (NK-15)\", \"store\": \"Advice\", \"brand\": \"Nubwo\", \"category\": \"Keyboard\", \"tag\": \"Working\", \"data\": [{\"name\": \"USB KEYBOARD NUBWO (NK-15 QUIET) BLACK/RED\", \"price\": 150, \"href\": \"https://www.advice.co.th/product/keyboard/nubwo/usb-keyboard-nubwo-nk-15-quiet-black-red\", \"image\": \"https://img.advice.co.th/images_nas/pic_product4/A0102943/A0102943OK_BIG_1.jpg\", \"spec\": {\"interface\": \"USB\", \"switch\": \"\", \"layout\": \"104 key\", \"dimension\": \"\", \"support\": \"Windows / MACos\"}}]}, {\"model\": \"nk25\", \"name\": \"USB KEYBOARD NUBWO (NK-25) \", \"store\": \"Advice\", \"brand\": \"Nubwo\", \"category\": \"Keyboard\", \"tag\": \"Working\", \"data\": [{\"name\": \"USB KEYBOARD NUBWO (NK-25) \\'AZALIA\\' BLACK\", \"price\": 155, \"href\": \"https://www.advice.co.th/product/keyboard/nubwo/usb-keyboard-nubwo-nk-25-azalia-black\", \"image\": \"https://img.advice.co.th/images_nas/pic_product4/A0137666/A0137666OK_BIG_1.jpg\", \"spec\": {\"interface\": \"USB\", \"switch\": \"Rubber Dome\", \"layout\": \"104 Keys\", \"dimension\": \"\", \"support\": \"\"}}]}, {\"model\": \"nk36\", \"name\": \"USB KEYBOARD NUBWO (NK-36)\", \"store\": \"Advice\", \"brand\": \"Nubwo\", \"category\": \"Keyboard\", \"tag\": \"Working\", \"data\": [{\"name\": \"USB KEYBOARD NUBWO (NK-36) \\'MARS\\' BLACK\", \"price\": 200, \"href\": \"https://www.advice.co.th/product/keyboard/nubwo/usb-keyboard-nubwo-nk-36-mars-black\", \"image\": \"https://img.advice.co.th/images_nas/pic_product4/A0136035/A0136035OK_BIG_1.jpg\", \"spec\": {\"interface\": \"USB\", \"switch\": \"Rubber Dome Switches\", \"layout\": \"104 Keys\", \"dimension\": \"\", \"support\": \"\"}}]}, {\"model\": \"nk032fortune\", \"name\": \"USB KEYBOARD NUBWO (NK-032 FORTUNE)\", \"store\": \"Advice\", \"brand\": \"Nubwo\", \"category\": \"Keyboard\", \"tag\": \"Working\", \"data\": [{\"name\": \"USB KEYBOARD NUBWO (NK-032 FORTUNE) SILVER/BLACK\", \"price\": 340, \"href\": \"https://www.advice.co.th/product/keyboard/nubwo/usb-keyboard-nubwo-nk-032-fortune-silver-black\", \"image\": \"https://img.advice.co.th/images_nas/pic_product4/A0122608/A0122608OK_BIG_1.jpg\", \"spec\": {\"interface\": \"USB\", \"switch\": \"\", \"layout\": \"104 Keys\", \"dimension\": \"\", \"support\": \"Windows 7/8/10/MAC ETC.\"}}]}, {\"model\": \"nk032fortune\", \"name\": \"USB KEYBOARD NUBWO (NK-032 FORTUNE)\", \"store\": \"Advice\", \"brand\": \"Nubwo\", \"category\": \"Keyboard\", \"tag\": \"Working\", \"data\": [{\"name\": \"USB KEYBOARD NUBWO (NK-032 FORTUNE) SILVER/WHITE\", \"price\": 340, \"href\": \"https://www.advice.co.th/product/keyboard/nubwo/usb-keyboard-nubwo-nk-032-fortune-silver-white\", \"image\": \"https://img.advice.co.th/images_nas/pic_product4/A0122609/A0122609OK_BIG_1.jpg\", \"spec\": {\"interface\": \"USB\", \"switch\": \"\", \"layout\": \"104 Keys\", \"dimension\": \"\", \"support\": \"Windows 7/8/10/MAC ETC.\"}}]}, {\"model\": \"nk032fortune\", \"name\": \"USB KEYBOARD NUBWO (NK-032 FORTUNE)\", \"store\": \"Advice\", \"brand\": \"Nubwo\", \"category\": \"Keyboard\", \"tag\": \"Working\", \"data\": [{\"name\": \"USB KEYBOARD NUBWO (NK-032 FORTUNE) PINK/WHITE\", \"price\": 459, \"href\": \"https://www.advice.co.th/product/keyboard/nubwo/usb-keyboard-nubwo-nk-032-fortune-pink-white\", \"image\": \"https://img.advice.co.th/images_nas/pic_product4/A0132005/A0132005OK_BIG_1.jpg\", \"spec\": {\"interface\": \"USB\", \"switch\": \"\", \"layout\": \"104 Keys\", \"dimension\": \"\", \"support\": \"\"}}]}, {\"model\": \"nk34\", \"name\": \"USB KEYBOARD NUBWO (NK-34)\", \"store\": \"Advice\", \"brand\": \"Nubwo\", \"category\": \"Keyboard\", \"tag\": \"Working\", \"data\": [{\"name\": \"USB KEYBOARD NUBWO (NK-34) \\'FLICKER\\' BLACK\", \"price\": 729, \"href\": \"https://www.advice.co.th/product/keyboard/nubwo/usb-keyboard-nubwo-nk-34-flicker-black\", \"image\": \"https://img.advice.co.th/images_nas/pic_product4/A0136733/A0136733OK_BIG_1.jpg\", \"spec\": {\"interface\": \"USB\", \"switch\": \"Mechanical Switch\", \"layout\": \"104 Keys\", \"dimension\": \"\", \"support\": \"\"}}]}, {\"model\": \"nk34\", \"name\": \"USB KEYBOARD NUBWO (NK-34)\", \"store\": \"Advice\", \"brand\": \"\", \"category\": \"Keyboard\", \"tag\": \"Working\", \"data\": [{\"name\": \"USB KEYBOARD NUBWO (NK-34) \\'FLICKER\\' ROSE GOLD\", \"price\": 729, \"href\": \"https://www.advice.co.th/product/keyboard/nubwo/usb-keyboard-nubwo-nk-34-flicker-rose-gold\", \"image\": \"https://img.advice.co.th/images_nas/pic_product4/A0136734/A0136734OK_BIG_1.jpg\", \"spec\": {\"interface\": \"\", \"switch\": \"\", \"layout\": \"\", \"dimension\": \"\", \"support\": \"\"}}]}, {\"model\": \"nk34\", \"name\": \"USB KEYBOARD NUBWO (NK-34)\", \"store\": \"Advice\", \"brand\": \"Nubwo\", \"category\": \"Keyboard\", \"tag\": \"Working\", \"data\": [{\"name\": \"USB KEYBOARD NUBWO (NK-34) \\'FLICKER\\' SILVER/WHITE\", \"price\": 729, \"href\": \"https://www.advice.co.th/product/keyboard/nubwo/usb-keyboard-nubwo-nk-34-flicker-silver-white\", \"image\": \"https://img.advice.co.th/images_nas/pic_product4/A0136736/A0136736OK_BIG_1.jpg\", \"spec\": {\"interface\": \"USB\", \"switch\": \"Mechanical Switch\", \"layout\": \"104 Keys\", \"dimension\": \"\", \"support\": \"\"}}]}, {\"model\": \"nkb100\", \"name\": \"BLUETOOTH KEYBOARD NUBWO (NKB-100)\", \"store\": \"Advice\", \"brand\": \"Nubwo\", \"category\": \"Keyboard\", \"tag\": \"Working\", \"data\": [{\"name\": \"BLUETOOTH KEYBOARD NUBWO (NKB-100) BLACK\", \"price\": 230, \"href\": \"https://www.advice.co.th/product/keyboard/nubwo/bluetooth-keyboard-nubwo-nkb-100-black\", \"image\": \"https://img.advice.co.th/images_nas/pic_product4/A0123915/A0123915OK_BIG_1.jpg\", \"spec\": {\"interface\": \"Bluetooth\", \"switch\": \"\", \"layout\": \"78 Keys\", \"dimension\": \"\", \"support\": \"Android, IOS and Windows operating system.\"}}]}, {\"model\": \"f6\", \"name\": \"USB KEYBOARD MINI OKER (F6)\", \"store\": \"Advice\", \"brand\": \"Oker\", \"category\": \"Keyboard\", \"tag\": \"Working\", \"data\": [{\"name\": \"USB KEYBOARD MINI OKER (F6) WHITE\", \"price\": 150, \"href\": \"https://www.advice.co.th/product/keyboard/oker/usb-keyboard-mini-oker-f6-white\", \"image\": \"https://img.advice.co.th/images_nas/pic_product4/A0089114/A0089114OK_BIG_1.jpg\", \"spec\": {\"interface\": \"USB 2.0\", \"switch\": \"\", \"layout\": \"\", \"dimension\": \"\", \"support\": \"Win xp/2000/VISTA/7/8,MAC OS 10.3 and above version\"}}]}, null, {\"model\": \"f8\", \"name\": \"USB KEYBOARD MINI OKER (F8)\", \"store\": \"Advice\", \"brand\": \"\", \"category\": \"Keyboard\", \"tag\": \"Working\", \"data\": [{\"name\": \"USB KEYBOARD MINI OKER (F8) BLACK\", \"price\": 180, \"href\": \"https://www.advice.co.th/product/keyboard/oker/usb-keyboard-mini-oker-f8-black\", \"image\": \"https://img.advice.co.th/images_nas/pic_product4/A0071698/A0071698OK_BIG_1.jpg\", \"spec\": {\"interface\": \"USB\", \"switch\": \"\", \"layout\": \"89 Keys\", \"dimension\": \"\", \"support\": \"\"}}]}, {\"model\": \"kb318\", \"name\": \"USB KEYBOARD OKER (KB-318)\", \"store\": \"Advice\", \"brand\": \"Oker\", \"category\": \"Keyboard\", \"tag\": \"Working\", \"data\": [{\"name\": \"USB KEYBOARD OKER (KB-318) BLACK/BLUE\", \"price\": 125, \"href\": \"https://www.advice.co.th/product/keyboard/oker/usb-keyboard-oker-kb-318-black-blue\", \"image\": \"https://img.advice.co.th/images_nas/pic_product4/A0116844/A0116844OK_BIG_1.jpg\", \"spec\": {\"interface\": \"USB\", \"switch\": \"\", \"layout\": \"104 Keys\", \"dimension\": \"\", \"support\": \"Windows XP / Windows 2000 / Windows Vista / Windows 7/8/10\\\\nMac OS 10.3 และรุ่นที2สูงกว่า\"}}]}, {\"model\": \"kb318\", \"name\": \"USB KEYBOARD OKER (KB-318)\", \"store\": \"Advice\", \"brand\": \"\", \"category\": \"Keyboard\", \"tag\": \"Working\", \"data\": [{\"name\": \"USB KEYBOARD OKER (KB-318) BLACK/ORANGE\", \"price\": 125, \"href\": \"https://www.advice.co.th/product/keyboard/oker/usb-keyboard-oker-kb-318-black-orange\", \"image\": \"https://img.advice.co.th/images_nas/pic_product4/A0116843/A0116843OK_BIG_1.jpg\", \"spec\": {\"interface\": \"\", \"switch\": \"\", \"layout\": \"\", \"dimension\": \"\", \"support\": \"\"}}]}, {\"model\": \"kb318\", \"name\": \"USB KEYBOARD OKER (KB-318)\", \"store\": \"Advice\", \"brand\": \"Oker\", \"category\": \"Keyboard\", \"tag\": \"Working\", \"data\": [{\"name\": \"USB KEYBOARD OKER (KB-318) BLACK/YELLOW\", \"price\": 125, \"href\": \"https://www.advice.co.th/product/keyboard/oker/usb-keyboard-oker-kb-318-black-yellow\", \"image\": \"https://img.advice.co.th/images_nas/pic_product4/A0116842/A0116842OK_BIG_1.jpg\", \"spec\": {\"interface\": \"USB\", \"switch\": \"\", \"layout\": \"104 Keys\", \"dimension\": \"\", \"support\": \"Windows XP / Windows 2000 / Windows Vista / Windows 7/8/10\\\\nMac OS 10.3 และรุ่นที2สูงกว่า\"}}]}, {\"model\": \"kb318\", \"name\": \"USB KEYBOARD OKER (KB-318)\", \"store\": \"Advice\", \"brand\": \"Oker\", \"category\": \"Keyboard\", \"tag\": \"Working\", \"data\": [{\"name\": \"USB KEYBOARD OKER (KB-318) BLACK\", \"price\": 125, \"href\": \"https://www.advice.co.th/product/keyboard/oker/usb-keyboard-oker-kb-318-black\", \"image\": \"https://img.advice.co.th/images_nas/pic_product4/A0116841/A0116841OK_BIG_1.jpg\", \"spec\": {\"interface\": \"USB\", \"switch\": \"\", \"layout\": \"104 Keys\", \"dimension\": \"\", \"support\": \"Windows XP / Windows 2000 / Windows Vista / Windows 7/8/10\\\\nMac OS 10.3 และรุ่นที2สูงกว่า\"}}]}, {\"model\": \"kb758\", \"name\": \"USB KEYBOARD OKER (KB-758)\", \"store\": \"Advice\", \"brand\": \"Oker\", \"category\": \"Keyboard\", \"tag\": \"Working\", \"data\": [{\"name\": \"USB KEYBOARD OKER (KB-758) BLACK\", \"price\": 155, \"href\": \"https://www.advice.co.th/product/keyboard/oker/usb-keyboard-oker-kb-758-black\", \"image\": \"https://img.advice.co.th/images_nas/pic_product4/A0137542/A0137542OK_BIG_1.jpg\", \"spec\": {\"interface\": \"USB\", \"switch\": \"Standard\", \"layout\": \"104 Keys\", \"dimension\": \"\", \"support\": \"Windows & Mac OS System\"}}]}, {\"model\": \"kb700\", \"name\": \"USB KEYBOARD MD-TECH (KB-700)\", \"store\": \"Advice\", \"brand\": \"\", \"category\": \"Keyboard\", \"tag\": \"Working\", \"data\": [{\"name\": \"USB KEYBOARD MD-TECH (KB-700) BLACK\", \"price\": 160, \"href\": \"https://www.advice.co.th/product/keyboard/oker/usb-keyboard-md-tech-kb-700-black\", \"image\": \"https://img.advice.co.th/images_nas/online/shopping/Coming-Soon.jpg\", \"spec\": {\"interface\": \"\", \"switch\": \"\", \"layout\": \"\", \"dimension\": \"\", \"support\": \"\"}}]}, {\"model\": \"kb399plus\", \"name\": \"USB KEYBOARD OKER (KB-399 PLUS)\", \"store\": \"Advice\", \"brand\": \"Oker\", \"category\": \"Keyboard\", \"tag\": \"Working\", \"data\": [{\"name\": \"USB KEYBOARD OKER (KB-399 PLUS) BLACK\", \"price\": 160, \"href\": \"https://www.advice.co.th/product/keyboard/oker/usb-keyboard-oker-kb-399-plus-black\", \"image\": \"https://img.advice.co.th/images_nas/pic_product4/A0134866/A0134866OK_BIG_1.jpg\", \"spec\": {\"interface\": \"USB\", \"switch\": \"N/A\", \"layout\": \"104 Keys\", \"dimension\": \"(W x D x H) : 45.00 x 15.50 x 2.20 cm\", \"support\": \"\"}}]}, {\"model\": \"kb518\", \"name\": \"USB KEYBOARD OKER (KB-518)\", \"store\": \"Advice\", \"brand\": \"Oker\", \"category\": \"Keyboard\", \"tag\": \"Working\", \"data\": [{\"name\": \"USB KEYBOARD OKER (KB-518) BLACK\", \"price\": 170, \"href\": \"https://www.advice.co.th/product/keyboard/oker/usb-keyboard-oker-kb-518-black\", \"image\": \"https://img.advice.co.th/images_nas/pic_product4/A0123532/A0123532OK_BIG_1.jpg\", \"spec\": {\"interface\": \"USB\", \"switch\": \"\", \"layout\": \"104 Keys\", \"dimension\": \"\", \"support\": \"\"}}]}, {\"model\": \"kb518\", \"name\": \"USB KEYBOARD OKER (KB-518)\", \"store\": \"Advice\", \"brand\": \"Oker\", \"category\": \"Keyboard\", \"tag\": \"Working\", \"data\": [{\"name\": \"USB KEYBOARD OKER (KB-518) RED\", \"price\": 170, \"href\": \"https://www.advice.co.th/product/keyboard/oker/usb-keyboard-oker-kb-518-red\", \"image\": \"https://img.advice.co.th/images_nas/pic_product4/A0123534/A0123534OK_BIG_1.jpg\", \"spec\": {\"interface\": \"USB\", \"switch\": \"\", \"layout\": \"104 Keys\", \"dimension\": \"\", \"support\": \"\"}}]}, null, {\"model\": \"kb789\", \"name\": \"USB KEYBOARD OKER (KB-789)\", \"store\": \"Advice\", \"brand\": \"Oker\", \"category\": \"Keyboard\", \"tag\": \"Working\", \"data\": [{\"name\": \"USB KEYBOARD OKER (KB-789) PINK\", \"price\": 360, \"href\": \"https://www.advice.co.th/product/keyboard/oker/usb-keyboard-oker-kb-789-pink\", \"image\": \"https://img.advice.co.th/images_nas/pic_product4/A0134867/A0134867OK_BIG_1.jpg\", \"spec\": {\"interface\": \"USB\", \"switch\": \"N/A\", \"layout\": \"104 Keys\", \"dimension\": \"(W x D x H) : 45.10 x 14.50 x 3.80 cm\", \"support\": \"Windows XP, VIsta, Win7, 8, 10\"}}]}, {\"model\": \"kb911\", \"name\": \"USB KEYBOARD OKER (KB-911)\", \"store\": \"Advice\", \"brand\": \"Oker\", \"category\": \"Keyboard\", \"tag\": \"Working\", \"data\": [{\"name\": \"USB KEYBOARD OKER (KB-911) PINK\", \"price\": 370, \"href\": \"https://www.advice.co.th/product/keyboard/oker/usb-keyboard-oker-kb-911-pink\", \"image\": \"https://img.advice.co.th/images_nas/pic_product4/A0137725/A0137725OK_BIG_1.jpg\", \"spec\": {\"interface\": \"USB\", \"switch\": \"\", \"layout\": \"104 Keys\", \"dimension\": \"(W x D x H) : 14.50 x 45.10 x 3.80 cm\", \"support\": \"Windows XP, Vista, Win7, 8, 10\"}}]}, {\"model\": \"kb912\", \"name\": \"USB KEYBOARD OKER (KB-912)\", \"store\": \"Advice\", \"brand\": \"Oker\", \"category\": \"Keyboard\", \"tag\": \"Working\", \"data\": [{\"name\": \"USB KEYBOARD OKER (KB-912) PINK\", \"price\": 370, \"href\": \"https://www.advice.co.th/product/keyboard/oker/usb-keyboard-oker-kb-912-pink\", \"image\": \"https://img.advice.co.th/images_nas/pic_product4/A0137726/A0137726OK_BIG_1.jpg\", \"spec\": {\"interface\": \"USB\", \"switch\": \"\", \"layout\": \"104 Keys\", \"dimension\": \"(W x D x H) : 14.50 x 45.10 x 3.80 cm\", \"support\": \"Windows XP, Vista, Win7, 8, 10\"}}]}, {\"model\": \"k199\", \"name\": \"USB WIRELESS KEYBOARD OKER (K-199)\", \"store\": \"Advice\", \"brand\": \"\", \"category\": \"Keyboard\", \"tag\": \"Working\", \"data\": [{\"name\": \"USB WIRELESS KEYBOARD OKER (K-199) BLACK\", \"price\": 210, \"href\": \"https://www.advice.co.th/product/keyboard/oker/usb-wireless-keyboard-oker-k-199-black\", \"image\": \"https://img.advice.co.th/images_nas/pic_product4/A0138183/A0138183OK_BIG_1.jpg\", \"spec\": {\"interface\": \"\", \"switch\": \"\", \"layout\": \"\", \"dimension\": \"\", \"support\": \"\"}}]}, {\"model\": \"k510\", \"name\": \"BLUETOOTH KEYBOARD MULTI-DEVICE OKER (K-510)\", \"store\": \"Advice\", \"brand\": \"Oker\", \"category\": \"Keyboard\", \"tag\": \"Working\", \"data\": [{\"name\": \"BLUETOOTH KEYBOARD MULTI-DEVICE OKER (K-510) BLACK/WHITE\", \"price\": 890, \"href\": \"https://www.advice.co.th/product/keyboard/oker/bluetooth-keyboard-multi-device-oker-k-510-black-white\", \"image\": \"https://img.advice.co.th/images_nas/pic_product4/A0134693/A0134693OK_BIG_1.jpg\", \"spec\": {\"interface\": \"Bluetooth\", \"switch\": \"N/A\", \"layout\": \"Keys: 80 keys film shaft\\\\nNumber of multimedia keys: 16 keys\", \"dimension\": \"(W x D x H) : 35.88 x 18.70 x 3.18 cm\", \"support\": \"\"}}]}, null, {\"model\": \"k510\", \"name\": \"BLUETOOTH KEYBOARD MULTI-DEVICE OKER (K-510)\", \"store\": \"Advice\", \"brand\": \"Oker\", \"category\": \"Keyboard\", \"tag\": \"Working\", \"data\": [{\"name\": \"BLUETOOTH KEYBOARD MULTI-DEVICE OKER (K-510) GREEN\", \"price\": 890, \"href\": \"https://www.advice.co.th/product/keyboard/oker/bluetooth-keyboard-multi-device-oker-k-510-green\", \"image\": \"https://img.advice.co.th/images_nas/pic_product4/A0134695/A0134695OK_BIG_1.jpg\", \"spec\": {\"interface\": \"Bluetooth\", \"switch\": \"N/A\", \"layout\": \"Keys: 80 keys film shaft\\\\nNumber of multimedia keys: 16 keys\", \"dimension\": \"(W x D x H) : 35.88 x 18.70 x 3.18 cm\", \"support\": \"\"}}]}]'"
      ]
     },
     "execution_count": 120,
     "metadata": {},
     "output_type": "execute_result"
    }
   ],
   "source": [
    "out_keyboard_item"
   ]
  },
  {
   "cell_type": "code",
   "execution_count": null,
   "metadata": {},
   "outputs": [],
   "source": []
  },
  {
   "cell_type": "code",
   "execution_count": 38,
   "metadata": {},
   "outputs": [
    {
     "name": "stdout",
     "output_type": "stream",
     "text": [
      "success\n"
     ]
    }
   ],
   "source": [
    "with open('json_keyboard_working.json', 'w',encoding=\"utf-8\") as f:\n",
    "    f.writelines(out_keyboard_item)\n",
    "    print(\"success\")"
   ]
  },
  {
   "cell_type": "code",
   "execution_count": null,
   "metadata": {},
   "outputs": [],
   "source": []
  },
  {
   "cell_type": "code",
   "execution_count": null,
   "metadata": {},
   "outputs": [],
   "source": []
  },
  {
   "cell_type": "code",
   "execution_count": null,
   "metadata": {},
   "outputs": [],
   "source": []
  }
 ],
 "metadata": {
  "interpreter": {
   "hash": "dc0ae7cbe04b490a33132ce22a2ba80732b07aa628d052297aede1389d8c38d1"
  },
  "kernelspec": {
   "display_name": "Python 3.9.7 64-bit (windows store)",
   "name": "python3"
  },
  "language_info": {
   "codemirror_mode": {
    "name": "ipython",
    "version": 3
   },
   "file_extension": ".py",
   "mimetype": "text/x-python",
   "name": "python",
   "nbconvert_exporter": "python",
   "pygments_lexer": "ipython3",
   "version": "3.9.7"
  }
 },
 "nbformat": 4,
 "nbformat_minor": 5
}
