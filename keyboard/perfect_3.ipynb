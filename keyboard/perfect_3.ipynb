{
 "cells": [
  {
   "cell_type": "code",
   "execution_count": 17,
   "source": [
    "import csv\r\n",
    "from selenium import webdriver\r\n",
    "from selenium.webdriver.common.keys import Keys\r\n",
    "import time\r\n",
    "import json\r\n",
    "import ast"
   ],
   "outputs": [],
   "metadata": {}
  },
  {
   "cell_type": "code",
   "execution_count": 18,
   "source": [
    "driver=webdriver.Chrome(executable_path='D:\\Downloads\\chromedriver_win32\\chromedriver.exe')\r\n",
    "driver.maximize_window()"
   ],
   "outputs": [],
   "metadata": {}
  },
  {
   "cell_type": "code",
   "execution_count": 19,
   "source": [
    "def model_key_lower_and_sort(k):\r\n",
    "    k[\"key\"]=k[\"key\"].lower().replace(' ','').replace('-','')\r\n",
    "    k[\"name\"]=(k[\"name\"].upper())\r\n",
    "    return len(k[\"key\"]),k[\"name\"]"
   ],
   "outputs": [],
   "metadata": {}
  },
  {
   "cell_type": "code",
   "execution_count": 20,
   "source": [
    "with open('../../model/keyboard_model.json') as json_file:\r\n",
    "    model = json.load(json_file)"
   ],
   "outputs": [],
   "metadata": {}
  },
  {
   "cell_type": "code",
   "execution_count": 21,
   "source": [
    "model.sort(key=model_key_lower_and_sort ,reverse=True)"
   ],
   "outputs": [],
   "metadata": {}
  },
  {
   "cell_type": "code",
   "execution_count": 22,
   "source": [
    "model_key=[]\r\n",
    "model_name=[]"
   ],
   "outputs": [],
   "metadata": {}
  },
  {
   "cell_type": "code",
   "execution_count": 23,
   "source": [
    "for i in model:\r\n",
    "    model_key.append(i[\"key\"])\r\n",
    "    model_name.append(i[\"name\"])"
   ],
   "outputs": [],
   "metadata": {}
  },
  {
   "cell_type": "code",
   "execution_count": 39,
   "source": [
    "def keyboard_exit(url):\r\n",
    "\r\n",
    "    with open(\"../../model/keyboardSchema.json\") as json_file:\r\n",
    "        keyboard_schema = json.load(json_file)\r\n",
    "\r\n",
    "    spec_type_arr = []\r\n",
    "    spec_details_arr = []\r\n",
    "    spec = {}\r\n",
    "\r\n",
    "    #     get url and scroll 5 sec\r\n",
    "    driver.get(url)\r\n",
    "\r\n",
    "    #     find name and compare\r\n",
    "    try:\r\n",
    "        find_name = driver.find_elements_by_xpath(\r\n",
    "            '//*[@id=\"__layout\"]/div/main/section/div[1]/div[2]/div[1]/h1'\r\n",
    "        )  # change\r\n",
    "        name = find_name[0].text\r\n",
    "\r\n",
    "        name_lower = (\r\n",
    "            name.lower()\r\n",
    "            .replace(\" \", \"\")\r\n",
    "            .replace(\"-\", \"\")\r\n",
    "            .replace(\"gaming\", \"\")\r\n",
    "            .replace(\"tenkeyless\", \"tkl\")\r\n",
    "        )\r\n",
    "        print(name)\r\n",
    "        compare = [x for x in model_key if x in name_lower]\r\n",
    "        print(compare[0])\r\n",
    "        keyboard_schema[\"model\"] = compare[0]\r\n",
    "\r\n",
    "        if compare:\r\n",
    "            for index, val in enumerate(model_key):\r\n",
    "                if compare[0] == model[index][\"key\"]:\r\n",
    "                    keyboard_schema[\"name\"] = model[index][\"name\"]\r\n",
    "\r\n",
    "        find_price = driver.find_elements_by_xpath(\r\n",
    "            '//*[@id=\"__layout\"]/div/main/section/div[1]/div[2]/div[1]/div[3]/div/div[1]'\r\n",
    "        )  # change\r\n",
    "        price = find_price[0].text.replace(\",\", \"\").replace(\"฿\", \"\")\r\n",
    "        print(price)\r\n",
    "\r\n",
    "        find_image = driver.find_elements_by_xpath(\r\n",
    "            '//*[@id=\"__layout\"]/div/main/section/div[1]/div[1]/div/div[1]/div[1]/div[5]/div/img'\r\n",
    "        )  # change\r\n",
    "        image = find_image[0].get_attribute(\"src\")\r\n",
    "        print(image)\r\n",
    "\r\n",
    "        find_brand = driver.find_elements_by_xpath(\r\n",
    "            '//*[@id=\"__layout\"]/div/main/section/div[1]/div[2]/div[1]/div[1]/div/div[1]/span[2]'\r\n",
    "        )  # change\r\n",
    "        brand = find_brand[0].text\r\n",
    "        print(brand)\r\n",
    "\r\n",
    "        keyboard_schema[\"data\"][0][\"name\"] = name.upper()\r\n",
    "        keyboard_schema[\"data\"][0][\"price\"] = int(price)\r\n",
    "        keyboard_schema[\"data\"][0][\"href\"] = url\r\n",
    "        keyboard_schema[\"data\"][0][\"image\"] = image\r\n",
    "    \r\n",
    "\r\n",
    "        keyboard_schema[\"store\"] = \"banana\".capitalize()  # change\r\n",
    "        keyboard_schema[\"brand\"] = brand.capitalize()  # change\r\n",
    "        keyboard_schema[\"category\"] = \"keyboard\".capitalize()  # change\r\n",
    "        keyboard_schema[\"tag\"] = \"working\".capitalize()  # change\r\n",
    "        print(keyboard_schema[\"data\"][0][\"href\"])\r\n",
    "        find_spec_type = driver.find_elements_by_xpath(\r\n",
    "            '//*[@id=\"__layout\"]/div/main/section/section[1]/div/div/table/tbody/tr/td[1]'\r\n",
    "        )  # change\r\n",
    "        find_spec_details = driver.find_elements_by_xpath(\r\n",
    "            '//*[@id=\"__layout\"]/div/main/section/section[1]/div/div/table/tbody/tr/td[2]'\r\n",
    "        )  # change\r\n",
    "\r\n",
    "        for i in find_spec_type:\r\n",
    "            spec_type_arr.append(i.text)\r\n",
    "        for i in find_spec_details:\r\n",
    "            spec_details_arr.append(i.text)\r\n",
    "        for index, val in enumerate(spec_type_arr):\r\n",
    "            spec[val] = spec_details_arr[index]\r\n",
    "        for index, val in enumerate(spec_type_arr):\r\n",
    "            if val == \"Interface\":  # change\r\n",
    "                keyboard_schema[\"data\"][0][\"spec\"][\"interface\"] = spec_details_arr[\r\n",
    "                    index\r\n",
    "                ]\r\n",
    "            if val == \"Layout\":  # change\r\n",
    "                keyboard_schema[\"data\"][0][\"spec\"][\"layout\"] = spec_details_arr[index]\r\n",
    "            if val == \"Dimensions W x D x H\":  # change\r\n",
    "                keyboard_schema[\"data\"][0][\"spec\"][\"dimension\"] = spec_details_arr[\r\n",
    "                    index\r\n",
    "                ]\r\n",
    "            if val == \"Support OS\":  # change\r\n",
    "                keyboard_schema[\"data\"][0][\"spec\"][\"support\"] = spec_details_arr[index]\r\n",
    "            if val == \"Technology\":  # change\r\n",
    "                keyboard_schema[\"data\"][0][\"spec\"][\"switch\"] = spec_details_arr[index]\r\n",
    "            # if(val==\"Brand\"): #change\r\n",
    "            #     keyboard_schema[\"brand\"]=spec_details_arr[index].capitalize()\r\n",
    "        return keyboard_schema\r\n",
    "    except:\r\n",
    "        pass\r\n"
   ],
   "outputs": [],
   "metadata": {}
  },
  {
   "cell_type": "code",
   "execution_count": 25,
   "source": [
    "# def name_exist(name):\r\n",
    "#     try:\r\n",
    "#         name_lower=name.lower().replace(' ','').replace('-','').replace('gaming','').replace('tenkeyless','tkl')\r\n",
    "#         compare = [x for x in model_key if x in name_lower]\r\n",
    "#         print(compare[0] ,\">\",name)\r\n",
    "#     except:\r\n",
    "#         pass\r\n",
    "#     if(compare):\r\n",
    "#         pass\r\n",
    "#     else:\r\n",
    "#         print(\">\",name)"
   ],
   "outputs": [],
   "metadata": {}
  },
  {
   "cell_type": "code",
   "execution_count": null,
   "source": [],
   "outputs": [],
   "metadata": {}
  },
  {
   "cell_type": "code",
   "execution_count": null,
   "source": [],
   "outputs": [],
   "metadata": {}
  },
  {
   "cell_type": "code",
   "execution_count": 100,
   "source": [
    "with open('banana_keyboard_gaming_href.txt', 'r') as f:\r\n",
    "    banana_keyboard_gaming_href = ast.literal_eval(f.read())"
   ],
   "outputs": [],
   "metadata": {}
  },
  {
   "cell_type": "code",
   "execution_count": 40,
   "source": [
    "with open('banana_keyboard_working_href.txt', 'r') as f:\r\n",
    "    banana_keyboard_working_href = ast.literal_eval(f.read())"
   ],
   "outputs": [],
   "metadata": {}
  },
  {
   "cell_type": "code",
   "execution_count": 97,
   "source": [
    "# advice_keyboard_gaming_href"
   ],
   "outputs": [],
   "metadata": {}
  },
  {
   "cell_type": "code",
   "execution_count": 41,
   "source": [
    "print(banana_keyboard_working_href)"
   ],
   "outputs": [
    {
     "output_type": "stream",
     "name": "stdout",
     "text": [
      "['https://www.bnn.in.th/th/p/it-accessories/mouse-and-keyboards/anitech-keypad-retractable-wireless-n181-black-8859221703854_d51993', 'https://www.bnn.in.th/th/p/it-accessories/mouse-and-keyboards/keyboard-and-numpad/anitech-wired-keyboard-p202-then-8859221708507_dm0n4e', 'https://www.bnn.in.th/th/p/it-accessories/mouse-and-keyboards/keyboard-and-numpad/logitech-bluetooth-and-wireless-keyboard-multi-device-k580-slim-off-white-en-097855152237_d5113r', 'https://www.bnn.in.th/th/p/it-accessories/mouse-and-keyboards/keyboard-and-numpad/logitech-bluetooth-and-wireless-keyboard-multi-device-k580-slim-graphite-en-097855152220_zjgg8z', 'https://www.bnn.in.th/th/p/it-accessories/mouse-and-keyboards/keyboard-and-numpad/logitech-bluetooth-keyboard-multi-device-k380-black-en-097855117717_vzj4vz', 'https://www.bnn.in.th/th/p/it-accessories/mouse-and-keyboards/keyboard-and-numpad/logitech-bluetooth-keyboard-multi-device-k380-blue-en-097855117724_xd5lxz', 'https://www.bnn.in.th/th/p/it-accessories/mouse-and-keyboards/keyboard-and-numpad/logitech-bluetooth-keyboard-multi-device-k480-black-then-097855115423_ydl9nd', 'https://www.bnn.in.th/th/p/it-accessories/mouse-and-keyboards/keyboard-and-numpad/logitech-bluetooth-keyboard-multi-device-k480-white-then-097855115430_gz3k6d', 'https://www.bnn.in.th/th/p/it-accessories/mouse-and-keyboards/keyboard-and-numpad/logitech-wired-keyboard-usb-k120-then-097855067128_pdm1ld', 'https://www.bnn.in.th/th/p/it-accessories/mouse-and-keyboards/keyboard-and-numpad/logitech-wireless-keyboard-stand-multi-device-k375s-then-097855125484_yzwxwr', 'https://www.bnn.in.th/th/p/it-accessories/mouse-and-keyboards/keyboard-and-numpad/microsoft-bluetooth-compact-keyboard-designer-black-then-889842668469_zg8xv5', 'https://www.bnn.in.th/th/p/it-accessories/mouse-and-keyboards/keyboard-and-numpad/microsoft-bluetooth-compact-keyboard-designer-glacier-then-889842668742_z97wv9', 'https://www.bnn.in.th/th/p/it-accessories/mouse-and-keyboards/keyboard-and-numpad/microsoft-bluetooth-keyboard-black-then-889842525533_d223q3', 'https://www.bnn.in.th/th/p/it-accessories/mouse-and-keyboards/keyboard-and-numpad/microsoft-bluetooth-numpad-black-889842678949_r62xqg', 'https://www.bnn.in.th/th/p/it-accessories/mouse-and-keyboards/keyboard-and-numpad/microsoft-bluetooth-numpad-glacier-889842679090_rq8o6v', 'https://www.bnn.in.th/th/p/tablet-and-accessories/tablet-accessories/surface-accesories-tablet-accessories/microsoft-surface-go-type-cover-n-sc-black-refresh-889842590807_zwl0vg', 'https://www.bnn.in.th/th/p/tablet-and-accessories/tablet-accessories/surface-accesories-tablet-accessories/microsoft-surface-go-type-cover-n-sc-charcoal-889842582147_d51ej2', 'https://www.bnn.in.th/th/p/tablet-and-accessories/tablet-accessories/surface-accesories-tablet-accessories/microsoft-surface-go-type-cover-n-sc-thailand-hdwr-ice-blue-889842581959_zjg6q5', 'https://www.bnn.in.th/th/p/tablet-and-accessories/tablet-accessories/surface-accesories-tablet-accessories/microsoft-tablet-acc-go-type-cover-colors-n-sc-thai-thailand-hdwr-poppy-red-kcs-00099-889842581768_z97km4', 'https://www.bnn.in.th/th/p/tablet-and-accessories/tablet-accessories/surface-accesories-tablet-accessories/microsoft-tablet-acc-signa-type-cover-m1725-black-fmm-00016-889842200836_d51epj', 'https://www.bnn.in.th/th/p/tablet-and-accessories/tablet-accessories/surface-accesories-tablet-accessories/microsoft-tablet-acc-signa-type-cover-m1725-charcoal-ffp-00156-889842529272_rq8xg2', 'https://www.bnn.in.th/th/p/tablet-and-accessories/tablet-accessories/surface-accesories-tablet-accessories/microsoft-tablet-acc-signa-type-cover-m1725-poppy-red-ffp-00116-889842521177_z781e6', 'https://www.bnn.in.th/th/p/it-accessories/mouse-and-keyboards/keyboard-and-numpad/microsoft-wireless-keyboard-all-in-one-media-then-885370738117_dko3kj', 'https://www.bnn.in.th/th/p/it-accessories/mouse-and-keyboards/keyboard-and-numpad/mofii-bluetooth-keyboard-waffle-grey-then-6950125748315_dlp5pz']\n"
     ]
    }
   ],
   "metadata": {}
  },
  {
   "cell_type": "code",
   "execution_count": 28,
   "source": [
    "driver.get(\"https://www.bnn.in.th/th/p/gaming-gear/pc-gaming-accessories/gaming-keyboard/asus-gaming-keyboard-rog-strix-scope-pbtthblue-sw-4718017365741_dy6q2v\")"
   ],
   "outputs": [],
   "metadata": {}
  },
  {
   "cell_type": "code",
   "execution_count": 98,
   "source": [
    "# for index,val in enumerate(all_name):\r\n",
    "# #     print(\"-\",index,\"---------------------\")\r\n",
    "#     name_exist(val)"
   ],
   "outputs": [],
   "metadata": {
    "scrolled": false
   }
  },
  {
   "cell_type": "code",
   "execution_count": null,
   "source": [],
   "outputs": [],
   "metadata": {}
  },
  {
   "cell_type": "code",
   "execution_count": 42,
   "source": [
    "export=[]"
   ],
   "outputs": [],
   "metadata": {}
  },
  {
   "cell_type": "code",
   "execution_count": null,
   "source": [],
   "outputs": [],
   "metadata": {}
  },
  {
   "cell_type": "code",
   "execution_count": 43,
   "source": [
    "for index,val in enumerate(banana_keyboard_working_href):\r\n",
    "    print(\"----\",index,\"of\" ,len(banana_keyboard_working_href),\"----\")\r\n",
    "    export.append(keyboard_exit(val))"
   ],
   "outputs": [
    {
     "output_type": "stream",
     "name": "stdout",
     "text": [
      "---- 0 of 24 ----\n",
      "Anitech Keypad Retractable Wireless N181 Black\n",
      "n181\n",
      "399\n",
      "https://media-cdn.bnn.in.th/84120/8859221703854-1-square_medium.jpg\n",
      "ANITECH\n",
      "https://www.bnn.in.th/th/p/it-accessories/mouse-and-keyboards/anitech-keypad-retractable-wireless-n181-black-8859221703854_d51993\n",
      "---- 1 of 24 ----\n",
      "Anitech Wired Keyboard P202 (TH/EN)\n",
      "p202\n",
      "169\n",
      "https://media-cdn.bnn.in.th/84410/8859221708507-4-square_medium.jpg\n",
      "ANITECH\n",
      "https://www.bnn.in.th/th/p/it-accessories/mouse-and-keyboards/keyboard-and-numpad/anitech-wired-keyboard-p202-then-8859221708507_dm0n4e\n",
      "---- 2 of 24 ----\n",
      "Logitech Bluetooth and Wireless Keyboard Multi-Device K580 Slim Off White (EN)\n",
      "k5\n",
      "1490\n",
      "https://media-cdn.bnn.in.th/4916/Logitech-Bluetooth-6-square_medium.jpg\n",
      "LOGITECH\n",
      "https://www.bnn.in.th/th/p/it-accessories/mouse-and-keyboards/keyboard-and-numpad/logitech-bluetooth-and-wireless-keyboard-multi-device-k580-slim-off-white-en-097855152237_d5113r\n",
      "---- 3 of 24 ----\n",
      "Logitech Bluetooth and Wireless Keyboard Multi-Device K580 Slim Graphite (EN)\n",
      "k5\n",
      "1490\n",
      "https://media-cdn.bnn.in.th/4910/Logitech-Bluetooth-4-square_medium.jpg\n",
      "LOGITECH\n",
      "https://www.bnn.in.th/th/p/it-accessories/mouse-and-keyboards/keyboard-and-numpad/logitech-bluetooth-and-wireless-keyboard-multi-device-k580-slim-graphite-en-097855152220_zjgg8z\n",
      "---- 4 of 24 ----\n",
      "Logitech Bluetooth Keyboard Multi-Device K380 Black (EN)\n",
      "k380\n",
      "1050\n",
      "https://media-cdn.bnn.in.th/4549/97855117717-555-square_medium.jpg\n",
      "LOGITECH\n",
      "https://www.bnn.in.th/th/p/it-accessories/mouse-and-keyboards/keyboard-and-numpad/logitech-bluetooth-keyboard-multi-device-k380-black-en-097855117717_vzj4vz\n",
      "---- 5 of 24 ----\n",
      "Logitech Bluetooth Keyboard Multi-Device K380 Blue (EN)\n",
      "k380\n",
      "1050\n",
      "https://media-cdn.bnn.in.th/4554/97855117724-0005-square_medium.jpg\n",
      "LOGITECH\n",
      "https://www.bnn.in.th/th/p/it-accessories/mouse-and-keyboards/keyboard-and-numpad/logitech-bluetooth-keyboard-multi-device-k380-blue-en-097855117724_xd5lxz\n",
      "---- 6 of 24 ----\n",
      "Logitech Bluetooth Keyboard Multi-Device K480 Black (TH/EN)\n",
      "k480\n",
      "1350\n",
      "https://media-cdn.bnn.in.th/4535/97855115423-0006-square_medium.jpg\n",
      "LOGITECH\n",
      "https://www.bnn.in.th/th/p/it-accessories/mouse-and-keyboards/keyboard-and-numpad/logitech-bluetooth-keyboard-multi-device-k480-black-then-097855115423_ydl9nd\n",
      "---- 7 of 24 ----\n",
      "Logitech Bluetooth Keyboard Multi-Device K480 White (TH/EN)\n",
      "k480\n",
      "1350\n",
      "https://media-cdn.bnn.in.th/4541/97855115430-666-square_medium.jpg\n",
      "LOGITECH\n",
      "https://www.bnn.in.th/th/p/it-accessories/mouse-and-keyboards/keyboard-and-numpad/logitech-bluetooth-keyboard-multi-device-k480-white-then-097855115430_gz3k6d\n",
      "---- 8 of 24 ----\n",
      "Logitech Wired Keyboard USB K120 (TH/EN)\n",
      "k120\n",
      "259\n",
      "https://media-cdn.bnn.in.th/4402/9785506712-0001-square_medium.jpg\n",
      "LOGITECH\n",
      "https://www.bnn.in.th/th/p/it-accessories/mouse-and-keyboards/keyboard-and-numpad/logitech-wired-keyboard-usb-k120-then-097855067128_pdm1ld\n",
      "---- 9 of 24 ----\n",
      "Logitech Wireless Keyboard + Stand Multi-Device K375S (TH/EN)\n",
      "k375s\n",
      "790\n",
      "https://media-cdn.bnn.in.th/4648/097855125484-2-square_medium.jpg\n",
      "LOGITECH\n",
      "https://www.bnn.in.th/th/p/it-accessories/mouse-and-keyboards/keyboard-and-numpad/logitech-wireless-keyboard-stand-multi-device-k375s-then-097855125484_yzwxwr\n",
      "---- 10 of 24 ----\n",
      "Microsoft Bluetooth Compact Keyboard Designer Black (TH/EN)\n",
      "bluetoothcompactkeyboarddesigner\n",
      "2150\n",
      "https://media-cdn.bnn.in.th/107190/Microsoft-Bluetooth-Compact-Keyboard-Designer-Black-TH-EN-5-square_medium.jpg\n",
      "MICROSOFT\n",
      "https://www.bnn.in.th/th/p/it-accessories/mouse-and-keyboards/keyboard-and-numpad/microsoft-bluetooth-compact-keyboard-designer-black-then-889842668469_zg8xv5\n",
      "---- 11 of 24 ----\n",
      "Microsoft Bluetooth Compact Keyboard Designer Glacier (TH/EN)\n",
      "bluetoothcompactkeyboarddesigner\n",
      "2150\n",
      "https://media-cdn.bnn.in.th/107195/Microsoft-Bluetooth-Compact-Keyboard-Designer-Glacier-THEN-5-square_medium.jpg\n",
      "MICROSOFT\n",
      "https://www.bnn.in.th/th/p/it-accessories/mouse-and-keyboards/keyboard-and-numpad/microsoft-bluetooth-compact-keyboard-designer-glacier-then-889842668742_z97wv9\n",
      "---- 12 of 24 ----\n",
      "Microsoft Bluetooth Keyboard Black (TH/EN)\n",
      "microsoftbluetoothkeyboard\n",
      "1690\n",
      "https://media-cdn.bnn.in.th/91742/Microsoft-Bluetooth-Keyboard-Black-5-square_medium.jpg\n",
      "MICROSOFT\n",
      "https://www.bnn.in.th/th/p/it-accessories/mouse-and-keyboards/keyboard-and-numpad/microsoft-bluetooth-keyboard-black-then-889842525533_d223q3\n",
      "---- 13 of 24 ----\n",
      "Microsoft Bluetooth Numpad Black\n",
      "microsoftbluetoothnumpad\n",
      "990\n",
      "https://media-cdn.bnn.in.th/107210/Microsoft-Bluetooth-Numpad-Black-3-square_medium.jpg\n",
      "MICROSOFT\n",
      "https://www.bnn.in.th/th/p/it-accessories/mouse-and-keyboards/keyboard-and-numpad/microsoft-bluetooth-numpad-black-889842678949_r62xqg\n",
      "---- 14 of 24 ----\n",
      "Microsoft Bluetooth Numpad Glacier\n",
      "microsoftbluetoothnumpad\n",
      "990\n",
      "https://media-cdn.bnn.in.th/107211/Microsoft-Bluetooth-Numpad-Glacier-1-square_medium.jpg\n",
      "MICROSOFT\n",
      "https://www.bnn.in.th/th/p/it-accessories/mouse-and-keyboards/keyboard-and-numpad/microsoft-bluetooth-numpad-glacier-889842679090_rq8o6v\n",
      "---- 15 of 24 ----\n",
      "Microsoft Surface Go Type Cover N SC Black Refresh\n",
      "surfacego\n",
      "3790\n",
      "https://media-cdn.bnn.in.th/91809/Microsoft-Surface-Go-Type-Cover-NSC-Black-Refresh-1-square_medium.jpg\n",
      "MICROSOFT\n",
      "https://www.bnn.in.th/th/p/tablet-and-accessories/tablet-accessories/surface-accesories-tablet-accessories/microsoft-surface-go-type-cover-n-sc-black-refresh-889842590807_zwl0vg\n",
      "---- 16 of 24 ----\n",
      "Microsoft Surface Go Type Cover N SC Charcoal\n",
      "surfacego\n",
      "4890\n",
      "https://media-cdn.bnn.in.th/91807/Microsoft-Surface-Go-Type-Cover-NSC-Charcoal-1-square_medium.jpg\n",
      "MICROSOFT\n",
      "https://www.bnn.in.th/th/p/tablet-and-accessories/tablet-accessories/surface-accesories-tablet-accessories/microsoft-surface-go-type-cover-n-sc-charcoal-889842582147_d51ej2\n",
      "---- 17 of 24 ----\n",
      "Microsoft Surface Go Type Cover N SC Thailand Hdwr Ice Blue\n",
      "surfacego\n",
      "4890\n",
      "https://media-cdn.bnn.in.th/91804/Microsoft-Surface-Go-Type-Cover-NSC-Thailand-Hdwr-Ice-Blue-1-square_medium.jpg\n",
      "MICROSOFT\n",
      "https://www.bnn.in.th/th/p/tablet-and-accessories/tablet-accessories/surface-accesories-tablet-accessories/microsoft-surface-go-type-cover-n-sc-thailand-hdwr-ice-blue-889842581959_zjg6q5\n",
      "---- 18 of 24 ----\n",
      "Microsoft Tablet Acc Go Type Cover Colors N SC Thai Thailand Hdwr Poppy Red (KCS-00099)\n",
      "tabletacc\n",
      "4890\n",
      "---- 19 of 24 ----\n",
      "Microsoft Tablet Acc Signa Type Cover M1725 Black (FMM-00016)\n",
      "tabletacc\n",
      "5390\n",
      "https://media-cdn.bnn.in.th/91232/889842200836-1-square_medium.jpg\n",
      "MICROSOFT\n",
      "https://www.bnn.in.th/th/p/tablet-and-accessories/tablet-accessories/surface-accesories-tablet-accessories/microsoft-tablet-acc-signa-type-cover-m1725-black-fmm-00016-889842200836_d51epj\n",
      "---- 20 of 24 ----\n",
      "Microsoft Tablet Acc Signa Type Cover M1725 Charcoal (FFP-00156)\n",
      "tabletacc\n",
      "7190\n",
      "https://media-cdn.bnn.in.th/91762/889842529272-01-square_medium.jpg\n",
      "MICROSOFT\n",
      "https://www.bnn.in.th/th/p/tablet-and-accessories/tablet-accessories/surface-accesories-tablet-accessories/microsoft-tablet-acc-signa-type-cover-m1725-charcoal-ffp-00156-889842529272_rq8xg2\n",
      "---- 21 of 24 ----\n",
      "Microsoft Tablet Acc Signa Type Cover M1725 Poppy Red (FFP-00116)\n",
      "tabletacc\n",
      "7190\n",
      "https://media-cdn.bnn.in.th/91726/889842521177-01-square_medium.jpg\n",
      "MICROSOFT\n",
      "https://www.bnn.in.th/th/p/tablet-and-accessories/tablet-accessories/surface-accesories-tablet-accessories/microsoft-tablet-acc-signa-type-cover-m1725-poppy-red-ffp-00116-889842521177_z781e6\n",
      "---- 22 of 24 ----\n",
      "Microsoft Wireless Keyboard All-in-One Media (TH/EN)\n",
      "wirelesskeyboardallinonemedia\n",
      "1390\n",
      "https://media-cdn.bnn.in.th/79809/88537073811-0003-square_medium.jpg\n",
      "MICROSOFT\n",
      "https://www.bnn.in.th/th/p/it-accessories/mouse-and-keyboards/keyboard-and-numpad/microsoft-wireless-keyboard-all-in-one-media-then-885370738117_dko3kj\n",
      "---- 23 of 24 ----\n",
      "MOFii Bluetooth Keyboard Waffle Grey (TH/EN)\n",
      "waffle\n",
      "790\n",
      "https://media-cdn.bnn.in.th/102607/MOFii-Waffle-Bluetooth-Keyboard-Grey-6-square_medium.jpg\n",
      "MOFII\n",
      "https://www.bnn.in.th/th/p/it-accessories/mouse-and-keyboards/keyboard-and-numpad/mofii-bluetooth-keyboard-waffle-grey-then-6950125748315_dlp5pz\n"
     ]
    }
   ],
   "metadata": {}
  },
  {
   "cell_type": "code",
   "execution_count": 44,
   "source": [
    "out_keyboard_item= json.dumps(export, ensure_ascii=False)"
   ],
   "outputs": [],
   "metadata": {}
  },
  {
   "cell_type": "code",
   "execution_count": null,
   "source": [],
   "outputs": [],
   "metadata": {}
  },
  {
   "cell_type": "code",
   "execution_count": 45,
   "source": [
    "out_keyboard_item"
   ],
   "outputs": [
    {
     "output_type": "execute_result",
     "data": {
      "text/plain": [
       "'[{\"model\": \"n181\", \"name\": \"ANITECH KEYPAD RETRACTABLE WIRELESS N181\", \"store\": \"Banana\", \"brand\": \"Anitech\", \"category\": \"Keyboard\", \"tag\": \"Working\", \"data\": [{\"name\": \"ANITECH KEYPAD RETRACTABLE WIRELESS N181 BLACK\", \"price\": 399, \"href\": \"https://www.bnn.in.th/th/p/it-accessories/mouse-and-keyboards/anitech-keypad-retractable-wireless-n181-black-8859221703854_d51993\", \"image\": \"https://media-cdn.bnn.in.th/84120/8859221703854-1-square_medium.jpg\", \"spec\": {\"interface\": \"USB Wireless\", \"switch\": \"\", \"layout\": \"\", \"dimension\": \"\", \"support\": \"\"}}]}, {\"model\": \"p202\", \"name\": \"ANITECH WIRED KEYBOARD\", \"store\": \"Banana\", \"brand\": \"Anitech\", \"category\": \"Keyboard\", \"tag\": \"Working\", \"data\": [{\"name\": \"ANITECH WIRED KEYBOARD P202 (TH/EN)\", \"price\": 169, \"href\": \"https://www.bnn.in.th/th/p/it-accessories/mouse-and-keyboards/keyboard-and-numpad/anitech-wired-keyboard-p202-then-8859221708507_dm0n4e\", \"image\": \"https://media-cdn.bnn.in.th/84410/8859221708507-4-square_medium.jpg\", \"spec\": {\"interface\": \"USB Port\", \"switch\": \"\", \"layout\": \"\", \"dimension\": \"14 x 44 x 2.3 cm.\", \"support\": \"Windows : 7 / 8 / 10 and MAC OS X\"}}]}, {\"model\": \"k5\", \"name\": \"USB KEYBOARD MD-TECH (K-5)\", \"store\": \"Banana\", \"brand\": \"Logitech\", \"category\": \"Keyboard\", \"tag\": \"Working\", \"data\": [{\"name\": \"LOGITECH BLUETOOTH AND WIRELESS KEYBOARD MULTI-DEVICE K580 SLIM OFF WHITE (EN)\", \"price\": 1490, \"href\": \"https://www.bnn.in.th/th/p/it-accessories/mouse-and-keyboards/keyboard-and-numpad/logitech-bluetooth-and-wireless-keyboard-multi-device-k580-slim-off-white-en-097855152237_d5113r\", \"image\": \"https://media-cdn.bnn.in.th/4916/Logitech-Bluetooth-6-square_medium.jpg\", \"spec\": {\"interface\": \"Blutooth and Wireless\", \"switch\": \"\", \"layout\": \"\", \"dimension\": \"37.35 x 14.39 x 2.13 cm.\", \"support\": \"Windows 7 and above, macOS 10.11 and above, Linux,1 Android 6 or late\"}}]}, {\"model\": \"k5\", \"name\": \"USB KEYBOARD MD-TECH (K-5)\", \"store\": \"Banana\", \"brand\": \"Logitech\", \"category\": \"Keyboard\", \"tag\": \"Working\", \"data\": [{\"name\": \"LOGITECH BLUETOOTH AND WIRELESS KEYBOARD MULTI-DEVICE K580 SLIM GRAPHITE (EN)\", \"price\": 1490, \"href\": \"https://www.bnn.in.th/th/p/it-accessories/mouse-and-keyboards/keyboard-and-numpad/logitech-bluetooth-and-wireless-keyboard-multi-device-k580-slim-graphite-en-097855152220_zjgg8z\", \"image\": \"https://media-cdn.bnn.in.th/4910/Logitech-Bluetooth-4-square_medium.jpg\", \"spec\": {\"interface\": \"Blutooth and Wireless\", \"switch\": \"\", \"layout\": \"\", \"dimension\": \"37.35 x 14.39 x 2.13 cm.\", \"support\": \"Windows 7 and above, macOS 10.11 and above, Linux,1 Android 6 or late\"}}]}, {\"model\": \"k380\", \"name\": \"LOGITECH K380 MULTI-DEVICE\", \"store\": \"Banana\", \"brand\": \"Logitech\", \"category\": \"Keyboard\", \"tag\": \"Working\", \"data\": [{\"name\": \"LOGITECH BLUETOOTH KEYBOARD MULTI-DEVICE K380 BLACK (EN)\", \"price\": 1050, \"href\": \"https://www.bnn.in.th/th/p/it-accessories/mouse-and-keyboards/keyboard-and-numpad/logitech-bluetooth-keyboard-multi-device-k380-black-en-097855117717_vzj4vz\", \"image\": \"https://media-cdn.bnn.in.th/4549/97855117717-555-square_medium.jpg\", \"spec\": {\"interface\": \"Bluetooth\", \"switch\": \"\", \"layout\": \"\", \"dimension\": \"27.90 x 1.60 x 12.40 cm.\", \"support\": \"Windows 7, Windows 8, Windows 10 or later , Mac: Mac OS 10.10 or later\"}}]}, {\"model\": \"k380\", \"name\": \"LOGITECH K380 MULTI-DEVICE\", \"store\": \"Banana\", \"brand\": \"Logitech\", \"category\": \"Keyboard\", \"tag\": \"Working\", \"data\": [{\"name\": \"LOGITECH BLUETOOTH KEYBOARD MULTI-DEVICE K380 BLUE (EN)\", \"price\": 1050, \"href\": \"https://www.bnn.in.th/th/p/it-accessories/mouse-and-keyboards/keyboard-and-numpad/logitech-bluetooth-keyboard-multi-device-k380-blue-en-097855117724_xd5lxz\", \"image\": \"https://media-cdn.bnn.in.th/4554/97855117724-0005-square_medium.jpg\", \"spec\": {\"interface\": \"Bluetooth Wireless\", \"switch\": \"\", \"layout\": \"\", \"dimension\": \"27.90 x 1.60 x 12.40 cm.\", \"support\": \"Windows 7, Windows 8, Windows 10 or higher / Mac OS 10.10 or higher / Chrome OS\"}}]}, {\"model\": \"k480\", \"name\": \"BLUETOOTH KEYBOARD MULTI-DEVICE LOGITECH K480 \", \"store\": \"Banana\", \"brand\": \"Logitech\", \"category\": \"Keyboard\", \"tag\": \"Working\", \"data\": [{\"name\": \"LOGITECH BLUETOOTH KEYBOARD MULTI-DEVICE K480 BLACK (TH/EN)\", \"price\": 1350, \"href\": \"https://www.bnn.in.th/th/p/it-accessories/mouse-and-keyboards/keyboard-and-numpad/logitech-bluetooth-keyboard-multi-device-k480-black-then-097855115423_ydl9nd\", \"image\": \"https://media-cdn.bnn.in.th/4535/97855115423-0006-square_medium.jpg\", \"spec\": {\"interface\": \"Bluetooth\", \"switch\": \"\", \"layout\": \"\", \"dimension\": \"29.9 x 2.0 x 19.5 cm.\", \"support\": \"Windows 7, Windows 8, Windows 10, Mac OS X or later, Chrome OS\"}}]}, {\"model\": \"k480\", \"name\": \"BLUETOOTH KEYBOARD MULTI-DEVICE LOGITECH K480 \", \"store\": \"Banana\", \"brand\": \"Logitech\", \"category\": \"Keyboard\", \"tag\": \"Working\", \"data\": [{\"name\": \"LOGITECH BLUETOOTH KEYBOARD MULTI-DEVICE K480 WHITE (TH/EN)\", \"price\": 1350, \"href\": \"https://www.bnn.in.th/th/p/it-accessories/mouse-and-keyboards/keyboard-and-numpad/logitech-bluetooth-keyboard-multi-device-k480-white-then-097855115430_gz3k6d\", \"image\": \"https://media-cdn.bnn.in.th/4541/97855115430-666-square_medium.jpg\", \"spec\": {\"interface\": \"Bluetooth wireless\", \"switch\": \"\", \"layout\": \"\", \"dimension\": \"29.9 x 2.0 x 19.5 cm.\", \"support\": \"Windows 7, Windows 8, Windows 10, Mac OS X or later, Chrome OS\"}}]}, {\"model\": \"k120\", \"name\": \"HP GAMING K120\", \"store\": \"Banana\", \"brand\": \"Logitech\", \"category\": \"Keyboard\", \"tag\": \"Working\", \"data\": [{\"name\": \"LOGITECH WIRED KEYBOARD USB K120 (TH/EN)\", \"price\": 259, \"href\": \"https://www.bnn.in.th/th/p/it-accessories/mouse-and-keyboards/keyboard-and-numpad/logitech-wired-keyboard-usb-k120-then-097855067128_pdm1ld\", \"image\": \"https://media-cdn.bnn.in.th/4402/9785506712-0001-square_medium.jpg\", \"spec\": {\"interface\": \"USB Compatible\", \"switch\": \"\", \"layout\": \"\", \"dimension\": \"45 x 15.5 x 2.3 cm.\", \"support\": \"Windows XP, Windows Vista or Windows 7, Linux kernel 2.6+\"}}]}, {\"model\": \"k375s\", \"name\": \"USB WIRELESS/BLUETOOTH LOGITECH (K375S)\", \"store\": \"Banana\", \"brand\": \"Logitech\", \"category\": \"Keyboard\", \"tag\": \"Working\", \"data\": [{\"name\": \"LOGITECH WIRELESS KEYBOARD + STAND MULTI-DEVICE K375S (TH/EN)\", \"price\": 790, \"href\": \"https://www.bnn.in.th/th/p/it-accessories/mouse-and-keyboards/keyboard-and-numpad/logitech-wireless-keyboard-stand-multi-device-k375s-then-097855125484_yzwxwr\", \"image\": \"https://media-cdn.bnn.in.th/4648/097855125484-2-square_medium.jpg\", \"spec\": {\"interface\": \"Wireless\", \"switch\": \"\", \"layout\": \"\", \"dimension\": \"2.05 x 43.5 x 13.75 cm.\", \"support\": \"Windows 7, Windows 8, Windows 10 or laterAndroid 5.0Mac OS X 10.1\"}}]}, {\"model\": \"bluetoothcompactkeyboarddesigner\", \"name\": \"MICROSOFT BLUETOOTH COMPACT KEYBOARD DESIGNER\", \"store\": \"Banana\", \"brand\": \"Microsoft\", \"category\": \"Keyboard\", \"tag\": \"Working\", \"data\": [{\"name\": \"MICROSOFT BLUETOOTH COMPACT KEYBOARD DESIGNER BLACK (TH/EN)\", \"price\": 2150, \"href\": \"https://www.bnn.in.th/th/p/it-accessories/mouse-and-keyboards/keyboard-and-numpad/microsoft-bluetooth-compact-keyboard-designer-black-then-889842668469_zg8xv5\", \"image\": \"https://media-cdn.bnn.in.th/107190/Microsoft-Bluetooth-Compact-Keyboard-Designer-Black-TH-EN-5-square_medium.jpg\", \"spec\": {\"interface\": \"Bluetooth\", \"switch\": \"\", \"layout\": \"\", \"dimension\": \"284.07 x 110.77 x 9.05 mm\", \"support\": \"Microsoft Windows 10 / 8.1\"}}]}, {\"model\": \"bluetoothcompactkeyboarddesigner\", \"name\": \"MICROSOFT BLUETOOTH COMPACT KEYBOARD DESIGNER\", \"store\": \"Banana\", \"brand\": \"Microsoft\", \"category\": \"Keyboard\", \"tag\": \"Working\", \"data\": [{\"name\": \"MICROSOFT BLUETOOTH COMPACT KEYBOARD DESIGNER GLACIER (TH/EN)\", \"price\": 2150, \"href\": \"https://www.bnn.in.th/th/p/it-accessories/mouse-and-keyboards/keyboard-and-numpad/microsoft-bluetooth-compact-keyboard-designer-glacier-then-889842668742_z97wv9\", \"image\": \"https://media-cdn.bnn.in.th/107195/Microsoft-Bluetooth-Compact-Keyboard-Designer-Glacier-THEN-5-square_medium.jpg\", \"spec\": {\"interface\": \"Bluetooth\", \"switch\": \"\", \"layout\": \"\", \"dimension\": \"284.07 x 110.77 x 9.05 mm\", \"support\": \"Microsoft Windows 10 / 8.1\"}}]}, {\"model\": \"microsoftbluetoothkeyboard\", \"name\": \"MICROSOFT BLUETOOTH KEYBOARD\", \"store\": \"Banana\", \"brand\": \"Microsoft\", \"category\": \"Keyboard\", \"tag\": \"Working\", \"data\": [{\"name\": \"MICROSOFT BLUETOOTH KEYBOARD BLACK (TH/EN)\", \"price\": 1690, \"href\": \"https://www.bnn.in.th/th/p/it-accessories/mouse-and-keyboards/keyboard-and-numpad/microsoft-bluetooth-keyboard-black-then-889842525533_d223q3\", \"image\": \"https://media-cdn.bnn.in.th/91742/Microsoft-Bluetooth-Keyboard-Black-5-square_medium.jpg\", \"spec\": {\"interface\": \"Bluetooth Low Energy compatible with BT 4.x / 5.0\", \"switch\": \"\", \"layout\": \"\", \"dimension\": \"12.37 x 43.49 x 1.9 cm.\", \"support\": \"Windows 10/8.1 Bluetooth 4.0 or higher\"}}]}, {\"model\": \"microsoftbluetoothnumpad\", \"name\": \"MICROSOFT BLUETOOTH NUMPAD\", \"store\": \"Banana\", \"brand\": \"Microsoft\", \"category\": \"Keyboard\", \"tag\": \"Working\", \"data\": [{\"name\": \"MICROSOFT BLUETOOTH NUMPAD BLACK\", \"price\": 990, \"href\": \"https://www.bnn.in.th/th/p/it-accessories/mouse-and-keyboards/keyboard-and-numpad/microsoft-bluetooth-numpad-black-889842678949_r62xqg\", \"image\": \"https://media-cdn.bnn.in.th/107210/Microsoft-Bluetooth-Numpad-Black-3-square_medium.jpg\", \"spec\": {\"interface\": \"Bluetooth\", \"switch\": \"\", \"layout\": \"\", \"dimension\": \"81.8 x 110.77 X 9.05 mm\", \"support\": \"Microsoft Windows 10 / 8.1\"}}]}, {\"model\": \"microsoftbluetoothnumpad\", \"name\": \"MICROSOFT BLUETOOTH NUMPAD\", \"store\": \"Banana\", \"brand\": \"Microsoft\", \"category\": \"Keyboard\", \"tag\": \"Working\", \"data\": [{\"name\": \"MICROSOFT BLUETOOTH NUMPAD GLACIER\", \"price\": 990, \"href\": \"https://www.bnn.in.th/th/p/it-accessories/mouse-and-keyboards/keyboard-and-numpad/microsoft-bluetooth-numpad-glacier-889842679090_rq8o6v\", \"image\": \"https://media-cdn.bnn.in.th/107211/Microsoft-Bluetooth-Numpad-Glacier-1-square_medium.jpg\", \"spec\": {\"interface\": \"Bluetooth\", \"switch\": \"\", \"layout\": \"\", \"dimension\": \"8.18 x 11.077 X 9.5 cm.\", \"support\": \"Microsoft Windows 10 / 8.1\"}}]}, {\"model\": \"surfacego\", \"name\": \"MICROSOFT SURFACE GO TYPE COVER N SC BLACK REFRESH\", \"store\": \"Banana\", \"brand\": \"Microsoft\", \"category\": \"Keyboard\", \"tag\": \"Working\", \"data\": [{\"name\": \"MICROSOFT SURFACE GO TYPE COVER N SC BLACK REFRESH\", \"price\": 3790, \"href\": \"https://www.bnn.in.th/th/p/tablet-and-accessories/tablet-accessories/surface-accesories-tablet-accessories/microsoft-surface-go-type-cover-n-sc-black-refresh-889842590807_zwl0vg\", \"image\": \"https://media-cdn.bnn.in.th/91809/Microsoft-Surface-Go-Type-Cover-NSC-Black-Refresh-1-square_medium.jpg\", \"spec\": {\"interface\": \"N/A\", \"switch\": \"\", \"layout\": \"\", \"dimension\": \"24.8 x 0.4 x 19 cm.\", \"support\": \"\"}}]}, {\"model\": \"surfacego\", \"name\": \"MICROSOFT SURFACE GO TYPE COVER N SC BLACK REFRESH\", \"store\": \"Banana\", \"brand\": \"Microsoft\", \"category\": \"Keyboard\", \"tag\": \"Working\", \"data\": [{\"name\": \"MICROSOFT SURFACE GO TYPE COVER N SC CHARCOAL\", \"price\": 4890, \"href\": \"https://www.bnn.in.th/th/p/tablet-and-accessories/tablet-accessories/surface-accesories-tablet-accessories/microsoft-surface-go-type-cover-n-sc-charcoal-889842582147_d51ej2\", \"image\": \"https://media-cdn.bnn.in.th/91807/Microsoft-Surface-Go-Type-Cover-NSC-Charcoal-1-square_medium.jpg\", \"spec\": {\"interface\": \"Charcoal\", \"switch\": \"\", \"layout\": \"\", \"dimension\": \"0.245 kg.\", \"support\": \"\"}}]}, {\"model\": \"surfacego\", \"name\": \"MICROSOFT SURFACE GO TYPE COVER N SC BLACK REFRESH\", \"store\": \"Banana\", \"brand\": \"Microsoft\", \"category\": \"Keyboard\", \"tag\": \"Working\", \"data\": [{\"name\": \"MICROSOFT SURFACE GO TYPE COVER N SC THAILAND HDWR ICE BLUE\", \"price\": 4890, \"href\": \"https://www.bnn.in.th/th/p/tablet-and-accessories/tablet-accessories/surface-accesories-tablet-accessories/microsoft-surface-go-type-cover-n-sc-thailand-hdwr-ice-blue-889842581959_zjg6q5\", \"image\": \"https://media-cdn.bnn.in.th/91804/Microsoft-Surface-Go-Type-Cover-NSC-Thailand-Hdwr-Ice-Blue-1-square_medium.jpg\", \"spec\": {\"interface\": \"N/A\", \"switch\": \"\", \"layout\": \"\", \"dimension\": \"24.8 x 0.4 x 19 cm.\", \"support\": \"\"}}]}, null, {\"model\": \"tabletacc\", \"name\": \"MICROSOFT TABLET ACC GO TYPE COVER COLORS N SC\", \"store\": \"Banana\", \"brand\": \"Microsoft\", \"category\": \"Keyboard\", \"tag\": \"Working\", \"data\": [{\"name\": \"MICROSOFT TABLET ACC SIGNA TYPE COVER M1725 BLACK (FMM-00016)\", \"price\": 5390, \"href\": \"https://www.bnn.in.th/th/p/tablet-and-accessories/tablet-accessories/surface-accesories-tablet-accessories/microsoft-tablet-acc-signa-type-cover-m1725-black-fmm-00016-889842200836_d51epj\", \"image\": \"https://media-cdn.bnn.in.th/91232/889842200836-1-square_medium.jpg\", \"spec\": {\"interface\": \"Magnetic\", \"switch\": \"\", \"layout\": \"\", \"dimension\": \"29.5 x 21.7 x 0.5 cm.\", \"support\": \"\"}}]}, {\"model\": \"tabletacc\", \"name\": \"MICROSOFT TABLET ACC GO TYPE COVER COLORS N SC\", \"store\": \"Banana\", \"brand\": \"Microsoft\", \"category\": \"Keyboard\", \"tag\": \"Working\", \"data\": [{\"name\": \"MICROSOFT TABLET ACC SIGNA TYPE COVER M1725 CHARCOAL (FFP-00156)\", \"price\": 7190, \"href\": \"https://www.bnn.in.th/th/p/tablet-and-accessories/tablet-accessories/surface-accesories-tablet-accessories/microsoft-tablet-acc-signa-type-cover-m1725-charcoal-ffp-00156-889842529272_rq8xg2\", \"image\": \"https://media-cdn.bnn.in.th/91762/889842529272-01-square_medium.jpg\", \"spec\": {\"interface\": \"Magnetic\", \"switch\": \"\", \"layout\": \"\", \"dimension\": \"29.5 x 21.7 x 0.5 cm.\", \"support\": \"\"}}]}, {\"model\": \"tabletacc\", \"name\": \"MICROSOFT TABLET ACC GO TYPE COVER COLORS N SC\", \"store\": \"Banana\", \"brand\": \"Microsoft\", \"category\": \"Keyboard\", \"tag\": \"Working\", \"data\": [{\"name\": \"MICROSOFT TABLET ACC SIGNA TYPE COVER M1725 POPPY RED (FFP-00116)\", \"price\": 7190, \"href\": \"https://www.bnn.in.th/th/p/tablet-and-accessories/tablet-accessories/surface-accesories-tablet-accessories/microsoft-tablet-acc-signa-type-cover-m1725-poppy-red-ffp-00116-889842521177_z781e6\", \"image\": \"https://media-cdn.bnn.in.th/91726/889842521177-01-square_medium.jpg\", \"spec\": {\"interface\": \"Magnetic\", \"switch\": \"\", \"layout\": \"\", \"dimension\": \"29.5 x 21.7 x 0.5 cm.\", \"support\": \"\"}}]}, {\"model\": \"wirelesskeyboardallinonemedia\", \"name\": \"MICROSOFT WIRELESS KEYBOARD ALL-IN-ONE MEDIA\", \"store\": \"Banana\", \"brand\": \"Microsoft\", \"category\": \"Keyboard\", \"tag\": \"Working\", \"data\": [{\"name\": \"MICROSOFT WIRELESS KEYBOARD ALL-IN-ONE MEDIA (TH/EN)\", \"price\": 1390, \"href\": \"https://www.bnn.in.th/th/p/it-accessories/mouse-and-keyboards/keyboard-and-numpad/microsoft-wireless-keyboard-all-in-one-media-then-885370738117_dko3kj\", \"image\": \"https://media-cdn.bnn.in.th/79809/88537073811-0003-square_medium.jpg\", \"spec\": {\"interface\": \"USB Compatible\", \"switch\": \"\", \"layout\": \"\", \"dimension\": \"36.7 x 13.2 x 2.1 cm.\", \"support\": \"Microsoft Windows 8,8.1 /Windows RT 8, 8.1 / Windows 7 / Macintosh OSX v10.7-10.9 / Android 4.03, 4.12, and 4.2\"}}]}, {\"model\": \"waffle\", \"name\": \"MOFII BLUETOOTH KEYBOARD WAFFLE\", \"store\": \"Banana\", \"brand\": \"Mofii\", \"category\": \"Keyboard\", \"tag\": \"Working\", \"data\": [{\"name\": \"MOFII BLUETOOTH KEYBOARD WAFFLE GREY (TH/EN)\", \"price\": 790, \"href\": \"https://www.bnn.in.th/th/p/it-accessories/mouse-and-keyboards/keyboard-and-numpad/mofii-bluetooth-keyboard-waffle-grey-then-6950125748315_dlp5pz\", \"image\": \"https://media-cdn.bnn.in.th/102607/MOFii-Waffle-Bluetooth-Keyboard-Grey-6-square_medium.jpg\", \"spec\": {\"interface\": \"Bluetooth\", \"switch\": \"\", \"layout\": \"\", \"dimension\": \"320 x 137 x 32 mm.\", \"support\": \"Windows 2000, Windows xp. Windows ME. Windows VISTA, Windows 7/8/10\"}}]}]'"
      ]
     },
     "metadata": {},
     "execution_count": 45
    }
   ],
   "metadata": {}
  },
  {
   "cell_type": "code",
   "execution_count": 46,
   "source": [
    "with open('json_keyboard_working.json', 'w',encoding=\"utf-8\") as f:\r\n",
    "    f.writelines(out_keyboard_item)\r\n",
    "    print(\"success\")"
   ],
   "outputs": [
    {
     "output_type": "stream",
     "name": "stdout",
     "text": [
      "success\n"
     ]
    }
   ],
   "metadata": {}
  },
  {
   "cell_type": "code",
   "execution_count": 142,
   "source": [
    "export=[]"
   ],
   "outputs": [],
   "metadata": {}
  },
  {
   "cell_type": "code",
   "execution_count": 54,
   "source": [
    "# for index,val in enumerate(advice_keyboard_working_href):\r\n",
    "#     print(\"----\",index,\"of\" ,len(advice_keyboard_working_href),\"----\")\r\n",
    "#     export.append(keyboard_exit(val))"
   ],
   "outputs": [],
   "metadata": {}
  },
  {
   "cell_type": "code",
   "execution_count": 143,
   "source": [
    "nametest = [\"https://www.bnn.in.th/th/p/gaming-gear/pc-gaming-accessories/gaming-keyboard/asus-gaming-keyboard-rog-strix-scope-pbtthblue-sw-4718017365741_dy6q2v\"]\r\n",
    "nametest "
   ],
   "outputs": [
    {
     "output_type": "execute_result",
     "data": {
      "text/plain": [
       "['https://www.bnn.in.th/th/p/gaming-gear/pc-gaming-accessories/gaming-keyboard/asus-gaming-keyboard-rog-strix-scope-pbtthblue-sw-4718017365741_dy6q2v']"
      ]
     },
     "metadata": {},
     "execution_count": 143
    }
   ],
   "metadata": {}
  },
  {
   "cell_type": "code",
   "execution_count": 153,
   "source": [
    "for index,val in enumerate(nametest):\r\n",
    "    print(\"----\",index,\"of\" ,len(nametest),\"----\")\r\n",
    "    export.append(keyboard_exit(val))"
   ],
   "outputs": [
    {
     "output_type": "stream",
     "name": "stdout",
     "text": [
      "---- 0 of 1 ----\n",
      "Asus Gaming Keyboard ROG Strix Scope PBT/Th/Blue SW\n",
      "rogstrixscope\n",
      "3190\n",
      "https://media-cdn.bnn.in.th/116583/Asus-Gaming-Keyboard-ROG-Strix-Scope-PBT-Th-Blue-SW-3-square_medium.jpg\n",
      "ASUS\n",
      "https://www.bnn.in.th/th/p/gaming-gear/pc-gaming-accessories/gaming-keyboard/asus-gaming-keyboard-rog-strix-scope-pbtthblue-sw-4718017365741_dy6q2v\n"
     ]
    }
   ],
   "metadata": {}
  },
  {
   "cell_type": "code",
   "execution_count": 149,
   "source": [
    "export"
   ],
   "outputs": [
    {
     "output_type": "execute_result",
     "data": {
      "text/plain": [
       "[None,\n",
       " {'model': 'rogstrixscope',\n",
       "  'name': 'ASUS GAMING KEYBOARD ROG STRIX SCOPE',\n",
       "  'store': 'Banana',\n",
       "  'brand': 'Asus',\n",
       "  'category': 'Keyboard',\n",
       "  'tag': 'Gaming',\n",
       "  'data': [{'name': 'ASUS GAMING KEYBOARD ROG STRIX SCOPE PBT/TH/BLUE SW',\n",
       "    'price': 3190,\n",
       "    'href': 'https://www.bnn.in.th/th/p/gaming-gear/pc-gaming-accessories/gaming-keyboard/asus-gaming-keyboard-rog-strix-scope-pbtthblue-sw-4718017365741_dy6q2v',\n",
       "    'image': 'https://media-cdn.bnn.in.th/116583/Asus-Gaming-Keyboard-ROG-Strix-Scope-PBT-Th-Blue-SW-3-square_medium.jpg',\n",
       "    'spec': {'interface': 'USB',\n",
       "     'switch': 'N/A',\n",
       "     'layout': '',\n",
       "     'dimension': '44.0x13.7x3.9 cm',\n",
       "     'support': 'N/A'}}]}]"
      ]
     },
     "metadata": {},
     "execution_count": 149
    }
   ],
   "metadata": {}
  },
  {
   "cell_type": "code",
   "execution_count": 119,
   "source": [
    "out_keyboard_item= json.dumps(export, ensure_ascii=False)"
   ],
   "outputs": [],
   "metadata": {}
  },
  {
   "cell_type": "code",
   "execution_count": 120,
   "source": [
    "out_keyboard_item"
   ],
   "outputs": [
    {
     "output_type": "execute_result",
     "data": {
      "text/plain": [
       "'[{\"model\": \"k110\", \"name\": \"HP GAMING K110\", \"store\": \"Advice\", \"brand\": \"Hp.\", \"category\": \"Keyboard\", \"tag\": \"Working\", \"data\": [{\"name\": \"USB KEYBOARD HP GAMING K110 BLACK\", \"price\": 365, \"href\": \"https://www.advice.co.th/product/keyboard/hp/usb-keyboard-hp-gaming-k110-black\", \"image\": \"https://img.advice.co.th/images_nas/pic_product4/A0131629/A0131629OK_BIG_1.jpg\", \"spec\": {\"interface\": \"USB\", \"switch\": \"\", \"layout\": \"104 Keys\", \"dimension\": \"(W x D x H) : 19.22 x 46.37 x 33.09 cm\", \"support\": \"Windows 7 / 8.1 / 10\\\\nMac OS 10.3 or later\"}}]}, {\"model\": \"k500f\", \"name\": \"HP GAMING K500F\", \"store\": \"Advice\", \"brand\": \"Hp.\", \"category\": \"Keyboard\", \"tag\": \"Working\", \"data\": [{\"name\": \"USB KEYBOARD HP GAMING K500F BLACK\", \"price\": 365, \"href\": \"https://www.advice.co.th/product/keyboard/hp/usb-keyboard-hp-gaming-k500f-black\", \"image\": \"https://img.advice.co.th/images_nas/pic_product4/A0130873/A0130873OK_BIG_1.jpg\", \"spec\": {\"interface\": \"USB\", \"switch\": \"\", \"layout\": \"104 Keys\", \"dimension\": \"(W x D x H) : 44.00 x 13.50 x 3.51 cm\", \"support\": \"Microsoft Windows 7 / 8 / 10\"}}]}, {\"model\": \"k120\", \"name\": \"HP GAMING K120\", \"store\": \"Advice\", \"brand\": \"Hp.\", \"category\": \"Keyboard\", \"tag\": \"Working\", \"data\": [{\"name\": \"USB KEYBOARD HP GAMING K120 BLACK\", \"price\": 405, \"href\": \"https://www.advice.co.th/product/keyboard/hp/usb-keyboard-hp-gaming-k120-black\", \"image\": \"https://img.advice.co.th/images_nas/pic_product4/A0138691/A0138691OK_BIG_1.jpg\", \"spec\": {\"interface\": \"USB\", \"switch\": \"\", \"layout\": \"104 Keys\", \"dimension\": \"(W x D x H) : 41.60 x 15.30 x 2.60 cm\", \"support\": \"\"}}]}, {\"model\": \"k300\", \"name\": \"HP GAMING K300\", \"store\": \"Advice\", \"brand\": \"Hp.\", \"category\": \"Keyboard\", \"tag\": \"Working\", \"data\": [{\"name\": \"USB KEYBOARD HP GAMING K300\", \"price\": 415, \"href\": \"https://www.advice.co.th/product/keyboard/hp/usb-keyboard-hp-gaming-k300\", \"image\": \"https://img.advice.co.th/images_nas/pic_product4/A0123531/A0123531OK_BIG_1.jpg\", \"spec\": {\"interface\": \"USB\", \"switch\": \"Non-Mechanical\", \"layout\": \"104 Keys\", \"dimension\": \"\", \"support\": \"\"}}]}, {\"model\": \"kb216\", \"name\": \"DELL KB216\", \"store\": \"Advice\", \"brand\": \"Dell\", \"category\": \"Keyboard\", \"tag\": \"Working\", \"data\": [{\"name\": \"USB KEYBOARD DELL (KB216) BLACK\", \"price\": 195, \"href\": \"https://www.advice.co.th/product/keyboard/dell/usb-keyboard-dell-kb216-black\", \"image\": \"https://img.advice.co.th/images_nas/pic_product4/A0137743/A0137743OK_BIG_1.jpg\", \"spec\": {\"interface\": \"USB\", \"switch\": \"\", \"layout\": \"104 Keys\", \"dimension\": \"(W x D x H) : 12.70 x 44.19 x 2.54 cm\", \"support\": \"\"}}]}, {\"model\": \"k120\", \"name\": \"HP GAMING K120\", \"store\": \"Advice\", \"brand\": \"Logitech\", \"category\": \"Keyboard\", \"tag\": \"Working\", \"data\": [{\"name\": \"USB KEYBOARD LOGITECH (K120) BLACK\", \"price\": 270, \"href\": \"https://www.advice.co.th/product/keyboard/logitech/usb-keyboard-logitech-k120-black\", \"image\": \"https://img.advice.co.th/images_nas/pic_product4/A0035187/A0035187OK_BIG_1.jpg\", \"spec\": {\"interface\": \"USB\", \"switch\": \"\", \"layout\": \"104 key\", \"dimension\": \"\", \"support\": \"\"}}]}, null, null, {\"model\": \"k480\", \"name\": \"BLUETOOTH KEYBOARD MULTI-DEVICE LOGITECH K480 \", \"store\": \"Advice\", \"brand\": \"Logitech\", \"category\": \"Keyboard\", \"tag\": \"Working\", \"data\": [{\"name\": \"BLUETOOTH KEYBOARD MULTI-DEVICE LOGITECH K480 BLACK\", \"price\": 1160, \"href\": \"https://www.advice.co.th/product/keyboard/logitech/bluetooth-keyboard-multi-device-logitech-k480-black\", \"image\": \"https://img.advice.co.th/images_nas/pic_product4/A0082709/A0082709OK_BIG_1.jpg\", \"spec\": {\"interface\": \"BLUETOOTH\", \"switch\": \"\", \"layout\": \"82 Keys (EN\\\\\\\\TH)\", \"dimension\": \"\", \"support\": \"Windows, Mac OS, Android และ iOS\"}}]}, {\"model\": \"k480\", \"name\": \"BLUETOOTH KEYBOARD MULTI-DEVICE LOGITECH K480 \", \"store\": \"Advice\", \"brand\": \"Logitech\", \"category\": \"Keyboard\", \"tag\": \"Working\", \"data\": [{\"name\": \"BLUETOOTH KEYBOARD MULTI-DEVICE LOGITECH K480 WHITE\", \"price\": 1160, \"href\": \"https://www.advice.co.th/product/keyboard/logitech/bluetooth-keyboard-multi-device-logitech-k480-white\", \"image\": \"https://img.advice.co.th/images_nas/pic_product4/A0083367/A0083367OK_BIG_1.jpg\", \"spec\": {\"interface\": \"BLUETOOTH\", \"switch\": \"\", \"layout\": \"82 Keys (EN\\\\\\\\TH)\", \"dimension\": \"\", \"support\": \"Windows, Mac OS, Android และ iOS\"}}]}, {\"model\": \"n9z00027\", \"name\": \"USB WIRELESS ALL-IN-ONE MEDIA MICROSOFT BLACK N9Z-00027\", \"store\": \"Advice\", \"brand\": \"Microsoft\", \"category\": \"Keyboard\", \"tag\": \"Working\", \"data\": [{\"name\": \"USB WIRELESS ALL-IN-ONE MEDIA MICROSOFT BLACK \\'N9Z-00027\\'\", \"price\": 1145, \"href\": \"https://www.advice.co.th/product/keyboard/microsoft/usb-wireless-all-in-one-media-microsoft-black-n9z-00027-\", \"image\": \"https://img.advice.co.th/images_nas/pic_product4/A0088241/A0088241OK_BIG_1.jpg\", \"spec\": {\"interface\": \"USB\", \"switch\": \"\", \"layout\": \"\", \"dimension\": \"\", \"support\": \"Windows 10, Windows 8.1, Windows® 8, Windows RT 8.1,\\\\nWindows RT 8, Windows 7\"}}]}, null, {\"model\": \"nk1800\", \"name\": \"USB KEYBOARD RAPOO (NK1800)\", \"store\": \"Advice\", \"brand\": \"Rapoo\", \"category\": \"Keyboard\", \"tag\": \"Working\", \"data\": [{\"name\": \"USB KEYBOARD RAPOO (NK1800) BLACK\", \"price\": 240, \"href\": \"https://www.advice.co.th/product/keyboard/rapoo/usb-keyboard-rapoo-nk1800-black\", \"image\": \"https://img.advice.co.th/images_nas/pic_product4/A0130480/A0130480OK_BIG_1.jpg\", \"spec\": {\"interface\": \"USB\", \"switch\": \"\", \"layout\": \"104 Keys\", \"dimension\": \"\", \"support\": \"\"}}]}, {\"model\": \"kbe1050bk\", \"name\": \"USB WIRELESS KEYBOARD RAPOO (KB-E1050-BK)\", \"store\": \"Advice\", \"brand\": \"Rapoo\", \"category\": \"Keyboard\", \"tag\": \"Working\", \"data\": [{\"name\": \"USB WIRELESS KEYBOARD RAPOO (KB-E1050-BK) BLACK\", \"price\": 385, \"href\": \"https://www.advice.co.th/product/keyboard/rapoo/usb-wireless-keyboard-rapoo-kb-e1050-bk-black\", \"image\": \"https://img.advice.co.th/images_nas/pic_product4/A0074133/A0074133OK_BIG_1.jpg\", \"spec\": {\"interface\": \"USB\", \"switch\": \"\", \"layout\": \"104 Keys\", \"dimension\": \"\", \"support\": \"WindownXp /Visa/7/8\"}}]}, {\"model\": \"kbk2800bk\", \"name\": \"USB WIRELESS KEYBOARD RAPOO (KB-K2800-BK)\", \"store\": \"Advice\", \"brand\": \"Rapoo\", \"category\": \"Keyboard\", \"tag\": \"Working\", \"data\": [{\"name\": \"USB WIRELESS KEYBOARD RAPOO (KB-K2800-BK) BLACK\", \"price\": 725, \"href\": \"https://www.advice.co.th/product/keyboard/rapoo/usb-wireless-keyboard-rapoo-kb-k2800-bk-black\", \"image\": \"https://img.advice.co.th/images_nas/pic_product4/A0124923/A0124923OK_BIG_1.jpg\", \"spec\": {\"interface\": \"USB Wireless\\\\nสามารถใช้งานได้ไกล 10 เมตร (ในพื้นที่โล่ง)\", \"switch\": \"78 Keys\", \"layout\": \"\", \"dimension\": \"\", \"support\": \"\"}}]}, {\"model\": \"xk100bk\", \"name\": \"BLUETOOTH KEYBOARD RAPOO (XK100-BK) BLACK\", \"store\": \"Advice\", \"brand\": \"Rapoo\", \"category\": \"Keyboard\", \"tag\": \"Working\", \"data\": [{\"name\": \"BLUETOOTH KEYBOARD RAPOO (XK100-BK) BLACK\", \"price\": 725, \"href\": \"https://www.advice.co.th/product/keyboard/rapoo/bluetooth-keyboard-rapoo-xk100-bk-black\", \"image\": \"https://img.advice.co.th/images_nas/pic_product4/A0135150/A0135150OK_BIG_1.jpg\", \"spec\": {\"interface\": \"Bluetooth\", \"switch\": \"\", \"layout\": \"78 Keys\", \"dimension\": \"\", \"support\": \"\"}}]}, {\"model\": \"kb103\", \"name\": \"USB KEYBOARD LECOO (KB103)\", \"store\": \"Advice\", \"brand\": \"Lecoo\", \"category\": \"Keyboard\", \"tag\": \"Working\", \"data\": [{\"name\": \"USB KEYBOARD LECOO (KB103) BLACK BY LENOVO\", \"price\": 200, \"href\": \"https://www.advice.co.th/product/keyboard/lecoo-by-lenovo/usb-keyboard-lecoo-kb103-black-by-lenovo\", \"image\": \"https://img.advice.co.th/images_nas/pic_product4/A0137831/A0137831OK_BIG_1.jpg\", \"spec\": {\"interface\": \"USB\", \"switch\": \"\", \"layout\": \"103 Keys\", \"dimension\": \"(W x D x H) : 15.60 x 43.00 x 2.50 cm\", \"support\": \"\"}}]}, {\"model\": \"kb210m\", \"name\": \"USB KEYBOARD MINI MD-TECH (KB-210M)\", \"store\": \"Advice\", \"brand\": \"Md-tech\", \"category\": \"Keyboard\", \"tag\": \"Working\", \"data\": [{\"name\": \"USB KEYBOARD MINI MD-TECH (KB-210M) BLACK\", \"price\": 170, \"href\": \"https://www.advice.co.th/product/keyboard/md-tech/usb-keyboard-mini-md-tech-kb-210m-black\", \"image\": \"https://img.advice.co.th/images_nas/pic_product4/A0110649/A0110649OK_BIG_1.jpg\", \"spec\": {\"interface\": \"USB\", \"switch\": \"\", \"layout\": \"83 Key\", \"dimension\": \"\", \"support\": \"Windows XP / 2000 / Vista /10 /MAC OS\"}}]}, {\"model\": \"kb19\", \"name\": \"USB KEYBOARD MD-TECH (KB-19) BLACK\", \"store\": \"Advice\", \"brand\": \"Md-tech\", \"category\": \"Keyboard\", \"tag\": \"Working\", \"data\": [{\"name\": \"USB KEYBOARD MD-TECH (KB-19) BLACK\", \"price\": 125, \"href\": \"https://www.advice.co.th/product/keyboard/md-tech/usb-keyboard-md-tech-kb-19-black\", \"image\": \"https://img.advice.co.th/images_nas/pic_product4/A0137310/A0137310OK_BIG_1.jpg\", \"spec\": {\"interface\": \"USB\", \"switch\": \"\", \"layout\": \"104 Keys\", \"dimension\": \"\", \"support\": \"\"}}]}, null, {\"model\": \"kb674\", \"name\": \"USB KEYBOARD MD-TECH (KB-674)\", \"store\": \"Advice\", \"brand\": \"Md-tech\", \"category\": \"Keyboard\", \"tag\": \"Working\", \"data\": [{\"name\": \"USB KEYBOARD MD-TECH (KB-674) BLACK/RED\", \"price\": 130, \"href\": \"https://www.advice.co.th/product/keyboard/md-tech/usb-keyboard-md-tech-kb-674-black-red\", \"image\": \"https://img.advice.co.th/images_nas/pic_product4/A0128744/A0128744OK_BIG_1.jpg\", \"spec\": {\"interface\": \"USB 2.0\", \"switch\": \"RUBBER\", \"layout\": \"104 Key\", \"dimension\": \"\", \"support\": \"Windows XP/Vista/7/8/10/Mac/Linux\"}}]}, {\"model\": \"kb674\", \"name\": \"USB KEYBOARD MD-TECH (KB-674)\", \"store\": \"Advice\", \"brand\": \"Md-tech\", \"category\": \"Keyboard\", \"tag\": \"Working\", \"data\": [{\"name\": \"USB KEYBOARD MD-TECH (KB-674) BLACK/BLUE\", \"price\": 130, \"href\": \"https://www.advice.co.th/product/keyboard/md-tech/usb-keyboard-md-tech-kb-674-black-blue\", \"image\": \"https://img.advice.co.th/images_nas/pic_product4/A0128745/A0128745OK_BIG_1.jpg\", \"spec\": {\"interface\": \"USB 2.0\", \"switch\": \"RUBBER\", \"layout\": \"104 Key\", \"dimension\": \"\", \"support\": \"Windows XP/Vista/7/8/10/Mac/Linux\"}}]}, {\"model\": \"kb667\", \"name\": \"USB KEYBOARD MD-TECH (KB-667) \", \"store\": \"Advice\", \"brand\": \"Md-tech\", \"category\": \"Keyboard\", \"tag\": \"Working\", \"data\": [{\"name\": \"USB KEYBOARD MD-TECH (KB-667) BLACK\", \"price\": 140, \"href\": \"https://www.advice.co.th/product/keyboard/md-tech/usb-keyboard-md-tech-kb-667-black\", \"image\": \"https://img.advice.co.th/images_nas/pic_product4/A0135149/A0135149OK_BIG_1.jpg\", \"spec\": {\"interface\": \"USB\", \"switch\": \"\", \"layout\": \"104 Keys\", \"dimension\": \"(W x D x H) : 45.50 x 14.00 x 2.00 cm\", \"support\": \"Windows XP, Vista, 7, 8, 10\"}}]}, {\"model\": \"kb670\", \"name\": \"USB KEYBOARD MD-TECH (KB-670)\", \"store\": \"Advice\", \"brand\": \"Md-tech\", \"category\": \"Keyboard\", \"tag\": \"Working\", \"data\": [{\"name\": \"USB KEYBOARD MD-TECH (KB-670) BLACK\", \"price\": 140, \"href\": \"https://www.advice.co.th/product/keyboard/md-tech/usb-keyboard-md-tech-kb-670-black\", \"image\": \"https://img.advice.co.th/images_nas/pic_product4/A0083281/A0083281OK_BIG_1.jpg\", \"spec\": {\"interface\": \"USB\", \"switch\": \"\", \"layout\": \"104 Keys\", \"dimension\": \"\", \"support\": \"\"}}]}, null, {\"model\": \"kb666\", \"name\": \"USB KEYBOARD MD-TECH (KB-666)\", \"store\": \"Advice\", \"brand\": \"Md-tech\", \"category\": \"Keyboard\", \"tag\": \"Working\", \"data\": [{\"name\": \"USB KEYBOARD MD-TECH (KB-666) BLACK\", \"price\": 165, \"href\": \"https://www.advice.co.th/product/keyboard/md-tech/usb-keyboard-md-tech-kb-666-black\", \"image\": \"https://img.advice.co.th/images_nas/pic_product4/A0024196/A0024196OK_BIG_1.jpg\", \"spec\": {\"interface\": \"USB\", \"switch\": \"\", \"layout\": \"107 Keys\", \"dimension\": \"\", \"support\": \"\"}}]}, null, {\"model\": \"kb15\", \"name\": \"USB KEYBOARD MD-TECH (KB-15)\", \"store\": \"Advice\", \"brand\": \"Md-tech\", \"category\": \"Keyboard\", \"tag\": \"Working\", \"data\": [{\"name\": \"USB KEYBOARD MD-TECH (KB-15) BLACK/GREEN\", \"price\": 170, \"href\": \"https://www.advice.co.th/product/keyboard/md-tech/usb-keyboard-md-tech-kb-15-black-green\", \"image\": \"https://img.advice.co.th/images_nas/pic_product4/A0105612/A0105612OK_BIG_1.jpg\", \"spec\": {\"interface\": \"USB 2.0\", \"switch\": \"\", \"layout\": \"104 Key\", \"dimension\": \"\", \"support\": \"Windows 10, 98,Mac\"}}]}, {\"model\": \"kb15\", \"name\": \"USB KEYBOARD MD-TECH (KB-15)\", \"store\": \"Advice\", \"brand\": \"Md-tech\", \"category\": \"Keyboard\", \"tag\": \"Working\", \"data\": [{\"name\": \"USB KEYBOARD MD-TECH (KB-15) BLACK/WHITE\", \"price\": 170, \"href\": \"https://www.advice.co.th/product/keyboard/md-tech/usb-keyboard-md-tech-kb-15-black-white\", \"image\": \"https://img.advice.co.th/images_nas/pic_product4/A0105613/A0105613OK_BIG_1.jpg\", \"spec\": {\"interface\": \"USB 2.0\", \"switch\": \"\", \"layout\": \"104 Key\", \"dimension\": \"\", \"support\": \"Windows 10, 98,Mac\"}}]}, {\"model\": \"kb15\", \"name\": \"USB KEYBOARD MD-TECH (KB-15)\", \"store\": \"Advice\", \"brand\": \"Md-tech\", \"category\": \"Keyboard\", \"tag\": \"Working\", \"data\": [{\"name\": \"USB KEYBOARD MD-TECH (KB-15) BLACK/BLUE\", \"price\": 170, \"href\": \"https://www.advice.co.th/product/keyboard/md-tech/usb-keyboard-md-tech-kb-15-black-blue\", \"image\": \"https://img.advice.co.th/images_nas/pic_product4/A0105611/A0105611OK_BIG_1.jpg\", \"spec\": {\"interface\": \"USB 2.0\", \"switch\": \"\", \"layout\": \"104 Key\", \"dimension\": \"\", \"support\": \"Windows 10, 98,Mac\"}}]}, {\"model\": \"kb319m\", \"name\": \"USB KEYBOARD MD-TECH (KB-319M )\", \"store\": \"Advice\", \"brand\": \"Md-tech\", \"category\": \"Keyboard\", \"tag\": \"Working\", \"data\": [{\"name\": \"USB KEYBOARD MD-TECH (KB-319M ) BLACK\", \"price\": 180, \"href\": \"https://www.advice.co.th/product/keyboard/md-tech/usb-keyboard-md-tech-kb-319m-black\", \"image\": \"https://img.advice.co.th/images_nas/pic_product4/A0132251/A0132251OK_BIG_1.jpg\", \"spec\": {\"interface\": \"USB\", \"switch\": \"\", \"layout\": \"116 Keys\", \"dimension\": \"(W x D x H) : 44.80 x 16.80 x 2.96 cm\", \"support\": \"Windows 10 / 8 / 7 / Visto / XP\\\\nChrome OS\\\\nLinux Kernel 2.6+\"}}]}, {\"model\": \"kb222m\", \"name\": \"USB KEYBOARD MD-TECH (KB-222M)\", \"store\": \"Advice\", \"brand\": \"Md-tech\", \"category\": \"Keyboard\", \"tag\": \"Working\", \"data\": [{\"name\": \"USB KEYBOARD MD-TECH (KB-222M) BLACK/RED\", \"price\": 180, \"href\": \"https://www.advice.co.th/product/keyboard/md-tech/usb-keyboard-md-tech-kb-222m-black-red\", \"image\": \"https://img.advice.co.th/images_nas/pic_product4/A0104149/A0104149OK_BIG_1.jpg\", \"spec\": {\"interface\": \"USB\", \"switch\": \"\", \"layout\": \"111 Keys\", \"dimension\": \"\", \"support\": \"Windows 10 /MAC OS\"}}]}, {\"model\": \"kb222m\", \"name\": \"USB KEYBOARD MD-TECH (KB-222M)\", \"store\": \"Advice\", \"brand\": \"Md-tech\", \"category\": \"Keyboard\", \"tag\": \"Working\", \"data\": [{\"name\": \"USB KEYBOARD MD-TECH (KB-222M) BLACK/BLUE\", \"price\": 180, \"href\": \"https://www.advice.co.th/product/keyboard/md-tech/usb-keyboard-md-tech-kb-222m-black-blue\", \"image\": \"https://img.advice.co.th/images_nas/pic_product4/A0101324/A0101324OK_BIG_1.jpg\", \"spec\": {\"interface\": \"USB\", \"switch\": \"\", \"layout\": \"111 Keys\", \"dimension\": \"\", \"support\": \"Windows 10 /MAC OS\"}}]}, {\"model\": \"k5\", \"name\": \"USB KEYBOARD MD-TECH (K-5)\", \"store\": \"Advice\", \"brand\": \"Md-tech\", \"category\": \"Keyboard\", \"tag\": \"Working\", \"data\": [{\"name\": \"USB KEYBOARD MD-TECH (K-5) BLACK\", \"price\": 220, \"href\": \"https://www.advice.co.th/product/keyboard/md-tech/usb-keyboard-md-tech-k-5-black\", \"image\": \"https://img.advice.co.th/images_nas/pic_product4/A0122446/A0122446OK_BIG_1.jpg\", \"spec\": {\"interface\": \"USB\", \"switch\": \"\", \"layout\": \"104 Keys\", \"dimension\": \"\", \"support\": \"Windows 10/ 8 / 7 / Vista / XP/ Linux / Mac OS\"}}]}, {\"model\": \"nk35\", \"name\": \"USB KEYBOARD MINI NUBWO (NK-35)\", \"store\": \"Advice\", \"brand\": \"Nubwo\", \"category\": \"Keyboard\", \"tag\": \"Working\", \"data\": [{\"name\": \"USB KEYBOARD MINI NUBWO (NK-35) BLACK\", \"price\": 140, \"href\": \"https://www.advice.co.th/product/keyboard/nubwo/usb-keyboard-mini-nubwo-nk-35-black\", \"image\": \"https://img.advice.co.th/images_nas/pic_product4/A0135629/A0135629OK_BIG_1.jpg\", \"spec\": {\"interface\": \"USB\", \"switch\": \"\", \"layout\": \"78 Keys\", \"dimension\": \"(W x D x H) : 13.00 x 28.50 x 2.50 cm\", \"support\": \"\"}}]}, {\"model\": \"nk38\", \"name\": \"USB KEYBOARD MINI NUBWO (NK-38)\", \"store\": \"Advice\", \"brand\": \"Nubwo\", \"category\": \"Keyboard\", \"tag\": \"Working\", \"data\": [{\"name\": \"USB KEYBOARD MINI NUBWO (NK-38) \\'WIZARDY\\' BLACK\", \"price\": 315, \"href\": \"https://www.advice.co.th/product/keyboard/nubwo/usb-keyboard-mini-nubwo-nk-38-wizardy-black\", \"image\": \"https://img.advice.co.th/images_nas/pic_product4/A0138783/A0138783OK_BIG_1.jpg\", \"spec\": {\"interface\": \"USB\", \"switch\": \"N/A\", \"layout\": \"61 Key\", \"dimension\": \"(W x D x H) : 30.00 x 11.00 x 3.30 cm\", \"support\": \"Windows 7, 8, 10, etc\"}}]}, {\"model\": \"nk38\", \"name\": \"USB KEYBOARD MINI NUBWO (NK-38)\", \"store\": \"Advice\", \"brand\": \"Nubwo\", \"category\": \"Keyboard\", \"tag\": \"Working\", \"data\": [{\"name\": \"USB KEYBOARD MINI NUBWO (NK-38) \\'WIZARDY\\' WHITE\", \"price\": 345, \"href\": \"https://www.advice.co.th/product/keyboard/nubwo/usb-keyboard-mini-nubwo-nk-38-wizardy-white\", \"image\": \"https://img.advice.co.th/images_nas/pic_product4/A0138784/A0138784OK_BIG_1.jpg\", \"spec\": {\"interface\": \"USB\", \"switch\": \"N/A\", \"layout\": \"61 Key\", \"dimension\": \"(W x D x H) : 30.00 x 11.00 x 3.30 cm\", \"support\": \"Windows 7, 8, 10, etc\"}}]}, {\"model\": \"nk15\", \"name\": \"USB KEYBOARD NUBWO (NK-15)\", \"store\": \"Advice\", \"brand\": \"Nubwo\", \"category\": \"Keyboard\", \"tag\": \"Working\", \"data\": [{\"name\": \"USB KEYBOARD NUBWO (NK-15 QUIET) BLACK/RED\", \"price\": 150, \"href\": \"https://www.advice.co.th/product/keyboard/nubwo/usb-keyboard-nubwo-nk-15-quiet-black-red\", \"image\": \"https://img.advice.co.th/images_nas/pic_product4/A0102943/A0102943OK_BIG_1.jpg\", \"spec\": {\"interface\": \"USB\", \"switch\": \"\", \"layout\": \"104 key\", \"dimension\": \"\", \"support\": \"Windows / MACos\"}}]}, {\"model\": \"nk25\", \"name\": \"USB KEYBOARD NUBWO (NK-25) \", \"store\": \"Advice\", \"brand\": \"Nubwo\", \"category\": \"Keyboard\", \"tag\": \"Working\", \"data\": [{\"name\": \"USB KEYBOARD NUBWO (NK-25) \\'AZALIA\\' BLACK\", \"price\": 155, \"href\": \"https://www.advice.co.th/product/keyboard/nubwo/usb-keyboard-nubwo-nk-25-azalia-black\", \"image\": \"https://img.advice.co.th/images_nas/pic_product4/A0137666/A0137666OK_BIG_1.jpg\", \"spec\": {\"interface\": \"USB\", \"switch\": \"Rubber Dome\", \"layout\": \"104 Keys\", \"dimension\": \"\", \"support\": \"\"}}]}, {\"model\": \"nk36\", \"name\": \"USB KEYBOARD NUBWO (NK-36)\", \"store\": \"Advice\", \"brand\": \"Nubwo\", \"category\": \"Keyboard\", \"tag\": \"Working\", \"data\": [{\"name\": \"USB KEYBOARD NUBWO (NK-36) \\'MARS\\' BLACK\", \"price\": 200, \"href\": \"https://www.advice.co.th/product/keyboard/nubwo/usb-keyboard-nubwo-nk-36-mars-black\", \"image\": \"https://img.advice.co.th/images_nas/pic_product4/A0136035/A0136035OK_BIG_1.jpg\", \"spec\": {\"interface\": \"USB\", \"switch\": \"Rubber Dome Switches\", \"layout\": \"104 Keys\", \"dimension\": \"\", \"support\": \"\"}}]}, {\"model\": \"nk032fortune\", \"name\": \"USB KEYBOARD NUBWO (NK-032 FORTUNE)\", \"store\": \"Advice\", \"brand\": \"Nubwo\", \"category\": \"Keyboard\", \"tag\": \"Working\", \"data\": [{\"name\": \"USB KEYBOARD NUBWO (NK-032 FORTUNE) SILVER/BLACK\", \"price\": 340, \"href\": \"https://www.advice.co.th/product/keyboard/nubwo/usb-keyboard-nubwo-nk-032-fortune-silver-black\", \"image\": \"https://img.advice.co.th/images_nas/pic_product4/A0122608/A0122608OK_BIG_1.jpg\", \"spec\": {\"interface\": \"USB\", \"switch\": \"\", \"layout\": \"104 Keys\", \"dimension\": \"\", \"support\": \"Windows 7/8/10/MAC ETC.\"}}]}, {\"model\": \"nk032fortune\", \"name\": \"USB KEYBOARD NUBWO (NK-032 FORTUNE)\", \"store\": \"Advice\", \"brand\": \"Nubwo\", \"category\": \"Keyboard\", \"tag\": \"Working\", \"data\": [{\"name\": \"USB KEYBOARD NUBWO (NK-032 FORTUNE) SILVER/WHITE\", \"price\": 340, \"href\": \"https://www.advice.co.th/product/keyboard/nubwo/usb-keyboard-nubwo-nk-032-fortune-silver-white\", \"image\": \"https://img.advice.co.th/images_nas/pic_product4/A0122609/A0122609OK_BIG_1.jpg\", \"spec\": {\"interface\": \"USB\", \"switch\": \"\", \"layout\": \"104 Keys\", \"dimension\": \"\", \"support\": \"Windows 7/8/10/MAC ETC.\"}}]}, {\"model\": \"nk032fortune\", \"name\": \"USB KEYBOARD NUBWO (NK-032 FORTUNE)\", \"store\": \"Advice\", \"brand\": \"Nubwo\", \"category\": \"Keyboard\", \"tag\": \"Working\", \"data\": [{\"name\": \"USB KEYBOARD NUBWO (NK-032 FORTUNE) PINK/WHITE\", \"price\": 459, \"href\": \"https://www.advice.co.th/product/keyboard/nubwo/usb-keyboard-nubwo-nk-032-fortune-pink-white\", \"image\": \"https://img.advice.co.th/images_nas/pic_product4/A0132005/A0132005OK_BIG_1.jpg\", \"spec\": {\"interface\": \"USB\", \"switch\": \"\", \"layout\": \"104 Keys\", \"dimension\": \"\", \"support\": \"\"}}]}, {\"model\": \"nk34\", \"name\": \"USB KEYBOARD NUBWO (NK-34)\", \"store\": \"Advice\", \"brand\": \"Nubwo\", \"category\": \"Keyboard\", \"tag\": \"Working\", \"data\": [{\"name\": \"USB KEYBOARD NUBWO (NK-34) \\'FLICKER\\' BLACK\", \"price\": 729, \"href\": \"https://www.advice.co.th/product/keyboard/nubwo/usb-keyboard-nubwo-nk-34-flicker-black\", \"image\": \"https://img.advice.co.th/images_nas/pic_product4/A0136733/A0136733OK_BIG_1.jpg\", \"spec\": {\"interface\": \"USB\", \"switch\": \"Mechanical Switch\", \"layout\": \"104 Keys\", \"dimension\": \"\", \"support\": \"\"}}]}, {\"model\": \"nk34\", \"name\": \"USB KEYBOARD NUBWO (NK-34)\", \"store\": \"Advice\", \"brand\": \"\", \"category\": \"Keyboard\", \"tag\": \"Working\", \"data\": [{\"name\": \"USB KEYBOARD NUBWO (NK-34) \\'FLICKER\\' ROSE GOLD\", \"price\": 729, \"href\": \"https://www.advice.co.th/product/keyboard/nubwo/usb-keyboard-nubwo-nk-34-flicker-rose-gold\", \"image\": \"https://img.advice.co.th/images_nas/pic_product4/A0136734/A0136734OK_BIG_1.jpg\", \"spec\": {\"interface\": \"\", \"switch\": \"\", \"layout\": \"\", \"dimension\": \"\", \"support\": \"\"}}]}, {\"model\": \"nk34\", \"name\": \"USB KEYBOARD NUBWO (NK-34)\", \"store\": \"Advice\", \"brand\": \"Nubwo\", \"category\": \"Keyboard\", \"tag\": \"Working\", \"data\": [{\"name\": \"USB KEYBOARD NUBWO (NK-34) \\'FLICKER\\' SILVER/WHITE\", \"price\": 729, \"href\": \"https://www.advice.co.th/product/keyboard/nubwo/usb-keyboard-nubwo-nk-34-flicker-silver-white\", \"image\": \"https://img.advice.co.th/images_nas/pic_product4/A0136736/A0136736OK_BIG_1.jpg\", \"spec\": {\"interface\": \"USB\", \"switch\": \"Mechanical Switch\", \"layout\": \"104 Keys\", \"dimension\": \"\", \"support\": \"\"}}]}, {\"model\": \"nkb100\", \"name\": \"BLUETOOTH KEYBOARD NUBWO (NKB-100)\", \"store\": \"Advice\", \"brand\": \"Nubwo\", \"category\": \"Keyboard\", \"tag\": \"Working\", \"data\": [{\"name\": \"BLUETOOTH KEYBOARD NUBWO (NKB-100) BLACK\", \"price\": 230, \"href\": \"https://www.advice.co.th/product/keyboard/nubwo/bluetooth-keyboard-nubwo-nkb-100-black\", \"image\": \"https://img.advice.co.th/images_nas/pic_product4/A0123915/A0123915OK_BIG_1.jpg\", \"spec\": {\"interface\": \"Bluetooth\", \"switch\": \"\", \"layout\": \"78 Keys\", \"dimension\": \"\", \"support\": \"Android, IOS and Windows operating system.\"}}]}, {\"model\": \"f6\", \"name\": \"USB KEYBOARD MINI OKER (F6)\", \"store\": \"Advice\", \"brand\": \"Oker\", \"category\": \"Keyboard\", \"tag\": \"Working\", \"data\": [{\"name\": \"USB KEYBOARD MINI OKER (F6) WHITE\", \"price\": 150, \"href\": \"https://www.advice.co.th/product/keyboard/oker/usb-keyboard-mini-oker-f6-white\", \"image\": \"https://img.advice.co.th/images_nas/pic_product4/A0089114/A0089114OK_BIG_1.jpg\", \"spec\": {\"interface\": \"USB 2.0\", \"switch\": \"\", \"layout\": \"\", \"dimension\": \"\", \"support\": \"Win xp/2000/VISTA/7/8,MAC OS 10.3 and above version\"}}]}, null, {\"model\": \"f8\", \"name\": \"USB KEYBOARD MINI OKER (F8)\", \"store\": \"Advice\", \"brand\": \"\", \"category\": \"Keyboard\", \"tag\": \"Working\", \"data\": [{\"name\": \"USB KEYBOARD MINI OKER (F8) BLACK\", \"price\": 180, \"href\": \"https://www.advice.co.th/product/keyboard/oker/usb-keyboard-mini-oker-f8-black\", \"image\": \"https://img.advice.co.th/images_nas/pic_product4/A0071698/A0071698OK_BIG_1.jpg\", \"spec\": {\"interface\": \"USB\", \"switch\": \"\", \"layout\": \"89 Keys\", \"dimension\": \"\", \"support\": \"\"}}]}, {\"model\": \"kb318\", \"name\": \"USB KEYBOARD OKER (KB-318)\", \"store\": \"Advice\", \"brand\": \"Oker\", \"category\": \"Keyboard\", \"tag\": \"Working\", \"data\": [{\"name\": \"USB KEYBOARD OKER (KB-318) BLACK/BLUE\", \"price\": 125, \"href\": \"https://www.advice.co.th/product/keyboard/oker/usb-keyboard-oker-kb-318-black-blue\", \"image\": \"https://img.advice.co.th/images_nas/pic_product4/A0116844/A0116844OK_BIG_1.jpg\", \"spec\": {\"interface\": \"USB\", \"switch\": \"\", \"layout\": \"104 Keys\", \"dimension\": \"\", \"support\": \"Windows XP / Windows 2000 / Windows Vista / Windows 7/8/10\\\\nMac OS 10.3 และรุ่นที2สูงกว่า\"}}]}, {\"model\": \"kb318\", \"name\": \"USB KEYBOARD OKER (KB-318)\", \"store\": \"Advice\", \"brand\": \"\", \"category\": \"Keyboard\", \"tag\": \"Working\", \"data\": [{\"name\": \"USB KEYBOARD OKER (KB-318) BLACK/ORANGE\", \"price\": 125, \"href\": \"https://www.advice.co.th/product/keyboard/oker/usb-keyboard-oker-kb-318-black-orange\", \"image\": \"https://img.advice.co.th/images_nas/pic_product4/A0116843/A0116843OK_BIG_1.jpg\", \"spec\": {\"interface\": \"\", \"switch\": \"\", \"layout\": \"\", \"dimension\": \"\", \"support\": \"\"}}]}, {\"model\": \"kb318\", \"name\": \"USB KEYBOARD OKER (KB-318)\", \"store\": \"Advice\", \"brand\": \"Oker\", \"category\": \"Keyboard\", \"tag\": \"Working\", \"data\": [{\"name\": \"USB KEYBOARD OKER (KB-318) BLACK/YELLOW\", \"price\": 125, \"href\": \"https://www.advice.co.th/product/keyboard/oker/usb-keyboard-oker-kb-318-black-yellow\", \"image\": \"https://img.advice.co.th/images_nas/pic_product4/A0116842/A0116842OK_BIG_1.jpg\", \"spec\": {\"interface\": \"USB\", \"switch\": \"\", \"layout\": \"104 Keys\", \"dimension\": \"\", \"support\": \"Windows XP / Windows 2000 / Windows Vista / Windows 7/8/10\\\\nMac OS 10.3 และรุ่นที2สูงกว่า\"}}]}, {\"model\": \"kb318\", \"name\": \"USB KEYBOARD OKER (KB-318)\", \"store\": \"Advice\", \"brand\": \"Oker\", \"category\": \"Keyboard\", \"tag\": \"Working\", \"data\": [{\"name\": \"USB KEYBOARD OKER (KB-318) BLACK\", \"price\": 125, \"href\": \"https://www.advice.co.th/product/keyboard/oker/usb-keyboard-oker-kb-318-black\", \"image\": \"https://img.advice.co.th/images_nas/pic_product4/A0116841/A0116841OK_BIG_1.jpg\", \"spec\": {\"interface\": \"USB\", \"switch\": \"\", \"layout\": \"104 Keys\", \"dimension\": \"\", \"support\": \"Windows XP / Windows 2000 / Windows Vista / Windows 7/8/10\\\\nMac OS 10.3 และรุ่นที2สูงกว่า\"}}]}, {\"model\": \"kb758\", \"name\": \"USB KEYBOARD OKER (KB-758)\", \"store\": \"Advice\", \"brand\": \"Oker\", \"category\": \"Keyboard\", \"tag\": \"Working\", \"data\": [{\"name\": \"USB KEYBOARD OKER (KB-758) BLACK\", \"price\": 155, \"href\": \"https://www.advice.co.th/product/keyboard/oker/usb-keyboard-oker-kb-758-black\", \"image\": \"https://img.advice.co.th/images_nas/pic_product4/A0137542/A0137542OK_BIG_1.jpg\", \"spec\": {\"interface\": \"USB\", \"switch\": \"Standard\", \"layout\": \"104 Keys\", \"dimension\": \"\", \"support\": \"Windows & Mac OS System\"}}]}, {\"model\": \"kb700\", \"name\": \"USB KEYBOARD MD-TECH (KB-700)\", \"store\": \"Advice\", \"brand\": \"\", \"category\": \"Keyboard\", \"tag\": \"Working\", \"data\": [{\"name\": \"USB KEYBOARD MD-TECH (KB-700) BLACK\", \"price\": 160, \"href\": \"https://www.advice.co.th/product/keyboard/oker/usb-keyboard-md-tech-kb-700-black\", \"image\": \"https://img.advice.co.th/images_nas/online/shopping/Coming-Soon.jpg\", \"spec\": {\"interface\": \"\", \"switch\": \"\", \"layout\": \"\", \"dimension\": \"\", \"support\": \"\"}}]}, {\"model\": \"kb399plus\", \"name\": \"USB KEYBOARD OKER (KB-399 PLUS)\", \"store\": \"Advice\", \"brand\": \"Oker\", \"category\": \"Keyboard\", \"tag\": \"Working\", \"data\": [{\"name\": \"USB KEYBOARD OKER (KB-399 PLUS) BLACK\", \"price\": 160, \"href\": \"https://www.advice.co.th/product/keyboard/oker/usb-keyboard-oker-kb-399-plus-black\", \"image\": \"https://img.advice.co.th/images_nas/pic_product4/A0134866/A0134866OK_BIG_1.jpg\", \"spec\": {\"interface\": \"USB\", \"switch\": \"N/A\", \"layout\": \"104 Keys\", \"dimension\": \"(W x D x H) : 45.00 x 15.50 x 2.20 cm\", \"support\": \"\"}}]}, {\"model\": \"kb518\", \"name\": \"USB KEYBOARD OKER (KB-518)\", \"store\": \"Advice\", \"brand\": \"Oker\", \"category\": \"Keyboard\", \"tag\": \"Working\", \"data\": [{\"name\": \"USB KEYBOARD OKER (KB-518) BLACK\", \"price\": 170, \"href\": \"https://www.advice.co.th/product/keyboard/oker/usb-keyboard-oker-kb-518-black\", \"image\": \"https://img.advice.co.th/images_nas/pic_product4/A0123532/A0123532OK_BIG_1.jpg\", \"spec\": {\"interface\": \"USB\", \"switch\": \"\", \"layout\": \"104 Keys\", \"dimension\": \"\", \"support\": \"\"}}]}, {\"model\": \"kb518\", \"name\": \"USB KEYBOARD OKER (KB-518)\", \"store\": \"Advice\", \"brand\": \"Oker\", \"category\": \"Keyboard\", \"tag\": \"Working\", \"data\": [{\"name\": \"USB KEYBOARD OKER (KB-518) RED\", \"price\": 170, \"href\": \"https://www.advice.co.th/product/keyboard/oker/usb-keyboard-oker-kb-518-red\", \"image\": \"https://img.advice.co.th/images_nas/pic_product4/A0123534/A0123534OK_BIG_1.jpg\", \"spec\": {\"interface\": \"USB\", \"switch\": \"\", \"layout\": \"104 Keys\", \"dimension\": \"\", \"support\": \"\"}}]}, null, {\"model\": \"kb789\", \"name\": \"USB KEYBOARD OKER (KB-789)\", \"store\": \"Advice\", \"brand\": \"Oker\", \"category\": \"Keyboard\", \"tag\": \"Working\", \"data\": [{\"name\": \"USB KEYBOARD OKER (KB-789) PINK\", \"price\": 360, \"href\": \"https://www.advice.co.th/product/keyboard/oker/usb-keyboard-oker-kb-789-pink\", \"image\": \"https://img.advice.co.th/images_nas/pic_product4/A0134867/A0134867OK_BIG_1.jpg\", \"spec\": {\"interface\": \"USB\", \"switch\": \"N/A\", \"layout\": \"104 Keys\", \"dimension\": \"(W x D x H) : 45.10 x 14.50 x 3.80 cm\", \"support\": \"Windows XP, VIsta, Win7, 8, 10\"}}]}, {\"model\": \"kb911\", \"name\": \"USB KEYBOARD OKER (KB-911)\", \"store\": \"Advice\", \"brand\": \"Oker\", \"category\": \"Keyboard\", \"tag\": \"Working\", \"data\": [{\"name\": \"USB KEYBOARD OKER (KB-911) PINK\", \"price\": 370, \"href\": \"https://www.advice.co.th/product/keyboard/oker/usb-keyboard-oker-kb-911-pink\", \"image\": \"https://img.advice.co.th/images_nas/pic_product4/A0137725/A0137725OK_BIG_1.jpg\", \"spec\": {\"interface\": \"USB\", \"switch\": \"\", \"layout\": \"104 Keys\", \"dimension\": \"(W x D x H) : 14.50 x 45.10 x 3.80 cm\", \"support\": \"Windows XP, Vista, Win7, 8, 10\"}}]}, {\"model\": \"kb912\", \"name\": \"USB KEYBOARD OKER (KB-912)\", \"store\": \"Advice\", \"brand\": \"Oker\", \"category\": \"Keyboard\", \"tag\": \"Working\", \"data\": [{\"name\": \"USB KEYBOARD OKER (KB-912) PINK\", \"price\": 370, \"href\": \"https://www.advice.co.th/product/keyboard/oker/usb-keyboard-oker-kb-912-pink\", \"image\": \"https://img.advice.co.th/images_nas/pic_product4/A0137726/A0137726OK_BIG_1.jpg\", \"spec\": {\"interface\": \"USB\", \"switch\": \"\", \"layout\": \"104 Keys\", \"dimension\": \"(W x D x H) : 14.50 x 45.10 x 3.80 cm\", \"support\": \"Windows XP, Vista, Win7, 8, 10\"}}]}, {\"model\": \"k199\", \"name\": \"USB WIRELESS KEYBOARD OKER (K-199)\", \"store\": \"Advice\", \"brand\": \"\", \"category\": \"Keyboard\", \"tag\": \"Working\", \"data\": [{\"name\": \"USB WIRELESS KEYBOARD OKER (K-199) BLACK\", \"price\": 210, \"href\": \"https://www.advice.co.th/product/keyboard/oker/usb-wireless-keyboard-oker-k-199-black\", \"image\": \"https://img.advice.co.th/images_nas/pic_product4/A0138183/A0138183OK_BIG_1.jpg\", \"spec\": {\"interface\": \"\", \"switch\": \"\", \"layout\": \"\", \"dimension\": \"\", \"support\": \"\"}}]}, {\"model\": \"k510\", \"name\": \"BLUETOOTH KEYBOARD MULTI-DEVICE OKER (K-510)\", \"store\": \"Advice\", \"brand\": \"Oker\", \"category\": \"Keyboard\", \"tag\": \"Working\", \"data\": [{\"name\": \"BLUETOOTH KEYBOARD MULTI-DEVICE OKER (K-510) BLACK/WHITE\", \"price\": 890, \"href\": \"https://www.advice.co.th/product/keyboard/oker/bluetooth-keyboard-multi-device-oker-k-510-black-white\", \"image\": \"https://img.advice.co.th/images_nas/pic_product4/A0134693/A0134693OK_BIG_1.jpg\", \"spec\": {\"interface\": \"Bluetooth\", \"switch\": \"N/A\", \"layout\": \"Keys: 80 keys film shaft\\\\nNumber of multimedia keys: 16 keys\", \"dimension\": \"(W x D x H) : 35.88 x 18.70 x 3.18 cm\", \"support\": \"\"}}]}, null, {\"model\": \"k510\", \"name\": \"BLUETOOTH KEYBOARD MULTI-DEVICE OKER (K-510)\", \"store\": \"Advice\", \"brand\": \"Oker\", \"category\": \"Keyboard\", \"tag\": \"Working\", \"data\": [{\"name\": \"BLUETOOTH KEYBOARD MULTI-DEVICE OKER (K-510) GREEN\", \"price\": 890, \"href\": \"https://www.advice.co.th/product/keyboard/oker/bluetooth-keyboard-multi-device-oker-k-510-green\", \"image\": \"https://img.advice.co.th/images_nas/pic_product4/A0134695/A0134695OK_BIG_1.jpg\", \"spec\": {\"interface\": \"Bluetooth\", \"switch\": \"N/A\", \"layout\": \"Keys: 80 keys film shaft\\\\nNumber of multimedia keys: 16 keys\", \"dimension\": \"(W x D x H) : 35.88 x 18.70 x 3.18 cm\", \"support\": \"\"}}]}]'"
      ]
     },
     "metadata": {},
     "execution_count": 120
    }
   ],
   "metadata": {}
  },
  {
   "cell_type": "code",
   "execution_count": null,
   "source": [],
   "outputs": [],
   "metadata": {}
  },
  {
   "cell_type": "code",
   "execution_count": 38,
   "source": [
    "with open('json_keyboard_working.json', 'w',encoding=\"utf-8\") as f:\r\n",
    "    f.writelines(out_keyboard_item)\r\n",
    "    print(\"success\")"
   ],
   "outputs": [
    {
     "output_type": "stream",
     "name": "stdout",
     "text": [
      "success\n"
     ]
    }
   ],
   "metadata": {}
  },
  {
   "cell_type": "code",
   "execution_count": null,
   "source": [],
   "outputs": [],
   "metadata": {}
  },
  {
   "cell_type": "code",
   "execution_count": null,
   "source": [],
   "outputs": [],
   "metadata": {}
  },
  {
   "cell_type": "code",
   "execution_count": null,
   "source": [],
   "outputs": [],
   "metadata": {}
  }
 ],
 "metadata": {
  "kernelspec": {
   "name": "python3",
   "display_name": "Python 3.9.7 64-bit (windows store)"
  },
  "language_info": {
   "codemirror_mode": {
    "name": "ipython",
    "version": 3
   },
   "file_extension": ".py",
   "mimetype": "text/x-python",
   "name": "python",
   "nbconvert_exporter": "python",
   "pygments_lexer": "ipython3",
   "version": "3.9.7"
  },
  "interpreter": {
   "hash": "dc0ae7cbe04b490a33132ce22a2ba80732b07aa628d052297aede1389d8c38d1"
  }
 },
 "nbformat": 4,
 "nbformat_minor": 5
}