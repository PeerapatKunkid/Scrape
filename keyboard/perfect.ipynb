{
 "cells": [
  {
   "cell_type": "code",
   "execution_count": 1,
   "source": [
    "import csv\r\n",
    "from selenium import webdriver\r\n",
    "from selenium.webdriver.common.keys import Keys\r\n",
    "import time\r\n",
    "import json\r\n",
    "import ast"
   ],
   "outputs": [],
   "metadata": {}
  },
  {
   "cell_type": "code",
   "execution_count": 55,
   "source": [
    "driver=webdriver.Chrome(executable_path='C:/Users/jakkapong-desktop/Downloads/chromedriver.exe')\r\n",
    "driver.maximize_window()"
   ],
   "outputs": [],
   "metadata": {}
  },
  {
   "cell_type": "code",
   "execution_count": 2,
   "source": [
    "def model_key_lower_and_sort(k):\r\n",
    "    k[\"key\"]=k[\"key\"].lower().replace(' ','').replace('-','')\r\n",
    "    k[\"name\"]=(k[\"name\"].upper())\r\n",
    "    return len(k[\"key\"]),k[\"name\"]"
   ],
   "outputs": [],
   "metadata": {}
  },
  {
   "cell_type": "code",
   "execution_count": 3,
   "source": [
    "with open('../../model/keyboard_model.json') as json_file:\r\n",
    "    model = json.load(json_file)"
   ],
   "outputs": [],
   "metadata": {}
  },
  {
   "cell_type": "code",
   "execution_count": 56,
   "source": [
    "model"
   ],
   "outputs": [
    {
     "output_type": "execute_result",
     "data": {
      "text/plain": [
       "[{'key': 'g prox superlight ', 'name': 'logitech g pro x superlight '},\n",
       " {'key': 'g pro ', 'name': 'logitech g pro wireless'},\n",
       " {'key': 'F3020', 'name': 'KEYBOARD AULA F3020 BLACK'},\n",
       " {'key': 'G413', 'name': 'LOGITECH G413 CARBON GAMING'},\n",
       " {'key': 'G913 TKL', 'name': 'LOGITECH G913 GAMING TKL'},\n",
       " {'key': 'G913', 'name': 'LOGITECH G913 GAMING'},\n",
       " {'key': 'G PRO X', 'name': 'LOGITECH G PRO X'},\n",
       " {'key': 'G512', 'name': 'LOGITECH G512 '},\n",
       " {'key': 'APEX 5', 'name': 'STEELSERIES APEX 5'},\n",
       " {'key': 'APEX 7', 'name': 'STEELSERIES APEX 7'},\n",
       " {'key': 'APEX 7 TKL', 'name': 'STEELSERIES APEX 5 TKL'},\n",
       " {'key': 'APEX PRO TKL', 'name': 'STEELSERIES APEX PRO TKL'},\n",
       " {'key': 'BLACKWIDOW V3 ', 'name': 'RAZER BLACKWIDOW V3 '},\n",
       " {'key': 'BLACKWIDOW V3 TENKEYLESS', 'name': 'RAZER BLACKWIDOW V3 TENKEYLESS'},\n",
       " {'key': 'alloy', 'name': 'alloy origins'},\n",
       " {'key': 'F2028', 'name': 'AULA F2028'},\n",
       " {'key': 'S2022', 'name': 'AULA S2022'},\n",
       " {'key': 'F2066-II', 'name': 'AULA F2066-II'},\n",
       " {'key': 'F3030', 'name': 'AULA F3030'},\n",
       " {'key': 'F2058', 'name': 'AULA F2058'},\n",
       " {'key': 'K511', 'name': 'FANTECH K511'},\n",
       " {'key': 'E-SPORT TERRABLADE', 'name': 'NEOLUTION E-SPORT TERRABLADE '},\n",
       " {'key': 'X-100', 'name': 'OKER X-100'},\n",
       " {'key': 'X-200', 'name': 'OKER X-200'},\n",
       " {'key': 'KB-98A', 'name': 'OKER KB-98A GAMING RGB'},\n",
       " {'key': 'KB-99B', 'name': 'OKER KB-99B GAMING RGB'},\n",
       " {'key': 'K-420', 'name': 'OKER K-420 GAMING RGB'},\n",
       " {'key': 'K-430', 'name': 'OKER K-430 GAMING RGB'},\n",
       " {'key': 'KB-82', 'name': 'OKER KB-82 GAMING RGB'},\n",
       " {'key': 'KB-84', 'name': 'OKER KB-84 GAMING RGB'},\n",
       " {'key': 'KB-712', 'name': 'SIGNO KB-712 ILLUMINATED'},\n",
       " {'key': 'KB-718', 'name': 'SIGNO KB-718 INDIGO'},\n",
       " {'key': 'KB-728', 'name': 'SIGNO KB-728 INVEGO'},\n",
       " {'key': 'KB-738', 'name': 'SIGNO KB-738 INFESTA'},\n",
       " {'key': 'KB-770', 'name': 'SIGNO E-SPORT KB-770 EMPERRO'},\n",
       " {'key': 'KB-771', 'name': 'SIGNO E-SPORT KB-771 TROOPER'},\n",
       " {'key': 'ROG STRIX FALCHION', 'name': 'ASUS ROG STRIX FALCHION'},\n",
       " {'key': 'MK110', 'name': 'COOLER MASTER MK110 RGB'},\n",
       " {'key': 'CK350', 'name': 'COOLER MASTER CK350 RGB'},\n",
       " {'key': 'CK351', 'name': 'COOLER MASTER CK351 RGB'},\n",
       " {'key': 'CK550', 'name': 'COOLER MASTER CK550 V2 RGB'},\n",
       " {'key': 'CK721', 'name': 'COOLER MASTER CK721 RGB'},\n",
       " {'key': 'SK630', 'name': 'COOLER MASTER SK630 RGB'},\n",
       " {'key': 'MK750', 'name': 'COOLER MASTER MK750 RGB'},\n",
       " {'key': 'MK850', 'name': 'COOLER MASTER MK850 RGB'},\n",
       " {'key': 'K60', 'name': 'CORSAIR K60'},\n",
       " {'key': 'K60 PRO', 'name': 'CORSAIR K60 PRO'},\n",
       " {'key': 'K95', 'name': 'CORSAIR K95 PLATINUM'},\n",
       " {'key': 'K100 OPX', 'name': 'CORSAIR K100 OPX SWITCH RGB'},\n",
       " {'key': 'K100', 'name': 'HP GAMING K100'},\n",
       " {'key': 'GK400F', 'name': 'HP GAMING GK400F'},\n",
       " {'key': 'GK100', 'name': 'HP GAMING GK100'},\n",
       " {'key': 'GK320', 'name': 'HP GAMING GK320'},\n",
       " {'key': 'GK400Y', 'name': 'HP GAMING GK400Y'},\n",
       " {'key': 'GK600YS', 'name': 'HP GAMING GK600YS'},\n",
       " {'key': 'G213', 'name': 'LOGITECH G213 Gaming'},\n",
       " {'key': 'K110', 'name': 'HP Gaming K110'},\n",
       " {'key': 'K500F', 'name': 'HP Gaming K500F'},\n",
       " {'key': 'K120', 'name': 'HP Gaming K120'},\n",
       " {'key': 'K300', 'name': 'HP Gaming K300'},\n",
       " {'key': 'KB216', 'name': 'DELL KB216'},\n",
       " {'key': 'K120', 'name': 'LOGITECH K120'},\n",
       " {'key': 'K375s', 'name': 'USB Wireless/Bluetooth LOGITECH (K375s)'},\n",
       " {'key': 'LG-K400',\n",
       "  'name': 'USB Wireless Touch Keyboard LOGITECH LG-K400 Plus'},\n",
       " {'key': 'K480', 'name': 'BLUETOOTH Keyboard Multi-Device LOGITECH K480 '},\n",
       " {'key': 'N9Z-00027',\n",
       "  'name': 'USB Wireless All-in-One Media MICROSOFT Black N9Z-00027'},\n",
       " {'key': 'QSZ-00027', 'name': 'BLUETOOTH Keyboard MICROSOFT Black QSZ-00027'},\n",
       " {'key': 'NK1800', 'name': 'USB Keyboard RAPOO (NK1800)'},\n",
       " {'key': 'KB-E1050-BK', 'name': 'USB Wireless Keyboard RAPOO (KB-E1050-BK)'},\n",
       " {'key': 'KB-K2800-BK', 'name': 'USB Wireless Keyboard RAPOO (KB-K2800-BK)'},\n",
       " {'key': 'XK100-BK', 'name': 'BLUETOOTH Keyboard RAPOO (XK100-BK) Black'},\n",
       " {'key': 'KB103', 'name': 'USB Keyboard LECOO (KB103)'},\n",
       " {'key': 'KB-210M', 'name': 'USB Keyboard Mini MD-TECH (KB-210M)'},\n",
       " {'key': 'KB-19', 'name': 'USB Keyboard MD-TECH (KB-19) Black'},\n",
       " {'key': 'KB-674', 'name': 'USB Keyboard MD-TECH (KB-674)'},\n",
       " {'key': 'KB-667', 'name': 'USB Keyboard MD-TECH (KB-667) '},\n",
       " {'key': 'KB-670', 'name': 'USB Keyboard MD-TECH (KB-670)'},\n",
       " {'key': 'KB-310M', 'name': 'USB Keyboard MD-TECH (KB-310M)'},\n",
       " {'key': 'KB-666', 'name': 'USB Keyboard MD-TECH (KB-666)'},\n",
       " {'key': 'KB-111', 'name': 'USB Keyboard MD-TECH (KB-111)'},\n",
       " {'key': 'KB-15', 'name': 'USB Keyboard MD-TECH (KB-15)'},\n",
       " {'key': 'KB-319M', 'name': 'USB Keyboard MD-TECH (KB-319M )'},\n",
       " {'key': 'KB-222M', 'name': 'USB Keyboard MD-TECH (KB-222M)'},\n",
       " {'key': 'K-5', 'name': 'USB Keyboard MD-TECH (K-5)'},\n",
       " {'key': 'NK-35', 'name': 'USB Keyboard Mini NUBWO (NK-35)'},\n",
       " {'key': 'NK-38', 'name': 'USB Keyboard Mini NUBWO (NK-38)'},\n",
       " {'key': 'NK-15', 'name': 'USB Keyboard NUBWO (NK-15)'},\n",
       " {'key': 'NK-25', 'name': 'USB Keyboard NUBWO (NK-25) '},\n",
       " {'key': 'NK-36', 'name': 'USB Keyboard NUBWO (NK-36)'},\n",
       " {'key': 'NK-032 FORTUNE', 'name': 'USB Keyboard NUBWO (NK-032 FORTUNE)'},\n",
       " {'key': 'NK-34', 'name': 'USB Keyboard NUBWO (NK-34)'},\n",
       " {'key': 'NKB-100', 'name': 'BLUETOOTH Keyboard NUBWO (NKB-100)'},\n",
       " {'key': 'F6', 'name': 'USB Keyboard Mini OKER (F6)'},\n",
       " {'key': 'F8', 'name': 'USB Keyboard Mini OKER (F8)'},\n",
       " {'key': 'KB-318', 'name': 'USB Keyboard OKER (KB-318)'},\n",
       " {'key': 'KB-758', 'name': 'USB Keyboard OKER (KB-758)'},\n",
       " {'key': 'KB-700', 'name': 'USB Keyboard MD-TECH (KB-700)'},\n",
       " {'key': 'KB-399PLUS', 'name': 'USB Keyboard OKER (KB-399 PLUS)'},\n",
       " {'key': 'KB-399', 'name': 'USB Keyboard OKER (KB-399)'},\n",
       " {'key': 'KB-518', 'name': 'USB Keyboard OKER (KB-518)'},\n",
       " {'key': 'KB-789', 'name': 'USB Keyboard OKER (KB-789)'},\n",
       " {'key': 'KB-911', 'name': 'USB Keyboard OKER (KB-911)'},\n",
       " {'key': 'KB-912', 'name': 'USB Keyboard OKER (KB-912)'},\n",
       " {'key': 'K-199', 'name': 'USB Wireless Keyboard OKER (K-199)'},\n",
       " {'key': 'K-510', 'name': 'BLUETOOTH Keyboard Multi-Device OKER (K-510)'},\n",
       " {'key': 'ROG Strix Scope', 'name': 'Asus Gaming Keyboard ROG Strix Scope'},\n",
       " {'key': 'TUF K1', 'name': 'Asus Gaming Keyboard TUF K1'},\n",
       " {'key': 'MT-K9300', 'name': 'CS@ MeeTion Gaming Keyboard MT-K9300'},\n",
       " {'key': 'K613L Fighter II',\n",
       "  'name': 'Fantech Gaming Keyboard K613L Fighter II'},\n",
       " {'key': 'Mk852', 'name': 'Fantech Gaming Keyboard Mechanical Mk852'},\n",
       " {'key': 'Terrablade Mechanical',\n",
       "  'name': 'Neolution Gaming Keyboard Terrablade Mechanical'},\n",
       " {'key': 'Mystic Plus',\n",
       "  'name': 'Neolution Gaming Mechanical Keyboard Mystic Plus'},\n",
       " {'key': 'Dullahan', 'name': 'Pentagonz Gaming Keyboard Dullahan'},\n",
       " {'key': 'SPK8404', 'name': 'Philips Gaming Keyboard Mechanical'},\n",
       " {'key': 'MT-K9420 ', 'name': 'CS@ MeeTion Gaming Keyboard MT-K9420'},\n",
       " {'key': 'SPK8614', 'name': 'Philips Gaming Keyboard Mechanical SPK8614'}]"
      ]
     },
     "metadata": {},
     "execution_count": 56
    }
   ],
   "metadata": {}
  },
  {
   "cell_type": "code",
   "execution_count": 4,
   "source": [
    "model.sort(key=model_key_lower_and_sort ,reverse=True)"
   ],
   "outputs": [],
   "metadata": {}
  },
  {
   "cell_type": "code",
   "execution_count": 5,
   "source": [
    "model_key=[]\r\n",
    "model_name=[]"
   ],
   "outputs": [],
   "metadata": {}
  },
  {
   "cell_type": "code",
   "execution_count": 6,
   "source": [
    "for i in model:\r\n",
    "    model_key.append(i[\"key\"])\r\n",
    "    model_name.append(i[\"name\"])"
   ],
   "outputs": [],
   "metadata": {}
  },
  {
   "cell_type": "code",
   "execution_count": 32,
   "source": [
    "def keyboard_exit(url):\r\n",
    "    \r\n",
    "    with open('keyboardSchema.json') as json_file:\r\n",
    "        keyboard_schema = json.load(json_file)\r\n",
    "    \r\n",
    "    spec_type_arr=[]\r\n",
    "    spec_details_arr=[]\r\n",
    "    spec={}\r\n",
    "    \r\n",
    "#     get url and scroll 5 sec\r\n",
    "    # driver.get(url)\r\n",
    "    # time.sleep(1)\r\n",
    "    # driver.find_element_by_tag_name(\"html\").send_keys(Keys.END)\r\n",
    "    # time.sleep(1)\r\n",
    "    # driver.find_element_by_tag_name(\"html\").send_keys(Keys.HOME)\r\n",
    "    # time.sleep(1)\r\n",
    "    # driver.find_element_by_tag_name(\"html\").send_keys(Keys.END)\r\n",
    "    # time.sleep(1)\r\n",
    "    # driver.find_element_by_tag_name(\"html\").send_keys(Keys.HOME)\r\n",
    "    # time.sleep(1)\r\n",
    "    # driver.find_element_by_tag_name(\"html\").send_keys(Keys.END)\r\n",
    "    \r\n",
    "#     find name and compare\r\n",
    "    try:\r\n",
    "        find_name = driver.find_elements_by_xpath('//*[@id=\"product-des\"]/div[1]/div/div[2]/div/h1')\r\n",
    "        name=find_name[0].text\r\n",
    "        name_lower=name.lower().replace(' ','').replace('-','').replace('gaming','')\r\n",
    "        compare = [x for x in model_key if x in name_lower]\r\n",
    "        print(\">>>\",compare[0])\r\n",
    "        keyboard_schema[\"model\"]=compare[0]\r\n",
    "        if(compare):\r\n",
    "            for index,val in enumerate(model_key):\r\n",
    "                if(compare[0]==model[index][\"key\"]):\r\n",
    "                    keyboard_schema[\"name\"]=model[index][\"name\"]\r\n",
    "\r\n",
    "            find_price = driver.find_elements_by_xpath('//*[@id=\"m-none\"]/div[3]/span[1]')\r\n",
    "            price=find_price[0].text[:-2].replace(',', '')\r\n",
    "            find_image=driver.find_elements_by_xpath('//*[@id=\"myCarousel\"]/div[2]/div[1]/img')\r\n",
    "            image=find_image[0].get_attribute(\"src\")\r\n",
    "            \r\n",
    "            keyboard_schema[\"data\"][0][\"name\"]=name.upper()\r\n",
    "            keyboard_schema[\"data\"][0][\"price\"]=int(price)\r\n",
    "            keyboard_schema[\"data\"][0][\"href\"]=url\r\n",
    "            keyboard_schema[\"data\"][0][\"image\"]=image\r\n",
    "            \r\n",
    "            keyboard_schema[\"store\"]=\"advice\".capitalize()\r\n",
    "            keyboard_schema[\"category\"]=\"keyboard\".capitalize()\r\n",
    "            keyboard_schema[\"tag\"]=\"gaming\".capitalize()\r\n",
    "\r\n",
    "\r\n",
    "            find_spec_type= driver.find_elements_by_xpath('//*[@id=\"j-spec-box\"]/div/table/tbody/tr/td[1]')\r\n",
    "            find_spec_details= driver.find_elements_by_xpath('//*[@id=\"j-spec-box\"]/div/table/tbody/tr/td[2]')\r\n",
    "\r\n",
    "            for i in find_spec_type:\r\n",
    "                spec_type_arr.append(i.text)\r\n",
    "            for i in find_spec_details:\r\n",
    "                spec_details_arr.append(i.text)\r\n",
    "            for index, val in enumerate(spec_type_arr):\r\n",
    "                spec[val] =spec_details_arr[index]\r\n",
    "            for index,val in enumerate(spec_type_arr):\r\n",
    "                if(val==\"Interface\"):\r\n",
    "                    keyboard_schema[\"data\"][0][\"spec\"][\"interface\"]=spec_details_arr[index]\r\n",
    "                if(val==\"Keys Windows Layout\"):\r\n",
    "                    keyboard_schema[\"data\"][0][\"spec\"][\"layout\"]=spec_details_arr[index]\r\n",
    "                if(val==\"Dimension\"):\r\n",
    "                    keyboard_schema[\"data\"][0][\"spec\"][\"dimension\"]=spec_details_arr[index]\r\n",
    "                if(val==\"Support\"):\r\n",
    "                    keyboard_schema[\"data\"][0][\"spec\"][\"support\"]=spec_details_arr[index]\r\n",
    "                if(val==\"Key Switches\"):\r\n",
    "                    keyboard_schema[\"data\"][0][\"spec\"][\"switch\"]=spec_details_arr[index]\r\n",
    "                if(val==\"Brand\"):\r\n",
    "                    keyboard_schema[\"brand\"]=spec_details_arr[index].capitalize()\r\n",
    "            return keyboard_schema\r\n",
    "    except:\r\n",
    "        pass"
   ],
   "outputs": [],
   "metadata": {}
  },
  {
   "cell_type": "code",
   "execution_count": 7,
   "source": [
    "\r\n",
    "def name_exist(name):\r\n",
    "    try:\r\n",
    "        name_lower=name.lower().replace(' ','').replace('-','').replace('gaming','')\r\n",
    "        compare = [x for x in model_key if x in name_lower]\r\n",
    "        print(\">\",compare[0])\r\n",
    "        keyboard_schema[\"model\"]=compare[0]\r\n",
    "    except:\r\n",
    "        pass\r\n",
    "    if(compare):\r\n",
    "        pass\r\n",
    "    else:\r\n",
    "        print(name)"
   ],
   "outputs": [],
   "metadata": {}
  },
  {
   "cell_type": "code",
   "execution_count": 10,
   "source": [
    "name = ['Anitech Keypad Retractable Wireless N181 Black',\r\n",
    " 'Anitech Wired Keyboard P202 (TH/EN)',\r\n",
    " 'Logitech Bluetooth Keyboard Multi-Device K480 Black (TH/EN)',\r\n",
    " 'Logitech Bluetooth Keyboard Multi-Device K480 White (TH/EN)',\r\n",
    " 'Logitech Wired Keyboard USB K120 (TH/EN)',\r\n",
    " 'Logitech Wireless Keyboard + Stand Multi-Device K375S (TH/EN)',\r\n",
    " 'Microsoft Bluetooth Compact Keyboard Designer Black (TH/EN)',\r\n",
    " 'Microsoft Bluetooth Compact Keyboard Designer Glacier (TH/EN)',\r\n",
    " 'Microsoft Bluetooth Keyboard Black (TH/EN)',\r\n",
    " 'Microsoft Bluetooth Numpad Black',\r\n",
    " 'Microsoft Bluetooth Numpad Glacier',\r\n",
    " 'Microsoft Surface Go Type Cover N SC Black Refresh',\r\n",
    " 'Microsoft Surface Go Type Cover N SC Thailand Hdwr Ice Blue',\r\n",
    " 'Microsoft Tablet Acc Go Type Cover Colors N SC Thai Thailand Hdwr Poppy Red (KCS-00099)',\r\n",
    " 'Microsoft Tablet Acc Signa Type Cover M1725 Black (FMM-00016)',\r\n",
    " 'Microsoft Wireless Keyboard All-in-One Media (TH/EN)',\r\n",
    " 'MOFii Bluetooth Keyboard Waffle Grey (TH/EN)',\r\n",
    " 'MOFii Numberic Wireless Keyboard Biscuit Grey']"
   ],
   "outputs": [],
   "metadata": {}
  },
  {
   "cell_type": "code",
   "execution_count": null,
   "source": [],
   "outputs": [],
   "metadata": {}
  },
  {
   "cell_type": "code",
   "execution_count": null,
   "source": [],
   "outputs": [],
   "metadata": {}
  },
  {
   "cell_type": "code",
   "execution_count": 64,
   "source": [
    "with open('advice_keyboard_gaming_href.txt', 'r') as f:\r\n",
    "    advice_keyboard_gaming_href = ast.literal_eval(f.read())"
   ],
   "outputs": [],
   "metadata": {}
  },
  {
   "cell_type": "code",
   "execution_count": 65,
   "source": [
    "with open('advice_keyboard_working_href.txt', 'r') as f:\r\n",
    "    advice_keyboard_working_href = ast.literal_eval(f.read())"
   ],
   "outputs": [],
   "metadata": {}
  },
  {
   "cell_type": "code",
   "execution_count": 66,
   "source": [
    "with open('advice_keyboard_working_name.txt', 'r') as f:\r\n",
    "    advice_keyboard_working_name = ast.literal_eval(f.read())"
   ],
   "outputs": [],
   "metadata": {}
  },
  {
   "cell_type": "code",
   "execution_count": null,
   "source": [],
   "outputs": [],
   "metadata": {}
  },
  {
   "cell_type": "code",
   "execution_count": 11,
   "source": [
    "for index,val in enumerate(name):\r\n",
    "    print(\"-\",index,\"---------------------\")\r\n",
    "    name_exist(val)"
   ],
   "outputs": [
    {
     "output_type": "stream",
     "name": "stdout",
     "text": [
      "- 0 ---------------------\n",
      "> n181\n",
      "- 1 ---------------------\n",
      "> p202\n",
      "- 2 ---------------------\n",
      "> k480\n",
      "- 3 ---------------------\n",
      "> k480\n",
      "- 4 ---------------------\n",
      "> k120\n",
      "- 5 ---------------------\n",
      "> k375s\n",
      "- 6 ---------------------\n",
      "> bluetoothcompactkeyboarddesigner\n",
      "- 7 ---------------------\n",
      "> bluetoothcompactkeyboarddesigner\n",
      "- 8 ---------------------\n",
      "> microsoftbluetoothkeyboard\n",
      "- 9 ---------------------\n",
      "> microsoftbluetoothnumpad\n",
      "- 10 ---------------------\n",
      "> microsoftbluetoothnumpad\n",
      "- 11 ---------------------\n",
      "> surfacego\n",
      "- 12 ---------------------\n",
      "> surfacego\n",
      "- 13 ---------------------\n",
      "> tabletacc\n",
      "- 14 ---------------------\n",
      "> tabletacc\n",
      "- 15 ---------------------\n",
      "> wirelesskeyboardallinonemedia\n",
      "- 16 ---------------------\n",
      "> waffle\n",
      "- 17 ---------------------\n",
      "> biscuit\n"
     ]
    }
   ],
   "metadata": {
    "scrolled": false
   }
  },
  {
   "cell_type": "code",
   "execution_count": 68,
   "source": [
    "export=[]"
   ],
   "outputs": [],
   "metadata": {}
  },
  {
   "cell_type": "code",
   "execution_count": 69,
   "source": [
    "url=['https://www.advice.co.th/product/keyboard/hp/usb-keyboard-hp-gaming-k110-black',\r\n",
    " 'https://www.advice.co.th/product/keyboard/hp/usb-keyboard-hp-gaming-k500f-black',\r\n",
    " 'https://www.advice.co.th/product/keyboard/hp/usb-keyboard-hp-gaming-k120-black',\r\n",
    " 'https://www.advice.co.th/product/keyboard/hp/usb-keyboard-hp-gaming-k300',\r\n",
    " 'https://www.advice.co.th/product/keyboard/dell/usb-keyboard-dell-kb216-black',\r\n",
    " 'https://www.advice.co.th/product/keyboard/logitech/usb-keyboard-logitech-k120-black',]"
   ],
   "outputs": [],
   "metadata": {}
  },
  {
   "cell_type": "code",
   "execution_count": 70,
   "source": [
    "for i in url:\r\n",
    "    export.append(keyboard_exit(i))"
   ],
   "outputs": [
    {
     "output_type": "stream",
     "name": "stdout",
     "text": [
      ">>> k500f\n",
      ">>> k120\n",
      ">>> k300\n",
      ">>> kb216\n",
      ">>> k120\n"
     ]
    }
   ],
   "metadata": {}
  },
  {
   "cell_type": "code",
   "execution_count": 71,
   "source": [
    "out_keyboard_item= json.dumps(export, ensure_ascii=False)"
   ],
   "outputs": [],
   "metadata": {}
  },
  {
   "cell_type": "code",
   "execution_count": 79,
   "source": [
    "# print(out_keyboard_item)"
   ],
   "outputs": [],
   "metadata": {}
  },
  {
   "cell_type": "code",
   "execution_count": null,
   "source": [],
   "outputs": [],
   "metadata": {}
  },
  {
   "cell_type": "code",
   "execution_count": null,
   "source": [],
   "outputs": [],
   "metadata": {}
  },
  {
   "cell_type": "code",
   "execution_count": null,
   "source": [],
   "outputs": [],
   "metadata": {}
  },
  {
   "cell_type": "code",
   "execution_count": null,
   "source": [],
   "outputs": [],
   "metadata": {}
  },
  {
   "cell_type": "code",
   "execution_count": null,
   "source": [],
   "outputs": [],
   "metadata": {}
  },
  {
   "cell_type": "code",
   "execution_count": null,
   "source": [],
   "outputs": [],
   "metadata": {}
  }
 ],
 "metadata": {
  "kernelspec": {
   "name": "python3",
   "display_name": "Python 3.9.7 64-bit (windows store)"
  },
  "language_info": {
   "codemirror_mode": {
    "name": "ipython",
    "version": 3
   },
   "file_extension": ".py",
   "mimetype": "text/x-python",
   "name": "python",
   "nbconvert_exporter": "python",
   "pygments_lexer": "ipython3",
   "version": "3.9.7"
  },
  "interpreter": {
   "hash": "dc0ae7cbe04b490a33132ce22a2ba80732b07aa628d052297aede1389d8c38d1"
  }
 },
 "nbformat": 4,
 "nbformat_minor": 5
}