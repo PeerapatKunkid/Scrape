{
 "cells": [
  {
   "cell_type": "code",
   "execution_count": 11,
   "source": [
    "import csv\r\n",
    "from selenium import webdriver"
   ],
   "outputs": [],
   "metadata": {}
  },
  {
   "cell_type": "code",
   "execution_count": 12,
   "source": [
    "driver =webdriver.Chrome(executable_path='D:\\Downloads\\chromedriver_win32\\chromedriver.exe')"
   ],
   "outputs": [],
   "metadata": {}
  },
  {
   "cell_type": "code",
   "execution_count": 13,
   "source": [
    "url ='https://www.bnn.in.th/th/p/it-accessories/mouse-and-keyboards/keyboard-and-numpad'"
   ],
   "outputs": [],
   "metadata": {}
  },
  {
   "cell_type": "code",
   "execution_count": 14,
   "source": [
    "driver.get(url)"
   ],
   "outputs": [],
   "metadata": {}
  },
  {
   "cell_type": "code",
   "execution_count": 15,
   "source": [
    "href=[]\r\n",
    "def items_hrf():\r\n",
    "    link = driver.find_elements_by_xpath('//*[@id=\"__layout\"]/div/main/div/div[2]/div[2]/section[2]/div[3]/a')\r\n",
    "    for i in link:\r\n",
    "        href.append(i.get_attribute(\"href\"))"
   ],
   "outputs": [],
   "metadata": {}
  },
  {
   "cell_type": "code",
   "execution_count": 20,
   "source": [
    "href"
   ],
   "outputs": [
    {
     "output_type": "execute_result",
     "data": {
      "text/plain": [
       "[]"
      ]
     },
     "metadata": {},
     "execution_count": 20
    }
   ],
   "metadata": {}
  },
  {
   "cell_type": "code",
   "execution_count": 9,
   "source": [],
   "outputs": [],
   "metadata": {}
  },
  {
   "cell_type": "code",
   "execution_count": 18,
   "source": [
    "href"
   ],
   "outputs": [
    {
     "output_type": "execute_result",
     "data": {
      "text/plain": [
       "[]"
      ]
     },
     "metadata": {},
     "execution_count": 18
    }
   ],
   "metadata": {}
  },
  {
   "cell_type": "code",
   "execution_count": 11,
   "source": [
    "names=[]\r\n",
    "def items_name(brand):\r\n",
    "    link = driver.find_elements_by_xpath('/html/body/section[2]/div[2]/div/div[2]/div[' +brand+ ']/div/div/div/a/div[2]')\r\n",
    "    for i in link:\r\n",
    "        names.append(i.text)"
   ],
   "outputs": [],
   "metadata": {}
  },
  {
   "cell_type": "code",
   "execution_count": 12,
   "source": [
    "for i in brandlist:\r\n",
    "    items_name(str(i))"
   ],
   "outputs": [],
   "metadata": {}
  },
  {
   "cell_type": "code",
   "execution_count": 13,
   "source": [
    "names"
   ],
   "outputs": [
    {
     "output_type": "execute_result",
     "data": {
      "text/plain": [
       "['USB Keyboard HP Gaming K110 Black',\n",
       " 'USB Keyboard HP Gaming K500F Black',\n",
       " 'USB Keyboard HP Gaming K120 Black',\n",
       " 'USB Keyboard HP Gaming K300',\n",
       " 'USB Keyboard DELL (KB216) Black',\n",
       " 'USB Keyboard LOGITECH (K120) Black',\n",
       " 'USB Wireless/Bluetooth LOGITECH (K375s) Black',\n",
       " 'USB Wireless Touch Keyboard LOGITECH LG-K400 Plus Black',\n",
       " 'BLUETOOTH Keyboard Multi-Device LOGITECH K480 Black',\n",
       " 'BLUETOOTH Keyboard Multi-Device LOGITECH K480 White',\n",
       " \"USB Wireless All-in-One Media MICROSOFT Black 'N9Z-00027'\",\n",
       " \"BLUETOOTH Keyboard MICROSOFT Black 'QSZ-00027'\",\n",
       " 'USB Keyboard RAPOO (NK1800) Black',\n",
       " 'USB Wireless Keyboard RAPOO (KB-E1050-BK) Black',\n",
       " 'USB Wireless Keyboard RAPOO (KB-K2800-BK) Black',\n",
       " 'BLUETOOTH Keyboard RAPOO (XK100-BK) Black',\n",
       " 'USB Keyboard LECOO (KB103) Black by LENOVO',\n",
       " 'USB Keyboard Mini MD-TECH (KB-210M) Black',\n",
       " 'USB Keyboard MD-TECH (KB-19) Black',\n",
       " 'USB Keyboard MD-TECH (KB-674) Black',\n",
       " 'USB Keyboard MD-TECH (KB-674) Black/Red',\n",
       " 'USB Keyboard MD-TECH (KB-674) Black/Blue',\n",
       " 'USB Keyboard MD-TECH (KB-667) Black',\n",
       " 'USB Keyboard MD-TECH (KB-670) Black',\n",
       " 'USB Keyboard MD-TECH (KB-310M)',\n",
       " 'USB Keyboard MD-TECH (KB-666) Black',\n",
       " 'USB Keyboard MD-TECH (KB-111) Black',\n",
       " 'USB Keyboard MD-TECH (KB-15) Black/Green',\n",
       " 'USB Keyboard MD-TECH (KB-15) Black/White',\n",
       " 'USB Keyboard MD-TECH (KB-15) Black/Blue',\n",
       " 'USB Keyboard MD-TECH (KB-319M ) Black',\n",
       " 'USB Keyboard MD-TECH (KB-222M) Black/Red',\n",
       " 'USB Keyboard MD-TECH (KB-222M) Black/Blue',\n",
       " 'USB Keyboard MD-TECH (K-5) Black',\n",
       " 'USB Keyboard Mini NUBWO (NK-35) Black',\n",
       " \"USB Keyboard Mini NUBWO (NK-38) 'WIZARDY' Black\",\n",
       " \"USB Keyboard Mini NUBWO (NK-38) 'WIZARDY' White\",\n",
       " 'USB Keyboard NUBWO (NK-15 QUIET) Black/Red',\n",
       " \"USB Keyboard NUBWO (NK-25) 'AZALIA' Black\",\n",
       " \"USB Keyboard NUBWO (NK-36) 'MARS' Black\",\n",
       " 'USB Keyboard NUBWO (NK-032 FORTUNE) Silver/Black',\n",
       " 'USB Keyboard NUBWO (NK-032 FORTUNE) Silver/White',\n",
       " 'USB Keyboard NUBWO (NK-032 FORTUNE) Pink/White',\n",
       " \"USB Keyboard NUBWO (NK-34) 'FLICKER' Black\",\n",
       " \"USB Keyboard NUBWO (NK-34) 'FLICKER' Rose gold\",\n",
       " \"USB Keyboard NUBWO (NK-34) 'FLICKER' Silver/white\",\n",
       " 'BLUETOOTH Keyboard NUBWO (NKB-100) Black',\n",
       " 'USB Keyboard Mini OKER (F6) White',\n",
       " 'USB Keyboard Mini OKER (F6) Black',\n",
       " 'USB Keyboard Mini OKER (F8) Black',\n",
       " 'USB Keyboard OKER (KB-318) Black/Blue',\n",
       " 'USB Keyboard OKER (KB-318) Black/Orange',\n",
       " 'USB Keyboard OKER (KB-318) Black/Yellow',\n",
       " 'USB Keyboard OKER (KB-318) Black',\n",
       " 'USB Keyboard OKER (KB-758) Black',\n",
       " 'USB Keyboard MD-TECH (KB-700) Black',\n",
       " 'USB Keyboard OKER (KB-399 PLUS) Black',\n",
       " 'USB Keyboard OKER (KB-518) Black',\n",
       " 'USB Keyboard OKER (KB-518) Red',\n",
       " 'USB Keyboard OKER (KB-518) Blue',\n",
       " 'USB Keyboard OKER (KB-789) Pink',\n",
       " 'USB Keyboard OKER (KB-911) Pink',\n",
       " 'USB Keyboard OKER (KB-912) Pink',\n",
       " 'USB Wireless Keyboard OKER (K-199) Black',\n",
       " 'BLUETOOTH Keyboard Multi-Device OKER (K-510) Black/White',\n",
       " 'BLUETOOTH Keyboard Multi-Device OKER (K-510) Pink',\n",
       " 'BLUETOOTH Keyboard Multi-Device OKER (K-510) Green']"
      ]
     },
     "metadata": {},
     "execution_count": 13
    }
   ],
   "metadata": {}
  },
  {
   "cell_type": "code",
   "execution_count": null,
   "source": [],
   "outputs": [],
   "metadata": {}
  },
  {
   "cell_type": "code",
   "execution_count": null,
   "source": [],
   "outputs": [],
   "metadata": {}
  }
 ],
 "metadata": {
  "kernelspec": {
   "name": "python3",
   "display_name": "Python 3.9.7 64-bit (windows store)"
  },
  "language_info": {
   "codemirror_mode": {
    "name": "ipython",
    "version": 3
   },
   "file_extension": ".py",
   "mimetype": "text/x-python",
   "name": "python",
   "nbconvert_exporter": "python",
   "pygments_lexer": "ipython3",
   "version": "3.9.7"
  },
  "interpreter": {
   "hash": "dc0ae7cbe04b490a33132ce22a2ba80732b07aa628d052297aede1389d8c38d1"
  }
 },
 "nbformat": 4,
 "nbformat_minor": 5
}