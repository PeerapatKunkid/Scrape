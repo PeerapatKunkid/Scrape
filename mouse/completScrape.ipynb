{
 "cells": [
  {
   "cell_type": "code",
   "execution_count": 31,
   "source": [
    "import csv\r\n",
    "from selenium import webdriver\r\n",
    "from selenium.webdriver.common.keys import Keys\r\n",
    "import time\r\n",
    "import json\r\n",
    "import ast"
   ],
   "outputs": [],
   "metadata": {}
  },
  {
   "cell_type": "code",
   "execution_count": 32,
   "source": [
    "driver=webdriver.Chrome(executable_path='D:\\Downloads\\chromedriver_win32\\chromedriver.exe')\r\n",
    "driver.maximize_window()"
   ],
   "outputs": [],
   "metadata": {}
  },
  {
   "cell_type": "code",
   "execution_count": 33,
   "source": [
    "def model_key_lower_and_sort(k):\r\n",
    "    k[\"key\"]=k[\"key\"].lower().replace(' ','').replace('-','')\r\n",
    "    k[\"name\"]=(k[\"name\"].upper())\r\n",
    "    return len(k[\"key\"]),k[\"name\"]"
   ],
   "outputs": [],
   "metadata": {}
  },
  {
   "cell_type": "code",
   "execution_count": 34,
   "source": [
    "with open('../../models/mouse_model.json') as json_file:\r\n",
    "    model = json.load(json_file)"
   ],
   "outputs": [],
   "metadata": {}
  },
  {
   "cell_type": "code",
   "execution_count": 35,
   "source": [
    "model.sort(key=model_key_lower_and_sort ,reverse=True)"
   ],
   "outputs": [],
   "metadata": {}
  },
  {
   "cell_type": "code",
   "execution_count": 36,
   "source": [
    "model_key=[]\r\n",
    "model_name=[]"
   ],
   "outputs": [],
   "metadata": {}
  },
  {
   "cell_type": "code",
   "execution_count": 37,
   "source": [
    "for i in model:\r\n",
    "    model_key.append(i[\"key\"])\r\n",
    "    model_name.append(i[\"name\"])"
   ],
   "outputs": [],
   "metadata": {}
  },
  {
   "cell_type": "code",
   "execution_count": 38,
   "source": [
    "def mouse_exit(url):\r\n",
    "\r\n",
    "    with open(\"../../models/mouseSchema.json\") as json_file:\r\n",
    "        mouse_schema = json.load(json_file)\r\n",
    "\r\n",
    "    spec_type_arr = []\r\n",
    "    spec_details_arr = []\r\n",
    "    spec = {}\r\n",
    "\r\n",
    "    #     get url and scroll 5 sec\r\n",
    "    driver.get(url)\r\n",
    "\r\n",
    "    #     find name and compare\r\n",
    "    try:\r\n",
    "        find_name = driver.find_elements_by_xpath(\r\n",
    "            '//*[@id=\"__layout\"]/div/main/section/div[1]/div[2]/div[1]/h1'\r\n",
    "        )  # change\r\n",
    "        name = find_name[0].text\r\n",
    "\r\n",
    "        name_lower = (\r\n",
    "            name.lower()\r\n",
    "            .replace(\" \", \"\")\r\n",
    "            .replace(\"-\", \"\")\r\n",
    "            .replace(\"gaming\", \"\")\r\n",
    "            # .replace(\"tenkeyless\", \"tkl\")\r\n",
    "        )\r\n",
    "        print(name)\r\n",
    "        compare = [x for x in model_key if x in name_lower]\r\n",
    "        print(compare[0])\r\n",
    "        mouse_schema[\"model\"] = compare[0]\r\n",
    "\r\n",
    "        if compare:\r\n",
    "            for index, val in enumerate(model_key):\r\n",
    "                if compare[0] == model[index][\"key\"]:\r\n",
    "                    mouse_schema[\"name\"] = model[index][\"name\"]\r\n",
    "\r\n",
    "        find_price = driver.find_elements_by_xpath(\r\n",
    "            '//*[@id=\"__layout\"]/div/main/section/div[1]/div[2]/div[1]/div[3]/div/div[1]'\r\n",
    "        )  # change\r\n",
    "        price = find_price[0].text.replace(\",\", \"\").replace(\"฿\", \"\")\r\n",
    "        print(price)\r\n",
    "\r\n",
    "        find_image = driver.find_elements_by_xpath(\r\n",
    "            '//*[@id=\"__layout\"]/div/main/section/div[1]/div[1]/div/div[1]/div[1]/div[5]/div/img'\r\n",
    "        )  # change\r\n",
    "        image = find_image[0].get_attribute(\"src\")\r\n",
    "        print(image)\r\n",
    "\r\n",
    "        find_brand = driver.find_elements_by_xpath(\r\n",
    "            '//*[@id=\"__layout\"]/div/main/section/div[1]/div[2]/div[1]/div[1]/div/div[1]/span[2]'\r\n",
    "        )  # change\r\n",
    "        brand = find_brand[0].text\r\n",
    "        print(brand)\r\n",
    "\r\n",
    "        mouse_schema[\"data\"][0][\"name\"] = name.upper()\r\n",
    "        mouse_schema[\"data\"][0][\"price\"] = int(price)\r\n",
    "        mouse_schema[\"data\"][0][\"href\"] = url\r\n",
    "        mouse_schema[\"data\"][0][\"image\"] = image\r\n",
    "    \r\n",
    "\r\n",
    "        mouse_schema[\"store\"] = \"banana\".capitalize()  # change\r\n",
    "        mouse_schema[\"brand\"] = brand.capitalize()  # change\r\n",
    "        mouse_schema[\"category\"] = \"mouse\".capitalize()  # change\r\n",
    "        mouse_schema[\"tag\"] = \"working\".capitalize()  # change\r\n",
    "        print(mouse_schema[\"data\"][0][\"href\"])\r\n",
    "        find_spec_type = driver.find_elements_by_xpath(\r\n",
    "            '//*[@id=\"__layout\"]/div/main/section/section[1]/div/div/table/tbody/tr/td[1]'\r\n",
    "        )  # change\r\n",
    "        find_spec_details = driver.find_elements_by_xpath(\r\n",
    "            '//*[@id=\"__layout\"]/div/main/section/section[1]/div/div/table/tbody/tr/td[2]'\r\n",
    "        )  # change\r\n",
    "\r\n",
    "        for i in find_spec_type:\r\n",
    "            spec_type_arr.append(i.text)\r\n",
    "        for i in find_spec_details:\r\n",
    "            spec_details_arr.append(i.text)\r\n",
    "        for index, val in enumerate(spec_type_arr):\r\n",
    "            spec[val] = spec_details_arr[index]\r\n",
    "        for index, val in enumerate(spec_type_arr):\r\n",
    "            if val == \"Interface\":  # change\r\n",
    "                mouse_schema[\"data\"][0][\"spec\"][\"interface\"] = spec_details_arr[\r\n",
    "                    index\r\n",
    "                ]\r\n",
    "            if val == \"Sensor technology\":  # change\r\n",
    "                mouse_schema[\"data\"][0][\"spec\"][\"sensor\"] = spec_details_arr[index]\r\n",
    "            if val == \"macro\":  # change\r\n",
    "                mouse_schema[\"data\"][0][\"spec\"][\"macro\"] = spec_details_arr[\r\n",
    "                    index\r\n",
    "                ]\r\n",
    "            if val == \"Sensor Resolution\":  # change\r\n",
    "                mouse_schema[\"data\"][0][\"spec\"][\"dpi\"] = spec_details_arr[index]\r\n",
    "            if val == \"SwitchType\":  # change\r\n",
    "                mouse_schema[\"data\"][0][\"spec\"][\"switch_type\"] = spec_details_arr[index]\r\n",
    "            # if(val==\"Brand\"): #change\r\n",
    "            #     keyboard_schema[\"brand\"]=spec_details_arr[index].capitalize()\r\n",
    "        return mouse_schema\r\n",
    "    except:\r\n",
    "        pass\r\n"
   ],
   "outputs": [],
   "metadata": {}
  },
  {
   "cell_type": "code",
   "execution_count": 39,
   "source": [
    "# def name_exist(name):\r\n",
    "#     try:\r\n",
    "#         name_lower=name.lower().replace(' ','').replace('-','').replace('gaming','').replace('tenkeyless','tkl')\r\n",
    "#         compare = [x for x in model_key if x in name_lower]\r\n",
    "#         print(compare[0] ,\">\",name)\r\n",
    "#     except:\r\n",
    "#         pass\r\n",
    "#     if(compare):\r\n",
    "#         pass\r\n",
    "#     else:\r\n",
    "#         print(\">\",name)"
   ],
   "outputs": [],
   "metadata": {}
  },
  {
   "cell_type": "code",
   "execution_count": null,
   "source": [],
   "outputs": [],
   "metadata": {}
  },
  {
   "cell_type": "code",
   "execution_count": null,
   "source": [],
   "outputs": [],
   "metadata": {}
  },
  {
   "cell_type": "code",
   "execution_count": 40,
   "source": [
    "with open('banana_mouse_gaming_href.txt', 'r') as f:\r\n",
    "    banana_mouse_gaming_href = ast.literal_eval(f.read())"
   ],
   "outputs": [],
   "metadata": {}
  },
  {
   "cell_type": "code",
   "execution_count": 41,
   "source": [
    "with open('banana_mouse_working_href.txt', 'r') as f:\r\n",
    "    banana_mouse_working_href = ast.literal_eval(f.read())"
   ],
   "outputs": [],
   "metadata": {}
  },
  {
   "cell_type": "code",
   "execution_count": 97,
   "source": [
    "# advice_keyboard_gaming_href"
   ],
   "outputs": [],
   "metadata": {}
  },
  {
   "cell_type": "code",
   "execution_count": 12,
   "source": [
    "print(banana_mouse_gaming_href)"
   ],
   "outputs": [
    {
     "output_type": "stream",
     "name": "stdout",
     "text": [
      "['https://www.bnn.in.th/th/p/gaming-gear/pc-gaming-accessories/gaming-mouse/asus-gaming-mouse-rog-strix-impact-ll-gundam-4718017992725_rq8o52', 'https://www.bnn.in.th/th/p/gaming-gear/pc-gaming-accessories/gaming-mouse/cs-at-meetion-gaming-mouse-mt-gm20-black-6970344731530_zg08vd', 'https://www.bnn.in.th/th/p/gaming-gear/pc-gaming-accessories/gaming-mouse/cs-at-meetion-gaming-mouse-mt-gm21-black-6970344731219_zj43oz', 'https://www.bnn.in.th/th/p/gaming-gear/pc-gaming-accessories/gaming-mouse/cs-at-meetion-gaming-mouse-mt-gm30-black-6970344731196_z3kv9d', 'https://www.bnn.in.th/th/p/gaming-gear/pc-gaming-accessories/gaming-mouse/cs-at-meetion-gaming-mouse-mt-gm80-black-6970344731578_dll3mx', 'https://www.bnn.in.th/th/p/gaming-gear/pc-gaming-accessories/gaming-mouse/cs-at-meetion-gaming-mouse-mt-m371-black-6970344731257_d5lmnz', 'https://www.bnn.in.th/th/p/gaming-gear/pc-gaming-accessories/gaming-mouse/cs-at-meetion-gaming-mouse-mt-m915-black-6970344731455_d2x22z', 'https://www.bnn.in.th/th/p/gaming-gear/pc-gaming-accessories/gaming-mouse/cs-at-meetion-gaming-mouse-mt-m930-black-6970344731172_dl94md', 'https://www.bnn.in.th/th/p/gaming-gear/pc-gaming-accessories/gaming-mouse/cs-at-meetion-gaming-mouse-mt-m975-black-6970344731035_ze7e4d', 'https://www.bnn.in.th/th/p/gaming-gear/pc-gaming-accessories/gaming-mouse/cs-at-meetion-gaming-usb-hub-with-bungee-d-mt-u001-active-6970344731318_z7ykyz', 'https://www.bnn.in.th/th/p/gaming-gear/pc-gaming-accessories/gaming-mouse/fantech-gaming-mouse-pro-wgc-1-venom-wireless-24-ghz-6945678523625_zep04d', 'https://www.bnn.in.th/th/p/gaming-gear/pc-gaming-accessories/gaming-mouse/fantech-gaming-mouse-x14s-rangers-6945678523618_dkpojr', 'https://www.bnn.in.th/th/p/gaming-gear/pc-gaming-accessories/gaming-mouse/fantech-gaming-mouse-x15-phantom-macro-rgb-6945678523472_zv1lwz', 'https://www.bnn.in.th/th/p/gaming-gear/pc-gaming-accessories/gaming-mouse/fantech-gaming-mouse-x16-thor-ii-macro-rgb-6945678523793_dy162d', 'https://www.bnn.in.th/th/p/gaming-gear/pc-gaming-accessories/gaming-mouse/fantech-gaming-mouse-x4s-macro-rgb-black-6945678541971_r0y26d', 'https://www.bnn.in.th/th/p/gaming-gear/pc-gaming-accessories/gaming-mouse/fantech-gaming-mouse-x5s-macro-rgb-black-6945678541952_dnp92r', 'https://www.bnn.in.th/th/p/gaming-gear/pc-gaming-accessories/gaming-mouse/fantech-gaming-mouse-x9-macro-black-6945677465698_r6o2mr', 'https://www.bnn.in.th/th/p/gaming-gear/pc-gaming-accessories/gaming-mouse/hyper-x-gaming-mouse-pulsefire-core-rgb-740617279078_d5vpxr', 'https://www.bnn.in.th/th/p/gaming-gear/pc-gaming-accessories/gaming-mouse/hyper-x-gaming-mouse-pulsefire-fps-pro-rgb-740617275469_d4m5ed', 'https://www.bnn.in.th/th/p/gaming-gear/pc-gaming-accessories/gaming-mouse/hyper-x-gaming-mouse-pulsefire-raid-rgb-black-740617286717_r6kovz', 'https://www.bnn.in.th/th/p/gaming-gear/pc-gaming-accessories/gaming-mouse/hyper-x-gaming-mouse-pulsefire-surge-rgb-740617272680_d5vw9r', 'https://www.bnn.in.th/th/p/gaming-gear/pc-gaming-accessories/gaming-mouse/logitech-gaming-mouse-g-pro-wireless-097855137135_xd5jxr', 'https://www.bnn.in.th/th/p/gaming-gear/pc-gaming-accessories/gaming-mouse/logitech-gaming-mouse-g-pro-x-superlight-black-097855158031_rq857r', 'https://www.bnn.in.th/th/p/gaming-gear/pc-gaming-accessories/gaming-mouse/logitech-gaming-mouse-g-pro-x-superlight-white-097855159649_d82qkd', 'https://www.bnn.in.th/th/p/gaming-gear/pc-gaming-accessories/gaming-mouse/logitech-gaming-mouse-g102-gen-lightsync-black-097855156006_d222xd', 'https://www.bnn.in.th/th/p/gaming-gear/pc-gaming-accessories/gaming-mouse/logitech-gaming-mouse-g102-gen-lightsync-white-097855156013_zg833r', 'https://www.bnn.in.th/th/p/gaming-gear/pc-gaming-accessories/gaming-mouse/logitech-gaming-mouse-g304-lightspeed-wireless-white-097855137753_qz7nwr', 'https://www.bnn.in.th/th/p/gaming-gear/pc-gaming-accessories/gaming-mouse/logitech-gaming-mouse-g304-wireless-lightspeed-097855137715_yzwvwd', 'https://www.bnn.in.th/th/p/gaming-gear/pc-gaming-accessories/gaming-mouse/logitech-gaming-mouse-g403-hero-black-097855147769_zoww6d', 'https://www.bnn.in.th/th/p/gaming-gear/pc-gaming-accessories/gaming-mouse/logitech-gaming-mouse-g502-hero-high-performance-097855142009_xzo50d', 'https://www.bnn.in.th/th/p/gaming-gear/pc-gaming-accessories/gaming-mouse/logitech-gaming-mouse-g502-wireless-lightspeed-black-097855145260_d51mxr', 'https://www.bnn.in.th/th/p/gaming-gear/pc-gaming-accessories/gaming-mouse/logitech-gaming-mouse-g604-lightspeed-097855149459_z9776r', 'https://www.bnn.in.th/th/p/gaming-gear/pc-gaming-accessories/gaming-mouse/logitech-gaming-mouse-hyperion-fury-fps-g402-097855105677_ozgl5d', 'https://www.bnn.in.th/th/p/gaming-gear/pc-gaming-accessories/gaming-mouse/neolution-gaming-mouse-a-series-atomic-black-rubberized-8887210018511_zwl04p', 'https://www.bnn.in.th/th/p/gaming-gear/pc-gaming-accessories/gaming-mouse/neolution-gaming-mouse-aorura-v2-blackred-8887210020453_d51e0n', 'https://www.bnn.in.th/th/p/gaming-gear/pc-gaming-accessories/gaming-mouse/neolution-gaming-mouse-chaos-rgb-black-8887210020705_z97owe', 'https://www.bnn.in.th/th/p/gaming-gear/pc-gaming-accessories/gaming-mouse/neolution-gaming-mouse-elysium-8-buttons-black-8887210020409_ze0v24', 'https://www.bnn.in.th/th/p/gaming-gear/pc-gaming-accessories/gaming-mouse/neolution-gaming-mouse-emperor-rgb-black-8887210020699_zg84xv', 'https://www.bnn.in.th/th/p/gaming-gear/pc-gaming-accessories/gaming-mouse/neolution-gaming-mouse-guardian-black-8887210020422_z325l9', 'https://www.bnn.in.th/th/p/gaming-gear/pc-gaming-accessories/gaming-mouse/neolution-gaming-mouse-leopard-rgb-black-8887210020682_d412w4', 'https://www.bnn.in.th/th/p/gaming-gear/pc-gaming-accessories/gaming-mouse/onikuma-gaming-mouse-cw70-black-11220221544899_d11old', 'https://www.bnn.in.th/th/p/gaming-gear/pc-gaming-accessories/gaming-mouse/onikuma-gaming-mouse-mizu-black-6972470560893_zpmlwz', 'https://www.bnn.in.th/th/p/gaming-gear/pc-gaming-accessories/gaming-mouse/onikuma-gaming-mouse-raijin-black-6972470560886_r08mnz', 'https://www.bnn.in.th/th/p/gaming-gear/pc-gaming-accessories/gaming-mouse/onikuma-gaming-mouse-sakura-pink-6972470560909_ze023y', 'https://www.bnn.in.th/th/p/gaming-gear/pc-gaming-accessories/gaming-mouse/philips-gaming-mouse-optical-spk9313-black-8712581754730_dn9lol', 'https://www.bnn.in.th/th/p/gaming-gear/pc-gaming-accessories/gaming-mouse/philips-gaming-mouse-optical-spk9413-black-8712581754723_z783o8', 'https://www.bnn.in.th/th/p/gaming-gear/pc-gaming-accessories/gaming-mouse/philips-gaming-mouse-spk9314-black-8712581762414_d11lko', 'https://www.bnn.in.th/th/p/gaming-gear/pc-gaming-accessories/gaming-mouse/razer-gaming-mouse-basilisk-ultimate-nodock-black-8886419332800_d229n3', 'https://www.bnn.in.th/th/p/gaming-gear/pc-gaming-accessories/gaming-mouse/razer-gaming-mouse-basilisk-v2-black-8886419332732_zp5kok', 'https://www.bnn.in.th/th/p/gaming-gear/pc-gaming-accessories/gaming-mouse/razer-gaming-mouse-basilisk-x-hyperspeed-black-8886419332831_dxl4vx', 'https://www.bnn.in.th/th/p/gaming-gear/pc-gaming-accessories/gaming-mouse/razer-gaming-mouse-deathadder-essential-8886419332381_dy6gk6', 'https://www.bnn.in.th/th/p/gaming-gear/pc-gaming-accessories/gaming-mouse/razer-gaming-mouse-pokemon-mat-bundle-8886419319047_d41q7w', 'https://www.bnn.in.th/th/p/gaming-gear/pc-gaming-accessories/gaming-mouse/razer-gaming-mouse-viper-ultimate-wo-dock-black-8886419332725_r024wq', 'https://www.bnn.in.th/th/p/gaming-gear/pc-gaming-accessories/razer-gaming-mouse-wireless-deathadder-v2-pro-ergonomic-8886419332985_z32pk0', 'https://www.bnn.in.th/th/p/gaming-gear/pc-gaming-accessories/gaming-mouse/signo-gaming-mouse-macro-gm-951-pinkker-pink-8862940312726_dko66q', 'https://www.bnn.in.th/th/p/it-accessories/mouse-and-keyboards/mouse-1/signo-gaming-mouse-macro-langer-gm-962-black-8214590280359_ze0xw3', 'https://www.bnn.in.th/th/p/gaming-gear/pc-gaming-accessories/gaming-mouse/signo-gaming-mouse-macro-laster-gm-961-black-8173224958371_zowww6', 'https://www.bnn.in.th/th/p/gaming-gear/pc-gaming-accessories/gaming-mouse/signo-gaming-mouse-macro-narciso-gm-981-black-8298113720522_dy66l2', 'https://www.bnn.in.th/th/p/gaming-gear/pc-gaming-accessories/gaming-mouse/signo-gaming-mouse-macro-pro-series-centro-gm-907-black-8261153679211_d822ky', 'https://www.bnn.in.th/th/p/gaming-gear/pc-gaming-accessories/gaming-mouse/signo-gaming-mouse-macro-pro-series-costra-gm-908-black-8330961214874_dxll0y', 'https://www.bnn.in.th/th/p/gaming-gear/pc-gaming-accessories/gaming-mouse/signo-gaming-mouse-nextra-gm-952-macro-black-8951368832715_rq8m17', 'https://www.bnn.in.th/th/p/gaming-gear/pc-gaming-accessories/gaming-mouse/steelseries-gaming-mouse-prime-black-5707119040365_z78m11', 'https://www.bnn.in.th/th/p/gaming-gear/pc-gaming-accessories/gaming-mouse/steelseries-gaming-mouse-prime-wireless-black-5707119041256_dn9jvg', 'https://www.bnn.in.th/th/p/gaming-gear/pc-gaming-accessories/gaming-mouse/steelseries-gaming-mouse-prime-black-5707119035576_zwlp0o', 'https://www.bnn.in.th/th/p/gaming-gear/pc-gaming-accessories/gaming-mouse/steelseries-gaming-mouse-rival-3-black-5707119039833_zj89wr', 'https://www.bnn.in.th/th/p/gaming-gear/pc-gaming-accessories/gaming-mouse/steelseries-gaming-mouse-rival-3-wireless-black-5707119040242_z7l51d', 'https://www.bnn.in.th/th/p/gaming-gear/pc-gaming-accessories/gaming-mouse/steelseries-gaming-mouse-sensei-ten-black-5707119040334_dnemgd', 'https://www.bnn.in.th/th/p/gaming-gear/pc-gaming-accessories/gaming-mouse/zowie-gaming-mouse-ec1-4718755080623_dy9p2r', 'https://www.bnn.in.th/th/p/gaming-gear/pc-gaming-accessories/gaming-mouse/zowie-gaming-mouse-fk1-b-4718755078194_dlo3md', 'https://www.bnn.in.th/th/p/gaming-gear/pc-gaming-accessories/gaming-mouse/zowie-gaming-mouse-fk2-b-4718755078231_z3y99r', 'https://www.bnn.in.th/th/p/gaming-gear/pc-gaming-accessories/gaming-mouse/zowie-gaming-mouse-s1-4718755067495_r658mz', 'https://www.bnn.in.th/th/p/gaming-gear/pc-gaming-accessories/gaming-mouse/zowie-gaming-mouse-s2-4718755067501_rqqpxr', 'https://www.bnn.in.th/th/p/gaming-gear/pc-gaming-accessories/gaming-mouse/zowie-gaming-mouse-za11-b-4718755083273_d5yqnr', 'https://www.bnn.in.th/th/p/gaming-gear/pc-gaming-accessories/gaming-mouse/zowie-gaming-mouse-za12-b-4718755083280_z72myr', 'https://www.bnn.in.th/th/p/gaming-gear/pc-gaming-accessories/gaming-mouse/zowie-gaming-mouse-za13-b-4718755083297_dngj2r']\n"
     ]
    }
   ],
   "metadata": {}
  },
  {
   "cell_type": "code",
   "execution_count": 28,
   "source": [
    "driver.get(\"https://www.bnn.in.th/th/p/gaming-gear/pc-gaming-accessories/gaming-keyboard/asus-gaming-keyboard-rog-strix-scope-pbtthblue-sw-4718017365741_dy6q2v\")"
   ],
   "outputs": [],
   "metadata": {}
  },
  {
   "cell_type": "code",
   "execution_count": 98,
   "source": [
    "# for index,val in enumerate(all_name):\r\n",
    "# #     print(\"-\",index,\"---------------------\")\r\n",
    "#     name_exist(val)"
   ],
   "outputs": [],
   "metadata": {
    "scrolled": false
   }
  },
  {
   "cell_type": "code",
   "execution_count": null,
   "source": [],
   "outputs": [],
   "metadata": {}
  },
  {
   "cell_type": "code",
   "execution_count": 42,
   "source": [
    "export=[]"
   ],
   "outputs": [],
   "metadata": {}
  },
  {
   "cell_type": "code",
   "execution_count": null,
   "source": [],
   "outputs": [],
   "metadata": {}
  },
  {
   "cell_type": "code",
   "execution_count": 43,
   "source": [
    "for index,val in enumerate(banana_mouse_working_href):\r\n",
    "    print(\"----\",index,\"of\" ,len(banana_mouse_working_href),\"----\")\r\n",
    "    export.append(mouse_exit(val))"
   ],
   "outputs": [
    {
     "output_type": "stream",
     "name": "stdout",
     "text": [
      "---- 0 of 24 ----\n",
      "Anitech Bluetooth and Wireless Mouse W226 Blue\n",
      "w226\n",
      "379\n",
      "https://media-cdn.bnn.in.th/85159/Anitech-W226-Blue-3-square_medium.jpg\n",
      "ANITECH\n",
      "https://www.bnn.in.th/th/p/it-accessories/mouse-and-keyboards/mouse-1/anitech-bluetooth-and-wireless-mouse-w226-blue-8859221716908_zvl72p\n",
      "---- 1 of 24 ----\n",
      "Anitech Wired Mouse A545\n",
      "a545\n",
      "139\n",
      "https://media-cdn.bnn.in.th/84391/8859221708439-1-square_medium.jpg\n",
      "ANITECH\n",
      "https://www.bnn.in.th/th/p/it-accessories/mouse-and-keyboards/mouse-1/anitech-wired-mouse-a545-8859221708439_d828yy\n",
      "---- 2 of 24 ----\n",
      "Anitech Wired Mouse Optical Sensor USB A534 Black\n",
      "a534\n",
      "199\n",
      "---- 3 of 24 ----\n",
      "Anitech Wireless Mouse W213 White\n",
      "w213\n",
      "219\n",
      "https://media-cdn.bnn.in.th/84222/8859221705568-01-square_medium.jpg\n",
      "ANITECH\n",
      "https://www.bnn.in.th/th/p/it-accessories/mouse-and-keyboards/mouse-1/anitech-wireless-mouse-w213-white-8859221705568_dko16q\n",
      "---- 4 of 24 ----\n",
      "Anitech Wireless Mouse W214 Gray\n",
      "w214\n",
      "239\n",
      "https://media-cdn.bnn.in.th/84329/8859221707579-01-square_medium.jpg\n",
      "ANITECH\n",
      "https://www.bnn.in.th/th/p/it-accessories/mouse-and-keyboards/mouse-1/anitech-wireless-mouse-w214-gray-8859221707579_zjgn68\n",
      "---- 5 of 24 ----\n",
      "Anitech Wireless Mouse W219 Black\n",
      "w219\n",
      "279\n",
      "https://media-cdn.bnn.in.th/84493/8859221709030-1-square_medium.jpg\n",
      "ANITECH\n",
      "https://www.bnn.in.th/th/p/it-accessories/mouse-and-keyboards/mouse-1/anitech-wireless-mouse-w219-black-8859221709030_dllnxm\n",
      "---- 6 of 24 ----\n",
      "Anitech Wireless Mouse W221 Blue\n",
      "w221\n",
      "259\n",
      "https://media-cdn.bnn.in.th/84530/8859221709245-3-square_medium.jpg\n",
      "ANITECH\n",
      "https://www.bnn.in.th/th/p/it-accessories/mouse-and-keyboards/mouse-1/anitech-wireless-mouse-w221-blue-8859221709245_r02qn6\n",
      "---- 7 of 24 ----\n",
      "Anitech Wireless Mouse W224 Black\n",
      "w224\n",
      "199\n",
      "https://media-cdn.bnn.in.th/85141/Mouse-W224-Black-3-square_medium.jpg\n",
      "ANITECH\n",
      "https://www.bnn.in.th/th/p/it-accessories/mouse-and-keyboards/mouse-1/anitech-wireless-mouse-w224-black-8859221716878_rq8j2o\n",
      "---- 8 of 24 ----\n",
      "Anitech Wireless Vertical Mouse W225 Black\n",
      "w225\n",
      "399\n",
      "https://media-cdn.bnn.in.th/106934/Anitech-Wireless-Vertical-Mouse-W225-Black-6-square_medium.jpg\n",
      "ANITECH\n",
      "https://www.bnn.in.th/th/p/it-accessories/mouse-and-keyboards/mouse-1/anitech-wireless-vertical-mouse-w225-black-8859221716861_z78w86\n",
      "---- 9 of 24 ----\n",
      "CS@ XP-PEN Mouse Pen G640S\n",
      "g640s\n",
      "1790\n",
      "https://media-cdn.bnn.in.th/45205/XP-PEN-Mouse-Pen-G640S-6-square_medium.jpg\n",
      "XP-PEN\n",
      "https://www.bnn.in.th/th/p/it-accessories/mouse-and-keyboards/mouse-1/cs-at-xp-pen-mouse-pen-g640s-654913039154_dyqx8z\n",
      "---- 10 of 24 ----\n",
      "Genius Wireless Mouse NX-7005 Black\n",
      "nx7005\n",
      "229\n",
      "https://media-cdn.bnn.in.th/17392/4710268251040-01-square_medium.jpg\n",
      "GENIUS\n",
      "https://www.bnn.in.th/th/p/it-accessories/mouse-and-keyboards/mouse-1/genius-wireless-mouse-nx-7005-black-4710268251040_zjn98r\n",
      "---- 11 of 24 ----\n",
      "Genius Wireless Mouse NX-7015 Chocolate\n",
      "nx7015\n",
      "279\n",
      "https://media-cdn.bnn.in.th/17390/Genius-Wireless-Mouse-NX-7015-Chocolate-02-square_medium.jpg\n",
      "GENIUS\n",
      "https://www.bnn.in.th/th/p/it-accessories/mouse-and-keyboards/mouse-1/genius-wireless-mouse-nx-7015-chocolate-4710268250951_dyxgvr\n",
      "---- 12 of 24 ----\n",
      "Lenovo Bluetooth Mouse Silent 600 (EO)\n",
      "silent600\n",
      "790\n",
      "https://media-cdn.bnn.in.th/138286/Mouse-Silent-600-01-square_medium.jpg\n",
      "LENOVO\n",
      "https://www.bnn.in.th/th/p/it-accessories/mouse-and-keyboards/mouse-1/lenovo-bluetooth-mouse-silent-600-eo-194632482072_zp51ww\n",
      "---- 13 of 24 ----\n",
      "Lenovo Wireless Mouse 530 Cherry Red (EO)\n",
      "mouse530\n",
      "490\n",
      "https://media-cdn.bnn.in.th/138362/Cherry-Red-01-square_medium.jpg\n",
      "LENOVO\n",
      "https://www.bnn.in.th/th/p/it-accessories/mouse-and-keyboards/mouse-1/lenovo-wireless-mouse-530-cherry-red-eo-195042086287_d11jkq\n",
      "---- 14 of 24 ----\n",
      "Logitech Bluetooth & Wireless Mouse M350 Pebble Graphite\n",
      "m350\n",
      "690\n",
      "https://media-cdn.bnn.in.th/4894/Logitech-Wireless-Mouse-Pebble-M350-Graphite-1-square_medium.jpg\n",
      "LOGITECH\n",
      "https://www.bnn.in.th/th/p/it-accessories/mouse-and-keyboards/mouse-1/logitech-bluetooth-wireless-mouse-m350-pebble-graphite-097855150929_dm00nr\n",
      "---- 15 of 24 ----\n",
      "Logitech Bluetooth & Wireless Mouse M350 Pebble Offwhite\n",
      "m350\n",
      "690\n",
      "https://media-cdn.bnn.in.th/4886/Logitech-Wireless-Mouse-Pebble-M350-Offwhite-1-square_medium.jpg\n",
      "LOGITECH\n",
      "https://www.bnn.in.th/th/p/it-accessories/mouse-and-keyboards/mouse-1/logitech-bluetooth-wireless-mouse-m350-pebble-offwhite-097855150905_rq887r\n",
      "---- 16 of 24 ----\n",
      "Logitech Bluetooth & Wireless Mouse M350 Pebble Rose\n",
      "m350\n",
      "690\n",
      "https://media-cdn.bnn.in.th/4890/Logitech-Wireless-Mouse-Pebble-M350-Rose-1-square_medium.jpg\n",
      "LOGITECH\n",
      "https://www.bnn.in.th/th/p/it-accessories/mouse-and-keyboards/mouse-1/logitech-bluetooth-wireless-mouse-m350-pebble-rose-097855150912_d822kd\n",
      "---- 17 of 24 ----\n",
      "Logitech Bluetooth & Wireless Mouse M590 Multi Device Silent Graphite\n",
      "m590\n",
      "990\n",
      "https://media-cdn.bnn.in.th/4703/97855131362-01-square_medium.jpg\n",
      "LOGITECH\n",
      "https://www.bnn.in.th/th/p/it-accessories/mouse-and-keyboards/mouse-1/logitech-bluetooth-wireless-mouse-m590-multi-device-silent-graphite-097855131362_qzv84r\n",
      "---- 18 of 24 ----\n",
      "Logitech Wired Mouse M100R USB\n",
      "m100r\n",
      "169\n",
      "https://media-cdn.bnn.in.th/4623/097855128294-2-square_medium.jpg\n",
      "LOGITECH\n",
      "https://www.bnn.in.th/th/p/it-accessories/mouse-and-keyboards/mouse-1/logitech-wired-mouse-m100r-usb-097855128294_ydl0nd\n",
      "---- 19 of 24 ----\n",
      "Logitech Wireless Mouse Full-Size M190 Blue\n",
      "m190\n",
      "409\n",
      "https://media-cdn.bnn.in.th/4973/Logitech-Wireless-Mouse-Full-Size-M190-Blue-05-square_medium.jpg\n",
      "LOGITECH\n",
      "https://www.bnn.in.th/th/p/it-accessories/mouse-and-keyboards/mouse-1/logitech-wireless-mouse-full-size-m190-blue-097855159991_zvlekd\n",
      "---- 20 of 24 ----\n",
      "Logitech Wireless Mouse Full-Size M190 Charcoal\n",
      "m190\n",
      "409\n",
      "https://media-cdn.bnn.in.th/4965/Logitech-Wireless-Mouse-Full-Size-M190-Charcoal-1-square_medium.jpg\n",
      "LOGITECH\n",
      "https://www.bnn.in.th/th/p/it-accessories/mouse-and-keyboards/mouse-1/logitech-wireless-mouse-full-size-m190-charcoal-097855159984_dm0qnr\n",
      "---- 21 of 24 ----\n",
      "Logitech Wireless Mouse Full-Size M190 Red\n",
      "m190\n",
      "409\n",
      "https://media-cdn.bnn.in.th/4978/Logitech-Wireless-Mouse-Full-Size-M190-05-square_medium.jpg\n",
      "LOGITECH\n",
      "https://www.bnn.in.th/th/p/it-accessories/mouse-and-keyboards/mouse-1/logitech-wireless-mouse-full-size-m190-red-097855160003_dkoeqz\n",
      "---- 22 of 24 ----\n",
      "Logitech Wireless Mouse M171 Blue\n",
      "m171\n",
      "370\n",
      "https://media-cdn.bnn.in.th/4560/97855119230-02-square_medium.jpg\n",
      "LOGITECH\n",
      "https://www.bnn.in.th/th/p/it-accessories/mouse-and-keyboards/mouse-1/logitech-wireless-mouse-m171-blue-097855119230_qz7ywz\n",
      "---- 23 of 24 ----\n",
      "Logitech Wireless Mouse M171 Gray\n",
      "m171\n",
      "370\n",
      "https://media-cdn.bnn.in.th/4555/97855119223-01-square_medium.jpg\n",
      "LOGITECH\n",
      "https://www.bnn.in.th/th/p/it-accessories/mouse-and-keyboards/mouse-1/logitech-wireless-mouse-m171-gray-097855119223_yzwjwd\n"
     ]
    }
   ],
   "metadata": {}
  },
  {
   "cell_type": "code",
   "execution_count": 44,
   "source": [
    "out_mouse_item= json.dumps(export, ensure_ascii=False)"
   ],
   "outputs": [],
   "metadata": {}
  },
  {
   "cell_type": "code",
   "execution_count": null,
   "source": [],
   "outputs": [],
   "metadata": {}
  },
  {
   "cell_type": "code",
   "execution_count": 45,
   "source": [
    "out_mouse_item"
   ],
   "outputs": [
    {
     "output_type": "execute_result",
     "data": {
      "text/plain": [
       "'[{\"model\": \"w226\", \"name\": \"ANITECH BLUETOOTH AND WIRELESS MOUSE W226\", \"store\": \"Banana\", \"brand\": \"Anitech\", \"category\": \"Mouse\", \"tag\": \"Working\", \"data\": [{\"name\": \"ANITECH BLUETOOTH AND WIRELESS MOUSE W226 BLUE\", \"price\": 379, \"href\": \"https://www.bnn.in.th/th/p/it-accessories/mouse-and-keyboards/mouse-1/anitech-bluetooth-and-wireless-mouse-w226-blue-8859221716908_zvl72p\", \"image\": \"https://media-cdn.bnn.in.th/85159/Anitech-W226-Blue-3-square_medium.jpg\", \"spec\": {\"interface\": \"USB\", \"sensor\": \"N/A\", \"macro\": \"\", \"dpi\": \"up to 1600 dpi\", \"switch_type\": \"\"}}]}, {\"model\": \"a545\", \"name\": \"ANITECH WIRED MOUSE A545\", \"store\": \"Banana\", \"brand\": \"Anitech\", \"category\": \"Mouse\", \"tag\": \"Working\", \"data\": [{\"name\": \"ANITECH WIRED MOUSE A545\", \"price\": 139, \"href\": \"https://www.bnn.in.th/th/p/it-accessories/mouse-and-keyboards/mouse-1/anitech-wired-mouse-a545-8859221708439_d828yy\", \"image\": \"https://media-cdn.bnn.in.th/84391/8859221708439-1-square_medium.jpg\", \"spec\": {\"interface\": \"USB\", \"sensor\": \"Optical\", \"macro\": \"\", \"dpi\": \"800-1200-1600 DPI\", \"switch_type\": \"\"}}]}, null, {\"model\": \"w213\", \"name\": \"ANITECH WIRELESS MOUSE W213\", \"store\": \"Banana\", \"brand\": \"Anitech\", \"category\": \"Mouse\", \"tag\": \"Working\", \"data\": [{\"name\": \"ANITECH WIRELESS MOUSE W213 WHITE\", \"price\": 219, \"href\": \"https://www.bnn.in.th/th/p/it-accessories/mouse-and-keyboards/mouse-1/anitech-wireless-mouse-w213-white-8859221705568_dko16q\", \"image\": \"https://media-cdn.bnn.in.th/84222/8859221705568-01-square_medium.jpg\", \"spec\": {\"interface\": \"USB interface\", \"sensor\": \"Dual HD Optical Techology\", \"macro\": \"\", \"dpi\": \"Resolution up to 1600 dpl\", \"switch_type\": \"\"}}]}, {\"model\": \"w214\", \"name\": \"ANITECH WIRELESS MOUSE W214\", \"store\": \"Banana\", \"brand\": \"Anitech\", \"category\": \"Mouse\", \"tag\": \"Working\", \"data\": [{\"name\": \"ANITECH WIRELESS MOUSE W214 GRAY\", \"price\": 239, \"href\": \"https://www.bnn.in.th/th/p/it-accessories/mouse-and-keyboards/mouse-1/anitech-wireless-mouse-w214-gray-8859221707579_zjgn68\", \"image\": \"https://media-cdn.bnn.in.th/84329/8859221707579-01-square_medium.jpg\", \"spec\": {\"interface\": \"USB\", \"sensor\": \"Dual HD optical techology\", \"macro\": \"\", \"dpi\": \"800/1200/1600 dpi\", \"switch_type\": \"\"}}]}, {\"model\": \"w219\", \"name\": \"ANITECH WIRELESS MOUSE W219\", \"store\": \"Banana\", \"brand\": \"Anitech\", \"category\": \"Mouse\", \"tag\": \"Working\", \"data\": [{\"name\": \"ANITECH WIRELESS MOUSE W219 BLACK\", \"price\": 279, \"href\": \"https://www.bnn.in.th/th/p/it-accessories/mouse-and-keyboards/mouse-1/anitech-wireless-mouse-w219-black-8859221709030_dllnxm\", \"image\": \"https://media-cdn.bnn.in.th/84493/8859221709030-1-square_medium.jpg\", \"spec\": {\"interface\": \"USB\", \"sensor\": \"optical mouse\", \"macro\": \"\", \"dpi\": \"800/1000/1600 DPI\", \"switch_type\": \"\"}}]}, {\"model\": \"w221\", \"name\": \"ANITECH WIRELESS MOUSE\", \"store\": \"Banana\", \"brand\": \"Anitech\", \"category\": \"Mouse\", \"tag\": \"Working\", \"data\": [{\"name\": \"ANITECH WIRELESS MOUSE W221 BLUE\", \"price\": 259, \"href\": \"https://www.bnn.in.th/th/p/it-accessories/mouse-and-keyboards/mouse-1/anitech-wireless-mouse-w221-blue-8859221709245_r02qn6\", \"image\": \"https://media-cdn.bnn.in.th/84530/8859221709245-3-square_medium.jpg\", \"spec\": {\"interface\": \"USB\", \"sensor\": \"optical mouse\", \"macro\": \"\", \"dpi\": \"1200 DPI\", \"switch_type\": \"\"}}]}, {\"model\": \"w224\", \"name\": \"ANITECH WIRELESS MOUSE W224\", \"store\": \"Banana\", \"brand\": \"Anitech\", \"category\": \"Mouse\", \"tag\": \"Working\", \"data\": [{\"name\": \"ANITECH WIRELESS MOUSE W224 BLACK\", \"price\": 199, \"href\": \"https://www.bnn.in.th/th/p/it-accessories/mouse-and-keyboards/mouse-1/anitech-wireless-mouse-w224-black-8859221716878_rq8j2o\", \"image\": \"https://media-cdn.bnn.in.th/85141/Mouse-W224-Black-3-square_medium.jpg\", \"spec\": {\"interface\": \"USB\", \"sensor\": \"N/A\", \"macro\": \"\", \"dpi\": \"1000 dpi\", \"switch_type\": \"\"}}]}, {\"model\": \"w225\", \"name\": \"ANITECH WIRELESS VERTICAL MOUSE W225\", \"store\": \"Banana\", \"brand\": \"Anitech\", \"category\": \"Mouse\", \"tag\": \"Working\", \"data\": [{\"name\": \"ANITECH WIRELESS VERTICAL MOUSE W225 BLACK\", \"price\": 399, \"href\": \"https://www.bnn.in.th/th/p/it-accessories/mouse-and-keyboards/mouse-1/anitech-wireless-vertical-mouse-w225-black-8859221716861_z78w86\", \"image\": \"https://media-cdn.bnn.in.th/106934/Anitech-Wireless-Vertical-Mouse-W225-Black-6-square_medium.jpg\", \"spec\": {\"interface\": \"USB\", \"sensor\": \"N/A\", \"macro\": \"\", \"dpi\": \"N/A\", \"switch_type\": \"\"}}]}, {\"model\": \"g640s\", \"name\": \"CS@ XP-PEN MOUSE PEN G640S\", \"store\": \"Banana\", \"brand\": \"Xp-pen\", \"category\": \"Mouse\", \"tag\": \"Working\", \"data\": [{\"name\": \"CS@ XP-PEN MOUSE PEN G640S\", \"price\": 1790, \"href\": \"https://www.bnn.in.th/th/p/it-accessories/mouse-and-keyboards/mouse-1/cs-at-xp-pen-mouse-pen-g640s-654913039154_dyqx8z\", \"image\": \"https://media-cdn.bnn.in.th/45205/XP-PEN-Mouse-Pen-G640S-6-square_medium.jpg\", \"spec\": {\"interface\": \"\", \"sensor\": \"\", \"macro\": \"\", \"dpi\": \"\", \"switch_type\": \"\"}}]}, {\"model\": \"nx7005\", \"name\": \"GENIUS WIRELESS MOUSE NX-7005\", \"store\": \"Banana\", \"brand\": \"Genius\", \"category\": \"Mouse\", \"tag\": \"Working\", \"data\": [{\"name\": \"GENIUS WIRELESS MOUSE NX-7005 BLACK\", \"price\": 229, \"href\": \"https://www.bnn.in.th/th/p/it-accessories/mouse-and-keyboards/mouse-1/genius-wireless-mouse-nx-7005-black-4710268251040_zjn98r\", \"image\": \"https://media-cdn.bnn.in.th/17392/4710268251040-01-square_medium.jpg\", \"spec\": {\"interface\": \"USB\", \"sensor\": \"BlueEye\", \"macro\": \"\", \"dpi\": \"1000 DPI\", \"switch_type\": \"\"}}]}, {\"model\": \"nx7015\", \"name\": \"GENIUS WIRELESS MOUSE NX-7015\", \"store\": \"Banana\", \"brand\": \"Genius\", \"category\": \"Mouse\", \"tag\": \"Working\", \"data\": [{\"name\": \"GENIUS WIRELESS MOUSE NX-7015 CHOCOLATE\", \"price\": 279, \"href\": \"https://www.bnn.in.th/th/p/it-accessories/mouse-and-keyboards/mouse-1/genius-wireless-mouse-nx-7015-chocolate-4710268250951_dyxgvr\", \"image\": \"https://media-cdn.bnn.in.th/17390/Genius-Wireless-Mouse-NX-7015-Chocolate-02-square_medium.jpg\", \"spec\": {\"interface\": \"USB\", \"sensor\": \"BlueEye\", \"macro\": \"\", \"dpi\": \"1200 DPI\", \"switch_type\": \"\"}}]}, {\"model\": \"silent600\", \"name\": \"LENOVO BLUETOOTH MOUSE SILENT 600 (EO)\", \"store\": \"Banana\", \"brand\": \"Lenovo\", \"category\": \"Mouse\", \"tag\": \"Working\", \"data\": [{\"name\": \"LENOVO BLUETOOTH MOUSE SILENT 600 (EO)\", \"price\": 790, \"href\": \"https://www.bnn.in.th/th/p/it-accessories/mouse-and-keyboards/mouse-1/lenovo-bluetooth-mouse-silent-600-eo-194632482072_zp51ww\", \"image\": \"https://media-cdn.bnn.in.th/138286/Mouse-Silent-600-01-square_medium.jpg\", \"spec\": {\"interface\": \"Bluetooth\", \"sensor\": \"Blue optical sensor\", \"macro\": \"\", \"dpi\": \"3-level adjustable DPI (2400, 1600, 800)\", \"switch_type\": \"\"}}]}, {\"model\": \"mouse530\", \"name\": \"LENOVO WIRELESS MOUSE 530 (EO)\", \"store\": \"Banana\", \"brand\": \"Lenovo\", \"category\": \"Mouse\", \"tag\": \"Working\", \"data\": [{\"name\": \"LENOVO WIRELESS MOUSE 530 CHERRY RED (EO)\", \"price\": 490, \"href\": \"https://www.bnn.in.th/th/p/it-accessories/mouse-and-keyboards/mouse-1/lenovo-wireless-mouse-530-cherry-red-eo-195042086287_d11jkq\", \"image\": \"https://media-cdn.bnn.in.th/138362/Cherry-Red-01-square_medium.jpg\", \"spec\": {\"interface\": \"Wireless 2.4 Ghz.\", \"sensor\": \"N/A\", \"macro\": \"\", \"dpi\": \"1200 dpi\", \"switch_type\": \"\"}}]}, {\"model\": \"m350\", \"name\": \"LOGITECH BLUETOOTH & WIRELESS MOUSE M350 PEBBLE\", \"store\": \"Banana\", \"brand\": \"Logitech\", \"category\": \"Mouse\", \"tag\": \"Working\", \"data\": [{\"name\": \"LOGITECH BLUETOOTH & WIRELESS MOUSE M350 PEBBLE GRAPHITE\", \"price\": 690, \"href\": \"https://www.bnn.in.th/th/p/it-accessories/mouse-and-keyboards/mouse-1/logitech-bluetooth-wireless-mouse-m350-pebble-graphite-097855150929_dm00nr\", \"image\": \"https://media-cdn.bnn.in.th/4894/Logitech-Wireless-Mouse-Pebble-M350-Graphite-1-square_medium.jpg\", \"spec\": {\"interface\": \"N/A\", \"sensor\": \"High Precision Optical Tracking\", \"macro\": \"\", \"dpi\": \"1000 DPI\", \"switch_type\": \"\"}}]}, {\"model\": \"m350\", \"name\": \"LOGITECH BLUETOOTH & WIRELESS MOUSE M350 PEBBLE\", \"store\": \"Banana\", \"brand\": \"Logitech\", \"category\": \"Mouse\", \"tag\": \"Working\", \"data\": [{\"name\": \"LOGITECH BLUETOOTH & WIRELESS MOUSE M350 PEBBLE OFFWHITE\", \"price\": 690, \"href\": \"https://www.bnn.in.th/th/p/it-accessories/mouse-and-keyboards/mouse-1/logitech-bluetooth-wireless-mouse-m350-pebble-offwhite-097855150905_rq887r\", \"image\": \"https://media-cdn.bnn.in.th/4886/Logitech-Wireless-Mouse-Pebble-M350-Offwhite-1-square_medium.jpg\", \"spec\": {\"interface\": \"N/A\", \"sensor\": \"High Precision Optical Tracking\", \"macro\": \"\", \"dpi\": \"1000 DPI\", \"switch_type\": \"\"}}]}, {\"model\": \"m350\", \"name\": \"LOGITECH BLUETOOTH & WIRELESS MOUSE M350 PEBBLE\", \"store\": \"Banana\", \"brand\": \"Logitech\", \"category\": \"Mouse\", \"tag\": \"Working\", \"data\": [{\"name\": \"LOGITECH BLUETOOTH & WIRELESS MOUSE M350 PEBBLE ROSE\", \"price\": 690, \"href\": \"https://www.bnn.in.th/th/p/it-accessories/mouse-and-keyboards/mouse-1/logitech-bluetooth-wireless-mouse-m350-pebble-rose-097855150912_d822kd\", \"image\": \"https://media-cdn.bnn.in.th/4890/Logitech-Wireless-Mouse-Pebble-M350-Rose-1-square_medium.jpg\", \"spec\": {\"interface\": \"N/A\", \"sensor\": \"High Precision Optical Tracking\", \"macro\": \"\", \"dpi\": \"1000 DPI\", \"switch_type\": \"\"}}]}, {\"model\": \"m590\", \"name\": \"LOGITECH BLUETOOTH & WIRELESS MOUSE M590 MULTI DEVICE SILENT GRAPHITE\", \"store\": \"Banana\", \"brand\": \"Logitech\", \"category\": \"Mouse\", \"tag\": \"Working\", \"data\": [{\"name\": \"LOGITECH BLUETOOTH & WIRELESS MOUSE M590 MULTI DEVICE SILENT GRAPHITE\", \"price\": 990, \"href\": \"https://www.bnn.in.th/th/p/it-accessories/mouse-and-keyboards/mouse-1/logitech-bluetooth-wireless-mouse-m590-multi-device-silent-graphite-097855131362_qzv84r\", \"image\": \"https://media-cdn.bnn.in.th/4703/97855131362-01-square_medium.jpg\", \"spec\": {\"interface\": \"USB Unifying\", \"sensor\": \"Logitech Advanced Optical Tracking\", \"macro\": \"\", \"dpi\": \"1000 dpi\", \"switch_type\": \"\"}}]}, {\"model\": \"m100r\", \"name\": \"LOGITECH WIRED MOUSE M100R USB\", \"store\": \"Banana\", \"brand\": \"Logitech\", \"category\": \"Mouse\", \"tag\": \"Working\", \"data\": [{\"name\": \"LOGITECH WIRED MOUSE M100R USB\", \"price\": 169, \"href\": \"https://www.bnn.in.th/th/p/it-accessories/mouse-and-keyboards/mouse-1/logitech-wired-mouse-m100r-usb-097855128294_ydl0nd\", \"image\": \"https://media-cdn.bnn.in.th/4623/097855128294-2-square_medium.jpg\", \"spec\": {\"interface\": \"USB 2.0\", \"sensor\": \"Optical Mouse\", \"macro\": \"\", \"dpi\": \"1000 dpi\", \"switch_type\": \"\"}}]}, {\"model\": \"m190\", \"name\": \"LOGITECH WIRELESS MOUSE FULL-SIZE M190\", \"store\": \"Banana\", \"brand\": \"Logitech\", \"category\": \"Mouse\", \"tag\": \"Working\", \"data\": [{\"name\": \"LOGITECH WIRELESS MOUSE FULL-SIZE M190 BLUE\", \"price\": 409, \"href\": \"https://www.bnn.in.th/th/p/it-accessories/mouse-and-keyboards/mouse-1/logitech-wireless-mouse-full-size-m190-blue-097855159991_zvlekd\", \"image\": \"https://media-cdn.bnn.in.th/4973/Logitech-Wireless-Mouse-Full-Size-M190-Blue-05-square_medium.jpg\", \"spec\": {\"interface\": \"Plastic and Rubber\", \"sensor\": \"Logitech Advanced Optical Tracking\", \"macro\": \"\", \"dpi\": \"1000 DPI\", \"switch_type\": \"\"}}]}, {\"model\": \"m190\", \"name\": \"LOGITECH WIRELESS MOUSE FULL-SIZE M190\", \"store\": \"Banana\", \"brand\": \"Logitech\", \"category\": \"Mouse\", \"tag\": \"Working\", \"data\": [{\"name\": \"LOGITECH WIRELESS MOUSE FULL-SIZE M190 CHARCOAL\", \"price\": 409, \"href\": \"https://www.bnn.in.th/th/p/it-accessories/mouse-and-keyboards/mouse-1/logitech-wireless-mouse-full-size-m190-charcoal-097855159984_dm0qnr\", \"image\": \"https://media-cdn.bnn.in.th/4965/Logitech-Wireless-Mouse-Full-Size-M190-Charcoal-1-square_medium.jpg\", \"spec\": {\"interface\": \"Plastic and Rubber\", \"sensor\": \"Logitech Advanced Optical Tracking\", \"macro\": \"\", \"dpi\": \"1000 DPI\", \"switch_type\": \"\"}}]}, {\"model\": \"m190\", \"name\": \"LOGITECH WIRELESS MOUSE FULL-SIZE M190\", \"store\": \"Banana\", \"brand\": \"Logitech\", \"category\": \"Mouse\", \"tag\": \"Working\", \"data\": [{\"name\": \"LOGITECH WIRELESS MOUSE FULL-SIZE M190 RED\", \"price\": 409, \"href\": \"https://www.bnn.in.th/th/p/it-accessories/mouse-and-keyboards/mouse-1/logitech-wireless-mouse-full-size-m190-red-097855160003_dkoeqz\", \"image\": \"https://media-cdn.bnn.in.th/4978/Logitech-Wireless-Mouse-Full-Size-M190-05-square_medium.jpg\", \"spec\": {\"interface\": \"Plastic and Rubber\", \"sensor\": \"Logitech Advanced Optical Tracking\", \"macro\": \"\", \"dpi\": \"1000 DPI\", \"switch_type\": \"\"}}]}, {\"model\": \"m171\", \"name\": \"LOGITECH WIRELESS MOUSE M171\", \"store\": \"Banana\", \"brand\": \"Logitech\", \"category\": \"Mouse\", \"tag\": \"Working\", \"data\": [{\"name\": \"LOGITECH WIRELESS MOUSE M171 BLUE\", \"price\": 370, \"href\": \"https://www.bnn.in.th/th/p/it-accessories/mouse-and-keyboards/mouse-1/logitech-wireless-mouse-m171-blue-097855119230_qz7ywz\", \"image\": \"https://media-cdn.bnn.in.th/4560/97855119230-02-square_medium.jpg\", \"spec\": {\"interface\": \"USB receiver\", \"sensor\": \"Advance Optical Mouse Technology\", \"macro\": \"\", \"dpi\": \"1000 dpi\", \"switch_type\": \"\"}}]}, {\"model\": \"m171\", \"name\": \"LOGITECH WIRELESS MOUSE M171\", \"store\": \"Banana\", \"brand\": \"Logitech\", \"category\": \"Mouse\", \"tag\": \"Working\", \"data\": [{\"name\": \"LOGITECH WIRELESS MOUSE M171 GRAY\", \"price\": 370, \"href\": \"https://www.bnn.in.th/th/p/it-accessories/mouse-and-keyboards/mouse-1/logitech-wireless-mouse-m171-gray-097855119223_yzwjwd\", \"image\": \"https://media-cdn.bnn.in.th/4555/97855119223-01-square_medium.jpg\", \"spec\": {\"interface\": \"USB receiver\", \"sensor\": \"Advance Optical Mouse Technology\", \"macro\": \"\", \"dpi\": \"1000 DPI\", \"switch_type\": \"\"}}]}]'"
      ]
     },
     "metadata": {},
     "execution_count": 45
    }
   ],
   "metadata": {}
  },
  {
   "cell_type": "code",
   "execution_count": 46,
   "source": [
    "with open('json_mouse_working.json', 'w',encoding=\"utf-8\") as f:\r\n",
    "    f.writelines(out_mouse_item)\r\n",
    "    print(\"success\")"
   ],
   "outputs": [
    {
     "output_type": "stream",
     "name": "stdout",
     "text": [
      "success\n"
     ]
    }
   ],
   "metadata": {}
  },
  {
   "cell_type": "code",
   "execution_count": 34,
   "source": [
    "export=[]"
   ],
   "outputs": [],
   "metadata": {}
  },
  {
   "cell_type": "code",
   "execution_count": 54,
   "source": [
    "# for index,val in enumerate(advice_keyboard_working_href):\r\n",
    "#     print(\"----\",index,\"of\" ,len(advice_keyboard_working_href),\"----\")\r\n",
    "#     export.append(keyboard_exit(val))"
   ],
   "outputs": [],
   "metadata": {}
  },
  {
   "cell_type": "code",
   "execution_count": 143,
   "source": [
    "nametest = [\"https://www.bnn.in.th/th/p/gaming-gear/pc-gaming-accessories/gaming-keyboard/asus-gaming-keyboard-rog-strix-scope-pbtthblue-sw-4718017365741_dy6q2v\"]\r\n",
    "nametest "
   ],
   "outputs": [
    {
     "output_type": "execute_result",
     "data": {
      "text/plain": [
       "['https://www.bnn.in.th/th/p/gaming-gear/pc-gaming-accessories/gaming-keyboard/asus-gaming-keyboard-rog-strix-scope-pbtthblue-sw-4718017365741_dy6q2v']"
      ]
     },
     "metadata": {},
     "execution_count": 143
    }
   ],
   "metadata": {}
  },
  {
   "cell_type": "code",
   "execution_count": 153,
   "source": [
    "for index,val in enumerate(nametest):\r\n",
    "    print(\"----\",index,\"of\" ,len(nametest),\"----\")\r\n",
    "    export.append(keyboard_exit(val))"
   ],
   "outputs": [
    {
     "output_type": "stream",
     "name": "stdout",
     "text": [
      "---- 0 of 1 ----\n",
      "Asus Gaming Keyboard ROG Strix Scope PBT/Th/Blue SW\n",
      "rogstrixscope\n",
      "3190\n",
      "https://media-cdn.bnn.in.th/116583/Asus-Gaming-Keyboard-ROG-Strix-Scope-PBT-Th-Blue-SW-3-square_medium.jpg\n",
      "ASUS\n",
      "https://www.bnn.in.th/th/p/gaming-gear/pc-gaming-accessories/gaming-keyboard/asus-gaming-keyboard-rog-strix-scope-pbtthblue-sw-4718017365741_dy6q2v\n"
     ]
    }
   ],
   "metadata": {}
  },
  {
   "cell_type": "code",
   "execution_count": 149,
   "source": [
    "export"
   ],
   "outputs": [
    {
     "output_type": "execute_result",
     "data": {
      "text/plain": [
       "[None,\n",
       " {'model': 'rogstrixscope',\n",
       "  'name': 'ASUS GAMING KEYBOARD ROG STRIX SCOPE',\n",
       "  'store': 'Banana',\n",
       "  'brand': 'Asus',\n",
       "  'category': 'Keyboard',\n",
       "  'tag': 'Gaming',\n",
       "  'data': [{'name': 'ASUS GAMING KEYBOARD ROG STRIX SCOPE PBT/TH/BLUE SW',\n",
       "    'price': 3190,\n",
       "    'href': 'https://www.bnn.in.th/th/p/gaming-gear/pc-gaming-accessories/gaming-keyboard/asus-gaming-keyboard-rog-strix-scope-pbtthblue-sw-4718017365741_dy6q2v',\n",
       "    'image': 'https://media-cdn.bnn.in.th/116583/Asus-Gaming-Keyboard-ROG-Strix-Scope-PBT-Th-Blue-SW-3-square_medium.jpg',\n",
       "    'spec': {'interface': 'USB',\n",
       "     'switch': 'N/A',\n",
       "     'layout': '',\n",
       "     'dimension': '44.0x13.7x3.9 cm',\n",
       "     'support': 'N/A'}}]}]"
      ]
     },
     "metadata": {},
     "execution_count": 149
    }
   ],
   "metadata": {}
  },
  {
   "cell_type": "code",
   "execution_count": 119,
   "source": [
    "out_keyboard_item= json.dumps(export, ensure_ascii=False)"
   ],
   "outputs": [],
   "metadata": {}
  },
  {
   "cell_type": "code",
   "execution_count": 120,
   "source": [
    "out_keyboard_item"
   ],
   "outputs": [
    {
     "output_type": "execute_result",
     "data": {
      "text/plain": [
       "'[{\"model\": \"k110\", \"name\": \"HP GAMING K110\", \"store\": \"Advice\", \"brand\": \"Hp.\", \"category\": \"Keyboard\", \"tag\": \"Working\", \"data\": [{\"name\": \"USB KEYBOARD HP GAMING K110 BLACK\", \"price\": 365, \"href\": \"https://www.advice.co.th/product/keyboard/hp/usb-keyboard-hp-gaming-k110-black\", \"image\": \"https://img.advice.co.th/images_nas/pic_product4/A0131629/A0131629OK_BIG_1.jpg\", \"spec\": {\"interface\": \"USB\", \"switch\": \"\", \"layout\": \"104 Keys\", \"dimension\": \"(W x D x H) : 19.22 x 46.37 x 33.09 cm\", \"support\": \"Windows 7 / 8.1 / 10\\\\nMac OS 10.3 or later\"}}]}, {\"model\": \"k500f\", \"name\": \"HP GAMING K500F\", \"store\": \"Advice\", \"brand\": \"Hp.\", \"category\": \"Keyboard\", \"tag\": \"Working\", \"data\": [{\"name\": \"USB KEYBOARD HP GAMING K500F BLACK\", \"price\": 365, \"href\": \"https://www.advice.co.th/product/keyboard/hp/usb-keyboard-hp-gaming-k500f-black\", \"image\": \"https://img.advice.co.th/images_nas/pic_product4/A0130873/A0130873OK_BIG_1.jpg\", \"spec\": {\"interface\": \"USB\", \"switch\": \"\", \"layout\": \"104 Keys\", \"dimension\": \"(W x D x H) : 44.00 x 13.50 x 3.51 cm\", \"support\": \"Microsoft Windows 7 / 8 / 10\"}}]}, {\"model\": \"k120\", \"name\": \"HP GAMING K120\", \"store\": \"Advice\", \"brand\": \"Hp.\", \"category\": \"Keyboard\", \"tag\": \"Working\", \"data\": [{\"name\": \"USB KEYBOARD HP GAMING K120 BLACK\", \"price\": 405, \"href\": \"https://www.advice.co.th/product/keyboard/hp/usb-keyboard-hp-gaming-k120-black\", \"image\": \"https://img.advice.co.th/images_nas/pic_product4/A0138691/A0138691OK_BIG_1.jpg\", \"spec\": {\"interface\": \"USB\", \"switch\": \"\", \"layout\": \"104 Keys\", \"dimension\": \"(W x D x H) : 41.60 x 15.30 x 2.60 cm\", \"support\": \"\"}}]}, {\"model\": \"k300\", \"name\": \"HP GAMING K300\", \"store\": \"Advice\", \"brand\": \"Hp.\", \"category\": \"Keyboard\", \"tag\": \"Working\", \"data\": [{\"name\": \"USB KEYBOARD HP GAMING K300\", \"price\": 415, \"href\": \"https://www.advice.co.th/product/keyboard/hp/usb-keyboard-hp-gaming-k300\", \"image\": \"https://img.advice.co.th/images_nas/pic_product4/A0123531/A0123531OK_BIG_1.jpg\", \"spec\": {\"interface\": \"USB\", \"switch\": \"Non-Mechanical\", \"layout\": \"104 Keys\", \"dimension\": \"\", \"support\": \"\"}}]}, {\"model\": \"kb216\", \"name\": \"DELL KB216\", \"store\": \"Advice\", \"brand\": \"Dell\", \"category\": \"Keyboard\", \"tag\": \"Working\", \"data\": [{\"name\": \"USB KEYBOARD DELL (KB216) BLACK\", \"price\": 195, \"href\": \"https://www.advice.co.th/product/keyboard/dell/usb-keyboard-dell-kb216-black\", \"image\": \"https://img.advice.co.th/images_nas/pic_product4/A0137743/A0137743OK_BIG_1.jpg\", \"spec\": {\"interface\": \"USB\", \"switch\": \"\", \"layout\": \"104 Keys\", \"dimension\": \"(W x D x H) : 12.70 x 44.19 x 2.54 cm\", \"support\": \"\"}}]}, {\"model\": \"k120\", \"name\": \"HP GAMING K120\", \"store\": \"Advice\", \"brand\": \"Logitech\", \"category\": \"Keyboard\", \"tag\": \"Working\", \"data\": [{\"name\": \"USB KEYBOARD LOGITECH (K120) BLACK\", \"price\": 270, \"href\": \"https://www.advice.co.th/product/keyboard/logitech/usb-keyboard-logitech-k120-black\", \"image\": \"https://img.advice.co.th/images_nas/pic_product4/A0035187/A0035187OK_BIG_1.jpg\", \"spec\": {\"interface\": \"USB\", \"switch\": \"\", \"layout\": \"104 key\", \"dimension\": \"\", \"support\": \"\"}}]}, null, null, {\"model\": \"k480\", \"name\": \"BLUETOOTH KEYBOARD MULTI-DEVICE LOGITECH K480 \", \"store\": \"Advice\", \"brand\": \"Logitech\", \"category\": \"Keyboard\", \"tag\": \"Working\", \"data\": [{\"name\": \"BLUETOOTH KEYBOARD MULTI-DEVICE LOGITECH K480 BLACK\", \"price\": 1160, \"href\": \"https://www.advice.co.th/product/keyboard/logitech/bluetooth-keyboard-multi-device-logitech-k480-black\", \"image\": \"https://img.advice.co.th/images_nas/pic_product4/A0082709/A0082709OK_BIG_1.jpg\", \"spec\": {\"interface\": \"BLUETOOTH\", \"switch\": \"\", \"layout\": \"82 Keys (EN\\\\\\\\TH)\", \"dimension\": \"\", \"support\": \"Windows, Mac OS, Android และ iOS\"}}]}, {\"model\": \"k480\", \"name\": \"BLUETOOTH KEYBOARD MULTI-DEVICE LOGITECH K480 \", \"store\": \"Advice\", \"brand\": \"Logitech\", \"category\": \"Keyboard\", \"tag\": \"Working\", \"data\": [{\"name\": \"BLUETOOTH KEYBOARD MULTI-DEVICE LOGITECH K480 WHITE\", \"price\": 1160, \"href\": \"https://www.advice.co.th/product/keyboard/logitech/bluetooth-keyboard-multi-device-logitech-k480-white\", \"image\": \"https://img.advice.co.th/images_nas/pic_product4/A0083367/A0083367OK_BIG_1.jpg\", \"spec\": {\"interface\": \"BLUETOOTH\", \"switch\": \"\", \"layout\": \"82 Keys (EN\\\\\\\\TH)\", \"dimension\": \"\", \"support\": \"Windows, Mac OS, Android และ iOS\"}}]}, {\"model\": \"n9z00027\", \"name\": \"USB WIRELESS ALL-IN-ONE MEDIA MICROSOFT BLACK N9Z-00027\", \"store\": \"Advice\", \"brand\": \"Microsoft\", \"category\": \"Keyboard\", \"tag\": \"Working\", \"data\": [{\"name\": \"USB WIRELESS ALL-IN-ONE MEDIA MICROSOFT BLACK \\'N9Z-00027\\'\", \"price\": 1145, \"href\": \"https://www.advice.co.th/product/keyboard/microsoft/usb-wireless-all-in-one-media-microsoft-black-n9z-00027-\", \"image\": \"https://img.advice.co.th/images_nas/pic_product4/A0088241/A0088241OK_BIG_1.jpg\", \"spec\": {\"interface\": \"USB\", \"switch\": \"\", \"layout\": \"\", \"dimension\": \"\", \"support\": \"Windows 10, Windows 8.1, Windows® 8, Windows RT 8.1,\\\\nWindows RT 8, Windows 7\"}}]}, null, {\"model\": \"nk1800\", \"name\": \"USB KEYBOARD RAPOO (NK1800)\", \"store\": \"Advice\", \"brand\": \"Rapoo\", \"category\": \"Keyboard\", \"tag\": \"Working\", \"data\": [{\"name\": \"USB KEYBOARD RAPOO (NK1800) BLACK\", \"price\": 240, \"href\": \"https://www.advice.co.th/product/keyboard/rapoo/usb-keyboard-rapoo-nk1800-black\", \"image\": \"https://img.advice.co.th/images_nas/pic_product4/A0130480/A0130480OK_BIG_1.jpg\", \"spec\": {\"interface\": \"USB\", \"switch\": \"\", \"layout\": \"104 Keys\", \"dimension\": \"\", \"support\": \"\"}}]}, {\"model\": \"kbe1050bk\", \"name\": \"USB WIRELESS KEYBOARD RAPOO (KB-E1050-BK)\", \"store\": \"Advice\", \"brand\": \"Rapoo\", \"category\": \"Keyboard\", \"tag\": \"Working\", \"data\": [{\"name\": \"USB WIRELESS KEYBOARD RAPOO (KB-E1050-BK) BLACK\", \"price\": 385, \"href\": \"https://www.advice.co.th/product/keyboard/rapoo/usb-wireless-keyboard-rapoo-kb-e1050-bk-black\", \"image\": \"https://img.advice.co.th/images_nas/pic_product4/A0074133/A0074133OK_BIG_1.jpg\", \"spec\": {\"interface\": \"USB\", \"switch\": \"\", \"layout\": \"104 Keys\", \"dimension\": \"\", \"support\": \"WindownXp /Visa/7/8\"}}]}, {\"model\": \"kbk2800bk\", \"name\": \"USB WIRELESS KEYBOARD RAPOO (KB-K2800-BK)\", \"store\": \"Advice\", \"brand\": \"Rapoo\", \"category\": \"Keyboard\", \"tag\": \"Working\", \"data\": [{\"name\": \"USB WIRELESS KEYBOARD RAPOO (KB-K2800-BK) BLACK\", \"price\": 725, \"href\": \"https://www.advice.co.th/product/keyboard/rapoo/usb-wireless-keyboard-rapoo-kb-k2800-bk-black\", \"image\": \"https://img.advice.co.th/images_nas/pic_product4/A0124923/A0124923OK_BIG_1.jpg\", \"spec\": {\"interface\": \"USB Wireless\\\\nสามารถใช้งานได้ไกล 10 เมตร (ในพื้นที่โล่ง)\", \"switch\": \"78 Keys\", \"layout\": \"\", \"dimension\": \"\", \"support\": \"\"}}]}, {\"model\": \"xk100bk\", \"name\": \"BLUETOOTH KEYBOARD RAPOO (XK100-BK) BLACK\", \"store\": \"Advice\", \"brand\": \"Rapoo\", \"category\": \"Keyboard\", \"tag\": \"Working\", \"data\": [{\"name\": \"BLUETOOTH KEYBOARD RAPOO (XK100-BK) BLACK\", \"price\": 725, \"href\": \"https://www.advice.co.th/product/keyboard/rapoo/bluetooth-keyboard-rapoo-xk100-bk-black\", \"image\": \"https://img.advice.co.th/images_nas/pic_product4/A0135150/A0135150OK_BIG_1.jpg\", \"spec\": {\"interface\": \"Bluetooth\", \"switch\": \"\", \"layout\": \"78 Keys\", \"dimension\": \"\", \"support\": \"\"}}]}, {\"model\": \"kb103\", \"name\": \"USB KEYBOARD LECOO (KB103)\", \"store\": \"Advice\", \"brand\": \"Lecoo\", \"category\": \"Keyboard\", \"tag\": \"Working\", \"data\": [{\"name\": \"USB KEYBOARD LECOO (KB103) BLACK BY LENOVO\", \"price\": 200, \"href\": \"https://www.advice.co.th/product/keyboard/lecoo-by-lenovo/usb-keyboard-lecoo-kb103-black-by-lenovo\", \"image\": \"https://img.advice.co.th/images_nas/pic_product4/A0137831/A0137831OK_BIG_1.jpg\", \"spec\": {\"interface\": \"USB\", \"switch\": \"\", \"layout\": \"103 Keys\", \"dimension\": \"(W x D x H) : 15.60 x 43.00 x 2.50 cm\", \"support\": \"\"}}]}, {\"model\": \"kb210m\", \"name\": \"USB KEYBOARD MINI MD-TECH (KB-210M)\", \"store\": \"Advice\", \"brand\": \"Md-tech\", \"category\": \"Keyboard\", \"tag\": \"Working\", \"data\": [{\"name\": \"USB KEYBOARD MINI MD-TECH (KB-210M) BLACK\", \"price\": 170, \"href\": \"https://www.advice.co.th/product/keyboard/md-tech/usb-keyboard-mini-md-tech-kb-210m-black\", \"image\": \"https://img.advice.co.th/images_nas/pic_product4/A0110649/A0110649OK_BIG_1.jpg\", \"spec\": {\"interface\": \"USB\", \"switch\": \"\", \"layout\": \"83 Key\", \"dimension\": \"\", \"support\": \"Windows XP / 2000 / Vista /10 /MAC OS\"}}]}, {\"model\": \"kb19\", \"name\": \"USB KEYBOARD MD-TECH (KB-19) BLACK\", \"store\": \"Advice\", \"brand\": \"Md-tech\", \"category\": \"Keyboard\", \"tag\": \"Working\", \"data\": [{\"name\": \"USB KEYBOARD MD-TECH (KB-19) BLACK\", \"price\": 125, \"href\": \"https://www.advice.co.th/product/keyboard/md-tech/usb-keyboard-md-tech-kb-19-black\", \"image\": \"https://img.advice.co.th/images_nas/pic_product4/A0137310/A0137310OK_BIG_1.jpg\", \"spec\": {\"interface\": \"USB\", \"switch\": \"\", \"layout\": \"104 Keys\", \"dimension\": \"\", \"support\": \"\"}}]}, null, {\"model\": \"kb674\", \"name\": \"USB KEYBOARD MD-TECH (KB-674)\", \"store\": \"Advice\", \"brand\": \"Md-tech\", \"category\": \"Keyboard\", \"tag\": \"Working\", \"data\": [{\"name\": \"USB KEYBOARD MD-TECH (KB-674) BLACK/RED\", \"price\": 130, \"href\": \"https://www.advice.co.th/product/keyboard/md-tech/usb-keyboard-md-tech-kb-674-black-red\", \"image\": \"https://img.advice.co.th/images_nas/pic_product4/A0128744/A0128744OK_BIG_1.jpg\", \"spec\": {\"interface\": \"USB 2.0\", \"switch\": \"RUBBER\", \"layout\": \"104 Key\", \"dimension\": \"\", \"support\": \"Windows XP/Vista/7/8/10/Mac/Linux\"}}]}, {\"model\": \"kb674\", \"name\": \"USB KEYBOARD MD-TECH (KB-674)\", \"store\": \"Advice\", \"brand\": \"Md-tech\", \"category\": \"Keyboard\", \"tag\": \"Working\", \"data\": [{\"name\": \"USB KEYBOARD MD-TECH (KB-674) BLACK/BLUE\", \"price\": 130, \"href\": \"https://www.advice.co.th/product/keyboard/md-tech/usb-keyboard-md-tech-kb-674-black-blue\", \"image\": \"https://img.advice.co.th/images_nas/pic_product4/A0128745/A0128745OK_BIG_1.jpg\", \"spec\": {\"interface\": \"USB 2.0\", \"switch\": \"RUBBER\", \"layout\": \"104 Key\", \"dimension\": \"\", \"support\": \"Windows XP/Vista/7/8/10/Mac/Linux\"}}]}, {\"model\": \"kb667\", \"name\": \"USB KEYBOARD MD-TECH (KB-667) \", \"store\": \"Advice\", \"brand\": \"Md-tech\", \"category\": \"Keyboard\", \"tag\": \"Working\", \"data\": [{\"name\": \"USB KEYBOARD MD-TECH (KB-667) BLACK\", \"price\": 140, \"href\": \"https://www.advice.co.th/product/keyboard/md-tech/usb-keyboard-md-tech-kb-667-black\", \"image\": \"https://img.advice.co.th/images_nas/pic_product4/A0135149/A0135149OK_BIG_1.jpg\", \"spec\": {\"interface\": \"USB\", \"switch\": \"\", \"layout\": \"104 Keys\", \"dimension\": \"(W x D x H) : 45.50 x 14.00 x 2.00 cm\", \"support\": \"Windows XP, Vista, 7, 8, 10\"}}]}, {\"model\": \"kb670\", \"name\": \"USB KEYBOARD MD-TECH (KB-670)\", \"store\": \"Advice\", \"brand\": \"Md-tech\", \"category\": \"Keyboard\", \"tag\": \"Working\", \"data\": [{\"name\": \"USB KEYBOARD MD-TECH (KB-670) BLACK\", \"price\": 140, \"href\": \"https://www.advice.co.th/product/keyboard/md-tech/usb-keyboard-md-tech-kb-670-black\", \"image\": \"https://img.advice.co.th/images_nas/pic_product4/A0083281/A0083281OK_BIG_1.jpg\", \"spec\": {\"interface\": \"USB\", \"switch\": \"\", \"layout\": \"104 Keys\", \"dimension\": \"\", \"support\": \"\"}}]}, null, {\"model\": \"kb666\", \"name\": \"USB KEYBOARD MD-TECH (KB-666)\", \"store\": \"Advice\", \"brand\": \"Md-tech\", \"category\": \"Keyboard\", \"tag\": \"Working\", \"data\": [{\"name\": \"USB KEYBOARD MD-TECH (KB-666) BLACK\", \"price\": 165, \"href\": \"https://www.advice.co.th/product/keyboard/md-tech/usb-keyboard-md-tech-kb-666-black\", \"image\": \"https://img.advice.co.th/images_nas/pic_product4/A0024196/A0024196OK_BIG_1.jpg\", \"spec\": {\"interface\": \"USB\", \"switch\": \"\", \"layout\": \"107 Keys\", \"dimension\": \"\", \"support\": \"\"}}]}, null, {\"model\": \"kb15\", \"name\": \"USB KEYBOARD MD-TECH (KB-15)\", \"store\": \"Advice\", \"brand\": \"Md-tech\", \"category\": \"Keyboard\", \"tag\": \"Working\", \"data\": [{\"name\": \"USB KEYBOARD MD-TECH (KB-15) BLACK/GREEN\", \"price\": 170, \"href\": \"https://www.advice.co.th/product/keyboard/md-tech/usb-keyboard-md-tech-kb-15-black-green\", \"image\": \"https://img.advice.co.th/images_nas/pic_product4/A0105612/A0105612OK_BIG_1.jpg\", \"spec\": {\"interface\": \"USB 2.0\", \"switch\": \"\", \"layout\": \"104 Key\", \"dimension\": \"\", \"support\": \"Windows 10, 98,Mac\"}}]}, {\"model\": \"kb15\", \"name\": \"USB KEYBOARD MD-TECH (KB-15)\", \"store\": \"Advice\", \"brand\": \"Md-tech\", \"category\": \"Keyboard\", \"tag\": \"Working\", \"data\": [{\"name\": \"USB KEYBOARD MD-TECH (KB-15) BLACK/WHITE\", \"price\": 170, \"href\": \"https://www.advice.co.th/product/keyboard/md-tech/usb-keyboard-md-tech-kb-15-black-white\", \"image\": \"https://img.advice.co.th/images_nas/pic_product4/A0105613/A0105613OK_BIG_1.jpg\", \"spec\": {\"interface\": \"USB 2.0\", \"switch\": \"\", \"layout\": \"104 Key\", \"dimension\": \"\", \"support\": \"Windows 10, 98,Mac\"}}]}, {\"model\": \"kb15\", \"name\": \"USB KEYBOARD MD-TECH (KB-15)\", \"store\": \"Advice\", \"brand\": \"Md-tech\", \"category\": \"Keyboard\", \"tag\": \"Working\", \"data\": [{\"name\": \"USB KEYBOARD MD-TECH (KB-15) BLACK/BLUE\", \"price\": 170, \"href\": \"https://www.advice.co.th/product/keyboard/md-tech/usb-keyboard-md-tech-kb-15-black-blue\", \"image\": \"https://img.advice.co.th/images_nas/pic_product4/A0105611/A0105611OK_BIG_1.jpg\", \"spec\": {\"interface\": \"USB 2.0\", \"switch\": \"\", \"layout\": \"104 Key\", \"dimension\": \"\", \"support\": \"Windows 10, 98,Mac\"}}]}, {\"model\": \"kb319m\", \"name\": \"USB KEYBOARD MD-TECH (KB-319M )\", \"store\": \"Advice\", \"brand\": \"Md-tech\", \"category\": \"Keyboard\", \"tag\": \"Working\", \"data\": [{\"name\": \"USB KEYBOARD MD-TECH (KB-319M ) BLACK\", \"price\": 180, \"href\": \"https://www.advice.co.th/product/keyboard/md-tech/usb-keyboard-md-tech-kb-319m-black\", \"image\": \"https://img.advice.co.th/images_nas/pic_product4/A0132251/A0132251OK_BIG_1.jpg\", \"spec\": {\"interface\": \"USB\", \"switch\": \"\", \"layout\": \"116 Keys\", \"dimension\": \"(W x D x H) : 44.80 x 16.80 x 2.96 cm\", \"support\": \"Windows 10 / 8 / 7 / Visto / XP\\\\nChrome OS\\\\nLinux Kernel 2.6+\"}}]}, {\"model\": \"kb222m\", \"name\": \"USB KEYBOARD MD-TECH (KB-222M)\", \"store\": \"Advice\", \"brand\": \"Md-tech\", \"category\": \"Keyboard\", \"tag\": \"Working\", \"data\": [{\"name\": \"USB KEYBOARD MD-TECH (KB-222M) BLACK/RED\", \"price\": 180, \"href\": \"https://www.advice.co.th/product/keyboard/md-tech/usb-keyboard-md-tech-kb-222m-black-red\", \"image\": \"https://img.advice.co.th/images_nas/pic_product4/A0104149/A0104149OK_BIG_1.jpg\", \"spec\": {\"interface\": \"USB\", \"switch\": \"\", \"layout\": \"111 Keys\", \"dimension\": \"\", \"support\": \"Windows 10 /MAC OS\"}}]}, {\"model\": \"kb222m\", \"name\": \"USB KEYBOARD MD-TECH (KB-222M)\", \"store\": \"Advice\", \"brand\": \"Md-tech\", \"category\": \"Keyboard\", \"tag\": \"Working\", \"data\": [{\"name\": \"USB KEYBOARD MD-TECH (KB-222M) BLACK/BLUE\", \"price\": 180, \"href\": \"https://www.advice.co.th/product/keyboard/md-tech/usb-keyboard-md-tech-kb-222m-black-blue\", \"image\": \"https://img.advice.co.th/images_nas/pic_product4/A0101324/A0101324OK_BIG_1.jpg\", \"spec\": {\"interface\": \"USB\", \"switch\": \"\", \"layout\": \"111 Keys\", \"dimension\": \"\", \"support\": \"Windows 10 /MAC OS\"}}]}, {\"model\": \"k5\", \"name\": \"USB KEYBOARD MD-TECH (K-5)\", \"store\": \"Advice\", \"brand\": \"Md-tech\", \"category\": \"Keyboard\", \"tag\": \"Working\", \"data\": [{\"name\": \"USB KEYBOARD MD-TECH (K-5) BLACK\", \"price\": 220, \"href\": \"https://www.advice.co.th/product/keyboard/md-tech/usb-keyboard-md-tech-k-5-black\", \"image\": \"https://img.advice.co.th/images_nas/pic_product4/A0122446/A0122446OK_BIG_1.jpg\", \"spec\": {\"interface\": \"USB\", \"switch\": \"\", \"layout\": \"104 Keys\", \"dimension\": \"\", \"support\": \"Windows 10/ 8 / 7 / Vista / XP/ Linux / Mac OS\"}}]}, {\"model\": \"nk35\", \"name\": \"USB KEYBOARD MINI NUBWO (NK-35)\", \"store\": \"Advice\", \"brand\": \"Nubwo\", \"category\": \"Keyboard\", \"tag\": \"Working\", \"data\": [{\"name\": \"USB KEYBOARD MINI NUBWO (NK-35) BLACK\", \"price\": 140, \"href\": \"https://www.advice.co.th/product/keyboard/nubwo/usb-keyboard-mini-nubwo-nk-35-black\", \"image\": \"https://img.advice.co.th/images_nas/pic_product4/A0135629/A0135629OK_BIG_1.jpg\", \"spec\": {\"interface\": \"USB\", \"switch\": \"\", \"layout\": \"78 Keys\", \"dimension\": \"(W x D x H) : 13.00 x 28.50 x 2.50 cm\", \"support\": \"\"}}]}, {\"model\": \"nk38\", \"name\": \"USB KEYBOARD MINI NUBWO (NK-38)\", \"store\": \"Advice\", \"brand\": \"Nubwo\", \"category\": \"Keyboard\", \"tag\": \"Working\", \"data\": [{\"name\": \"USB KEYBOARD MINI NUBWO (NK-38) \\'WIZARDY\\' BLACK\", \"price\": 315, \"href\": \"https://www.advice.co.th/product/keyboard/nubwo/usb-keyboard-mini-nubwo-nk-38-wizardy-black\", \"image\": \"https://img.advice.co.th/images_nas/pic_product4/A0138783/A0138783OK_BIG_1.jpg\", \"spec\": {\"interface\": \"USB\", \"switch\": \"N/A\", \"layout\": \"61 Key\", \"dimension\": \"(W x D x H) : 30.00 x 11.00 x 3.30 cm\", \"support\": \"Windows 7, 8, 10, etc\"}}]}, {\"model\": \"nk38\", \"name\": \"USB KEYBOARD MINI NUBWO (NK-38)\", \"store\": \"Advice\", \"brand\": \"Nubwo\", \"category\": \"Keyboard\", \"tag\": \"Working\", \"data\": [{\"name\": \"USB KEYBOARD MINI NUBWO (NK-38) \\'WIZARDY\\' WHITE\", \"price\": 345, \"href\": \"https://www.advice.co.th/product/keyboard/nubwo/usb-keyboard-mini-nubwo-nk-38-wizardy-white\", \"image\": \"https://img.advice.co.th/images_nas/pic_product4/A0138784/A0138784OK_BIG_1.jpg\", \"spec\": {\"interface\": \"USB\", \"switch\": \"N/A\", \"layout\": \"61 Key\", \"dimension\": \"(W x D x H) : 30.00 x 11.00 x 3.30 cm\", \"support\": \"Windows 7, 8, 10, etc\"}}]}, {\"model\": \"nk15\", \"name\": \"USB KEYBOARD NUBWO (NK-15)\", \"store\": \"Advice\", \"brand\": \"Nubwo\", \"category\": \"Keyboard\", \"tag\": \"Working\", \"data\": [{\"name\": \"USB KEYBOARD NUBWO (NK-15 QUIET) BLACK/RED\", \"price\": 150, \"href\": \"https://www.advice.co.th/product/keyboard/nubwo/usb-keyboard-nubwo-nk-15-quiet-black-red\", \"image\": \"https://img.advice.co.th/images_nas/pic_product4/A0102943/A0102943OK_BIG_1.jpg\", \"spec\": {\"interface\": \"USB\", \"switch\": \"\", \"layout\": \"104 key\", \"dimension\": \"\", \"support\": \"Windows / MACos\"}}]}, {\"model\": \"nk25\", \"name\": \"USB KEYBOARD NUBWO (NK-25) \", \"store\": \"Advice\", \"brand\": \"Nubwo\", \"category\": \"Keyboard\", \"tag\": \"Working\", \"data\": [{\"name\": \"USB KEYBOARD NUBWO (NK-25) \\'AZALIA\\' BLACK\", \"price\": 155, \"href\": \"https://www.advice.co.th/product/keyboard/nubwo/usb-keyboard-nubwo-nk-25-azalia-black\", \"image\": \"https://img.advice.co.th/images_nas/pic_product4/A0137666/A0137666OK_BIG_1.jpg\", \"spec\": {\"interface\": \"USB\", \"switch\": \"Rubber Dome\", \"layout\": \"104 Keys\", \"dimension\": \"\", \"support\": \"\"}}]}, {\"model\": \"nk36\", \"name\": \"USB KEYBOARD NUBWO (NK-36)\", \"store\": \"Advice\", \"brand\": \"Nubwo\", \"category\": \"Keyboard\", \"tag\": \"Working\", \"data\": [{\"name\": \"USB KEYBOARD NUBWO (NK-36) \\'MARS\\' BLACK\", \"price\": 200, \"href\": \"https://www.advice.co.th/product/keyboard/nubwo/usb-keyboard-nubwo-nk-36-mars-black\", \"image\": \"https://img.advice.co.th/images_nas/pic_product4/A0136035/A0136035OK_BIG_1.jpg\", \"spec\": {\"interface\": \"USB\", \"switch\": \"Rubber Dome Switches\", \"layout\": \"104 Keys\", \"dimension\": \"\", \"support\": \"\"}}]}, {\"model\": \"nk032fortune\", \"name\": \"USB KEYBOARD NUBWO (NK-032 FORTUNE)\", \"store\": \"Advice\", \"brand\": \"Nubwo\", \"category\": \"Keyboard\", \"tag\": \"Working\", \"data\": [{\"name\": \"USB KEYBOARD NUBWO (NK-032 FORTUNE) SILVER/BLACK\", \"price\": 340, \"href\": \"https://www.advice.co.th/product/keyboard/nubwo/usb-keyboard-nubwo-nk-032-fortune-silver-black\", \"image\": \"https://img.advice.co.th/images_nas/pic_product4/A0122608/A0122608OK_BIG_1.jpg\", \"spec\": {\"interface\": \"USB\", \"switch\": \"\", \"layout\": \"104 Keys\", \"dimension\": \"\", \"support\": \"Windows 7/8/10/MAC ETC.\"}}]}, {\"model\": \"nk032fortune\", \"name\": \"USB KEYBOARD NUBWO (NK-032 FORTUNE)\", \"store\": \"Advice\", \"brand\": \"Nubwo\", \"category\": \"Keyboard\", \"tag\": \"Working\", \"data\": [{\"name\": \"USB KEYBOARD NUBWO (NK-032 FORTUNE) SILVER/WHITE\", \"price\": 340, \"href\": \"https://www.advice.co.th/product/keyboard/nubwo/usb-keyboard-nubwo-nk-032-fortune-silver-white\", \"image\": \"https://img.advice.co.th/images_nas/pic_product4/A0122609/A0122609OK_BIG_1.jpg\", \"spec\": {\"interface\": \"USB\", \"switch\": \"\", \"layout\": \"104 Keys\", \"dimension\": \"\", \"support\": \"Windows 7/8/10/MAC ETC.\"}}]}, {\"model\": \"nk032fortune\", \"name\": \"USB KEYBOARD NUBWO (NK-032 FORTUNE)\", \"store\": \"Advice\", \"brand\": \"Nubwo\", \"category\": \"Keyboard\", \"tag\": \"Working\", \"data\": [{\"name\": \"USB KEYBOARD NUBWO (NK-032 FORTUNE) PINK/WHITE\", \"price\": 459, \"href\": \"https://www.advice.co.th/product/keyboard/nubwo/usb-keyboard-nubwo-nk-032-fortune-pink-white\", \"image\": \"https://img.advice.co.th/images_nas/pic_product4/A0132005/A0132005OK_BIG_1.jpg\", \"spec\": {\"interface\": \"USB\", \"switch\": \"\", \"layout\": \"104 Keys\", \"dimension\": \"\", \"support\": \"\"}}]}, {\"model\": \"nk34\", \"name\": \"USB KEYBOARD NUBWO (NK-34)\", \"store\": \"Advice\", \"brand\": \"Nubwo\", \"category\": \"Keyboard\", \"tag\": \"Working\", \"data\": [{\"name\": \"USB KEYBOARD NUBWO (NK-34) \\'FLICKER\\' BLACK\", \"price\": 729, \"href\": \"https://www.advice.co.th/product/keyboard/nubwo/usb-keyboard-nubwo-nk-34-flicker-black\", \"image\": \"https://img.advice.co.th/images_nas/pic_product4/A0136733/A0136733OK_BIG_1.jpg\", \"spec\": {\"interface\": \"USB\", \"switch\": \"Mechanical Switch\", \"layout\": \"104 Keys\", \"dimension\": \"\", \"support\": \"\"}}]}, {\"model\": \"nk34\", \"name\": \"USB KEYBOARD NUBWO (NK-34)\", \"store\": \"Advice\", \"brand\": \"\", \"category\": \"Keyboard\", \"tag\": \"Working\", \"data\": [{\"name\": \"USB KEYBOARD NUBWO (NK-34) \\'FLICKER\\' ROSE GOLD\", \"price\": 729, \"href\": \"https://www.advice.co.th/product/keyboard/nubwo/usb-keyboard-nubwo-nk-34-flicker-rose-gold\", \"image\": \"https://img.advice.co.th/images_nas/pic_product4/A0136734/A0136734OK_BIG_1.jpg\", \"spec\": {\"interface\": \"\", \"switch\": \"\", \"layout\": \"\", \"dimension\": \"\", \"support\": \"\"}}]}, {\"model\": \"nk34\", \"name\": \"USB KEYBOARD NUBWO (NK-34)\", \"store\": \"Advice\", \"brand\": \"Nubwo\", \"category\": \"Keyboard\", \"tag\": \"Working\", \"data\": [{\"name\": \"USB KEYBOARD NUBWO (NK-34) \\'FLICKER\\' SILVER/WHITE\", \"price\": 729, \"href\": \"https://www.advice.co.th/product/keyboard/nubwo/usb-keyboard-nubwo-nk-34-flicker-silver-white\", \"image\": \"https://img.advice.co.th/images_nas/pic_product4/A0136736/A0136736OK_BIG_1.jpg\", \"spec\": {\"interface\": \"USB\", \"switch\": \"Mechanical Switch\", \"layout\": \"104 Keys\", \"dimension\": \"\", \"support\": \"\"}}]}, {\"model\": \"nkb100\", \"name\": \"BLUETOOTH KEYBOARD NUBWO (NKB-100)\", \"store\": \"Advice\", \"brand\": \"Nubwo\", \"category\": \"Keyboard\", \"tag\": \"Working\", \"data\": [{\"name\": \"BLUETOOTH KEYBOARD NUBWO (NKB-100) BLACK\", \"price\": 230, \"href\": \"https://www.advice.co.th/product/keyboard/nubwo/bluetooth-keyboard-nubwo-nkb-100-black\", \"image\": \"https://img.advice.co.th/images_nas/pic_product4/A0123915/A0123915OK_BIG_1.jpg\", \"spec\": {\"interface\": \"Bluetooth\", \"switch\": \"\", \"layout\": \"78 Keys\", \"dimension\": \"\", \"support\": \"Android, IOS and Windows operating system.\"}}]}, {\"model\": \"f6\", \"name\": \"USB KEYBOARD MINI OKER (F6)\", \"store\": \"Advice\", \"brand\": \"Oker\", \"category\": \"Keyboard\", \"tag\": \"Working\", \"data\": [{\"name\": \"USB KEYBOARD MINI OKER (F6) WHITE\", \"price\": 150, \"href\": \"https://www.advice.co.th/product/keyboard/oker/usb-keyboard-mini-oker-f6-white\", \"image\": \"https://img.advice.co.th/images_nas/pic_product4/A0089114/A0089114OK_BIG_1.jpg\", \"spec\": {\"interface\": \"USB 2.0\", \"switch\": \"\", \"layout\": \"\", \"dimension\": \"\", \"support\": \"Win xp/2000/VISTA/7/8,MAC OS 10.3 and above version\"}}]}, null, {\"model\": \"f8\", \"name\": \"USB KEYBOARD MINI OKER (F8)\", \"store\": \"Advice\", \"brand\": \"\", \"category\": \"Keyboard\", \"tag\": \"Working\", \"data\": [{\"name\": \"USB KEYBOARD MINI OKER (F8) BLACK\", \"price\": 180, \"href\": \"https://www.advice.co.th/product/keyboard/oker/usb-keyboard-mini-oker-f8-black\", \"image\": \"https://img.advice.co.th/images_nas/pic_product4/A0071698/A0071698OK_BIG_1.jpg\", \"spec\": {\"interface\": \"USB\", \"switch\": \"\", \"layout\": \"89 Keys\", \"dimension\": \"\", \"support\": \"\"}}]}, {\"model\": \"kb318\", \"name\": \"USB KEYBOARD OKER (KB-318)\", \"store\": \"Advice\", \"brand\": \"Oker\", \"category\": \"Keyboard\", \"tag\": \"Working\", \"data\": [{\"name\": \"USB KEYBOARD OKER (KB-318) BLACK/BLUE\", \"price\": 125, \"href\": \"https://www.advice.co.th/product/keyboard/oker/usb-keyboard-oker-kb-318-black-blue\", \"image\": \"https://img.advice.co.th/images_nas/pic_product4/A0116844/A0116844OK_BIG_1.jpg\", \"spec\": {\"interface\": \"USB\", \"switch\": \"\", \"layout\": \"104 Keys\", \"dimension\": \"\", \"support\": \"Windows XP / Windows 2000 / Windows Vista / Windows 7/8/10\\\\nMac OS 10.3 และรุ่นที2สูงกว่า\"}}]}, {\"model\": \"kb318\", \"name\": \"USB KEYBOARD OKER (KB-318)\", \"store\": \"Advice\", \"brand\": \"\", \"category\": \"Keyboard\", \"tag\": \"Working\", \"data\": [{\"name\": \"USB KEYBOARD OKER (KB-318) BLACK/ORANGE\", \"price\": 125, \"href\": \"https://www.advice.co.th/product/keyboard/oker/usb-keyboard-oker-kb-318-black-orange\", \"image\": \"https://img.advice.co.th/images_nas/pic_product4/A0116843/A0116843OK_BIG_1.jpg\", \"spec\": {\"interface\": \"\", \"switch\": \"\", \"layout\": \"\", \"dimension\": \"\", \"support\": \"\"}}]}, {\"model\": \"kb318\", \"name\": \"USB KEYBOARD OKER (KB-318)\", \"store\": \"Advice\", \"brand\": \"Oker\", \"category\": \"Keyboard\", \"tag\": \"Working\", \"data\": [{\"name\": \"USB KEYBOARD OKER (KB-318) BLACK/YELLOW\", \"price\": 125, \"href\": \"https://www.advice.co.th/product/keyboard/oker/usb-keyboard-oker-kb-318-black-yellow\", \"image\": \"https://img.advice.co.th/images_nas/pic_product4/A0116842/A0116842OK_BIG_1.jpg\", \"spec\": {\"interface\": \"USB\", \"switch\": \"\", \"layout\": \"104 Keys\", \"dimension\": \"\", \"support\": \"Windows XP / Windows 2000 / Windows Vista / Windows 7/8/10\\\\nMac OS 10.3 และรุ่นที2สูงกว่า\"}}]}, {\"model\": \"kb318\", \"name\": \"USB KEYBOARD OKER (KB-318)\", \"store\": \"Advice\", \"brand\": \"Oker\", \"category\": \"Keyboard\", \"tag\": \"Working\", \"data\": [{\"name\": \"USB KEYBOARD OKER (KB-318) BLACK\", \"price\": 125, \"href\": \"https://www.advice.co.th/product/keyboard/oker/usb-keyboard-oker-kb-318-black\", \"image\": \"https://img.advice.co.th/images_nas/pic_product4/A0116841/A0116841OK_BIG_1.jpg\", \"spec\": {\"interface\": \"USB\", \"switch\": \"\", \"layout\": \"104 Keys\", \"dimension\": \"\", \"support\": \"Windows XP / Windows 2000 / Windows Vista / Windows 7/8/10\\\\nMac OS 10.3 และรุ่นที2สูงกว่า\"}}]}, {\"model\": \"kb758\", \"name\": \"USB KEYBOARD OKER (KB-758)\", \"store\": \"Advice\", \"brand\": \"Oker\", \"category\": \"Keyboard\", \"tag\": \"Working\", \"data\": [{\"name\": \"USB KEYBOARD OKER (KB-758) BLACK\", \"price\": 155, \"href\": \"https://www.advice.co.th/product/keyboard/oker/usb-keyboard-oker-kb-758-black\", \"image\": \"https://img.advice.co.th/images_nas/pic_product4/A0137542/A0137542OK_BIG_1.jpg\", \"spec\": {\"interface\": \"USB\", \"switch\": \"Standard\", \"layout\": \"104 Keys\", \"dimension\": \"\", \"support\": \"Windows & Mac OS System\"}}]}, {\"model\": \"kb700\", \"name\": \"USB KEYBOARD MD-TECH (KB-700)\", \"store\": \"Advice\", \"brand\": \"\", \"category\": \"Keyboard\", \"tag\": \"Working\", \"data\": [{\"name\": \"USB KEYBOARD MD-TECH (KB-700) BLACK\", \"price\": 160, \"href\": \"https://www.advice.co.th/product/keyboard/oker/usb-keyboard-md-tech-kb-700-black\", \"image\": \"https://img.advice.co.th/images_nas/online/shopping/Coming-Soon.jpg\", \"spec\": {\"interface\": \"\", \"switch\": \"\", \"layout\": \"\", \"dimension\": \"\", \"support\": \"\"}}]}, {\"model\": \"kb399plus\", \"name\": \"USB KEYBOARD OKER (KB-399 PLUS)\", \"store\": \"Advice\", \"brand\": \"Oker\", \"category\": \"Keyboard\", \"tag\": \"Working\", \"data\": [{\"name\": \"USB KEYBOARD OKER (KB-399 PLUS) BLACK\", \"price\": 160, \"href\": \"https://www.advice.co.th/product/keyboard/oker/usb-keyboard-oker-kb-399-plus-black\", \"image\": \"https://img.advice.co.th/images_nas/pic_product4/A0134866/A0134866OK_BIG_1.jpg\", \"spec\": {\"interface\": \"USB\", \"switch\": \"N/A\", \"layout\": \"104 Keys\", \"dimension\": \"(W x D x H) : 45.00 x 15.50 x 2.20 cm\", \"support\": \"\"}}]}, {\"model\": \"kb518\", \"name\": \"USB KEYBOARD OKER (KB-518)\", \"store\": \"Advice\", \"brand\": \"Oker\", \"category\": \"Keyboard\", \"tag\": \"Working\", \"data\": [{\"name\": \"USB KEYBOARD OKER (KB-518) BLACK\", \"price\": 170, \"href\": \"https://www.advice.co.th/product/keyboard/oker/usb-keyboard-oker-kb-518-black\", \"image\": \"https://img.advice.co.th/images_nas/pic_product4/A0123532/A0123532OK_BIG_1.jpg\", \"spec\": {\"interface\": \"USB\", \"switch\": \"\", \"layout\": \"104 Keys\", \"dimension\": \"\", \"support\": \"\"}}]}, {\"model\": \"kb518\", \"name\": \"USB KEYBOARD OKER (KB-518)\", \"store\": \"Advice\", \"brand\": \"Oker\", \"category\": \"Keyboard\", \"tag\": \"Working\", \"data\": [{\"name\": \"USB KEYBOARD OKER (KB-518) RED\", \"price\": 170, \"href\": \"https://www.advice.co.th/product/keyboard/oker/usb-keyboard-oker-kb-518-red\", \"image\": \"https://img.advice.co.th/images_nas/pic_product4/A0123534/A0123534OK_BIG_1.jpg\", \"spec\": {\"interface\": \"USB\", \"switch\": \"\", \"layout\": \"104 Keys\", \"dimension\": \"\", \"support\": \"\"}}]}, null, {\"model\": \"kb789\", \"name\": \"USB KEYBOARD OKER (KB-789)\", \"store\": \"Advice\", \"brand\": \"Oker\", \"category\": \"Keyboard\", \"tag\": \"Working\", \"data\": [{\"name\": \"USB KEYBOARD OKER (KB-789) PINK\", \"price\": 360, \"href\": \"https://www.advice.co.th/product/keyboard/oker/usb-keyboard-oker-kb-789-pink\", \"image\": \"https://img.advice.co.th/images_nas/pic_product4/A0134867/A0134867OK_BIG_1.jpg\", \"spec\": {\"interface\": \"USB\", \"switch\": \"N/A\", \"layout\": \"104 Keys\", \"dimension\": \"(W x D x H) : 45.10 x 14.50 x 3.80 cm\", \"support\": \"Windows XP, VIsta, Win7, 8, 10\"}}]}, {\"model\": \"kb911\", \"name\": \"USB KEYBOARD OKER (KB-911)\", \"store\": \"Advice\", \"brand\": \"Oker\", \"category\": \"Keyboard\", \"tag\": \"Working\", \"data\": [{\"name\": \"USB KEYBOARD OKER (KB-911) PINK\", \"price\": 370, \"href\": \"https://www.advice.co.th/product/keyboard/oker/usb-keyboard-oker-kb-911-pink\", \"image\": \"https://img.advice.co.th/images_nas/pic_product4/A0137725/A0137725OK_BIG_1.jpg\", \"spec\": {\"interface\": \"USB\", \"switch\": \"\", \"layout\": \"104 Keys\", \"dimension\": \"(W x D x H) : 14.50 x 45.10 x 3.80 cm\", \"support\": \"Windows XP, Vista, Win7, 8, 10\"}}]}, {\"model\": \"kb912\", \"name\": \"USB KEYBOARD OKER (KB-912)\", \"store\": \"Advice\", \"brand\": \"Oker\", \"category\": \"Keyboard\", \"tag\": \"Working\", \"data\": [{\"name\": \"USB KEYBOARD OKER (KB-912) PINK\", \"price\": 370, \"href\": \"https://www.advice.co.th/product/keyboard/oker/usb-keyboard-oker-kb-912-pink\", \"image\": \"https://img.advice.co.th/images_nas/pic_product4/A0137726/A0137726OK_BIG_1.jpg\", \"spec\": {\"interface\": \"USB\", \"switch\": \"\", \"layout\": \"104 Keys\", \"dimension\": \"(W x D x H) : 14.50 x 45.10 x 3.80 cm\", \"support\": \"Windows XP, Vista, Win7, 8, 10\"}}]}, {\"model\": \"k199\", \"name\": \"USB WIRELESS KEYBOARD OKER (K-199)\", \"store\": \"Advice\", \"brand\": \"\", \"category\": \"Keyboard\", \"tag\": \"Working\", \"data\": [{\"name\": \"USB WIRELESS KEYBOARD OKER (K-199) BLACK\", \"price\": 210, \"href\": \"https://www.advice.co.th/product/keyboard/oker/usb-wireless-keyboard-oker-k-199-black\", \"image\": \"https://img.advice.co.th/images_nas/pic_product4/A0138183/A0138183OK_BIG_1.jpg\", \"spec\": {\"interface\": \"\", \"switch\": \"\", \"layout\": \"\", \"dimension\": \"\", \"support\": \"\"}}]}, {\"model\": \"k510\", \"name\": \"BLUETOOTH KEYBOARD MULTI-DEVICE OKER (K-510)\", \"store\": \"Advice\", \"brand\": \"Oker\", \"category\": \"Keyboard\", \"tag\": \"Working\", \"data\": [{\"name\": \"BLUETOOTH KEYBOARD MULTI-DEVICE OKER (K-510) BLACK/WHITE\", \"price\": 890, \"href\": \"https://www.advice.co.th/product/keyboard/oker/bluetooth-keyboard-multi-device-oker-k-510-black-white\", \"image\": \"https://img.advice.co.th/images_nas/pic_product4/A0134693/A0134693OK_BIG_1.jpg\", \"spec\": {\"interface\": \"Bluetooth\", \"switch\": \"N/A\", \"layout\": \"Keys: 80 keys film shaft\\\\nNumber of multimedia keys: 16 keys\", \"dimension\": \"(W x D x H) : 35.88 x 18.70 x 3.18 cm\", \"support\": \"\"}}]}, null, {\"model\": \"k510\", \"name\": \"BLUETOOTH KEYBOARD MULTI-DEVICE OKER (K-510)\", \"store\": \"Advice\", \"brand\": \"Oker\", \"category\": \"Keyboard\", \"tag\": \"Working\", \"data\": [{\"name\": \"BLUETOOTH KEYBOARD MULTI-DEVICE OKER (K-510) GREEN\", \"price\": 890, \"href\": \"https://www.advice.co.th/product/keyboard/oker/bluetooth-keyboard-multi-device-oker-k-510-green\", \"image\": \"https://img.advice.co.th/images_nas/pic_product4/A0134695/A0134695OK_BIG_1.jpg\", \"spec\": {\"interface\": \"Bluetooth\", \"switch\": \"N/A\", \"layout\": \"Keys: 80 keys film shaft\\\\nNumber of multimedia keys: 16 keys\", \"dimension\": \"(W x D x H) : 35.88 x 18.70 x 3.18 cm\", \"support\": \"\"}}]}]'"
      ]
     },
     "metadata": {},
     "execution_count": 120
    }
   ],
   "metadata": {}
  },
  {
   "cell_type": "code",
   "execution_count": null,
   "source": [],
   "outputs": [],
   "metadata": {}
  },
  {
   "cell_type": "code",
   "execution_count": 38,
   "source": [
    "with open('json_keyboard_working.json', 'w',encoding=\"utf-8\") as f:\r\n",
    "    f.writelines(out_keyboard_item)\r\n",
    "    print(\"success\")"
   ],
   "outputs": [
    {
     "output_type": "stream",
     "name": "stdout",
     "text": [
      "success\n"
     ]
    }
   ],
   "metadata": {}
  },
  {
   "cell_type": "code",
   "execution_count": null,
   "source": [],
   "outputs": [],
   "metadata": {}
  },
  {
   "cell_type": "code",
   "execution_count": null,
   "source": [],
   "outputs": [],
   "metadata": {}
  },
  {
   "cell_type": "code",
   "execution_count": null,
   "source": [],
   "outputs": [],
   "metadata": {}
  }
 ],
 "metadata": {
  "kernelspec": {
   "name": "python3",
   "display_name": "Python 3.9.7 64-bit (windows store)"
  },
  "language_info": {
   "codemirror_mode": {
    "name": "ipython",
    "version": 3
   },
   "file_extension": ".py",
   "mimetype": "text/x-python",
   "name": "python",
   "nbconvert_exporter": "python",
   "pygments_lexer": "ipython3",
   "version": "3.9.7"
  },
  "interpreter": {
   "hash": "dc0ae7cbe04b490a33132ce22a2ba80732b07aa628d052297aede1389d8c38d1"
  }
 },
 "nbformat": 4,
 "nbformat_minor": 5
}