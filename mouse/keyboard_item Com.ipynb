{
 "cells": [
  {
   "cell_type": "code",
   "execution_count": 59,
   "source": [
    "import csv\r\n",
    "from selenium import webdriver\r\n",
    "import time\r\n",
    "import json\r\n"
   ],
   "outputs": [],
   "metadata": {}
  },
  {
   "cell_type": "code",
   "execution_count": 60,
   "source": [
    "driver =webdriver.Chrome(executable_path='D:\\Downloads\\chromedriver_win32\\chromedriver.exe')\r\n",
    "driver.maximize_window()"
   ],
   "outputs": [],
   "metadata": {}
  },
  {
   "cell_type": "code",
   "execution_count": 61,
   "source": [
    "url='https://www.bnn.in.th/th/p/it-accessories/mouse-and-keyboards/mouse-1'"
   ],
   "outputs": [],
   "metadata": {}
  },
  {
   "cell_type": "code",
   "execution_count": 62,
   "source": [
    "driver.get(url)\r\n",
    "# driver.execute_script(\"window.scrollTo(0,document.body.scrollHeight)\")\r\n",
    "# time.sleep(5)\r\n",
    "# driver.execute_script(\"window.scrollTo(0,document.body.scrollHeight)\")"
   ],
   "outputs": [],
   "metadata": {}
  },
  {
   "cell_type": "code",
   "execution_count": 63,
   "source": [
    "findName = driver.find_elements_by_xpath('//*[@id=\"__layout\"]/div/main/div/div[2]/div[2]/section[2]/div[3]/a[1]/div[2]/div[1]')\r\n",
    "name=findName[0].text\r\n",
    "name"
   ],
   "outputs": [
    {
     "output_type": "execute_result",
     "data": {
      "text/plain": [
       "'Anitech Bluetooth and Wireless Mouse W226'"
      ]
     },
     "metadata": {},
     "execution_count": 63
    }
   ],
   "metadata": {}
  },
  {
   "cell_type": "code",
   "execution_count": 64,
   "source": [
    "xname= json.dumps(\"name\")+\":\"+json.dumps(name)\r\n",
    "xname"
   ],
   "outputs": [
    {
     "output_type": "execute_result",
     "data": {
      "text/plain": [
       "'\"name\":\"Anitech Bluetooth and Wireless Mouse W226\"'"
      ]
     },
     "metadata": {},
     "execution_count": 64
    }
   ],
   "metadata": {}
  },
  {
   "cell_type": "code",
   "execution_count": null,
   "source": [],
   "outputs": [],
   "metadata": {}
  },
  {
   "cell_type": "code",
   "execution_count": null,
   "source": [],
   "outputs": [],
   "metadata": {}
  },
  {
   "cell_type": "code",
   "execution_count": 52,
   "source": [
    "findPrice = driver.find_elements_by_xpath('//*[@id=\"__layout\"]/div/main/div/div[2]/div[2]/section[2]/div[3]/a[1]/div[2]/div[3]')\r\n",
    "price=findPrice[0].text[:].replace(',', '')\r\n",
    "price"
   ],
   "outputs": [
    {
     "output_type": "execute_result",
     "data": {
      "text/plain": [
       "'฿2590'"
      ]
     },
     "metadata": {},
     "execution_count": 52
    }
   ],
   "metadata": {}
  },
  {
   "cell_type": "code",
   "execution_count": 39,
   "source": [
    "findImage=driver.find_elements_by_xpath('//*[@id=\"__layout\"]/div/main/div/div[2]/div[2]/section[2]/div[3]/a[1]/div[1]/div/div[2]/div/img')\r\n",
    "image=findImage[0].get_attribute(\"src\")\r\n",
    "image"
   ],
   "outputs": [
    {
     "output_type": "error",
     "ename": "IndexError",
     "evalue": "list index out of range",
     "traceback": [
      "\u001b[1;31m---------------------------------------------------------------------------\u001b[0m",
      "\u001b[1;31mIndexError\u001b[0m                                Traceback (most recent call last)",
      "\u001b[1;32m~\\AppData\\Local\\Temp/ipykernel_8088/1042267374.py\u001b[0m in \u001b[0;36m<module>\u001b[1;34m\u001b[0m\n\u001b[0;32m      1\u001b[0m \u001b[0mfindImage\u001b[0m\u001b[1;33m=\u001b[0m\u001b[0mdriver\u001b[0m\u001b[1;33m.\u001b[0m\u001b[0mfind_elements_by_xpath\u001b[0m\u001b[1;33m(\u001b[0m\u001b[1;34m'//*[@id=\"__layout\"]/div/main/div/div[2]/div[2]/section[2]/div[3]/a[1]/div[1]/div/div[2]/div/img'\u001b[0m\u001b[1;33m)\u001b[0m\u001b[1;33m\u001b[0m\u001b[1;33m\u001b[0m\u001b[0m\n\u001b[1;32m----> 2\u001b[1;33m \u001b[0mimage\u001b[0m\u001b[1;33m=\u001b[0m\u001b[0mfindImage\u001b[0m\u001b[1;33m[\u001b[0m\u001b[1;36m0\u001b[0m\u001b[1;33m]\u001b[0m\u001b[1;33m.\u001b[0m\u001b[0mget_attribute\u001b[0m\u001b[1;33m(\u001b[0m\u001b[1;34m\"src\"\u001b[0m\u001b[1;33m)\u001b[0m\u001b[1;33m\u001b[0m\u001b[1;33m\u001b[0m\u001b[0m\n\u001b[0m\u001b[0;32m      3\u001b[0m \u001b[0mimage\u001b[0m\u001b[1;33m\u001b[0m\u001b[1;33m\u001b[0m\u001b[0m\n",
      "\u001b[1;31mIndexError\u001b[0m: list index out of range"
     ]
    }
   ],
   "metadata": {}
  },
  {
   "cell_type": "code",
   "execution_count": 10,
   "source": [
    "specTypeArr=[]\r\n",
    "specDtailsArr=[]"
   ],
   "outputs": [],
   "metadata": {}
  },
  {
   "cell_type": "code",
   "execution_count": 21,
   "source": [
    "findSpecType= driver.find_elements_by_xpath('//*[@id=\"__layout\"]/div/main/section/section[1]/div/div/table/tbody/tr/td[1]')\r\n",
    "len(findSpecType)"
   ],
   "outputs": [
    {
     "output_type": "execute_result",
     "data": {
      "text/plain": [
       "17"
      ]
     },
     "metadata": {},
     "execution_count": 21
    }
   ],
   "metadata": {}
  },
  {
   "cell_type": "code",
   "execution_count": 22,
   "source": [
    "findSpecDtails= driver.find_elements_by_xpath('//*[@id=\"__layout\"]/div/main/section/section[1]/div/div/table/tbody/tr/td[2]')\r\n",
    "len(findSpecDtails)"
   ],
   "outputs": [
    {
     "output_type": "execute_result",
     "data": {
      "text/plain": [
       "17"
      ]
     },
     "metadata": {},
     "execution_count": 22
    }
   ],
   "metadata": {}
  },
  {
   "cell_type": "code",
   "execution_count": 23,
   "source": [
    "for i in findSpecType:\r\n",
    "    specTypeArr.append(i.text)\r\n",
    "    print(i.text)"
   ],
   "outputs": [
    {
     "output_type": "stream",
     "name": "stdout",
     "text": [
      "Interface\n",
      "Wireless Frequency\n",
      "Wireless Range\n",
      "Support OS\n",
      "Keyboard Localization\n",
      "Battery Type and Quantity\n",
      "Dimensions W x D x H\n",
      "Weight\n",
      "Color\n",
      "Warranty\n",
      "Option\n",
      "Technology\n",
      "Special Keys\n",
      "Click life span\n",
      "LED Backlight\n",
      "Audio port\n",
      "USB Port\n"
     ]
    }
   ],
   "metadata": {}
  },
  {
   "cell_type": "code",
   "execution_count": 24,
   "source": [
    "for i in findSpecDtails:\r\n",
    "    specDtailsArr.append(i.text)\r\n",
    "#     print(i.text)"
   ],
   "outputs": [],
   "metadata": {}
  },
  {
   "cell_type": "code",
   "execution_count": 25,
   "source": [
    "len(specDtailsArr)"
   ],
   "outputs": [
    {
     "output_type": "execute_result",
     "data": {
      "text/plain": [
       "17"
      ]
     },
     "metadata": {},
     "execution_count": 25
    }
   ],
   "metadata": {}
  },
  {
   "cell_type": "code",
   "execution_count": 26,
   "source": [
    "len(specTypeArr)"
   ],
   "outputs": [
    {
     "output_type": "execute_result",
     "data": {
      "text/plain": [
       "17"
      ]
     },
     "metadata": {},
     "execution_count": 26
    }
   ],
   "metadata": {}
  },
  {
   "cell_type": "markdown",
   "source": [
    "+\":\"+json.dumps(specDtailsArr[index])"
   ],
   "metadata": {}
  },
  {
   "cell_type": "code",
   "execution_count": 233,
   "source": [
    "\r\n",
    "# def specBuild():\r\n",
    "#     interface=\"undefined\"\r\n",
    "#     layout=\"undefined\"\r\n",
    "#     support=\"undefined\"\r\n",
    "#     switches=\"undefined\"\r\n",
    "#     dimension=\"undefined\"\r\n",
    "#     hhhii=\"undefined\"\r\n",
    "#     for index, val in enumerate(specTypeArr):\r\n",
    "#         if(val=='Interface'):\r\n",
    "#             interface = specDtailsArr[index]\r\n",
    "#         if(val=='Keys Windows Layout'):\r\n",
    "#             layout = specDtailsArr[index]\r\n",
    "#         if(val=='Dimension'):\r\n",
    "#             dimension = specDtailsArr[index]\r\n",
    "#         if(val=='Support'):\r\n",
    "#             support = specDtailsArr[index]\r\n",
    "#         if(val=='Key Switches'):\r\n",
    "#             switches = specDtailsArr[index]\r\n",
    "#         if(val=='hhhii'):\r\n",
    "#             switches = \"work\"\r\n",
    "#     print(\"\\ninterface: \"+interface,\"\\nlayout: \"+layout,\"\\ndimension: \"+dimension\r\n",
    "#           ,\"\\nsupport: \"+support,\"\\nswitches: \"+switches,'\\nhhhii: '+hhhii+\"\\n\\n\\n-----------------\")\r\n"
   ],
   "outputs": [],
   "metadata": {}
  },
  {
   "cell_type": "code",
   "execution_count": 27,
   "source": [
    "extSpec={}"
   ],
   "outputs": [],
   "metadata": {}
  },
  {
   "cell_type": "code",
   "execution_count": 34,
   "source": [
    "def specBuild():\r\n",
    "    for index, val in enumerate(specTypeArr):\r\n",
    "#         extSpec[json.dumps(val)] = json.dumps(specDtailsArr[index])\r\n",
    "        extSpec[val] =specDtailsArr[index]\r\n"
   ],
   "outputs": [],
   "metadata": {}
  },
  {
   "cell_type": "code",
   "execution_count": 39,
   "source": [
    "specBuild()"
   ],
   "outputs": [],
   "metadata": {
    "scrolled": true
   }
  },
  {
   "cell_type": "code",
   "execution_count": 40,
   "source": [
    "output={}"
   ],
   "outputs": [],
   "metadata": {}
  },
  {
   "cell_type": "code",
   "execution_count": 445,
   "source": [
    "# output['spect' = json.dumps(extSpec)]"
   ],
   "outputs": [],
   "metadata": {}
  },
  {
   "cell_type": "code",
   "execution_count": null,
   "source": [],
   "outputs": [],
   "metadata": {}
  },
  {
   "cell_type": "code",
   "execution_count": 29,
   "source": [
    "(extSpec)"
   ],
   "outputs": [
    {
     "output_type": "execute_result",
     "data": {
      "text/plain": [
       "{}"
      ]
     },
     "metadata": {},
     "execution_count": 29
    }
   ],
   "metadata": {}
  },
  {
   "cell_type": "code",
   "execution_count": 42,
   "source": [
    "print(\"i\")"
   ],
   "outputs": [
    {
     "output_type": "stream",
     "name": "stdout",
     "text": [
      "i\n"
     ]
    }
   ],
   "metadata": {}
  },
  {
   "cell_type": "code",
   "execution_count": 65,
   "source": [
    "\r\n",
    "records=[]"
   ],
   "outputs": [],
   "metadata": {}
  },
  {
   "cell_type": "code",
   "execution_count": 66,
   "source": [
    "\r\n",
    "\r\n",
    "def linkhref():\r\n",
    "    logilink = driver.find_elements_by_xpath('//*[@id=\"__layout\"]/div/main/div/div[2]/div[2]/section[2]/div[3]/a')\r\n",
    "    for i in logilink:\r\n",
    "        records.append(i.get_attribute(\"href\"))\r\n",
    "    return records"
   ],
   "outputs": [],
   "metadata": {}
  },
  {
   "cell_type": "code",
   "execution_count": 67,
   "source": [
    "linkhref()\r\n"
   ],
   "outputs": [
    {
     "output_type": "execute_result",
     "data": {
      "text/plain": [
       "['https://www.bnn.in.th/th/p/it-accessories/mouse-and-keyboards/mouse-1/anitech-bluetooth-and-wireless-mouse-w226-blue-8859221716908_zvl72p',\n",
       " 'https://www.bnn.in.th/th/p/it-accessories/mouse-and-keyboards/mouse-1/anitech-wired-mouse-a545-8859221708439_d828yy',\n",
       " 'https://www.bnn.in.th/th/p/it-accessories/mouse-and-keyboards/mouse-1/anitech-wired-mouse-optical-sensor-usb-a534-black-3410411217688_zv9e4d',\n",
       " 'https://www.bnn.in.th/th/p/it-accessories/mouse-and-keyboards/mouse-1/anitech-wireless-mouse-w213-white-8859221705568_dko16q',\n",
       " 'https://www.bnn.in.th/th/p/it-accessories/mouse-and-keyboards/mouse-1/anitech-wireless-mouse-w214-gray-8859221707579_zjgn68',\n",
       " 'https://www.bnn.in.th/th/p/it-accessories/mouse-and-keyboards/mouse-1/anitech-wireless-mouse-w219-black-8859221709030_dllnxm',\n",
       " 'https://www.bnn.in.th/th/p/it-accessories/mouse-and-keyboards/mouse-1/anitech-wireless-mouse-w221-blue-8859221709245_r02qn6',\n",
       " 'https://www.bnn.in.th/th/p/it-accessories/mouse-and-keyboards/mouse-1/anitech-wireless-mouse-w224-black-8859221716878_rq8j2o',\n",
       " 'https://www.bnn.in.th/th/p/it-accessories/mouse-and-keyboards/mouse-1/anitech-wireless-vertical-mouse-w225-black-8859221716861_z78w86',\n",
       " 'https://www.bnn.in.th/th/p/it-accessories/mouse-and-keyboards/mouse-1/cs-at-xp-pen-mouse-pen-g640s-654913039154_dyqx8z',\n",
       " 'https://www.bnn.in.th/th/p/it-accessories/mouse-and-keyboards/mouse-1/genius-wireless-mouse-nx-7005-black-4710268251040_zjn98r',\n",
       " 'https://www.bnn.in.th/th/p/it-accessories/mouse-and-keyboards/mouse-1/genius-wireless-mouse-nx-7015-chocolate-4710268250951_dyxgvr',\n",
       " 'https://www.bnn.in.th/th/p/it-accessories/mouse-and-keyboards/mouse-1/lenovo-bluetooth-mouse-silent-600-eo-194632482072_zp51ww',\n",
       " 'https://www.bnn.in.th/th/p/it-accessories/mouse-and-keyboards/mouse-1/lenovo-wireless-mouse-530-cherry-red-eo-195042086287_d11jkq',\n",
       " 'https://www.bnn.in.th/th/p/it-accessories/mouse-and-keyboards/mouse-1/logitech-bluetooth-wireless-mouse-m350-pebble-graphite-097855150929_dm00nr',\n",
       " 'https://www.bnn.in.th/th/p/it-accessories/mouse-and-keyboards/mouse-1/logitech-bluetooth-wireless-mouse-m350-pebble-offwhite-097855150905_rq887r',\n",
       " 'https://www.bnn.in.th/th/p/it-accessories/mouse-and-keyboards/mouse-1/logitech-bluetooth-wireless-mouse-m350-pebble-rose-097855150912_d822kd',\n",
       " 'https://www.bnn.in.th/th/p/it-accessories/mouse-and-keyboards/mouse-1/logitech-bluetooth-wireless-mouse-m590-multi-device-silent-graphite-097855131362_qzv84r',\n",
       " 'https://www.bnn.in.th/th/p/it-accessories/mouse-and-keyboards/mouse-1/logitech-wired-mouse-m100r-usb-097855128294_ydl0nd',\n",
       " 'https://www.bnn.in.th/th/p/it-accessories/mouse-and-keyboards/mouse-1/logitech-wireless-mouse-full-size-m190-blue-097855159991_zvlekd',\n",
       " 'https://www.bnn.in.th/th/p/it-accessories/mouse-and-keyboards/mouse-1/logitech-wireless-mouse-full-size-m190-charcoal-097855159984_dm0qnr',\n",
       " 'https://www.bnn.in.th/th/p/it-accessories/mouse-and-keyboards/mouse-1/logitech-wireless-mouse-full-size-m190-red-097855160003_dkoeqz',\n",
       " 'https://www.bnn.in.th/th/p/it-accessories/mouse-and-keyboards/mouse-1/logitech-wireless-mouse-m171-blue-097855119230_qz7ywz',\n",
       " 'https://www.bnn.in.th/th/p/it-accessories/mouse-and-keyboards/mouse-1/logitech-wireless-mouse-m171-gray-097855119223_yzwjwd']"
      ]
     },
     "metadata": {},
     "execution_count": 67
    }
   ],
   "metadata": {}
  },
  {
   "cell_type": "code",
   "execution_count": 69,
   "source": [
    "recodeName = []"
   ],
   "outputs": [],
   "metadata": {}
  },
  {
   "cell_type": "code",
   "execution_count": null,
   "source": [],
   "outputs": [],
   "metadata": {}
  },
  {
   "cell_type": "code",
   "execution_count": 70,
   "source": [
    "\r\n",
    "\r\n",
    "def nameLink():\r\n",
    "    findNames = driver.find_elements_by_xpath('//*[@id=\"__layout\"]/div/main/div/div[2]/div[2]/section[2]/div[3]/a/div[2]/div[1]')\r\n",
    "    for i in findNames:\r\n",
    "        recodeName.append(i.text)\r\n",
    "    return recodeName"
   ],
   "outputs": [],
   "metadata": {}
  },
  {
   "cell_type": "code",
   "execution_count": 1,
   "source": [
    "modelKeyboard = [\"ROG Strix Scope PBT/Th/Blue SW\",\"ROG Strix Scope PBT/Th/Red SW\",\"ROG Strix Scope TKL\",\"TUF K1/Th\",\"MK750 RGB Blue Switch TH\",\"MT-K9300\",\"MT-K9420\",\"K511\",\"K613L Fighter II\",\"Alloy Origins\",\"Alloy Origins 60 \",\"Alloy Origins Core\",\"G Pro X Black\",\"G213 Prodigy RGB\",\"G512 RGB Mechanical GX\",\"G913\",\"Terrablade Mechanical\",\"Mechanical Keyboard Mystic Plus\",\"Dullahan\",\"SPK8404\",\"SPK8614\",\"BlackWidow V3\",\"Blackwidow V3 Tenkey\",\"Huntsman Elite Linear\",\"Ornata Pokemon\",\"KB-718\",\"KB-728\",\"KB-738\",\"KB-771\",\"KB-770\",\"KB-748\",\"KB-712\",\"Apex 7\",\"Apex 7 TKL\",\"Apex Pro\",\"Apex 3\",\"Apex 5\"]\r\n"
   ],
   "outputs": [],
   "metadata": {}
  },
  {
   "cell_type": "code",
   "execution_count": 71,
   "source": [
    "nameLink()"
   ],
   "outputs": [
    {
     "output_type": "execute_result",
     "data": {
      "text/plain": [
       "['Anitech Bluetooth and Wireless Mouse W226',\n",
       " 'Anitech Wired Mouse A545',\n",
       " 'Anitech Wired Mouse Optical Sensor USB A534 Black',\n",
       " 'Anitech Wireless Mouse W213',\n",
       " 'Anitech Wireless Mouse W214',\n",
       " 'Anitech Wireless Mouse W219 Black',\n",
       " 'Anitech Wireless Mouse W221',\n",
       " 'Anitech Wireless Mouse W224',\n",
       " 'Anitech Wireless Vertical Mouse W225 Black',\n",
       " 'CS@ XP-PEN Mouse Pen G640S',\n",
       " 'Genius Wireless Mouse NX-7005',\n",
       " 'Genius Wireless Mouse NX-7015',\n",
       " 'Lenovo Bluetooth Mouse Silent 600 (EO)',\n",
       " 'Lenovo Wireless Mouse 530 (EO)',\n",
       " 'Logitech Bluetooth & Wireless Mouse M350 Pebble Graphite',\n",
       " 'Logitech Bluetooth & Wireless Mouse M350 Pebble Offwhite',\n",
       " 'Logitech Bluetooth & Wireless Mouse M350 Pebble Rose',\n",
       " 'Logitech Bluetooth & Wireless Mouse M590 Multi Device Silent Graphite',\n",
       " 'Logitech Wired Mouse M100R USB',\n",
       " 'Logitech Wireless Mouse Full-Size M190 Blue',\n",
       " 'Logitech Wireless Mouse Full-Size M190 Charcoal',\n",
       " 'Logitech Wireless Mouse Full-Size M190 Red',\n",
       " 'Logitech Wireless Mouse M171 Blue',\n",
       " 'Logitech Wireless Mouse M171 Gray']"
      ]
     },
     "metadata": {},
     "execution_count": 71
    }
   ],
   "metadata": {}
  },
  {
   "cell_type": "code",
   "execution_count": 30,
   "source": [
    "def ext_item(url):\r\n",
    "    data=[]\r\n",
    "    spec={\r\n",
    "        \"interface\":\"undefined\",\r\n",
    "        \"layout\":\"undefined\",\r\n",
    "        \"dimension\":\"undefined\",\r\n",
    "        \"support\":\"undefined\",\r\n",
    "        \"switches\":\"undefined\",\r\n",
    "    }\r\n",
    "    specTypeArr=[]\r\n",
    "    specDtailsArr=[]\r\n",
    "    extBrand=\"\"\r\n",
    "    \r\n",
    "    driver.get(str(url))\r\n",
    "    # driver.execute_script(\"window.scrollTo(0,document.body.scrollHeight)\")\r\n",
    "    # time.sleep(5)\r\n",
    "    # driver.execute_script(\"window.scrollTo(0,document.body.scrollHeight)\")\r\n",
    "    # time.sleep(3)\r\n",
    "    # driver.execute_script(\"window.scrollTo(0,document.body.scrollHeight)\")\r\n",
    "    \r\n",
    "    findName = driver.find_elements_by_xpath('//*[@id=\"__layout\"]/div/main/section/div[1]/div[2]/div[1]/h1')\r\n",
    "    name=findName[0].text\r\n",
    "    \r\n",
    "    matches = [x for x in modelKeyboard if x in name]\r\n",
    "    \r\n",
    "    extName=json.dumps(\"name\")+\":\"+json.dumps(name)\r\n",
    "    \r\n",
    "    findBrand = driver.find_elements_by_xpath('//*[@id=\"__layout\"]/div/main/section/div[1]/div[2]/div[1]/div[1]/div/div[1]/span[2]')\r\n",
    "    brand=findBrand[0].text\r\n",
    "    extBrand=json.dumps(\"brand\")+\":\"+json.dumps(brand)\r\n",
    "    \r\n",
    "    findPrice = driver.find_elements_by_xpath('//*[@id=\"__layout\"]/div/main/section/div[1]/div[2]/div[1]/div[3]/div/div[1]')\r\n",
    "    price=findPrice[0].text.replace(',', '').replace('฿', '')\r\n",
    "    extPrice=json.dumps(\"price\")+\":\"+json.dumps(price)\r\n",
    "    \r\n",
    "    findImage=driver.find_elements_by_xpath('//*[@id=\"__layout\"]/div/main/section/div[1]/div[1]/div/div[1]/div[1]/div[5]/div/img')\r\n",
    "    image=findImage[0].get_attribute(\"src\")\r\n",
    "    extImage=json.dumps(\"image\")+\":\"+json.dumps(image)\r\n",
    "    findSpecType= driver.find_elements_by_xpath('//*[@id=\"__layout\"]/div/main/section/section[1]/div/div/table/tbody/tr/td[1]')\r\n",
    "    findSpecDtails= driver.find_elements_by_xpath('//*[@id=\"__layout\"]/div/main/section/section[1]/div/div/table/tbody/tr/td[2]')\r\n",
    "    \r\n",
    "    for i in findSpecType:\r\n",
    "        specTypeArr.append(i.text)\r\n",
    "        \r\n",
    "    for i in findSpecDtails:\r\n",
    "        specDtailsArr.append(i.text)\r\n",
    "        \r\n",
    "    for index, val in enumerate(specTypeArr):\r\n",
    "        if(val=='Interface'):\r\n",
    "            spec[\"interface\"] =specDtailsArr[index]\r\n",
    "        if(val=='Keys Windows Layout'):\r\n",
    "            spec[\"layout\"] =specDtailsArr[index]\r\n",
    "        if(val=='Dimension'):\r\n",
    "            spec[\"dimension\"] =specDtailsArr[index]\r\n",
    "        if(val=='Support'):\r\n",
    "            spec[\"support\"] =specDtailsArr[index]\r\n",
    "        if(val=='Key Switches'):\r\n",
    "            spec[\"switches\"] =specDtailsArr[index]\r\n",
    "        \r\n",
    "    \r\n",
    "    extLink=json.dumps(\"link\")+\":\"+json.dumps(str(url))\r\n",
    "    extCategory=json.dumps(\"category\")+\":\"+json.dumps(\"keyboard\")\r\n",
    "    extTag=json.dumps(\"tag\")+\":\"+json.dumps(\"work\")\r\n",
    "    extStore=json.dumps(\"store\")+\":\"+json.dumps(\"banana\")\r\n",
    "    \r\n",
    "    extSpec=json.dumps(\"spec\")+\":\"+json.dumps(spec)\r\n",
    "    specOut=extName,extBrand,extCategory,extTag,extPrice,extStore,extLink,extImage,extSpec\r\n",
    "    output= str(specOut).replace(\"'\", \"\")\r\n",
    "    return output"
   ],
   "outputs": [],
   "metadata": {}
  },
  {
   "cell_type": "code",
   "execution_count": 32,
   "source": [],
   "outputs": [
    {
     "output_type": "error",
     "ename": "NameError",
     "evalue": "name 'matches' is not defined",
     "traceback": [
      "\u001b[1;31m---------------------------------------------------------------------------\u001b[0m",
      "\u001b[1;31mNameError\u001b[0m                                 Traceback (most recent call last)",
      "\u001b[1;32m~\\AppData\\Local\\Temp/ipykernel_15324/1175027985.py\u001b[0m in \u001b[0;36m<module>\u001b[1;34m\u001b[0m\n\u001b[1;32m----> 1\u001b[1;33m \u001b[0mmatches\u001b[0m\u001b[1;33m\u001b[0m\u001b[1;33m\u001b[0m\u001b[0m\n\u001b[0m",
      "\u001b[1;31mNameError\u001b[0m: name 'matches' is not defined"
     ]
    }
   ],
   "metadata": {}
  },
  {
   "cell_type": "code",
   "execution_count": 15,
   "source": [
    "itemOne=ext_item('https://www.bnn.in.th/th/p/it-accessories/mouse-and-keyboards/anitech-keypad-retractable-wireless-n181-black-8859221703854_d51993')\r\n",
    "itemOne"
   ],
   "outputs": [
    {
     "output_type": "execute_result",
     "data": {
      "text/plain": [
       "'(\"name\":\"Anitech Keypad Retractable Wireless N181 Black\", \"brand\":\"ANITECH\", \"category\":\"keyboard\", \"tag\":\"work\", \"price\":\"399\", \"store\":\"banana\", \"link\":\"https://www.bnn.in.th/th/p/it-accessories/mouse-and-keyboards/anitech-keypad-retractable-wireless-n181-black-8859221703854_d51993\", \"image\":\"https://media-cdn.bnn.in.th/84120/8859221703854-1-square_medium.jpg\", \"spec\":{\"interface\": \"USB Wireless\", \"layout\": \"undefined\", \"dimension\": \"undefined\", \"support\": \"undefined\", \"switches\": \"undefined\"})'"
      ]
     },
     "metadata": {},
     "execution_count": 15
    }
   ],
   "metadata": {}
  },
  {
   "cell_type": "code",
   "execution_count": 236,
   "source": [
    "# print(itemOne.replace(\"(\", \"{\").replace(\")\", \"}\"))"
   ],
   "outputs": [],
   "metadata": {}
  },
  {
   "cell_type": "code",
   "execution_count": null,
   "source": [],
   "outputs": [],
   "metadata": {}
  },
  {
   "cell_type": "code",
   "execution_count": null,
   "source": [],
   "outputs": [],
   "metadata": {}
  },
  {
   "cell_type": "code",
   "execution_count": null,
   "source": [],
   "outputs": [],
   "metadata": {}
  },
  {
   "cell_type": "code",
   "execution_count": 16,
   "source": [
    "link=['https://www.bnn.in.th/th/p/tablet-and-accessories/tablet-accessories/surface-accesories-tablet-accessories/microsoft-tablet-acc-go-type-cover-colors-n-sc-thai-thailand-hdwr-poppy-red-kcs-00099-889842581768_z97km4',\r\n",
    " 'https://www.bnn.in.th/th/p/tablet-and-accessories/tablet-accessories/surface-accesories-tablet-accessories/microsoft-tablet-acc-signa-type-cover-m1725-black-fmm-00016-889842200836_d51epj',\r\n",
    " 'https://www.bnn.in.th/th/p/tablet-and-accessories/tablet-accessories/surface-accesories-tablet-accessories/microsoft-tablet-acc-signa-type-cover-m1725-charcoal-ffp-00156-889842529272_rq8xg2',\r\n",
    " 'https://www.bnn.in.th/th/p/tablet-and-accessories/tablet-accessories/surface-accesories-tablet-accessories/microsoft-tablet-acc-signa-type-cover-m1725-poppy-red-ffp-00116-889842521177_z781e6',\r\n",
    " 'https://www.bnn.in.th/th/p/tablet-and-accessories/tablet-accessories/surface-accesories-tablet-accessories/microsoft-tablet-acc-slim-keyboard-with-pen-black-889842511314_zjg675',\r\n",
    " 'https://www.bnn.in.th/th/p/it-accessories/mouse-and-keyboards/keyboard-and-numpad/microsoft-wireless-keyboard-all-in-one-media-then-885370738117_dko3kj']\r\n",
    "link\r\n"
   ],
   "outputs": [
    {
     "output_type": "execute_result",
     "data": {
      "text/plain": [
       "['https://www.bnn.in.th/th/p/tablet-and-accessories/tablet-accessories/surface-accesories-tablet-accessories/microsoft-tablet-acc-go-type-cover-colors-n-sc-thai-thailand-hdwr-poppy-red-kcs-00099-889842581768_z97km4',\n",
       " 'https://www.bnn.in.th/th/p/tablet-and-accessories/tablet-accessories/surface-accesories-tablet-accessories/microsoft-tablet-acc-signa-type-cover-m1725-black-fmm-00016-889842200836_d51epj',\n",
       " 'https://www.bnn.in.th/th/p/tablet-and-accessories/tablet-accessories/surface-accesories-tablet-accessories/microsoft-tablet-acc-signa-type-cover-m1725-charcoal-ffp-00156-889842529272_rq8xg2',\n",
       " 'https://www.bnn.in.th/th/p/tablet-and-accessories/tablet-accessories/surface-accesories-tablet-accessories/microsoft-tablet-acc-signa-type-cover-m1725-poppy-red-ffp-00116-889842521177_z781e6',\n",
       " 'https://www.bnn.in.th/th/p/tablet-and-accessories/tablet-accessories/surface-accesories-tablet-accessories/microsoft-tablet-acc-slim-keyboard-with-pen-black-889842511314_zjg675',\n",
       " 'https://www.bnn.in.th/th/p/it-accessories/mouse-and-keyboards/keyboard-and-numpad/microsoft-wireless-keyboard-all-in-one-media-then-885370738117_dko3kj']"
      ]
     },
     "metadata": {},
     "execution_count": 16
    }
   ],
   "metadata": {}
  },
  {
   "cell_type": "code",
   "execution_count": 18,
   "source": [
    "keyboardOutput=[]"
   ],
   "outputs": [],
   "metadata": {}
  },
  {
   "cell_type": "code",
   "execution_count": 27,
   "source": [
    "for i in link:\r\n",
    "    try:\r\n",
    "        output=ext_item(i)\r\n",
    "        output=output.replace(\"(\", \"{\").replace(\")\", \"}\")\r\n",
    "        keyboardOutput.append(output)\r\n",
    "    except:\r\n",
    "        pass\r\n"
   ],
   "outputs": [],
   "metadata": {}
  },
  {
   "cell_type": "code",
   "execution_count": 28,
   "source": [
    "print ('[%s]' % ', '.join(map(str, keyboardOutput)))"
   ],
   "outputs": [
    {
     "output_type": "stream",
     "name": "stdout",
     "text": [
      "[{\"name\":\"Microsoft Tablet Acc Signa Type Cover M1725 Black {FMM-00016}\", \"brand\":\"MICROSOFT\", \"category\":\"keyboard\", \"tag\":\"work\", \"price\":\"5390\", \"store\":\"banana\", \"link\":\"https://www.bnn.in.th/th/p/tablet-and-accessories/tablet-accessories/surface-accesories-tablet-accessories/microsoft-tablet-acc-signa-type-cover-m1725-black-fmm-00016-889842200836_d51epj\", \"image\":\"https://media-cdn.bnn.in.th/91232/889842200836-1-square_medium.jpg\", \"spec\":{\"interface\": \"Magnetic\", \"layout\": \"undefined\", \"dimension\": \"undefined\", \"support\": \"undefined\", \"switches\": \"undefined\"}}, {\"name\":\"Microsoft Tablet Acc Signa Type Cover M1725 Charcoal {FFP-00156}\", \"brand\":\"MICROSOFT\", \"category\":\"keyboard\", \"tag\":\"work\", \"price\":\"7190\", \"store\":\"banana\", \"link\":\"https://www.bnn.in.th/th/p/tablet-and-accessories/tablet-accessories/surface-accesories-tablet-accessories/microsoft-tablet-acc-signa-type-cover-m1725-charcoal-ffp-00156-889842529272_rq8xg2\", \"image\":\"https://media-cdn.bnn.in.th/91762/889842529272-01-square_medium.jpg\", \"spec\":{\"interface\": \"Magnetic\", \"layout\": \"undefined\", \"dimension\": \"undefined\", \"support\": \"undefined\", \"switches\": \"undefined\"}}, {\"name\":\"Microsoft Tablet Acc Signa Type Cover M1725 Poppy Red {FFP-00116}\", \"brand\":\"MICROSOFT\", \"category\":\"keyboard\", \"tag\":\"work\", \"price\":\"7190\", \"store\":\"banana\", \"link\":\"https://www.bnn.in.th/th/p/tablet-and-accessories/tablet-accessories/surface-accesories-tablet-accessories/microsoft-tablet-acc-signa-type-cover-m1725-poppy-red-ffp-00116-889842521177_z781e6\", \"image\":\"https://media-cdn.bnn.in.th/91726/889842521177-01-square_medium.jpg\", \"spec\":{\"interface\": \"Magnetic\", \"layout\": \"undefined\", \"dimension\": \"undefined\", \"support\": \"undefined\", \"switches\": \"undefined\"}}, {\"name\":\"Microsoft Tablet Acc Slim Keyboard with Pen Black\", \"brand\":\"MICROSOFT\", \"category\":\"keyboard\", \"tag\":\"work\", \"price\":\"6790\", \"store\":\"banana\", \"link\":\"https://www.bnn.in.th/th/p/tablet-and-accessories/tablet-accessories/surface-accesories-tablet-accessories/microsoft-tablet-acc-slim-keyboard-with-pen-black-889842511314_zjg675\", \"image\":\"https://media-cdn.bnn.in.th/91710/MicrosoftTabletAccslimKeyboardwithPenBlack-1-square_medium.jpg\", \"spec\":{\"interface\": \"Magcnetic Connector\", \"layout\": \"undefined\", \"dimension\": \"undefined\", \"support\": \"undefined\", \"switches\": \"undefined\"}}, {\"name\":\"Microsoft Wireless Keyboard All-in-One Media {TH/EN}\", \"brand\":\"MICROSOFT\", \"category\":\"keyboard\", \"tag\":\"work\", \"price\":\"1390\", \"store\":\"banana\", \"link\":\"https://www.bnn.in.th/th/p/it-accessories/mouse-and-keyboards/keyboard-and-numpad/microsoft-wireless-keyboard-all-in-one-media-then-885370738117_dko3kj\", \"image\":\"https://media-cdn.bnn.in.th/79809/88537073811-0003-square_medium.jpg\", \"spec\":{\"interface\": \"USB Compatible\", \"layout\": \"undefined\", \"dimension\": \"undefined\", \"support\": \"undefined\", \"switches\": \"undefined\"}}]\n"
     ]
    }
   ],
   "metadata": {}
  },
  {
   "cell_type": "code",
   "execution_count": null,
   "source": [],
   "outputs": [],
   "metadata": {}
  },
  {
   "cell_type": "code",
   "execution_count": null,
   "source": [],
   "outputs": [],
   "metadata": {}
  },
  {
   "cell_type": "code",
   "execution_count": null,
   "source": [],
   "outputs": [],
   "metadata": {}
  },
  {
   "cell_type": "code",
   "execution_count": null,
   "source": [],
   "outputs": [],
   "metadata": {}
  },
  {
   "cell_type": "code",
   "execution_count": null,
   "source": [],
   "outputs": [],
   "metadata": {}
  },
  {
   "cell_type": "code",
   "execution_count": null,
   "source": [],
   "outputs": [],
   "metadata": {}
  },
  {
   "cell_type": "code",
   "execution_count": null,
   "source": [],
   "outputs": [],
   "metadata": {}
  },
  {
   "cell_type": "code",
   "execution_count": null,
   "source": [],
   "outputs": [],
   "metadata": {}
  },
  {
   "cell_type": "code",
   "execution_count": null,
   "source": [],
   "outputs": [],
   "metadata": {}
  },
  {
   "cell_type": "code",
   "execution_count": null,
   "source": [],
   "outputs": [],
   "metadata": {}
  },
  {
   "cell_type": "code",
   "execution_count": null,
   "source": [],
   "outputs": [],
   "metadata": {}
  },
  {
   "cell_type": "code",
   "execution_count": null,
   "source": [],
   "outputs": [],
   "metadata": {}
  },
  {
   "cell_type": "code",
   "execution_count": null,
   "source": [],
   "outputs": [],
   "metadata": {}
  },
  {
   "cell_type": "code",
   "execution_count": null,
   "source": [],
   "outputs": [],
   "metadata": {}
  },
  {
   "cell_type": "code",
   "execution_count": null,
   "source": [],
   "outputs": [],
   "metadata": {}
  },
  {
   "cell_type": "code",
   "execution_count": null,
   "source": [],
   "outputs": [],
   "metadata": {}
  },
  {
   "cell_type": "code",
   "execution_count": null,
   "source": [],
   "outputs": [],
   "metadata": {}
  }
 ],
 "metadata": {
  "kernelspec": {
   "name": "python3",
   "display_name": "Python 3.9.7 64-bit (windows store)"
  },
  "language_info": {
   "codemirror_mode": {
    "name": "ipython",
    "version": 3
   },
   "file_extension": ".py",
   "mimetype": "text/x-python",
   "name": "python",
   "nbconvert_exporter": "python",
   "pygments_lexer": "ipython3",
   "version": "3.9.7"
  },
  "interpreter": {
   "hash": "dc0ae7cbe04b490a33132ce22a2ba80732b07aa628d052297aede1389d8c38d1"
  }
 },
 "nbformat": 4,
 "nbformat_minor": 5
}